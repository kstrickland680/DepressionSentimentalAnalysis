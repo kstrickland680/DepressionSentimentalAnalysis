{
  "nbformat": 4,
  "nbformat_minor": 0,
  "metadata": {
    "kernelspec": {
      "display_name": "Python 3",
      "language": "python",
      "name": "python3"
    },
    "language_info": {
      "codemirror_mode": {
        "name": "ipython",
        "version": 3
      },
      "file_extension": ".py",
      "mimetype": "text/x-python",
      "name": "python",
      "nbconvert_exporter": "python",
      "pygments_lexer": "ipython3",
      "version": "3.8.5"
    },
    "colab": {
      "name": "DepressionTweets.ipynb",
      "provenance": [],
      "collapsed_sections": [],
      "include_colab_link": true
    }
  },
  "cells": [
    {
      "cell_type": "markdown",
      "metadata": {
        "id": "view-in-github",
        "colab_type": "text"
      },
      "source": [
        "<a href=\"https://colab.research.google.com/github/kstrickland680/DepressionSentimentalAnalysis/blob/main/DepressionTweets.ipynb\" target=\"_parent\"><img src=\"https://colab.research.google.com/assets/colab-badge.svg\" alt=\"Open In Colab\"/></a>"
      ]
    },
    {
      "cell_type": "markdown",
      "metadata": {
        "id": "vWNl30yR79EU"
      },
      "source": [
        "# Depression Sentiment Analysis\n",
        "\n",
        "## Overview\n",
        "\n",
        "This project analyzes twitter data that has been labeled according to whether it was written by a clinically depressed individual or not.  The project explores frequently used words, conducts a topic analysis, performs sentiment analysis, and creates a model to predict whether an individual is likely to be depressed based on their social media precense on Twitter. "
      ]
    },
    {
      "cell_type": "markdown",
      "metadata": {
        "id": "fy-sRWUq6x9I"
      },
      "source": [
        "## Business Problem  \n",
        "\n",
        "A nonprofit agency focused on mental health and depression wants a way to analyze Twitter data to assess for depression in individuals. Doing so can bolster prevention efforts to help individuals with depression.  \n",
        "\n",
        "According to the Anxiety and Depression Association of America, Major Depressive Disorder (MDD) is the leading cause of disability for adults in the US aged 15-44. Over 16.1 million adults in America are affected by it each year.  Only 61% of adults with MDD receive treatment.  The US Department of Health & Human Services estimates that 60% of individuals who commit suicide had a mood disorder, such as MDD or bipolar.  "
      ]
    },
    {
      "cell_type": "code",
      "metadata": {
        "colab": {
          "base_uri": "https://localhost:8080/"
        },
        "id": "TLm6lPNZFFuC",
        "outputId": "1bc19275-e33a-4302-c544-e5b59921b8cf"
      },
      "source": [
        "!pip install vaderSentiment"
      ],
      "execution_count": 1,
      "outputs": [
        {
          "output_type": "stream",
          "text": [
            "Collecting vaderSentiment\n",
            "\u001b[?25l  Downloading https://files.pythonhosted.org/packages/76/fc/310e16254683c1ed35eeb97386986d6c00bc29df17ce280aed64d55537e9/vaderSentiment-3.3.2-py2.py3-none-any.whl (125kB)\n",
            "\r\u001b[K     |██▋                             | 10kB 12.3MB/s eta 0:00:01\r\u001b[K     |█████▏                          | 20kB 17.4MB/s eta 0:00:01\r\u001b[K     |███████▉                        | 30kB 13.5MB/s eta 0:00:01\r\u001b[K     |██████████▍                     | 40kB 9.8MB/s eta 0:00:01\r\u001b[K     |█████████████                   | 51kB 7.3MB/s eta 0:00:01\r\u001b[K     |███████████████▋                | 61kB 8.3MB/s eta 0:00:01\r\u001b[K     |██████████████████▏             | 71kB 7.6MB/s eta 0:00:01\r\u001b[K     |████████████████████▉           | 81kB 8.2MB/s eta 0:00:01\r\u001b[K     |███████████████████████▍        | 92kB 7.5MB/s eta 0:00:01\r\u001b[K     |██████████████████████████      | 102kB 6.8MB/s eta 0:00:01\r\u001b[K     |████████████████████████████▋   | 112kB 6.8MB/s eta 0:00:01\r\u001b[K     |███████████████████████████████▏| 122kB 6.8MB/s eta 0:00:01\r\u001b[K     |████████████████████████████████| 133kB 6.8MB/s \n",
            "\u001b[?25hRequirement already satisfied: requests in /usr/local/lib/python3.7/dist-packages (from vaderSentiment) (2.23.0)\n",
            "Requirement already satisfied: chardet<4,>=3.0.2 in /usr/local/lib/python3.7/dist-packages (from requests->vaderSentiment) (3.0.4)\n",
            "Requirement already satisfied: urllib3!=1.25.0,!=1.25.1,<1.26,>=1.21.1 in /usr/local/lib/python3.7/dist-packages (from requests->vaderSentiment) (1.24.3)\n",
            "Requirement already satisfied: certifi>=2017.4.17 in /usr/local/lib/python3.7/dist-packages (from requests->vaderSentiment) (2020.12.5)\n",
            "Requirement already satisfied: idna<3,>=2.5 in /usr/local/lib/python3.7/dist-packages (from requests->vaderSentiment) (2.10)\n",
            "Installing collected packages: vaderSentiment\n",
            "Successfully installed vaderSentiment-3.3.2\n"
          ],
          "name": "stdout"
        }
      ]
    },
    {
      "cell_type": "code",
      "metadata": {
        "scrolled": true,
        "id": "FfMzCJRZctDS"
      },
      "source": [
        "import pandas as pd\n",
        "\n",
        "import numpy as np\n",
        "np.random.seed(0)\n",
        "\n",
        "import matplotlib.pyplot as plt\n",
        "%matplotlib inline\n",
        "\n",
        "import nltk\n",
        "\n",
        "from nltk.tokenize import RegexpTokenizer\n",
        "from nltk.probability import FreqDist\n",
        "\n",
        "import string\n",
        "\n",
        "import re\n",
        "\n",
        "from nltk.stem import WordNetLemmatizer\n",
        "\n",
        "import tensorflow as tf\n",
        "\n",
        "from gensim.models import Word2Vec\n",
        "\n",
        "from nltk.tokenize import TweetTokenizer\n",
        "from nltk.stem import PorterStemmer\n",
        "\n",
        "from wordcloud import WordCloud, STOPWORDS, ImageColorGenerator\n",
        "import matplotlib.pyplot as plt\n",
        "% matplotlib inline\n",
        "from PIL import Image\n",
        "\n",
        "from nltk.corpus import stopwords \n",
        "\n",
        "from sklearn.feature_extraction.text import TfidfVectorizer\n",
        "from sklearn.decomposition import NMF\n",
        "\n",
        "from vaderSentiment.vaderSentiment import SentimentIntensityAnalyzer\n",
        "\n",
        "from sklearn.model_selection import train_test_split\n",
        "\n",
        "from keras.callbacks import ModelCheckpoint, EarlyStopping\n",
        "from sklearn.metrics import f1_score, precision_score, recall_score\n",
        "\n",
        "import requests\n",
        "import bs4\n",
        "from bs4 import BeautifulSoup\n",
        "from requests_oauthlib import OAuth1\n",
        "import tweepy\n",
        "\n",
        "from sklearn.utils import class_weight\n",
        "from random import shuffle\n",
        "\n"
      ],
      "execution_count": 2,
      "outputs": []
    },
    {
      "cell_type": "code",
      "metadata": {
        "colab": {
          "base_uri": "https://localhost:8080/"
        },
        "id": "uwJ_-BzGctDa",
        "outputId": "4ef40414-75c9-49e2-abf1-e22b6f2748f5"
      },
      "source": [
        "nltk.download('stopwords')\n",
        "nltk.download('punkt')\n",
        "nltk.download('wordnet')"
      ],
      "execution_count": 3,
      "outputs": [
        {
          "output_type": "stream",
          "text": [
            "[nltk_data] Downloading package stopwords to /root/nltk_data...\n",
            "[nltk_data]   Unzipping corpora/stopwords.zip.\n",
            "[nltk_data] Downloading package punkt to /root/nltk_data...\n",
            "[nltk_data]   Unzipping tokenizers/punkt.zip.\n",
            "[nltk_data] Downloading package wordnet to /root/nltk_data...\n",
            "[nltk_data]   Unzipping corpora/wordnet.zip.\n"
          ],
          "name": "stdout"
        },
        {
          "output_type": "execute_result",
          "data": {
            "text/plain": [
              "True"
            ]
          },
          "metadata": {
            "tags": []
          },
          "execution_count": 3
        }
      ]
    },
    {
      "cell_type": "code",
      "metadata": {
        "colab": {
          "base_uri": "https://localhost:8080/"
        },
        "id": "5Enutr78NQUz",
        "outputId": "a7910433-73a5-4ed8-947d-614fe57da3b6"
      },
      "source": [
        "from google.colab import drive\n",
        "drive.mount('/content/drive')\n",
        "#path = \"drive/My Drive/DepressionTweets\"\n"
      ],
      "execution_count": 4,
      "outputs": [
        {
          "output_type": "stream",
          "text": [
            "Mounted at /content/drive\n"
          ],
          "name": "stdout"
        }
      ]
    },
    {
      "cell_type": "markdown",
      "metadata": {
        "id": "5XTiyVPHPcOU"
      },
      "source": [
        "## Data Understanding\n",
        "\n",
        "The dataset consists of an index number, the tweet, and a classification as depressed/not depressed.  22.4% of the dataset is classified as written by a clinically depressed individual. \n"
      ]
    },
    {
      "cell_type": "code",
      "metadata": {
        "id": "FdaNy9KrctDb"
      },
      "source": [
        "df = pd.read_csv('/content/drive/My Drive/DepressionTweets/DepressionSentimentalAnalysis/data/sentiment_tweets3.csv')\n"
      ],
      "execution_count": 5,
      "outputs": []
    },
    {
      "cell_type": "code",
      "metadata": {
        "id": "gae4uWxZctDb",
        "colab": {
          "base_uri": "https://localhost:8080/",
          "height": 662
        },
        "outputId": "79306269-9696-41a8-a11a-68c6ef31a115"
      },
      "source": [
        "df.head(20)"
      ],
      "execution_count": 6,
      "outputs": [
        {
          "output_type": "execute_result",
          "data": {
            "text/html": [
              "<div>\n",
              "<style scoped>\n",
              "    .dataframe tbody tr th:only-of-type {\n",
              "        vertical-align: middle;\n",
              "    }\n",
              "\n",
              "    .dataframe tbody tr th {\n",
              "        vertical-align: top;\n",
              "    }\n",
              "\n",
              "    .dataframe thead th {\n",
              "        text-align: right;\n",
              "    }\n",
              "</style>\n",
              "<table border=\"1\" class=\"dataframe\">\n",
              "  <thead>\n",
              "    <tr style=\"text-align: right;\">\n",
              "      <th></th>\n",
              "      <th>Index</th>\n",
              "      <th>message to examine</th>\n",
              "      <th>label (depression result)</th>\n",
              "    </tr>\n",
              "  </thead>\n",
              "  <tbody>\n",
              "    <tr>\n",
              "      <th>0</th>\n",
              "      <td>106</td>\n",
              "      <td>just had a real good moment. i missssssssss hi...</td>\n",
              "      <td>0</td>\n",
              "    </tr>\n",
              "    <tr>\n",
              "      <th>1</th>\n",
              "      <td>217</td>\n",
              "      <td>is reading manga  http://plurk.com/p/mzp1e</td>\n",
              "      <td>0</td>\n",
              "    </tr>\n",
              "    <tr>\n",
              "      <th>2</th>\n",
              "      <td>220</td>\n",
              "      <td>@comeagainjen http://twitpic.com/2y2lx - http:...</td>\n",
              "      <td>0</td>\n",
              "    </tr>\n",
              "    <tr>\n",
              "      <th>3</th>\n",
              "      <td>288</td>\n",
              "      <td>@lapcat Need to send 'em to my accountant tomo...</td>\n",
              "      <td>0</td>\n",
              "    </tr>\n",
              "    <tr>\n",
              "      <th>4</th>\n",
              "      <td>540</td>\n",
              "      <td>ADD ME ON MYSPACE!!!  myspace.com/LookThunder</td>\n",
              "      <td>0</td>\n",
              "    </tr>\n",
              "    <tr>\n",
              "      <th>5</th>\n",
              "      <td>624</td>\n",
              "      <td>so sleepy. good times tonight though</td>\n",
              "      <td>0</td>\n",
              "    </tr>\n",
              "    <tr>\n",
              "      <th>6</th>\n",
              "      <td>701</td>\n",
              "      <td>@SilkCharm re: #nbn as someone already said, d...</td>\n",
              "      <td>0</td>\n",
              "    </tr>\n",
              "    <tr>\n",
              "      <th>7</th>\n",
              "      <td>808</td>\n",
              "      <td>23 or 24ï¿½C possible today. Nice</td>\n",
              "      <td>0</td>\n",
              "    </tr>\n",
              "    <tr>\n",
              "      <th>8</th>\n",
              "      <td>1193</td>\n",
              "      <td>nite twitterville  workout in the am  -ciao</td>\n",
              "      <td>0</td>\n",
              "    </tr>\n",
              "    <tr>\n",
              "      <th>9</th>\n",
              "      <td>1324</td>\n",
              "      <td>@daNanner Night, darlin'!  Sweet dreams to you</td>\n",
              "      <td>0</td>\n",
              "    </tr>\n",
              "    <tr>\n",
              "      <th>10</th>\n",
              "      <td>1332</td>\n",
              "      <td>Good morning everybody!</td>\n",
              "      <td>0</td>\n",
              "    </tr>\n",
              "    <tr>\n",
              "      <th>11</th>\n",
              "      <td>1368</td>\n",
              "      <td>Finally! I just created my WordPress Blog. The...</td>\n",
              "      <td>0</td>\n",
              "    </tr>\n",
              "    <tr>\n",
              "      <th>12</th>\n",
              "      <td>1578</td>\n",
              "      <td>kisha they cnt get over u til they get out frm...</td>\n",
              "      <td>0</td>\n",
              "    </tr>\n",
              "    <tr>\n",
              "      <th>13</th>\n",
              "      <td>1595</td>\n",
              "      <td>@nicolerichie Yes i remember that band, It was...</td>\n",
              "      <td>0</td>\n",
              "    </tr>\n",
              "    <tr>\n",
              "      <th>14</th>\n",
              "      <td>1861</td>\n",
              "      <td>I really love reflections and shadows</td>\n",
              "      <td>0</td>\n",
              "    </tr>\n",
              "    <tr>\n",
              "      <th>15</th>\n",
              "      <td>1889</td>\n",
              "      <td>@blueaero ooo it's fantasy?  i like fantasy no...</td>\n",
              "      <td>0</td>\n",
              "    </tr>\n",
              "    <tr>\n",
              "      <th>16</th>\n",
              "      <td>1899</td>\n",
              "      <td>@rokchic28 no probs, I sell nothing other than...</td>\n",
              "      <td>0</td>\n",
              "    </tr>\n",
              "    <tr>\n",
              "      <th>17</th>\n",
              "      <td>1919</td>\n",
              "      <td>@shipovalov &amp;quot;NOKLA connecting people&amp;quot...</td>\n",
              "      <td>0</td>\n",
              "    </tr>\n",
              "    <tr>\n",
              "      <th>18</th>\n",
              "      <td>1992</td>\n",
              "      <td>Once again stayed up to late and have to start...</td>\n",
              "      <td>0</td>\n",
              "    </tr>\n",
              "    <tr>\n",
              "      <th>19</th>\n",
              "      <td>2097</td>\n",
              "      <td>@Kal_Penn I just read about your new job, CONG...</td>\n",
              "      <td>0</td>\n",
              "    </tr>\n",
              "  </tbody>\n",
              "</table>\n",
              "</div>"
            ],
            "text/plain": [
              "    Index  ... label (depression result)\n",
              "0     106  ...                         0\n",
              "1     217  ...                         0\n",
              "2     220  ...                         0\n",
              "3     288  ...                         0\n",
              "4     540  ...                         0\n",
              "5     624  ...                         0\n",
              "6     701  ...                         0\n",
              "7     808  ...                         0\n",
              "8    1193  ...                         0\n",
              "9    1324  ...                         0\n",
              "10   1332  ...                         0\n",
              "11   1368  ...                         0\n",
              "12   1578  ...                         0\n",
              "13   1595  ...                         0\n",
              "14   1861  ...                         0\n",
              "15   1889  ...                         0\n",
              "16   1899  ...                         0\n",
              "17   1919  ...                         0\n",
              "18   1992  ...                         0\n",
              "19   2097  ...                         0\n",
              "\n",
              "[20 rows x 3 columns]"
            ]
          },
          "metadata": {
            "tags": []
          },
          "execution_count": 6
        }
      ]
    },
    {
      "cell_type": "code",
      "metadata": {
        "id": "l1_tqCpfctDc",
        "colab": {
          "base_uri": "https://localhost:8080/"
        },
        "outputId": "7537c88a-7c2b-4208-86d6-eb57f470a00c"
      },
      "source": [
        "df['label (depression result)'].value_counts(normalize = True)"
      ],
      "execution_count": 7,
      "outputs": [
        {
          "output_type": "execute_result",
          "data": {
            "text/plain": [
              "0    0.775645\n",
              "1    0.224355\n",
              "Name: label (depression result), dtype: float64"
            ]
          },
          "metadata": {
            "tags": []
          },
          "execution_count": 7
        }
      ]
    },
    {
      "cell_type": "code",
      "metadata": {
        "id": "7aF-TXHxctDc",
        "colab": {
          "base_uri": "https://localhost:8080/"
        },
        "outputId": "94ae49f6-d36d-446e-e314-724a70e44e43"
      },
      "source": [
        "df.shape"
      ],
      "execution_count": 8,
      "outputs": [
        {
          "output_type": "execute_result",
          "data": {
            "text/plain": [
              "(10314, 3)"
            ]
          },
          "metadata": {
            "tags": []
          },
          "execution_count": 8
        }
      ]
    },
    {
      "cell_type": "code",
      "metadata": {
        "colab": {
          "base_uri": "https://localhost:8080/"
        },
        "id": "NZsgI9xDRnDc",
        "outputId": "61dc8fe9-0c9a-4e67-8c78-e4ac5938303f"
      },
      "source": [
        "df.drop_duplicates(subset=['message to examine'])\n",
        "df.shape"
      ],
      "execution_count": 9,
      "outputs": [
        {
          "output_type": "execute_result",
          "data": {
            "text/plain": [
              "(10314, 3)"
            ]
          },
          "metadata": {
            "tags": []
          },
          "execution_count": 9
        }
      ]
    },
    {
      "cell_type": "code",
      "metadata": {
        "id": "gp7KnrDSctDd",
        "colab": {
          "base_uri": "https://localhost:8080/"
        },
        "outputId": "22f06773-ef0a-4a4f-8ca4-a81485cece91"
      },
      "source": [
        "df.isna().any()"
      ],
      "execution_count": 10,
      "outputs": [
        {
          "output_type": "execute_result",
          "data": {
            "text/plain": [
              "Index                        False\n",
              "message to examine           False\n",
              "label (depression result)    False\n",
              "dtype: bool"
            ]
          },
          "metadata": {
            "tags": []
          },
          "execution_count": 10
        }
      ]
    },
    {
      "cell_type": "markdown",
      "metadata": {
        "id": "DS4wLoE46HaR"
      },
      "source": [
        "## Data Preparation \n",
        "\n",
        "I create functions to help clean the text, including removing punctuation, URLs, stemming the text, and tokenizing it. "
      ]
    },
    {
      "cell_type": "code",
      "metadata": {
        "id": "3Yx2vVqIctDf"
      },
      "source": [
        "def nopunct(tweet):\n",
        "    \"\"\" Removes punctuation.\"\"\"\n",
        "    \n",
        "    new_words = [word for word in tweet if word.isalnum()]\n",
        "    return new_words"
      ],
      "execution_count": 11,
      "outputs": []
    },
    {
      "cell_type": "code",
      "metadata": {
        "id": "tKEVPeUUDEdi"
      },
      "source": [
        "def stemming(tweet):\n",
        "  \"\"\" Returns the tweet with stemmed words using Porter Stemmer. \"\"\"\n",
        "  \n",
        "  ps = PorterStemmer()\n",
        "  stemmed = [ps.stem(word) for word in tweet]\n",
        "  return stemmed\n",
        "\n"
      ],
      "execution_count": 12,
      "outputs": []
    },
    {
      "cell_type": "code",
      "metadata": {
        "id": "NefAlsQ29Vt8"
      },
      "source": [
        "def clean_and_tokenize(data, message):\n",
        "  \"\"\" Prepares the data for the tokenizer and tokenizes it.\n",
        "\n",
        "  Removes URLs, numbers, hashtags, and punctuation.  Uses tweet tokenizer and porter stemmer. \n",
        "\n",
        "  Parameters: \n",
        "  dataframe, name of column with strings that need tokenization\n",
        "\n",
        "  Returns: \n",
        "  Dataframe with columns added.  ['tokenized'] contains the the tokenized version. \n",
        "  ['toknizedandstemmed'] contains the version that's tokenized, stemmed, and has no punctuation. \"\"\"\n",
        "\n",
        "\n",
        "  #takes in a data frame and original tweet\n",
        "\n",
        "  #remove URLS:\n",
        "  data['tokenized'] = [' '.join(re.sub(\"http://\\S+\", \" \", tweet).split()) for tweet in data[message]]\n",
        "  data['tokenized'] = [' '.join(re.sub(\"myspace.com\\S+\", \" \", tweet).split()) for tweet in data['tokenized']]\n",
        "  data['tokenized'] = [' '.join(re.sub(\"https://\\S+\", \" \", tweet).split()) for tweet in data['tokenized']]\n",
        "\n",
        "  #remove numbers\n",
        "  data['tokenized'] = [' '.join(re.sub(r'\\d+', '', tweet).split()) for tweet in data['tokenized']]\n",
        "\n",
        "  #remove hashtag\n",
        "  data['tokenized'] = [' '.join(re.sub('#', \"\", tweet).split()) for tweet in data['tokenized']]\n",
        "\n",
        "  #tweet tokenizer (lower clase, get rid of handles, reduce repeated letters)\n",
        "  tweet_tokenizer = TweetTokenizer(preserve_case=False, strip_handles = True, reduce_len=True)\n",
        "  data['tokenized'] = [tweet_tokenizer.tokenize(entry) for entry in data['tokenized']]\n",
        "\n",
        "  #stem the words\n",
        "  data['tokenizedandstemmed'] = [stemming(tweet) for tweet in data['tokenized']]\n",
        "\n",
        "  #remove punctuation\n",
        "  data['tokenizedandstemmed'] = [nopunct(tweet) for tweet in data['tokenizedandstemmed']]\n",
        "\n",
        "  return data\n"
      ],
      "execution_count": 13,
      "outputs": []
    },
    {
      "cell_type": "code",
      "metadata": {
        "id": "72HlL87h9Lsm"
      },
      "source": [
        "def sentiment_prep(data, message):\n",
        "  \"\"\" Prepares data for VADER sentiment analysis. \n",
        "\n",
        "  Modifies the dataframe to add a column with no URLs, numbers, hashtags, mentions, punctuation, and special characters. \n",
        "\n",
        "  Inputs:\n",
        "  Dataframe, name of column with tweet to be prepared. \n",
        "\n",
        "  Returns:\n",
        "  Modified dataframe. ['tokenized'] column removes URLs, numbers, hashag, mentions, and special characters. \n",
        "  ['tokenizedwithpunct] column removes URLs, numbers, hashtags, and mentions. \"\"\"\n",
        "\n",
        "\n",
        "  #takes in dataframe and name of column with the tweet\n",
        "  #prepares data for sentiment analysis.  It keeps punctuation, doesn't stem the words, and doesn't tokenize i\n",
        "\n",
        "\n",
        "  #remove URLS:\n",
        "  data['tokenized'] = [' '.join(re.sub(\"http://\\S+\", \" \", tweet).split()) for tweet in data[message]]\n",
        "  data['tokenized'] = [' '.join(re.sub(\"https://\\S+\", \" \", tweet).split()) for tweet in data['tokenized']]\n",
        "  data['tokenized'] = [' '.join(re.sub(\"myspace.com\\S+\", \" \", tweet).split()) for tweet in data['tokenized']]\n",
        "\n",
        "  #remove numbers\n",
        "  data['tokenized'] = [' '.join(re.sub(r'\\d+', '', tweet).split()) for tweet in data['tokenized']]\n",
        "\n",
        "  #remove hashtag\n",
        "  data['tokenized'] = [' '.join(re.sub('#', \"\", tweet).split()) for tweet in data['tokenized']]\n",
        "\n",
        "  #remove mentions: \n",
        "  data['tokenized']=data['tokenized'].apply(lambda x :[t for t in x.split() if not t.startswith('@')]).apply(lambda x: ' '.join(x))\n",
        "\n",
        "  data['tokenizedwithpunct'] = data['tokenized']\n",
        "  #remove special characters and numbers\n",
        "  data['tokenized'] = data['tokenized'].replace(r'[^A-Za-z]+', \" \", regex=True)\n",
        "  return data\n",
        "\n",
        "\n"
      ],
      "execution_count": 14,
      "outputs": []
    },
    {
      "cell_type": "markdown",
      "metadata": {
        "id": "gDv5o8eN9Jv1"
      },
      "source": [
        "## Depression Data\n",
        "\n",
        "I create a dataframe of only the tweets from depressed indivduals to explore frequently used words and topics. I create a word cloud, which features words including depression, worthless, anti, anxiety, and functioning. "
      ]
    },
    {
      "cell_type": "code",
      "metadata": {
        "colab": {
          "base_uri": "https://localhost:8080/",
          "height": 323
        },
        "id": "pJj2EhiL7zzz",
        "outputId": "687b1339-429f-4309-80b7-2f1e171d2a26"
      },
      "source": [
        "df = clean_and_tokenize(df, 'message to examine')\n",
        "df.head()"
      ],
      "execution_count": 15,
      "outputs": [
        {
          "output_type": "execute_result",
          "data": {
            "text/html": [
              "<div>\n",
              "<style scoped>\n",
              "    .dataframe tbody tr th:only-of-type {\n",
              "        vertical-align: middle;\n",
              "    }\n",
              "\n",
              "    .dataframe tbody tr th {\n",
              "        vertical-align: top;\n",
              "    }\n",
              "\n",
              "    .dataframe thead th {\n",
              "        text-align: right;\n",
              "    }\n",
              "</style>\n",
              "<table border=\"1\" class=\"dataframe\">\n",
              "  <thead>\n",
              "    <tr style=\"text-align: right;\">\n",
              "      <th></th>\n",
              "      <th>Index</th>\n",
              "      <th>message to examine</th>\n",
              "      <th>label (depression result)</th>\n",
              "      <th>tokenized</th>\n",
              "      <th>tokenizedandstemmed</th>\n",
              "    </tr>\n",
              "  </thead>\n",
              "  <tbody>\n",
              "    <tr>\n",
              "      <th>0</th>\n",
              "      <td>106</td>\n",
              "      <td>just had a real good moment. i missssssssss hi...</td>\n",
              "      <td>0</td>\n",
              "      <td>[just, had, a, real, good, moment, ., i, misss...</td>\n",
              "      <td>[just, had, a, real, good, moment, i, misss, h...</td>\n",
              "    </tr>\n",
              "    <tr>\n",
              "      <th>1</th>\n",
              "      <td>217</td>\n",
              "      <td>is reading manga  http://plurk.com/p/mzp1e</td>\n",
              "      <td>0</td>\n",
              "      <td>[is, reading, manga]</td>\n",
              "      <td>[is, read, manga]</td>\n",
              "    </tr>\n",
              "    <tr>\n",
              "      <th>2</th>\n",
              "      <td>220</td>\n",
              "      <td>@comeagainjen http://twitpic.com/2y2lx - http:...</td>\n",
              "      <td>0</td>\n",
              "      <td>[-]</td>\n",
              "      <td>[]</td>\n",
              "    </tr>\n",
              "    <tr>\n",
              "      <th>3</th>\n",
              "      <td>288</td>\n",
              "      <td>@lapcat Need to send 'em to my accountant tomo...</td>\n",
              "      <td>0</td>\n",
              "      <td>[need, to, send, ', em, to, my, accountant, to...</td>\n",
              "      <td>[need, to, send, em, to, my, account, tomorrow...</td>\n",
              "    </tr>\n",
              "    <tr>\n",
              "      <th>4</th>\n",
              "      <td>540</td>\n",
              "      <td>ADD ME ON MYSPACE!!!  myspace.com/LookThunder</td>\n",
              "      <td>0</td>\n",
              "      <td>[add, me, on, myspace, !, !, !]</td>\n",
              "      <td>[add, me, on, myspac]</td>\n",
              "    </tr>\n",
              "  </tbody>\n",
              "</table>\n",
              "</div>"
            ],
            "text/plain": [
              "   Index  ...                                tokenizedandstemmed\n",
              "0    106  ...  [just, had, a, real, good, moment, i, misss, h...\n",
              "1    217  ...                                  [is, read, manga]\n",
              "2    220  ...                                                 []\n",
              "3    288  ...  [need, to, send, em, to, my, account, tomorrow...\n",
              "4    540  ...                              [add, me, on, myspac]\n",
              "\n",
              "[5 rows x 5 columns]"
            ]
          },
          "metadata": {
            "tags": []
          },
          "execution_count": 15
        }
      ]
    },
    {
      "cell_type": "code",
      "metadata": {
        "colab": {
          "base_uri": "https://localhost:8080/",
          "height": 383
        },
        "id": "oAEgFskhEnR0",
        "outputId": "859763ac-eaa4-4cee-9da1-982a5f225951"
      },
      "source": [
        "\n",
        "stop_words = stopwords.words('english')\n",
        "\n",
        "dep = df[df['label (depression result)'] == 1]\n",
        "dep.head()\n",
        "\n",
        "depressed_corpus = [item for sublist in dep['tokenized'] for item in sublist]\n",
        "filtered_depressed_corpus = [word for word in depressed_corpus if word not in stop_words]\n",
        "unique_depressed_corpus = set(filtered_depressed_corpus)\n",
        "unique_depressed_corpus = ' '.join(unique_depressed_corpus)\n",
        "wordcloud = WordCloud(max_words=80, background_color=\"white\").generate(unique_depressed_corpus)\n",
        "\n",
        "#display the generated image:\n",
        "plt.figure(figsize = (12,8))\n",
        "plt.imshow(wordcloud, interpolation='bilinear')\n",
        "plt.axis(\"off\")\n",
        "plt.show\n",
        "\n",
        "#wordcloud.to_file(\"img/depression.png\")\n"
      ],
      "execution_count": 16,
      "outputs": [
        {
          "output_type": "execute_result",
          "data": {
            "text/plain": [
              "<function matplotlib.pyplot.show>"
            ]
          },
          "metadata": {
            "tags": []
          },
          "execution_count": 16
        },
        {
          "output_type": "display_data",
          "data": {
            "image/png": "[encoded data removed]",
            "text/plain": [
              "<Figure size 864x576 with 1 Axes>"
            ]
          },
          "metadata": {
            "tags": [],
            "needs_background": "light"
          }
        }
      ]
    },
    {
      "cell_type": "markdown",
      "metadata": {
        "id": "4VHYLBPT-_EU"
      },
      "source": [
        "### Depression Topic Modeling\n",
        "\n",
        "I prepare the depression data for NMF topic modeling and then apply topic modeling over the tweets. Most tweets relate to the experience of depression (1741). Smaller topics included those with lots of emojis, talk about preventing depression, or things that were related to depression. \n",
        "\n",
        "I remove common words from the dataset, as well as \"twitter\" and \"com\" as not important.  I use Tfidvectorizer to encode the data and have it count unigrams and bigrams.  Trigrams lowered the quality of the topics discovered. I experiment with different numbers of topics, but the model chose topics that made the most sense when choosing 7 topics.  The vast majority of tweets focus on their experience of having depression or daily life with depression.  Other topics include talking about preventing depression and risk factors for depression. "
      ]
    },
    {
      "cell_type": "code",
      "metadata": {
        "colab": {
          "base_uri": "https://localhost:8080/"
        },
        "id": "4CuUxn-4ojC6",
        "outputId": "ce6fe016-b764-4b1d-bd56-724bea0ff979"
      },
      "source": [
        "\n",
        "dep = sentiment_prep(dep, 'message to examine')"
      ],
      "execution_count": 17,
      "outputs": [
        {
          "output_type": "stream",
          "text": [
            "/usr/local/lib/python3.7/dist-packages/ipykernel_launcher.py:19: SettingWithCopyWarning: \n",
            "A value is trying to be set on a copy of a slice from a DataFrame.\n",
            "Try using .loc[row_indexer,col_indexer] = value instead\n",
            "\n",
            "See the caveats in the documentation: https://pandas.pydata.org/pandas-docs/stable/user_guide/indexing.html#returning-a-view-versus-a-copy\n",
            "/usr/local/lib/python3.7/dist-packages/ipykernel_launcher.py:20: SettingWithCopyWarning: \n",
            "A value is trying to be set on a copy of a slice from a DataFrame.\n",
            "Try using .loc[row_indexer,col_indexer] = value instead\n",
            "\n",
            "See the caveats in the documentation: https://pandas.pydata.org/pandas-docs/stable/user_guide/indexing.html#returning-a-view-versus-a-copy\n",
            "/usr/local/lib/python3.7/dist-packages/ipykernel_launcher.py:21: SettingWithCopyWarning: \n",
            "A value is trying to be set on a copy of a slice from a DataFrame.\n",
            "Try using .loc[row_indexer,col_indexer] = value instead\n",
            "\n",
            "See the caveats in the documentation: https://pandas.pydata.org/pandas-docs/stable/user_guide/indexing.html#returning-a-view-versus-a-copy\n",
            "/usr/local/lib/python3.7/dist-packages/ipykernel_launcher.py:24: SettingWithCopyWarning: \n",
            "A value is trying to be set on a copy of a slice from a DataFrame.\n",
            "Try using .loc[row_indexer,col_indexer] = value instead\n",
            "\n",
            "See the caveats in the documentation: https://pandas.pydata.org/pandas-docs/stable/user_guide/indexing.html#returning-a-view-versus-a-copy\n",
            "/usr/local/lib/python3.7/dist-packages/ipykernel_launcher.py:27: SettingWithCopyWarning: \n",
            "A value is trying to be set on a copy of a slice from a DataFrame.\n",
            "Try using .loc[row_indexer,col_indexer] = value instead\n",
            "\n",
            "See the caveats in the documentation: https://pandas.pydata.org/pandas-docs/stable/user_guide/indexing.html#returning-a-view-versus-a-copy\n",
            "/usr/local/lib/python3.7/dist-packages/ipykernel_launcher.py:30: SettingWithCopyWarning: \n",
            "A value is trying to be set on a copy of a slice from a DataFrame.\n",
            "Try using .loc[row_indexer,col_indexer] = value instead\n",
            "\n",
            "See the caveats in the documentation: https://pandas.pydata.org/pandas-docs/stable/user_guide/indexing.html#returning-a-view-versus-a-copy\n",
            "/usr/local/lib/python3.7/dist-packages/ipykernel_launcher.py:32: SettingWithCopyWarning: \n",
            "A value is trying to be set on a copy of a slice from a DataFrame.\n",
            "Try using .loc[row_indexer,col_indexer] = value instead\n",
            "\n",
            "See the caveats in the documentation: https://pandas.pydata.org/pandas-docs/stable/user_guide/indexing.html#returning-a-view-versus-a-copy\n",
            "/usr/local/lib/python3.7/dist-packages/ipykernel_launcher.py:34: SettingWithCopyWarning: \n",
            "A value is trying to be set on a copy of a slice from a DataFrame.\n",
            "Try using .loc[row_indexer,col_indexer] = value instead\n",
            "\n",
            "See the caveats in the documentation: https://pandas.pydata.org/pandas-docs/stable/user_guide/indexing.html#returning-a-view-versus-a-copy\n"
          ],
          "name": "stderr"
        }
      ]
    },
    {
      "cell_type": "code",
      "metadata": {
        "id": "zS0IG0yedIkC"
      },
      "source": [
        "## creating document term matrix\n",
        "\n",
        "#removing stop words and twitter\n",
        "\n",
        "stop = stopwords.words('english')\n",
        "stop += 'twitter', 'com'\n",
        "\n",
        "tfidf = TfidfVectorizer(max_df=0.95, stop_words=stop, ngram_range=(1,2))\n",
        "dtm = tfidf.fit_transform(dep['tokenized'])\n"
      ],
      "execution_count": 18,
      "outputs": []
    },
    {
      "cell_type": "code",
      "metadata": {
        "id": "sY1R5GekcdDw"
      },
      "source": [
        "nmf_model = NMF(n_components=7, random_state=42)\n",
        "topics = nmf_model.fit_transform(dtm)"
      ],
      "execution_count": 19,
      "outputs": []
    },
    {
      "cell_type": "code",
      "metadata": {
        "colab": {
          "base_uri": "https://localhost:8080/"
        },
        "id": "o8YAIyBjbI9q",
        "outputId": "3b3a329f-dd17-45a0-ac32-4f1e4319e915"
      },
      "source": [
        "for index, topic in enumerate(nmf_model.components_):\n",
        "  print(f'The top 10 words for topic #{index}')\n",
        "  print([tfidf.get_feature_names()[i] for i in topic.argsort()[-10:]])\n",
        "  print('\\n')"
      ],
      "execution_count": 20,
      "outputs": [
        {
          "output_type": "stream",
          "text": [
            "The top 10 words for topic #0\n",
            "['emotional', 'development', 'mom depression', 'tied', 'intellectual', 'kids emotional', 'depression tied', 'tied kids', 'emotional intellectual', 'intellectual development']\n",
            "\n",
            "\n",
            "The top 10 words for topic #1\n",
            "['depression news', 'one us', 'anxiety', 'anxiety depression', 'us', 'children', 'teens', 'teens anxiety', 'children teens', 'us children']\n",
            "\n",
            "\n",
            "The top 10 words for topic #2\n",
            "['depression emoji', 'emoji face', 'face emoji', 'emoji loudly', 'loudly', 'loudly crying', 'crying', 'crying face', 'face', 'emoji']\n",
            "\n",
            "\n",
            "The top 10 words for topic #3\n",
            "['could one', 'cannabis ease', 'one', 'could', 'puff cannabis', 'ease', 'ease depression', 'one puff', 'puff', 'cannabis']\n",
            "\n",
            "\n",
            "The top 10 words for topic #4\n",
            "['feel', 'get', 'anxiety depression', 'mental', 'people', 'pic', 'know', 'like', 'depression anxiety', 'anxiety']\n",
            "\n",
            "\n",
            "The top 10 words for topic #5\n",
            "['study suggests', 'regularly', 'exercising regularly', 'depression study', 'regularly cuts', 'cuts', 'cuts risk', 'exercising', 'risk depression', 'risk']\n",
            "\n",
            "\n",
            "The top 10 words for topic #6\n",
            "['real rn', 'bruh', 'real bruh', 'anxiety real', 'post', 'hours', 'depression hours', 'real depression', 'depression real', 'real']\n",
            "\n",
            "\n"
          ],
          "name": "stdout"
        }
      ]
    },
    {
      "cell_type": "code",
      "metadata": {
        "colab": {
          "base_uri": "https://localhost:8080/"
        },
        "id": "wojBd1YhkgC5",
        "outputId": "09a1cb43-549b-4790-a93f-7a0d959c165d"
      },
      "source": [
        "dep['Topic'] = topics.argmax(axis=1)\n",
        "naming={0: 'depression_ties', 1: 'news', 2: 'emoji', 3: 'cannabis', 4: 'depression_experience', 5: 'prevent_depression', 6: 'real'}\n",
        "dep['topic_name']  = dep['Topic'].map(naming)"
      ],
      "execution_count": 21,
      "outputs": [
        {
          "output_type": "stream",
          "text": [
            "/usr/local/lib/python3.7/dist-packages/ipykernel_launcher.py:1: SettingWithCopyWarning: \n",
            "A value is trying to be set on a copy of a slice from a DataFrame.\n",
            "Try using .loc[row_indexer,col_indexer] = value instead\n",
            "\n",
            "See the caveats in the documentation: https://pandas.pydata.org/pandas-docs/stable/user_guide/indexing.html#returning-a-view-versus-a-copy\n",
            "  \"\"\"Entry point for launching an IPython kernel.\n",
            "/usr/local/lib/python3.7/dist-packages/ipykernel_launcher.py:3: SettingWithCopyWarning: \n",
            "A value is trying to be set on a copy of a slice from a DataFrame.\n",
            "Try using .loc[row_indexer,col_indexer] = value instead\n",
            "\n",
            "See the caveats in the documentation: https://pandas.pydata.org/pandas-docs/stable/user_guide/indexing.html#returning-a-view-versus-a-copy\n",
            "  This is separate from the ipykernel package so we can avoid doing imports until\n"
          ],
          "name": "stderr"
        }
      ]
    },
    {
      "cell_type": "code",
      "metadata": {
        "colab": {
          "base_uri": "https://localhost:8080/",
          "height": 650
        },
        "id": "tLeftr-zlxHG",
        "outputId": "9c1e46da-25d3-4797-d6e7-d2b44298bb6e"
      },
      "source": [
        "pd.set_option('display.max_colwidth', None)\n",
        "dep[['message to examine', 'topic_name']].head(10)"
      ],
      "execution_count": 22,
      "outputs": [
        {
          "output_type": "execute_result",
          "data": {
            "text/html": [
              "<div>\n",
              "<style scoped>\n",
              "    .dataframe tbody tr th:only-of-type {\n",
              "        vertical-align: middle;\n",
              "    }\n",
              "\n",
              "    .dataframe tbody tr th {\n",
              "        vertical-align: top;\n",
              "    }\n",
              "\n",
              "    .dataframe thead th {\n",
              "        text-align: right;\n",
              "    }\n",
              "</style>\n",
              "<table border=\"1\" class=\"dataframe\">\n",
              "  <thead>\n",
              "    <tr style=\"text-align: right;\">\n",
              "      <th></th>\n",
              "      <th>message to examine</th>\n",
              "      <th>topic_name</th>\n",
              "    </tr>\n",
              "  </thead>\n",
              "  <tbody>\n",
              "    <tr>\n",
              "      <th>8000</th>\n",
              "      <td>The lack of this understanding is a small but significant part of what causes anxiety &amp; depression to both feel so incredibly lonely. It's soooo easy to compare. It's so easy to invalidate ourselves because of that.</td>\n",
              "      <td>depression_experience</td>\n",
              "    </tr>\n",
              "    <tr>\n",
              "      <th>8001</th>\n",
              "      <td>i just told my parents about my depression and it's so hard to get gen x people to understand that this is not something that i can control all the time or just cure with a walk or by keeping my mind busy</td>\n",
              "      <td>depression_experience</td>\n",
              "    </tr>\n",
              "    <tr>\n",
              "      <th>8002</th>\n",
              "      <td>depression is something i don't speak about even going through it because it's also such a double edged sword. i love every race. even if white people had done so much i can't hate them all. my grandma is legit white! how tf can i hate, i do dislike people though.</td>\n",
              "      <td>depression_experience</td>\n",
              "    </tr>\n",
              "    <tr>\n",
              "      <th>8003</th>\n",
              "      <td>Made myself a tortilla filled with pb&amp;j. My depression is cured. Olivia:1 depression:0</td>\n",
              "      <td>depression_experience</td>\n",
              "    </tr>\n",
              "    <tr>\n",
              "      <th>8004</th>\n",
              "      <td>@WorldofOutlaws I am gonna need depression meds soon, these rainouts are spinning my equilibrium out &lt;Emoji: Pouting face&gt; Mother Nature is being a mean B-T-H &lt;Emoji: Face with symbols over mouth&gt;</td>\n",
              "      <td>emoji</td>\n",
              "    </tr>\n",
              "    <tr>\n",
              "      <th>8005</th>\n",
              "      <td>my anxiety and my depression fighting over whos day it is  https://twitter.com/crissles/status/988218861697806336Â â¦</td>\n",
              "      <td>depression_experience</td>\n",
              "    </tr>\n",
              "    <tr>\n",
              "      <th>8006</th>\n",
              "      <td>wow she's suddenly cured my depression and gave us world peace  https://twitter.com/bearfaceingtons/status/989289124883566593Â â¦</td>\n",
              "      <td>news</td>\n",
              "    </tr>\n",
              "    <tr>\n",
              "      <th>8007</th>\n",
              "      <td>I am officially done with @kanyewest. him, the neptunes, justin timberlake, timbaland. got me out of depression when I was in younger. a lot of these artist have changed their sounds and I have still supported them, but this is too far</td>\n",
              "      <td>depression_experience</td>\n",
              "    </tr>\n",
              "    <tr>\n",
              "      <th>8008</th>\n",
              "      <td>Me: what's wrong?My girl: *looks up at me with look of depression and stress on her face**Me: same babe same. #examseason</td>\n",
              "      <td>emoji</td>\n",
              "    </tr>\n",
              "    <tr>\n",
              "      <th>8009</th>\n",
              "      <td>@AusBorderForce @PeterDutton_MP @shanebazzi Agreed &lt;Emoji: Clapping hands sign&gt;&lt;Emoji: Clapping hands sign&gt;&lt;Emoji: Clapping hands sign&gt;As someone with long experience of clinical depression I'd like to add this:Of course she fuckingwell yells and hits her head on the wall and says she wants to dieNobody can live forever without hopeShe won't get better while kept indefinitely on Nauru</td>\n",
              "      <td>emoji</td>\n",
              "    </tr>\n",
              "  </tbody>\n",
              "</table>\n",
              "</div>"
            ],
            "text/plain": [
              "                                                                                                                                                                                                                                                                                                                                                                                       message to examine             topic_name\n",
              "8000                                                                                                                                                                              The lack of this understanding is a small but significant part of what causes anxiety & depression to both feel so incredibly lonely. It's soooo easy to compare. It's so easy to invalidate ourselves because of that.  depression_experience\n",
              "8001                                                                                                                                                                                         i just told my parents about my depression and it's so hard to get gen x people to understand that this is not something that i can control all the time or just cure with a walk or by keeping my mind busy  depression_experience\n",
              "8002                                                                                                                             depression is something i don't speak about even going through it because it's also such a double edged sword. i love every race. even if white people had done so much i can't hate them all. my grandma is legit white! how tf can i hate, i do dislike people though.  depression_experience\n",
              "8003                                                                                                                                                                                                                                                                                                               Made myself a tortilla filled with pb&j. My depression is cured. Olivia:1 depression:0  depression_experience\n",
              "8004                                                                                                                                                                                                 @WorldofOutlaws I am gonna need depression meds soon, these rainouts are spinning my equilibrium out <Emoji: Pouting face> Mother Nature is being a mean B-T-H <Emoji: Face with symbols over mouth>                  emoji\n",
              "8005                                                                                                                                                                                                                                                                               my anxiety and my depression fighting over whos day it is  https://twitter.com/crissles/status/988218861697806336Â â¦  depression_experience\n",
              "8006                                                                                                                                                                                                                                                                   wow she's suddenly cured my depression and gave us world peace  https://twitter.com/bearfaceingtons/status/989289124883566593Â â¦                   news\n",
              "8007                                                                                                                                                          I am officially done with @kanyewest. him, the neptunes, justin timberlake, timbaland. got me out of depression when I was in younger. a lot of these artist have changed their sounds and I have still supported them, but this is too far  depression_experience\n",
              "8008                                                                                                                                                                                                                                                                            Me: what's wrong?My girl: *looks up at me with look of depression and stress on her face**Me: same babe same. #examseason                  emoji\n",
              "8009  @AusBorderForce @PeterDutton_MP @shanebazzi Agreed <Emoji: Clapping hands sign><Emoji: Clapping hands sign><Emoji: Clapping hands sign>As someone with long experience of clinical depression I'd like to add this:Of course she fuckingwell yells and hits her head on the wall and says she wants to dieNobody can live forever without hopeShe won't get better while kept indefinitely on Nauru                  emoji"
            ]
          },
          "metadata": {
            "tags": []
          },
          "execution_count": 22
        }
      ]
    },
    {
      "cell_type": "code",
      "metadata": {
        "colab": {
          "base_uri": "https://localhost:8080/"
        },
        "id": "xA2lMulStUO0",
        "outputId": "222066c1-d52d-463e-b3f5-1b9439f87aff"
      },
      "source": [
        "dep['topic_name'].value_counts()"
      ],
      "execution_count": 23,
      "outputs": [
        {
          "output_type": "execute_result",
          "data": {
            "text/plain": [
              "depression_experience    1739\n",
              "emoji                     234\n",
              "prevent_depression         97\n",
              "depression_ties            83\n",
              "real                       68\n",
              "cannabis                   57\n",
              "news                       36\n",
              "Name: topic_name, dtype: int64"
            ]
          },
          "metadata": {
            "tags": []
          },
          "execution_count": 23
        }
      ]
    },
    {
      "cell_type": "markdown",
      "metadata": {
        "id": "2ttu1yE7DUfU"
      },
      "source": [
        "### Depression Sentiment Analysis\n",
        "\n",
        "I use VADER sentiment analysis to compare the sentiments of tweets from clinically depressed individuals and non-depressed individuals. VADER is specifically tuned for social media language. I prepare the tweets for analysis but keep punctuation and capitalization as VADER analysis takes that into account. I then add up the polarity scores for positive, neutral, and negative and make them into percentages for easy comparison with the sentiment analysis for tweets from non-depressed individuals. Nearly 30% of depressed tweets were negative, and only approximately 10% are positive.  \n",
        "\n"
      ]
    },
    {
      "cell_type": "code",
      "metadata": {
        "id": "of3uGfg7mROT"
      },
      "source": [
        "def sentimentscores(dataframe):\n",
        "  \"\"\" Calculates polarity scores for dataframe. \n",
        "  \n",
        "  Paramaters:\n",
        "  dataframe - dataframe with tweets to be analyzed\n",
        "  \n",
        "  Output:\n",
        "  dataframe - with polarity scores added as a column\n",
        "  neg_percent - percentage of tweets with negative sentiment\n",
        "  neu_percent - percentage of tweets with neutral sentiment\n",
        "  pos_percent - precenage of tweets with positive sentiment \n",
        "  \"\"\"\n",
        "\n",
        "  analyzer = SentimentIntensityAnalyzer()\n",
        "  scores = []\n",
        "  for index, row in dataframe.iterrows():\n",
        "      s = analyzer.polarity_scores(row['tokenizedwithpunct'])\n",
        "      scores.append(s)\n",
        "\n",
        "  sentscores = pd.Series(scores)\n",
        "  dataframe['polarity'] = sentscores.values\n",
        "\n",
        "\n",
        "  #compute the totals for the negative, neutral, and positive setiment expressed\n",
        "\n",
        "  neg, neu, pos = 0, 0, 0\n",
        "\n",
        "  for s in sentscores:\n",
        "    neg += s['neg']\n",
        "    neu += s['neu']\n",
        "    pos += s['pos']\n",
        "\n",
        "  #turn them into percentages in order to compare with non-depressed data\n",
        "\n",
        "  neg_percent = neg/(neg+neu+pos) * 100\n",
        "  neu_percent = neu/(neg+neu+pos) * 100\n",
        "  pos_percent = pos/(neg+neu+pos) * 100\n",
        "\n",
        "  return dataframe, neg_percent, neu_percent, pos_percent\n"
      ],
      "execution_count": 24,
      "outputs": []
    },
    {
      "cell_type": "code",
      "metadata": {
        "colab": {
          "base_uri": "https://localhost:8080/"
        },
        "id": "ELs4uxIhorRN",
        "outputId": "4ec8d330-c7e6-4774-bd2c-8e70ecbec4b5"
      },
      "source": [
        "dep, neg_percent, neu_percent, pos_percent = sentimentscores(dep)"
      ],
      "execution_count": 25,
      "outputs": [
        {
          "output_type": "stream",
          "text": [
            "/usr/local/lib/python3.7/dist-packages/ipykernel_launcher.py:21: SettingWithCopyWarning: \n",
            "A value is trying to be set on a copy of a slice from a DataFrame.\n",
            "Try using .loc[row_indexer,col_indexer] = value instead\n",
            "\n",
            "See the caveats in the documentation: https://pandas.pydata.org/pandas-docs/stable/user_guide/indexing.html#returning-a-view-versus-a-copy\n"
          ],
          "name": "stderr"
        }
      ]
    },
    {
      "cell_type": "code",
      "metadata": {
        "colab": {
          "base_uri": "https://localhost:8080/",
          "height": 354
        },
        "id": "Adt_6qclOa27",
        "outputId": "10709314-0145-40a6-ca38-37add6a1568f"
      },
      "source": [
        "labels = ['Negative', 'Neutral', 'Positive']\n",
        "index = np.arange(len(labels))\n",
        "plt.bar(index,[neg_percent,neu_percent,pos_percent],color=['red','black','green'])\n",
        "plt.ylabel('Percentage of Sentiments', fontsize=15)\n",
        "plt.xlabel('Polarity', fontsize=15)\n",
        "plt.xticks(index, labels, fontsize=15, rotation=30)\n",
        "plt.title('Sentiment analysis of depressed tweets')"
      ],
      "execution_count": 26,
      "outputs": [
        {
          "output_type": "execute_result",
          "data": {
            "text/plain": [
              "Text(0.5, 1.0, 'Sentiment analysis of depressed tweets')"
            ]
          },
          "metadata": {
            "tags": []
          },
          "execution_count": 26
        },
        {
          "output_type": "display_data",
          "data": {
            "image/png": "[encoded data removed]",
            "text/plain": [
              "<Figure size 432x288 with 1 Axes>"
            ]
          },
          "metadata": {
            "tags": [],
            "needs_background": "light"
          }
        }
      ]
    },
    {
      "cell_type": "markdown",
      "metadata": {
        "id": "a909xpsdFX43"
      },
      "source": [
        "## Sentiment Analysis of Tweets from Non-Depressed Individuals \n",
        "\n",
        "I create a wordcloud from the tweets from non-depressed individuals. Frequently used words include love, lol, thank, and good. I then do VADER sentiment analysis to compare it with the sentiment analysis from tweets from clinically depressed individuals. I prepare the data the same as I did above for depressed individuals. Nondepressed individuals had a very low (less than 5%) amount of negative tweets. \n",
        "\n"
      ]
    },
    {
      "cell_type": "code",
      "metadata": {
        "colab": {
          "base_uri": "https://localhost:8080/",
          "height": 383
        },
        "id": "znRE4sbdK3Dq",
        "outputId": "0b432cd2-d583-4f54-9f8b-1657c01e89a3"
      },
      "source": [
        "notdepressed = df[df['label (depression result)'] == 0]\n",
        "notdepressed_corpus = [item for sublist in notdepressed['tokenized'] for item in sublist]\n",
        "filtered_notdepressed_corpus = [word for word in notdepressed_corpus if word not in stop_words]\n",
        "filtered_notdepressed_corpus = ' '.join(filtered_notdepressed_corpus)\n",
        "wordcloud = WordCloud(max_words=100, background_color=\"white\").generate(filtered_notdepressed_corpus)\n",
        "\n",
        "#display the generated image:\n",
        "plt.figure(figsize = (12,8))\n",
        "plt.imshow(wordcloud, interpolation='bilinear')\n",
        "plt.axis(\"off\")\n",
        "plt.show\n",
        "\n",
        "#wordcloud.to_file(\"img/notdepressed.png\")"
      ],
      "execution_count": 27,
      "outputs": [
        {
          "output_type": "execute_result",
          "data": {
            "text/plain": [
              "<function matplotlib.pyplot.show>"
            ]
          },
          "metadata": {
            "tags": []
          },
          "execution_count": 27
        },
        {
          "output_type": "display_data",
          "data": {
            "image/png": "[encoded data removed]",
            "text/plain": [
              "<Figure size 864x576 with 1 Axes>"
            ]
          },
          "metadata": {
            "tags": [],
            "needs_background": "light"
          }
        }
      ]
    },
    {
      "cell_type": "code",
      "metadata": {
        "colab": {
          "base_uri": "https://localhost:8080/",
          "height": 1000
        },
        "id": "jxZ3BI9xGJdQ",
        "outputId": "9c5bf872-97d6-4c7d-bbdd-d7bf7fe563e2"
      },
      "source": [
        "#prepare the data for VADER analysis \n",
        "\n",
        "notdepressed = sentiment_prep(notdepressed, 'message to examine')\n",
        "\n",
        "notdepressed.head(10)"
      ],
      "execution_count": 28,
      "outputs": [
        {
          "output_type": "stream",
          "text": [
            "/usr/local/lib/python3.7/dist-packages/ipykernel_launcher.py:19: SettingWithCopyWarning: \n",
            "A value is trying to be set on a copy of a slice from a DataFrame.\n",
            "Try using .loc[row_indexer,col_indexer] = value instead\n",
            "\n",
            "See the caveats in the documentation: https://pandas.pydata.org/pandas-docs/stable/user_guide/indexing.html#returning-a-view-versus-a-copy\n",
            "/usr/local/lib/python3.7/dist-packages/ipykernel_launcher.py:20: SettingWithCopyWarning: \n",
            "A value is trying to be set on a copy of a slice from a DataFrame.\n",
            "Try using .loc[row_indexer,col_indexer] = value instead\n",
            "\n",
            "See the caveats in the documentation: https://pandas.pydata.org/pandas-docs/stable/user_guide/indexing.html#returning-a-view-versus-a-copy\n",
            "/usr/local/lib/python3.7/dist-packages/ipykernel_launcher.py:21: SettingWithCopyWarning: \n",
            "A value is trying to be set on a copy of a slice from a DataFrame.\n",
            "Try using .loc[row_indexer,col_indexer] = value instead\n",
            "\n",
            "See the caveats in the documentation: https://pandas.pydata.org/pandas-docs/stable/user_guide/indexing.html#returning-a-view-versus-a-copy\n",
            "/usr/local/lib/python3.7/dist-packages/ipykernel_launcher.py:24: SettingWithCopyWarning: \n",
            "A value is trying to be set on a copy of a slice from a DataFrame.\n",
            "Try using .loc[row_indexer,col_indexer] = value instead\n",
            "\n",
            "See the caveats in the documentation: https://pandas.pydata.org/pandas-docs/stable/user_guide/indexing.html#returning-a-view-versus-a-copy\n",
            "/usr/local/lib/python3.7/dist-packages/ipykernel_launcher.py:27: SettingWithCopyWarning: \n",
            "A value is trying to be set on a copy of a slice from a DataFrame.\n",
            "Try using .loc[row_indexer,col_indexer] = value instead\n",
            "\n",
            "See the caveats in the documentation: https://pandas.pydata.org/pandas-docs/stable/user_guide/indexing.html#returning-a-view-versus-a-copy\n",
            "/usr/local/lib/python3.7/dist-packages/ipykernel_launcher.py:30: SettingWithCopyWarning: \n",
            "A value is trying to be set on a copy of a slice from a DataFrame.\n",
            "Try using .loc[row_indexer,col_indexer] = value instead\n",
            "\n",
            "See the caveats in the documentation: https://pandas.pydata.org/pandas-docs/stable/user_guide/indexing.html#returning-a-view-versus-a-copy\n",
            "/usr/local/lib/python3.7/dist-packages/ipykernel_launcher.py:32: SettingWithCopyWarning: \n",
            "A value is trying to be set on a copy of a slice from a DataFrame.\n",
            "Try using .loc[row_indexer,col_indexer] = value instead\n",
            "\n",
            "See the caveats in the documentation: https://pandas.pydata.org/pandas-docs/stable/user_guide/indexing.html#returning-a-view-versus-a-copy\n",
            "/usr/local/lib/python3.7/dist-packages/ipykernel_launcher.py:34: SettingWithCopyWarning: \n",
            "A value is trying to be set on a copy of a slice from a DataFrame.\n",
            "Try using .loc[row_indexer,col_indexer] = value instead\n",
            "\n",
            "See the caveats in the documentation: https://pandas.pydata.org/pandas-docs/stable/user_guide/indexing.html#returning-a-view-versus-a-copy\n"
          ],
          "name": "stderr"
        },
        {
          "output_type": "execute_result",
          "data": {
            "text/html": [
              "<div>\n",
              "<style scoped>\n",
              "    .dataframe tbody tr th:only-of-type {\n",
              "        vertical-align: middle;\n",
              "    }\n",
              "\n",
              "    .dataframe tbody tr th {\n",
              "        vertical-align: top;\n",
              "    }\n",
              "\n",
              "    .dataframe thead th {\n",
              "        text-align: right;\n",
              "    }\n",
              "</style>\n",
              "<table border=\"1\" class=\"dataframe\">\n",
              "  <thead>\n",
              "    <tr style=\"text-align: right;\">\n",
              "      <th></th>\n",
              "      <th>Index</th>\n",
              "      <th>message to examine</th>\n",
              "      <th>label (depression result)</th>\n",
              "      <th>tokenized</th>\n",
              "      <th>tokenizedandstemmed</th>\n",
              "      <th>tokenizedwithpunct</th>\n",
              "    </tr>\n",
              "  </thead>\n",
              "  <tbody>\n",
              "    <tr>\n",
              "      <th>0</th>\n",
              "      <td>106</td>\n",
              "      <td>just had a real good moment. i missssssssss him so much,</td>\n",
              "      <td>0</td>\n",
              "      <td>just had a real good moment i missssssssss him so much</td>\n",
              "      <td>[just, had, a, real, good, moment, i, misss, him, so, much]</td>\n",
              "      <td>just had a real good moment. i missssssssss him so much,</td>\n",
              "    </tr>\n",
              "    <tr>\n",
              "      <th>1</th>\n",
              "      <td>217</td>\n",
              "      <td>is reading manga  http://plurk.com/p/mzp1e</td>\n",
              "      <td>0</td>\n",
              "      <td>is reading manga</td>\n",
              "      <td>[is, read, manga]</td>\n",
              "      <td>is reading manga</td>\n",
              "    </tr>\n",
              "    <tr>\n",
              "      <th>2</th>\n",
              "      <td>220</td>\n",
              "      <td>@comeagainjen http://twitpic.com/2y2lx - http://www.youtube.com/watch?v=zoGfqvh2ME8</td>\n",
              "      <td>0</td>\n",
              "      <td></td>\n",
              "      <td>[]</td>\n",
              "      <td>-</td>\n",
              "    </tr>\n",
              "    <tr>\n",
              "      <th>3</th>\n",
              "      <td>288</td>\n",
              "      <td>@lapcat Need to send 'em to my accountant tomorrow. Oddly, I wasn't even referring to my taxes. Those are supporting evidence, though.</td>\n",
              "      <td>0</td>\n",
              "      <td>Need to send em to my accountant tomorrow Oddly I wasn t even referring to my taxes Those are supporting evidence though</td>\n",
              "      <td>[need, to, send, em, to, my, account, tomorrow, oddli, i, even, refer, to, my, tax, those, are, support, evid, though]</td>\n",
              "      <td>Need to send 'em to my accountant tomorrow. Oddly, I wasn't even referring to my taxes. Those are supporting evidence, though.</td>\n",
              "    </tr>\n",
              "    <tr>\n",
              "      <th>4</th>\n",
              "      <td>540</td>\n",
              "      <td>ADD ME ON MYSPACE!!!  myspace.com/LookThunder</td>\n",
              "      <td>0</td>\n",
              "      <td>ADD ME ON MYSPACE</td>\n",
              "      <td>[add, me, on, myspac]</td>\n",
              "      <td>ADD ME ON MYSPACE!!!</td>\n",
              "    </tr>\n",
              "    <tr>\n",
              "      <th>5</th>\n",
              "      <td>624</td>\n",
              "      <td>so sleepy. good times tonight though</td>\n",
              "      <td>0</td>\n",
              "      <td>so sleepy good times tonight though</td>\n",
              "      <td>[so, sleepi, good, time, tonight, though]</td>\n",
              "      <td>so sleepy. good times tonight though</td>\n",
              "    </tr>\n",
              "    <tr>\n",
              "      <th>6</th>\n",
              "      <td>701</td>\n",
              "      <td>@SilkCharm re: #nbn as someone already said, does fiber to the home mean we will all at least be regular now</td>\n",
              "      <td>0</td>\n",
              "      <td>re nbn as someone already said does fiber to the home mean we will all at least be regular now</td>\n",
              "      <td>[re, nbn, as, someon, alreadi, said, doe, fiber, to, the, home, mean, we, will, all, at, least, be, regular, now]</td>\n",
              "      <td>re: nbn as someone already said, does fiber to the home mean we will all at least be regular now</td>\n",
              "    </tr>\n",
              "    <tr>\n",
              "      <th>7</th>\n",
              "      <td>808</td>\n",
              "      <td>23 or 24ï¿½C possible today. Nice</td>\n",
              "      <td>0</td>\n",
              "      <td>or C possible today Nice</td>\n",
              "      <td>[or, ï, ½c, possibl, today, nice]</td>\n",
              "      <td>or ï¿½C possible today. Nice</td>\n",
              "    </tr>\n",
              "    <tr>\n",
              "      <th>8</th>\n",
              "      <td>1193</td>\n",
              "      <td>nite twitterville  workout in the am  -ciao</td>\n",
              "      <td>0</td>\n",
              "      <td>nite twitterville workout in the am ciao</td>\n",
              "      <td>[nite, twittervil, workout, in, the, am, ciao]</td>\n",
              "      <td>nite twitterville workout in the am -ciao</td>\n",
              "    </tr>\n",
              "    <tr>\n",
              "      <th>9</th>\n",
              "      <td>1324</td>\n",
              "      <td>@daNanner Night, darlin'!  Sweet dreams to you</td>\n",
              "      <td>0</td>\n",
              "      <td>Night darlin Sweet dreams to you</td>\n",
              "      <td>[night, darlin, sweet, dream, to, you]</td>\n",
              "      <td>Night, darlin'! Sweet dreams to you</td>\n",
              "    </tr>\n",
              "  </tbody>\n",
              "</table>\n",
              "</div>"
            ],
            "text/plain": [
              "   Index  ...                                                                                                              tokenizedwithpunct\n",
              "0    106  ...                                                                        just had a real good moment. i missssssssss him so much,\n",
              "1    217  ...                                                                                                                is reading manga\n",
              "2    220  ...                                                                                                                               -\n",
              "3    288  ...  Need to send 'em to my accountant tomorrow. Oddly, I wasn't even referring to my taxes. Those are supporting evidence, though.\n",
              "4    540  ...                                                                                                            ADD ME ON MYSPACE!!!\n",
              "5    624  ...                                                                                            so sleepy. good times tonight though\n",
              "6    701  ...                                re: nbn as someone already said, does fiber to the home mean we will all at least be regular now\n",
              "7    808  ...                                                                                                    or ï¿½C possible today. Nice\n",
              "8   1193  ...                                                                                       nite twitterville workout in the am -ciao\n",
              "9   1324  ...                                                                                             Night, darlin'! Sweet dreams to you\n",
              "\n",
              "[10 rows x 6 columns]"
            ]
          },
          "metadata": {
            "tags": []
          },
          "execution_count": 28
        }
      ]
    },
    {
      "cell_type": "code",
      "metadata": {
        "colab": {
          "base_uri": "https://localhost:8080/"
        },
        "id": "0O4tXKgmpRjN",
        "outputId": "b797820e-7e67-42bf-dc56-e2261cf8de55"
      },
      "source": [
        "notdepressed, ndneg_percent, ndneu_percent, ndpos_percent = sentimentscores(notdepressed)"
      ],
      "execution_count": 29,
      "outputs": [
        {
          "output_type": "stream",
          "text": [
            "/usr/local/lib/python3.7/dist-packages/ipykernel_launcher.py:21: SettingWithCopyWarning: \n",
            "A value is trying to be set on a copy of a slice from a DataFrame.\n",
            "Try using .loc[row_indexer,col_indexer] = value instead\n",
            "\n",
            "See the caveats in the documentation: https://pandas.pydata.org/pandas-docs/stable/user_guide/indexing.html#returning-a-view-versus-a-copy\n"
          ],
          "name": "stderr"
        }
      ]
    },
    {
      "cell_type": "code",
      "metadata": {
        "colab": {
          "base_uri": "https://localhost:8080/",
          "height": 354
        },
        "id": "xDqWVjUJlHf7",
        "outputId": "438212e3-58e0-42f2-c003-f629133bad7a"
      },
      "source": [
        "labels = ['Negative', 'Neutral', 'Positive']\n",
        "index = np.arange(len(labels))\n",
        "plt.bar(index,[ndneg_percent,ndneu_percent,ndpos_percent],color=['red','black','green'])\n",
        "plt.ylabel('Percent of Sentiments', fontsize=15)\n",
        "plt.xlabel('Polarity', fontsize=15)\n",
        "plt.xticks(index, labels, fontsize=15, rotation=30)\n",
        "plt.title('Sentiment analysis of not-depressed tweets')\n"
      ],
      "execution_count": 30,
      "outputs": [
        {
          "output_type": "execute_result",
          "data": {
            "text/plain": [
              "Text(0.5, 1.0, 'Sentiment analysis of not-depressed tweets')"
            ]
          },
          "metadata": {
            "tags": []
          },
          "execution_count": 30
        },
        {
          "output_type": "display_data",
          "data": {
            "image/png": "[encoded data removed]",
            "text/plain": [
              "<Figure size 432x288 with 1 Axes>"
            ]
          },
          "metadata": {
            "tags": [],
            "needs_background": "light"
          }
        }
      ]
    },
    {
      "cell_type": "markdown",
      "metadata": {
        "id": "yZJzbosAHJiU"
      },
      "source": [
        "## Comparison of Sentiment Analysis\n",
        "\n",
        "Clinically depressed indviduals posted more negative tweets, less positive tweets, and slightly less neutral tweets than non-depressed individuals. This means that more attention needs to be paid to negative tweets when trying to target depressed individuals. "
      ]
    },
    {
      "cell_type": "code",
      "metadata": {
        "colab": {
          "base_uri": "https://localhost:8080/",
          "height": 354
        },
        "id": "mUSgd25v0dhz",
        "outputId": "bd4949d6-1f9f-47a7-b193-75f3063b0ca4"
      },
      "source": [
        "labels = ['Negative', 'Neutral', 'Positive']\n",
        "index = np.arange(len(labels))\n",
        "plt.bar(index,[ndneg_percent,ndneu_percent,ndpos_percent],color='pink')\n",
        "plt.bar(index,[neg_percent,neu_percent,pos_percent],bottom = [ndneg_percent,ndneu_percent,ndpos_percent], \n",
        "        color='black')\n",
        "plt.ylabel('Percent Count of Sentiments', fontsize=15)\n",
        "plt.xlabel('Polarity', fontsize=15)\n",
        "plt.xticks(index, labels, fontsize=15, rotation=30)\n",
        "plt.legend([\"not depressed\", \"depressed\"])\n",
        "plt.title('Sentiment Analysis of  Tweets')"
      ],
      "execution_count": 31,
      "outputs": [
        {
          "output_type": "execute_result",
          "data": {
            "text/plain": [
              "Text(0.5, 1.0, 'Sentiment Analysis of  Tweets')"
            ]
          },
          "metadata": {
            "tags": []
          },
          "execution_count": 31
        },
        {
          "output_type": "display_data",
          "data": {
            "image/png": "[encoded data removed]",
            "text/plain": [
              "<Figure size 432x288 with 1 Axes>"
            ]
          },
          "metadata": {
            "tags": [],
            "needs_background": "light"
          }
        }
      ]
    },
    {
      "cell_type": "markdown",
      "metadata": {
        "id": "mhFJlCvFHuh5"
      },
      "source": [
        "## Modeling\n",
        "\n",
        "The data was prepared for modeling by removing punctuation, special characters, URLs, and capitalization.  It was tokenized using the TweetTokenizer and stemmed. I split the data into train and test sets, map each word in the training set to a number, apply that mapping to the data (using 0 if it's an unknown word), and create a LSTM model. I calculate class weights to take into account the difference in amount of values between depressed and nondepressed tweets.  "
      ]
    },
    {
      "cell_type": "code",
      "metadata": {
        "id": "NXyuUEfoqy7d"
      },
      "source": [
        "#train test split\n",
        "X = df['tokenizedandstemmed']\n",
        "Y = df['label (depression result)']\n",
        "\n",
        "X_train, X_test, Y_train, Y_test = train_test_split(X, Y, test_size = 0.20, random_state=42)\n",
        "\n",
        "#train test split, before modeling, afer whatever steps I need to do; make the maps on the traning data\n",
        "#make mapping based on training data; set some encoding to be like if I see a new word, how to handle it \n"
      ],
      "execution_count": 32,
      "outputs": []
    },
    {
      "cell_type": "code",
      "metadata": {
        "id": "WumdLEp2vN2Y"
      },
      "source": [
        "def check_encoding(word, token_map):\n",
        "  \"\"\" This function checks if encoding exists for a word. \n",
        "\n",
        "  Parameters:\n",
        "  word (string): word to check\n",
        "  token_map (set): mapping of words to their numerical representation\n",
        "\n",
        "  Returns:\n",
        "  int: encoding if it exists, 0 if it does not \n",
        "\n",
        "  \"\"\"\n",
        "  if word in token_map:\n",
        "    return token_map.get(word)\n",
        "  else: \n",
        "    return 0"
      ],
      "execution_count": 33,
      "outputs": []
    },
    {
      "cell_type": "code",
      "metadata": {
        "id": "X-xclXjGFzWT"
      },
      "source": [
        "##convert words to indices.  I create a set, and add every word in the training data to it. \n",
        "word_set = set()\n",
        "for sent in X_train:\n",
        "  word_set.update(sent)\n",
        "\n",
        "#I create a dictionary mapping each word to a number representing it \n",
        "#enumerate returns 2 variables, the count and the value of the item at that iteration \n",
        "token_map = {word: i+1 for i, word in enumerate(word_set)} #offset by 1 to allow for padding value\n",
        "token_map['<#PAD>'] = 0\n",
        "\n",
        "#create our sentences\n",
        "X_train_indices = [[token_map[word] for word in sent] for sent in X_train ]\n",
        "\n",
        "#use the encoding on the test data\n",
        "X_test_indices = [[check_encoding(word, token_map) for word in sent] for sent in X_test]\n",
        "\n",
        "#dealing with sentences being dfferent lengths\n",
        "X_train_indices = tf.keras.preprocessing.sequence.pad_sequences(X_train_indices, padding='post').tolist()\n",
        "X_test_indices = tf.keras.preprocessing.sequence.pad_sequences(X_test_indices, padding = 'post').tolist()"
      ],
      "execution_count": 34,
      "outputs": []
    },
    {
      "cell_type": "code",
      "metadata": {
        "id": "xTpjxsKiG0ds",
        "colab": {
          "base_uri": "https://localhost:8080/"
        },
        "outputId": "443d4c96-3147-40a2-e2ea-eb5d69d14773"
      },
      "source": [
        "#building a LSTM model. Creating an embeddg layer with indices to vectors\n",
        "\n",
        "dim = 256\n",
        "hid_dim = 64\n",
        "\n",
        "model = tf.keras.models.Sequential([\n",
        "                                    tf.keras.layers.Embedding(len(word_set)+1, dim, embeddings_initializer='orthogonal', mask_zero=True), #+1 because of padding index\n",
        "                                    tf.keras.layers.LSTM(hid_dim, return_sequences=False), \n",
        "                                    tf.keras.layers.Dense(2), # 2 is the number of labels you want to pick from\n",
        "                                    tf.keras.layers.Dense(1, activation='sigmoid')\n",
        "])\n",
        "model.summary()\n",
        "\n"
      ],
      "execution_count": 35,
      "outputs": [
        {
          "output_type": "stream",
          "text": [
            "Model: \"sequential\"\n",
            "_________________________________________________________________\n",
            "Layer (type)                 Output Shape              Param #   \n",
            "=================================================================\n",
            "embedding (Embedding)        (None, None, 256)         2608896   \n",
            "_________________________________________________________________\n",
            "lstm (LSTM)                  (None, 64)                82176     \n",
            "_________________________________________________________________\n",
            "dense (Dense)                (None, 2)                 130       \n",
            "_________________________________________________________________\n",
            "dense_1 (Dense)              (None, 1)                 3         \n",
            "=================================================================\n",
            "Total params: 2,691,205\n",
            "Trainable params: 2,691,205\n",
            "Non-trainable params: 0\n",
            "_________________________________________________________________\n"
          ],
          "name": "stdout"
        }
      ]
    },
    {
      "cell_type": "code",
      "metadata": {
        "colab": {
          "base_uri": "https://localhost:8080/"
        },
        "id": "Y5z2I5la9Us0",
        "outputId": "f07a9221-debd-40f2-ed15-3137902b047e"
      },
      "source": [
        "class_weights = class_weight.compute_class_weight('balanced', np.unique(Y_train), Y_train)\n",
        "class_weights_dict = {0: class_weights[0], 1: class_weights[1]}\n",
        "class_weights_dict"
      ],
      "execution_count": 36,
      "outputs": [
        {
          "output_type": "execute_result",
          "data": {
            "text/plain": [
              "{0: 0.646022549326652, 1: 2.2120643431635387}"
            ]
          },
          "metadata": {
            "tags": []
          },
          "execution_count": 36
        }
      ]
    },
    {
      "cell_type": "code",
      "metadata": {
        "colab": {
          "base_uri": "https://localhost:8080/"
        },
        "id": "YvwNg5hkHgSE",
        "outputId": "432463ec-b7a0-4286-952a-26408b72dfba"
      },
      "source": [
        "#Compile the model \n",
        "model.compile(optimizer='adam', loss=tf.keras.losses.BinaryCrossentropy(),\n",
        "              metrics=['accuracy']) \n",
        "callback = tf.keras.callbacks.EarlyStopping(monitor='loss', min_delta=0.01)\n",
        "\n",
        "X_train_ind_padded = np.array(X_train_indices)\n",
        "X_test_ind_padded = np.array(X_test_indices)                          \n",
        "\n",
        "history = model.fit(X_train_ind_padded, Y_train, class_weight=class_weights_dict, epochs = 10, batch_size=64, callbacks=[callback], verbose=1)"
      ],
      "execution_count": 37,
      "outputs": [
        {
          "output_type": "stream",
          "text": [
            "Epoch 1/10\n",
            "129/129 [==============================] - 24s 155ms/step - loss: 0.3637 - accuracy: 0.8480\n",
            "Epoch 2/10\n",
            "129/129 [==============================] - 20s 153ms/step - loss: 0.0233 - accuracy: 0.9967\n",
            "Epoch 3/10\n",
            "129/129 [==============================] - 20s 153ms/step - loss: 0.0102 - accuracy: 0.9983\n",
            "Epoch 4/10\n",
            "129/129 [==============================] - 20s 154ms/step - loss: 0.0049 - accuracy: 0.9991\n"
          ],
          "name": "stdout"
        }
      ]
    },
    {
      "cell_type": "markdown",
      "metadata": {
        "id": "EMpSN5nPVv14"
      },
      "source": [
        "### Model Analysis \n",
        "\n",
        "The model has high accuracy, precision, recall, and f1 scores for test data.  There is not a large difference beween test and train data for accuracy. Since the model performs well on the given data, I decide to test it on brand nw daa from a different dataset.   "
      ]
    },
    {
      "cell_type": "code",
      "metadata": {
        "colab": {
          "base_uri": "https://localhost:8080/"
        },
        "id": "yHQHGtocICnu",
        "outputId": "59855640-9af1-4082-efb4-3f1f9e0bbdf5"
      },
      "source": [
        "score = model.evaluate(X_test_ind_padded, Y_test, verbose = 1)\n",
        "score_train = model.evaluate(X_train_ind_padded, Y_train, verbose = 1)\n",
        "\n",
        "print()\n",
        "print(\"Evaluate on test data\")\n",
        "print(f'Test loss: {score[0]} / Test accuracy: {score[1]}')\n",
        "\n",
        "print(\"Evaluate on train data\")\n",
        "print(f'Train loss: {score_train[0]} / Train accuracy: {score_train[1]}')\n",
        "\n",
        "#from sklearn.metrics import f1_score, precision_score, recall_score\n",
        "y_pred1 = model.predict(X_test_ind_padded)\n",
        "#y_pred = np.argmax(y_pred1, axis=1)\n",
        "y_pred = np.round(y_pred1).astype(int)\n",
        "\n",
        "print((y_pred==1).sum())\n",
        "\n",
        "print()\n",
        "print('Precision Score')\n",
        "print(precision_score(Y_test, y_pred, average='macro'))\n",
        "print()\n",
        "print('Recall Score')\n",
        "print(recall_score(Y_test, y_pred, average='macro'))\n",
        "print()\n",
        "print('F1 Score')\n",
        "print(f1_score(Y_test, y_pred, average='macro'))\n"
      ],
      "execution_count": 38,
      "outputs": [
        {
          "output_type": "stream",
          "text": [
            "65/65 [==============================] - 3s 16ms/step - loss: 0.0401 - accuracy: 0.9927\n",
            "258/258 [==============================] - 7s 20ms/step - loss: 0.0049 - accuracy: 0.9993\n",
            "\n",
            "Evaluate on test data\n",
            "Test loss: 0.04007251188158989 / Test accuracy: 0.9927290081977844\n",
            "Evaluate on train data\n",
            "Train loss: 0.004878257866948843 / Train accuracy: 0.9992728233337402\n",
            "442\n",
            "\n",
            "Precision Score\n",
            "0.9920821458180387\n",
            "\n",
            "Recall Score\n",
            "0.9865113994198866\n",
            "\n",
            "F1 Score\n",
            "0.9892640990013479\n"
          ],
          "name": "stdout"
        }
      ]
    },
    {
      "cell_type": "markdown",
      "metadata": {
        "id": "JvYjgdrIYjs8"
      },
      "source": [
        "## New Data\n",
        "\n",
        "I now import data from Twitter to test the model against. I import the most recent 200 tweets each for #depression, #depressed, depression, and depressed. I also import 200 random tweets that do not mention depression. "
      ]
    },
    {
      "cell_type": "code",
      "metadata": {
        "id": "HepsfoxcUov0"
      },
      "source": [
        "import sys\n",
        "sys.path.append('/content/drive/MyDrive/DepressionTweets/DepressionSentimentalAnalysis')\n",
        "import config2\n",
        "\n",
        "#config 2 has my passwords/keys "
      ],
      "execution_count": 39,
      "outputs": []
    },
    {
      "cell_type": "code",
      "metadata": {
        "id": "C_y6859SSV6R"
      },
      "source": [
        "#get authorization from Twitter and create my API to gather data\n",
        "\n",
        "auth_params = {\n",
        "    'app_key': config2.api_key,\n",
        "    'app_secret': config2.api_secret,\n",
        "    'bearer_token': config2.bearer_token,\n",
        "    'access_token': config2.access_token,\n",
        "    'access_token_secret': config2.access_token_secret\n",
        "}\n",
        "\n",
        "auth = tweepy.OAuthHandler(auth_params['app_key'], auth_params['app_secret'])\n",
        "auth.set_access_token(auth_params['access_token'], auth_params['access_token_secret'])\n",
        "\n",
        "api = tweepy.API(auth, wait_on_rate_limit=True)\n"
      ],
      "execution_count": 40,
      "outputs": []
    },
    {
      "cell_type": "code",
      "metadata": {
        "id": "mS7IX7GEq8ul"
      },
      "source": [
        "#extract tweets \n",
        "hashtag_depressed_tweets = tweepy.Cursor(api.search, q=\"#depressed\" + \" -filter:retweets\", lang='en', tweet_mode='extended').items(200)\n",
        "depressed_tweets = tweepy.Cursor(api.search, q=\"depressed\" + \" -filter:retweets\", lang='en', tweet_mode='extended').items(200)\n",
        "hashtag_depression_tweets = tweepy.Cursor(api.search, q=\"#depression\" + \" -filter:retweets\", lang='en', tweet_mode='extended').items(200)\n",
        "depression_tweets = tweepy.Cursor(api.search, q=\"depression\" + \" -filter:retweets\", lang='en', tweet_mode='extended').items(200)\n",
        "random_tweets = tweepy.Cursor(api.search, q=\"-depressed\" + '-depression' + '-#depressed' + '-#depression' + \" -filter:retweets\", lang='en', tweet_mode='extended').items(200)\n"
      ],
      "execution_count": 41,
      "outputs": []
    },
    {
      "cell_type": "code",
      "metadata": {
        "id": "xQsQGCv6a-DK"
      },
      "source": [
        "#each set gets made into it's own dataframe \n",
        "hdepressed = pd.DataFrame(data=[tweet.full_text for tweet in hashtag_depressed_tweets], columns=['message'])"
      ],
      "execution_count": 42,
      "outputs": []
    },
    {
      "cell_type": "code",
      "metadata": {
        "id": "meMAUdyaZqPg"
      },
      "source": [
        "depressed = pd.DataFrame(data=[tweet.full_text for tweet in depressed_tweets], columns=['message'])"
      ],
      "execution_count": 43,
      "outputs": []
    },
    {
      "cell_type": "code",
      "metadata": {
        "id": "nKf7hzuXZs9O"
      },
      "source": [
        "hdepression = pd.DataFrame(data=[tweet.full_text for tweet in hashtag_depression_tweets], columns=['message'])"
      ],
      "execution_count": 44,
      "outputs": []
    },
    {
      "cell_type": "code",
      "metadata": {
        "id": "g_AQRm_GZ86q"
      },
      "source": [
        "depression = pd.DataFrame(data=[tweet.full_text for tweet in depression_tweets], columns=['message'])\n"
      ],
      "execution_count": 45,
      "outputs": []
    },
    {
      "cell_type": "code",
      "metadata": {
        "id": "Of8vNWe9aC4-"
      },
      "source": [
        "random = pd.DataFrame(data=[tweet.full_text for tweet in random_tweets], columns=['message'])"
      ],
      "execution_count": 46,
      "outputs": []
    },
    {
      "cell_type": "code",
      "metadata": {
        "colab": {
          "base_uri": "https://localhost:8080/",
          "height": 736
        },
        "id": "kn3DsZ8ImVCy",
        "outputId": "25d24a05-e27b-4a2b-884a-2a4d3319176b"
      },
      "source": [
        "#clean  the data for the model \n",
        "\n",
        "hdepressed_tokenized = clean_and_tokenize(hdepressed, 'message')\n",
        "depressed_tokenized = clean_and_tokenize(depressed, 'message')\n",
        "hdepression_tokenized = clean_and_tokenize(hdepression, 'message')\n",
        "depression_tokenized = clean_and_tokenize(depression, 'message')\n",
        "random_tokenized = clean_and_tokenize(random, 'message')\n",
        "\n",
        "#add a column with the query term, and then combine the dataframes into 1\n",
        "\n",
        "hdepressed_tokenized['query'] = 'hashtagdepressed'\n",
        "depressed_tokenized['query'] = 'depressed'\n",
        "hdepression_tokenized['query'] = 'hashtagdepression'\n",
        "depression_tokenized['query'] = 'depression'\n",
        "random_tokenized['query'] = 'random'\n",
        "\n",
        "\n",
        "dataframes = [hdepressed_tokenized, depressed_tokenized, hdepression_tokenized,\n",
        "              depression_tokenized, random_tokenized]\n",
        "new_data = pd.concat(dataframes)\n",
        "\n",
        "new_data.tail(10)"
      ],
      "execution_count": 47,
      "outputs": [
        {
          "output_type": "execute_result",
          "data": {
            "text/html": [
              "<div>\n",
              "<style scoped>\n",
              "    .dataframe tbody tr th:only-of-type {\n",
              "        vertical-align: middle;\n",
              "    }\n",
              "\n",
              "    .dataframe tbody tr th {\n",
              "        vertical-align: top;\n",
              "    }\n",
              "\n",
              "    .dataframe thead th {\n",
              "        text-align: right;\n",
              "    }\n",
              "</style>\n",
              "<table border=\"1\" class=\"dataframe\">\n",
              "  <thead>\n",
              "    <tr style=\"text-align: right;\">\n",
              "      <th></th>\n",
              "      <th>message</th>\n",
              "      <th>tokenized</th>\n",
              "      <th>tokenizedandstemmed</th>\n",
              "      <th>query</th>\n",
              "    </tr>\n",
              "  </thead>\n",
              "  <tbody>\n",
              "    <tr>\n",
              "      <th>190</th>\n",
              "      <td>It’s 2021 - we carry supercomputers in our pockets and send rockets into space, yet somehow we still teach school children that there’s a continent called Europe, when anyone with a couple of neurons firing can look at a map and see that there is no such continent.</td>\n",
              "      <td>[it, ’, s, -, we, carry, supercomputers, in, our, pockets, and, send, rockets, into, space, ,, yet, somehow, we, still, teach, school, children, that, there, ’, s, a, continent, called, europe, ,, when, anyone, with, a, couple, of, neurons, firing, can, look, at, a, map, and, see, that, there, is, no, such, continent, .]</td>\n",
              "      <td>[it, s, we, carri, supercomput, in, our, pocket, and, send, rocket, into, space, yet, somehow, we, still, teach, school, children, that, there, s, a, contin, call, europ, when, anyon, with, a, coupl, of, neuron, fire, can, look, at, a, map, and, see, that, there, is, no, such, contin]</td>\n",
              "      <td>random</td>\n",
              "    </tr>\n",
              "    <tr>\n",
              "      <th>191</th>\n",
              "      <td>WELL DONE INTO1 ❤✨\\n#INTO1xViyaCarnival https://t.co/xjdt0eA6Ig</td>\n",
              "      <td>[well, done, into, ❤, ✨, intoxviyacarnival]</td>\n",
              "      <td>[well, done, into, intoxviyacarniv]</td>\n",
              "      <td>random</td>\n",
              "    </tr>\n",
              "    <tr>\n",
              "      <th>192</th>\n",
              "      <td>@nwkdrama as you should !!!</td>\n",
              "      <td>[as, you, should, !, !, !]</td>\n",
              "      <td>[as, you, should]</td>\n",
              "      <td>random</td>\n",
              "    </tr>\n",
              "    <tr>\n",
              "      <th>193</th>\n",
              "      <td>@ChrysieC We stan briefs</td>\n",
              "      <td>[we, stan, briefs]</td>\n",
              "      <td>[we, stan, brief]</td>\n",
              "      <td>random</td>\n",
              "    </tr>\n",
              "    <tr>\n",
              "      <th>194</th>\n",
              "      <td>The demolition of Baqee will always be the proof of the hypocrisy of the Saudi Regime towards the family of the Holy Prophet(pbuh).\\n#RebuildBaqi</td>\n",
              "      <td>[the, demolition, of, baqee, will, always, be, the, proof, of, the, hypocrisy, of, the, saudi, regime, towards, the, family, of, the, holy, prophet, (, pbuh, ), ., rebuildbaqi]</td>\n",
              "      <td>[the, demolit, of, baqe, will, alway, be, the, proof, of, the, hypocrisi, of, the, saudi, regim, toward, the, famili, of, the, holi, prophet, pbuh, rebuildbaqi]</td>\n",
              "      <td>random</td>\n",
              "    </tr>\n",
              "    <tr>\n",
              "      <th>195</th>\n",
              "      <td>@TheMoon_Child With a cup of tea 😌</td>\n",
              "      <td>[with, a, cup, of, tea, 😌]</td>\n",
              "      <td>[with, a, cup, of, tea]</td>\n",
              "      <td>random</td>\n",
              "    </tr>\n",
              "    <tr>\n",
              "      <th>196</th>\n",
              "      <td>Red nails always wins !!😋 https://t.co/dkEh31aOL9</td>\n",
              "      <td>[red, nails, always, wins, !, !, 😋]</td>\n",
              "      <td>[red, nail, alway, win]</td>\n",
              "      <td>random</td>\n",
              "    </tr>\n",
              "    <tr>\n",
              "      <th>197</th>\n",
              "      <td>day 73 : happy 1st anniversary to D2 !! i cant explain how much i loved this mixtape i literally listen to it everyday atp 🤥🤥 \"hands of midas\" is v true  https://t.co/0A66CENMMC</td>\n",
              "      <td>[day, :, happy, st, anniversary, to, d, !, !, i, cant, explain, how, much, i, loved, this, mixtape, i, literally, listen, to, it, everyday, atp, 🤥, 🤥, \", hands, of, midas, \", is, v, true]</td>\n",
              "      <td>[day, happi, st, anniversari, to, d, i, cant, explain, how, much, i, love, thi, mixtap, i, liter, listen, to, it, everyday, atp, hand, of, mida, is, v, true]</td>\n",
              "      <td>random</td>\n",
              "    </tr>\n",
              "    <tr>\n",
              "      <th>198</th>\n",
              "      <td>@DaKidGowie Lakers in 6</td>\n",
              "      <td>[lakers, in]</td>\n",
              "      <td>[laker, in]</td>\n",
              "      <td>random</td>\n",
              "    </tr>\n",
              "    <tr>\n",
              "      <th>199</th>\n",
              "      <td>@bts_bighit Yay! Keep streaming, Armys! 😊💪</td>\n",
              "      <td>[yay, !, keep, streaming, ,, armys, !, 😊, 💪]</td>\n",
              "      <td>[yay, keep, stream, armi]</td>\n",
              "      <td>random</td>\n",
              "    </tr>\n",
              "  </tbody>\n",
              "</table>\n",
              "</div>"
            ],
            "text/plain": [
              "                                                                                                                                                                                                                                                                       message  ...   query\n",
              "190  It’s 2021 - we carry supercomputers in our pockets and send rockets into space, yet somehow we still teach school children that there’s a continent called Europe, when anyone with a couple of neurons firing can look at a map and see that there is no such continent.  ...  random\n",
              "191                                                                                                                                                                                                            WELL DONE INTO1 ❤✨\\n#INTO1xViyaCarnival https://t.co/xjdt0eA6Ig  ...  random\n",
              "192                                                                                                                                                                                                                                                @nwkdrama as you should !!!  ...  random\n",
              "193                                                                                                                                                                                                                                                   @ChrysieC We stan briefs  ...  random\n",
              "194                                                                                                                          The demolition of Baqee will always be the proof of the hypocrisy of the Saudi Regime towards the family of the Holy Prophet(pbuh).\\n#RebuildBaqi  ...  random\n",
              "195                                                                                                                                                                                                                                         @TheMoon_Child With a cup of tea 😌  ...  random\n",
              "196                                                                                                                                                                                                                          Red nails always wins !!😋 https://t.co/dkEh31aOL9  ...  random\n",
              "197                                                                                          day 73 : happy 1st anniversary to D2 !! i cant explain how much i loved this mixtape i literally listen to it everyday atp 🤥🤥 \"hands of midas\" is v true  https://t.co/0A66CENMMC  ...  random\n",
              "198                                                                                                                                                                                                                                                    @DaKidGowie Lakers in 6  ...  random\n",
              "199                                                                                                                                                                                                                                 @bts_bighit Yay! Keep streaming, Armys! 😊💪  ...  random\n",
              "\n",
              "[10 rows x 4 columns]"
            ]
          },
          "metadata": {
            "tags": []
          },
          "execution_count": 47
        }
      ]
    },
    {
      "cell_type": "code",
      "metadata": {
        "id": "ccXjuJyY08nz"
      },
      "source": [
        "newdata_indices = [[check_encoding(word, token_map) for word in sent] for sent in new_data['tokenizedandstemmed']]\n",
        "newdata_indices = tf.keras.preprocessing.sequence.pad_sequences(newdata_indices, padding = 'post').tolist()\n",
        "\n"
      ],
      "execution_count": 48,
      "outputs": []
    },
    {
      "cell_type": "code",
      "metadata": {
        "colab": {
          "base_uri": "https://localhost:8080/"
        },
        "id": "23MRB7TDwfBP",
        "outputId": "d13a82a5-5ea9-4df0-f326-220014065434"
      },
      "source": [
        "new = model.predict_classes(newdata_indices)\n",
        "new_data.shape"
      ],
      "execution_count": 49,
      "outputs": [
        {
          "output_type": "stream",
          "text": [
            "/usr/local/lib/python3.7/dist-packages/tensorflow/python/keras/engine/sequential.py:450: UserWarning: `model.predict_classes()` is deprecated and will be removed after 2021-01-01. Please use instead:* `np.argmax(model.predict(x), axis=-1)`,   if your model does multi-class classification   (e.g. if it uses a `softmax` last-layer activation).* `(model.predict(x) > 0.5).astype(\"int32\")`,   if your model does binary classification   (e.g. if it uses a `sigmoid` last-layer activation).\n",
            "  warnings.warn('`model.predict_classes()` is deprecated and '\n"
          ],
          "name": "stderr"
        },
        {
          "output_type": "execute_result",
          "data": {
            "text/plain": [
              "(1000, 4)"
            ]
          },
          "metadata": {
            "tags": []
          },
          "execution_count": 49
        }
      ]
    },
    {
      "cell_type": "code",
      "metadata": {
        "id": "iJDQ9AHdAoPr"
      },
      "source": [
        "#check prediction against actual tweet for randomized set \n",
        "new_data['prediction'] = new"
      ],
      "execution_count": 50,
      "outputs": []
    },
    {
      "cell_type": "code",
      "metadata": {
        "colab": {
          "base_uri": "https://localhost:8080/"
        },
        "id": "fyTXFXdAC2MY",
        "outputId": "5774c913-7744-411b-ac57-5e4a8dc16bae"
      },
      "source": [
        "new_data['prediction'].value_counts()"
      ],
      "execution_count": 51,
      "outputs": [
        {
          "output_type": "execute_result",
          "data": {
            "text/plain": [
              "1    797\n",
              "0    203\n",
              "Name: prediction, dtype: int64"
            ]
          },
          "metadata": {
            "tags": []
          },
          "execution_count": 51
        }
      ]
    },
    {
      "cell_type": "code",
      "metadata": {
        "colab": {
          "base_uri": "https://localhost:8080/",
          "height": 1000
        },
        "id": "IWMc5LzJEjNr",
        "outputId": "69d1a213-ac71-48db-f524-f03669566c72"
      },
      "source": [
        "randomsample = new_data.sample(n=50)\n",
        "randomsample.head(20)"
      ],
      "execution_count": 52,
      "outputs": [
        {
          "output_type": "execute_result",
          "data": {
            "text/html": [
              "<div>\n",
              "<style scoped>\n",
              "    .dataframe tbody tr th:only-of-type {\n",
              "        vertical-align: middle;\n",
              "    }\n",
              "\n",
              "    .dataframe tbody tr th {\n",
              "        vertical-align: top;\n",
              "    }\n",
              "\n",
              "    .dataframe thead th {\n",
              "        text-align: right;\n",
              "    }\n",
              "</style>\n",
              "<table border=\"1\" class=\"dataframe\">\n",
              "  <thead>\n",
              "    <tr style=\"text-align: right;\">\n",
              "      <th></th>\n",
              "      <th>message</th>\n",
              "      <th>tokenized</th>\n",
              "      <th>tokenizedandstemmed</th>\n",
              "      <th>query</th>\n",
              "      <th>prediction</th>\n",
              "    </tr>\n",
              "  </thead>\n",
              "  <tbody>\n",
              "    <tr>\n",
              "      <th>193</th>\n",
              "      <td>@ChrysieC We stan briefs</td>\n",
              "      <td>[we, stan, briefs]</td>\n",
              "      <td>[we, stan, brief]</td>\n",
              "      <td>random</td>\n",
              "      <td>0</td>\n",
              "    </tr>\n",
              "    <tr>\n",
              "      <th>59</th>\n",
              "      <td>@ShrutiYedla @urstrulyMahesh YesHareYouTea ??</td>\n",
              "      <td>[yeshareyoutea, ?, ?]</td>\n",
              "      <td>[yeshareyoutea]</td>\n",
              "      <td>random</td>\n",
              "      <td>0</td>\n",
              "    </tr>\n",
              "    <tr>\n",
              "      <th>98</th>\n",
              "      <td>@offbeatorbit i never looked around, never second-guessed / then I read some howard zinn now i'm always depressed</td>\n",
              "      <td>[i, never, looked, around, ,, never, second-guessed, /, then, i, read, some, howard, zinn, now, i'm, always, depressed]</td>\n",
              "      <td>[i, never, look, around, never, then, i, read, some, howard, zinn, now, alway, depress]</td>\n",
              "      <td>depressed</td>\n",
              "      <td>1</td>\n",
              "    </tr>\n",
              "    <tr>\n",
              "      <th>153</th>\n",
              "      <td>Today's focus: walking &amp;amp; working!  A med change has disrupted sleep &amp;amp; I've been distracted by some personal projects.  So today, I have a \"Focus Walk Work\" label, timer, and @zox \"prove them wrong\" bracelet to stay on track.  #anxiety #depression \\nHow 'bout you? How do you focus? https://t.co/FC7tfiq4ah</td>\n",
              "      <td>[today's, focus, :, walking, &amp;, working, !, a, med, change, has, disrupted, sleep, &amp;, i've, been, distracted, by, some, personal, projects, ., so, today, ,, i, have, a, \", focus, walk, work, \", label, ,, timer, ,, and, \", prove, them, wrong, \", bracelet, to, stay, on, track, ., anxiety, depression, how, ', bout, you, ?, how, do, you, focus, ?]</td>\n",
              "      <td>[focu, walk, work, a, med, chang, ha, disrupt, sleep, been, distract, by, some, person, project, so, today, i, have, a, focu, walk, work, label, timer, and, prove, them, wrong, bracelet, to, stay, on, track, anxieti, depress, how, bout, you, how, do, you, focu]</td>\n",
              "      <td>hashtagdepression</td>\n",
              "      <td>1</td>\n",
              "    </tr>\n",
              "    <tr>\n",
              "      <th>72</th>\n",
              "      <td>@PetercjacksonPj @richardpbacon @emmakennytv And so have I thank you very much! And that is why I came up with an idea to help people at rock bottom! Why are you picking holes in it??? Why can't you just say well done for coming up with an idea that helps people who are struggling with depression??? Jeez!!!</td>\n",
              "      <td>[and, so, have, i, thank, you, very, much, !, and, that, is, why, i, came, up, with, an, idea, to, help, people, at, rock, bottom, !, why, are, you, picking, holes, in, it, ?, ?, ?, why, can't, you, just, say, well, done, for, coming, up, with, an, idea, that, helps, people, who, are, struggling, with, depression, ?, ?, ?, jeez, !, !, !]</td>\n",
              "      <td>[and, so, have, i, thank, you, veri, much, and, that, is, whi, i, came, up, with, an, idea, to, help, peopl, at, rock, bottom, whi, are, you, pick, hole, in, it, whi, you, just, say, well, done, for, come, up, with, an, idea, that, help, peopl, who, are, struggl, with, depress, jeez]</td>\n",
              "      <td>depression</td>\n",
              "      <td>1</td>\n",
              "    </tr>\n",
              "    <tr>\n",
              "      <th>171</th>\n",
              "      <td>Np: smash - I heart you &amp;lt;3\\n\\n@BTS_twt #BBMAsTopSocial https://t.co/lpZUA4A5FF</td>\n",
              "      <td>[np, :, smash, -, i, heart, you, &lt;, bbmastopsocial]</td>\n",
              "      <td>[np, smash, i, heart, you, bbmastopsoci]</td>\n",
              "      <td>random</td>\n",
              "      <td>0</td>\n",
              "    </tr>\n",
              "    <tr>\n",
              "      <th>27</th>\n",
              "      <td>don’t forget guys.. they’re here too 😞🙁😢😭 #sad #depressed https://t.co/hy6XkWH4qg</td>\n",
              "      <td>[don, ’, t, forget, guys, .., they, ’, re, here, too, 😞, 🙁, 😢, 😭, sad, depressed]</td>\n",
              "      <td>[don, t, forget, guy, they, re, here, too, sad, depress]</td>\n",
              "      <td>hashtagdepressed</td>\n",
              "      <td>1</td>\n",
              "    </tr>\n",
              "    <tr>\n",
              "      <th>31</th>\n",
              "      <td>dylan o brien shouldve had an oscar by now, where’s shailene woodley, theo james just came and went, logan lerman entire career is just consisted of that greek god and that depressed weird teenage boy, lily collins just stuck with that netflix show....</td>\n",
              "      <td>[dylan, o, brien, shouldve, had, an, oscar, by, now, ,, where, ’, s, shailene, woodley, ,, theo, james, just, came, and, went, ,, logan, lerman, entire, career, is, just, consisted, of, that, greek, god, and, that, depressed, weird, teenage, boy, ,, lily, collins, just, stuck, with, that, netflix, show, ...]</td>\n",
              "      <td>[dylan, o, brien, shouldv, had, an, oscar, by, now, where, s, shailen, woodley, theo, jame, just, came, and, went, logan, lerman, entir, career, is, just, consist, of, that, greek, god, and, that, depress, weird, teenag, boy, lili, collin, just, stuck, with, that, netflix, show]</td>\n",
              "      <td>depressed</td>\n",
              "      <td>1</td>\n",
              "    </tr>\n",
              "    <tr>\n",
              "      <th>106</th>\n",
              "      <td>@michael_steel @nytimes I heard you were depressed for awhile. Good to know.</td>\n",
              "      <td>[i, heard, you, were, depressed, for, awhile, ., good, to, know, .]</td>\n",
              "      <td>[i, heard, you, were, depress, for, awhil, good, to, know]</td>\n",
              "      <td>depressed</td>\n",
              "      <td>1</td>\n",
              "    </tr>\n",
              "    <tr>\n",
              "      <th>106</th>\n",
              "      <td>The fact that I can wear lipstick again has cured my depression, cleared my skin, and risen my credit score thank yew</td>\n",
              "      <td>[the, fact, that, i, can, wear, lipstick, again, has, cured, my, depression, ,, cleared, my, skin, ,, and, risen, my, credit, score, thank, yew]</td>\n",
              "      <td>[the, fact, that, i, can, wear, lipstick, again, ha, cure, my, depress, clear, my, skin, and, risen, my, credit, score, thank, yew]</td>\n",
              "      <td>depression</td>\n",
              "      <td>1</td>\n",
              "    </tr>\n",
              "    <tr>\n",
              "      <th>96</th>\n",
              "      <td>I'm back. I feel slightly better for going out for some fresh air. I'm still feeling nauseous which I expect but this will go sometime tomorrow. I'll be watching a dvd now, Into The Woods. #ActuallyAutistic #depression #mentalhealth https://t.co/d1KkHi82aL</td>\n",
              "      <td>[i'm, back, ., i, feel, slightly, better, for, going, out, for, some, fresh, air, ., i'm, still, feeling, nauseous, which, i, expect, but, this, will, go, sometime, tomorrow, ., i'll, be, watching, a, dvd, now, ,, into, the, woods, ., actuallyautistic, depression, mentalhealth]</td>\n",
              "      <td>[back, i, feel, slightli, better, for, go, out, for, some, fresh, air, still, feel, nauseou, which, i, expect, but, thi, will, go, sometim, tomorrow, be, watch, a, dvd, now, into, the, wood, actuallyautist, depress, mentalhealth]</td>\n",
              "      <td>hashtagdepression</td>\n",
              "      <td>1</td>\n",
              "    </tr>\n",
              "    <tr>\n",
              "      <th>158</th>\n",
              "      <td>I'm a rape survivor\\nI was raped by some1 I knew\\nI was raped in my home\\nThe ONLY person I tried 2 tell cldnt believe it, bc \"he's a wonderful family man\"\\nfor 4 yrs I suffered thru anxiety attacks\\nTil I ended up in the ER,\\nthe Dr \"prescribed\" therapy\\n#depression \\n#TheMeYouCantSee</td>\n",
              "      <td>[i'm, a, rape, survivor, i, was, raped, by, some, i, knew, i, was, raped, in, my, home, the, only, person, i, tried, tell, cldnt, believe, it, ,, bc, \", he's, a, wonderful, family, man, \", for, yrs, i, suffered, thru, anxiety, attacks, til, i, ended, up, in, the, er, ,, the, dr, \", prescribed, \", therapy, depression, themeyoucantsee]</td>\n",
              "      <td>[a, rape, survivor, i, wa, rape, by, some, i, knew, i, wa, rape, in, my, home, the, onli, person, i, tri, tell, cldnt, believ, it, bc, a, wonder, famili, man, for, yr, i, suffer, thru, anxieti, attack, til, i, end, up, in, the, er, the, dr, prescrib, therapi, depress, themeyoucantse]</td>\n",
              "      <td>hashtagdepression</td>\n",
              "      <td>1</td>\n",
              "    </tr>\n",
              "    <tr>\n",
              "      <th>184</th>\n",
              "      <td>@JordiGeusens @NEcrimson @safakibria Depression or sadness is not punishment enough for someone who's done really bad things. Even good people experience that. The one who gave us life shall resurect us and we'd all be accountable for our actions.</td>\n",
              "      <td>[depression, or, sadness, is, not, punishment, enough, for, someone, who's, done, really, bad, things, ., even, good, people, experience, that, ., the, one, who, gave, us, life, shall, resurect, us, and, we'd, all, be, accountable, for, our, actions, .]</td>\n",
              "      <td>[depress, or, sad, is, not, punish, enough, for, someon, done, realli, bad, thing, even, good, peopl, experi, that, the, one, who, gave, us, life, shall, resurect, us, and, all, be, account, for, our, action]</td>\n",
              "      <td>depression</td>\n",
              "      <td>1</td>\n",
              "    </tr>\n",
              "    <tr>\n",
              "      <th>39</th>\n",
              "      <td>depressed but well dressed 🤝</td>\n",
              "      <td>[depressed, but, well, dressed, 🤝]</td>\n",
              "      <td>[depress, but, well, dress]</td>\n",
              "      <td>depressed</td>\n",
              "      <td>1</td>\n",
              "    </tr>\n",
              "    <tr>\n",
              "      <th>178</th>\n",
              "      <td>Into The Fog Once More\\n\\nNew #blog:\\n\\n#MotivationBlog #LifestyleBlog #LifeLessons #MentalHealthBlogger #MentalHealth #MentalIllness #MentalHealthMatters #anxiety #depression #ChronicIllness #CPTSD #blogger #amwriting #SelfLove #YouAreNotAlone https://t.co/OgIZea6ECr</td>\n",
              "      <td>[into, the, fog, once, more, new, blog, :, motivationblog, lifestyleblog, lifelessons, mentalhealthblogger, mentalhealth, mentalillness, mentalhealthmatters, anxiety, depression, chronicillness, cptsd, blogger, amwriting, selflove, youarenotalone]</td>\n",
              "      <td>[into, the, fog, onc, more, new, blog, motivationblog, lifestyleblog, lifelesson, mentalhealthblogg, mentalhealth, mentalil, mentalhealthmatt, anxieti, depress, chronicil, cptsd, blogger, amwrit, selflov, youarenotalon]</td>\n",
              "      <td>hashtagdepression</td>\n",
              "      <td>1</td>\n",
              "    </tr>\n",
              "    <tr>\n",
              "      <th>55</th>\n",
              "      <td>I realized I have mainly been posting here when I'm #DEPRESSED. So just putting this out into the Twitter void. I am doing really good and feel extremely positive and confident right now. Thanks for being kind when I'm down internet friends. 🤟💕</td>\n",
              "      <td>[i, realized, i, have, mainly, been, posting, here, when, i'm, depressed, ., so, just, putting, this, out, into, the, twitter, void, ., i, am, doing, really, good, and, feel, extremely, positive, and, confident, right, now, ., thanks, for, being, kind, when, i'm, down, internet, friends, ., 🤟, 💕]</td>\n",
              "      <td>[i, realiz, i, have, mainli, been, post, here, when, depress, so, just, put, thi, out, into, the, twitter, void, i, am, do, realli, good, and, feel, extrem, posit, and, confid, right, now, thank, for, be, kind, when, down, internet, friend]</td>\n",
              "      <td>hashtagdepressed</td>\n",
              "      <td>1</td>\n",
              "    </tr>\n",
              "    <tr>\n",
              "      <th>106</th>\n",
              "      <td>My fucked marriage was all Karmic relationship. There was ZERO twin flames, soulmate, bullshit.</td>\n",
              "      <td>[my, fucked, marriage, was, all, karmic, relationship, ., there, was, zero, twin, flames, ,, soulmate, ,, bullshit, .]</td>\n",
              "      <td>[my, fuck, marriag, wa, all, karmic, relationship, there, wa, zero, twin, flame, soulmat, bullshit]</td>\n",
              "      <td>random</td>\n",
              "      <td>0</td>\n",
              "    </tr>\n",
              "    <tr>\n",
              "      <th>175</th>\n",
              "      <td>They say suicide isn‘t an option, but they never give you a better one.\\n#deeptalk #deep #depressed #depression #viral</td>\n",
              "      <td>[they, say, suicide, isn, ‘, t, an, option, ,, but, they, never, give, you, a, better, one, ., deeptalk, deep, depressed, depression, viral]</td>\n",
              "      <td>[they, say, suicid, isn, t, an, option, but, they, never, give, you, a, better, one, deeptalk, deep, depress, depress, viral]</td>\n",
              "      <td>hashtagdepressed</td>\n",
              "      <td>1</td>\n",
              "    </tr>\n",
              "    <tr>\n",
              "      <th>14</th>\n",
              "      <td>@AISA_tweets Respected Sir\\nPlease help students of class 12th. We all are aware about the situation in India. The cases are increasing day by day &amp;amp; also it is being said that third wave is not far seeing the situation. Students are suffering alot. Help!!🙏 #depressed\\n#cancel12thboardexams2021</td>\n",
              "      <td>[respected, sir, please, help, students, of, class, th, ., we, all, are, aware, about, the, situation, in, india, ., the, cases, are, increasing, day, by, day, &amp;, also, it, is, being, said, that, third, wave, is, not, far, seeing, the, situation, ., students, are, suffering, alot, ., help, !, !, 🙏, depressed, cancelthboardexams]</td>\n",
              "      <td>[respect, sir, pleas, help, student, of, class, th, we, all, are, awar, about, the, situat, in, india, the, case, are, increas, day, by, day, also, it, is, be, said, that, third, wave, is, not, far, see, the, situat, student, are, suffer, alot, help, depress, cancelthboardexam]</td>\n",
              "      <td>hashtagdepressed</td>\n",
              "      <td>1</td>\n",
              "    </tr>\n",
              "    <tr>\n",
              "      <th>77</th>\n",
              "      <td>@Facebook  Does anyone know how to contact a real person at Facebook that can fix issues? Banned my marketplace for no reason and it's literally my income. #Depressed</td>\n",
              "      <td>[does, anyone, know, how, to, contact, a, real, person, at, facebook, that, can, fix, issues, ?, banned, my, marketplace, for, no, reason, and, it's, literally, my, income, ., depressed]</td>\n",
              "      <td>[doe, anyon, know, how, to, contact, a, real, person, at, facebook, that, can, fix, issu, ban, my, marketplac, for, no, reason, and, liter, my, incom, depress]</td>\n",
              "      <td>hashtagdepressed</td>\n",
              "      <td>1</td>\n",
              "    </tr>\n",
              "  </tbody>\n",
              "</table>\n",
              "</div>"
            ],
            "text/plain": [
              "                                                                                                                                                                                                                                                                                                                       message  ... prediction\n",
              "193                                                                                                                                                                                                                                                                                                   @ChrysieC We stan briefs  ...          0\n",
              "59                                                                                                                                                                                                                                                                               @ShrutiYedla @urstrulyMahesh YesHareYouTea ??  ...          0\n",
              "98                                                                                                                                                                                                           @offbeatorbit i never looked around, never second-guessed / then I read some howard zinn now i'm always depressed  ...          1\n",
              "153  Today's focus: walking &amp; working!  A med change has disrupted sleep &amp; I've been distracted by some personal projects.  So today, I have a \"Focus Walk Work\" label, timer, and @zox \"prove them wrong\" bracelet to stay on track.  #anxiety #depression \\nHow 'bout you? How do you focus? https://t.co/FC7tfiq4ah  ...          1\n",
              "72        @PetercjacksonPj @richardpbacon @emmakennytv And so have I thank you very much! And that is why I came up with an idea to help people at rock bottom! Why are you picking holes in it??? Why can't you just say well done for coming up with an idea that helps people who are struggling with depression??? Jeez!!!  ...          1\n",
              "171                                                                                                                                                                                                                                          Np: smash - I heart you &lt;3\\n\\n@BTS_twt #BBMAsTopSocial https://t.co/lpZUA4A5FF  ...          0\n",
              "27                                                                                                                                                                                                                                           don’t forget guys.. they’re here too 😞🙁😢😭 #sad #depressed https://t.co/hy6XkWH4qg  ...          1\n",
              "31                                                                dylan o brien shouldve had an oscar by now, where’s shailene woodley, theo james just came and went, logan lerman entire career is just consisted of that greek god and that depressed weird teenage boy, lily collins just stuck with that netflix show....  ...          1\n",
              "106                                                                                                                                                                                                                                               @michael_steel @nytimes I heard you were depressed for awhile. Good to know.  ...          1\n",
              "106                                                                                                                                                                                                      The fact that I can wear lipstick again has cured my depression, cleared my skin, and risen my credit score thank yew  ...          1\n",
              "96                                                            I'm back. I feel slightly better for going out for some fresh air. I'm still feeling nauseous which I expect but this will go sometime tomorrow. I'll be watching a dvd now, Into The Woods. #ActuallyAutistic #depression #mentalhealth https://t.co/d1KkHi82aL  ...          1\n",
              "158                             I'm a rape survivor\\nI was raped by some1 I knew\\nI was raped in my home\\nThe ONLY person I tried 2 tell cldnt believe it, bc \"he's a wonderful family man\"\\nfor 4 yrs I suffered thru anxiety attacks\\nTil I ended up in the ER,\\nthe Dr \"prescribed\" therapy\\n#depression \\n#TheMeYouCantSee  ...          1\n",
              "184                                                                    @JordiGeusens @NEcrimson @safakibria Depression or sadness is not punishment enough for someone who's done really bad things. Even good people experience that. The one who gave us life shall resurect us and we'd all be accountable for our actions.  ...          1\n",
              "39                                                                                                                                                                                                                                                                                                depressed but well dressed 🤝  ...          1\n",
              "178                                               Into The Fog Once More\\n\\nNew #blog:\\n\\n#MotivationBlog #LifestyleBlog #LifeLessons #MentalHealthBlogger #MentalHealth #MentalIllness #MentalHealthMatters #anxiety #depression #ChronicIllness #CPTSD #blogger #amwriting #SelfLove #YouAreNotAlone https://t.co/OgIZea6ECr  ...          1\n",
              "55                                                                        I realized I have mainly been posting here when I'm #DEPRESSED. So just putting this out into the Twitter void. I am doing really good and feel extremely positive and confident right now. Thanks for being kind when I'm down internet friends. 🤟💕  ...          1\n",
              "106                                                                                                                                                                                                                            My fucked marriage was all Karmic relationship. There was ZERO twin flames, soulmate, bullshit.  ...          0\n",
              "175                                                                                                                                                                                                     They say suicide isn‘t an option, but they never give you a better one.\\n#deeptalk #deep #depressed #depression #viral  ...          1\n",
              "14                  @AISA_tweets Respected Sir\\nPlease help students of class 12th. We all are aware about the situation in India. The cases are increasing day by day &amp; also it is being said that third wave is not far seeing the situation. Students are suffering alot. Help!!🙏 #depressed\\n#cancel12thboardexams2021  ...          1\n",
              "77                                                                                                                                                      @Facebook  Does anyone know how to contact a real person at Facebook that can fix issues? Banned my marketplace for no reason and it's literally my income. #Depressed  ...          1\n",
              "\n",
              "[20 rows x 5 columns]"
            ]
          },
          "metadata": {
            "tags": []
          },
          "execution_count": 52
        }
      ]
    },
    {
      "cell_type": "markdown",
      "metadata": {
        "id": "HD7d59gYROSW"
      },
      "source": [
        "### New Data Analysis \n",
        "\n",
        "I combine all the tweets into a new dataframe, prepare the data the same way I did the original data, and run the model on it for more testing. I do this in order to test the model more extensively, as the metric scores were very good on the given dataset.\n",
        "\n",
        "I select a random amount of the new tweets to look more closely at, and look at the overall totals for those classified as depressed or not depressed.  The model classified the vast majority of data with the word 'depressed' or 'depression' in it as from a clinically depressed individual. It struggles to recognize informational or positive posts as well as exaggeration or informal use of the word depression."
      ]
    },
    {
      "cell_type": "markdown",
      "metadata": {
        "id": "YJTDLBWkVATS"
      },
      "source": [
        "## Model Refinement\n",
        "\n",
        "Given that the model did not perform as well as I'd like on newly sourced data, I refine the model again. I create a new class that stands for \"not enough information\".  I do this by scrambling the order of words in the depressed tweets, to teach the model that the word 'depression' alone is not enough for a tweet to be classified as depressed. "
      ]
    },
    {
      "cell_type": "code",
      "metadata": {
        "id": "SRZvfkp8V-RK"
      },
      "source": [
        "def scramble(sentence):\n",
        "  \"\"\" Rearranges the words in a string \"\"\"\n",
        "  split = sentence.split() #splits the string into a list of words\n",
        "  shuffle(split)\n",
        "  return ' '.join(split)"
      ],
      "execution_count": 53,
      "outputs": []
    },
    {
      "cell_type": "code",
      "metadata": {
        "id": "5wQXmaJ4ZYBT"
      },
      "source": [
        "#creates a list of a scrambled version of the depressed tweets. \n",
        "\n",
        "shuffled = []\n",
        "for index, row in dep.iterrows():\n",
        " sentence = scramble(row['message to examine'])\n",
        " shuffled.append(sentence)\n"
      ],
      "execution_count": 54,
      "outputs": []
    },
    {
      "cell_type": "code",
      "metadata": {
        "colab": {
          "base_uri": "https://localhost:8080/",
          "height": 1000
        },
        "id": "NQ2Eoj6W0xAo",
        "outputId": "3a4738d9-7318-4aae-c1c1-56e973f1f515"
      },
      "source": [
        "dep.head()"
      ],
      "execution_count": 55,
      "outputs": [
        {
          "output_type": "execute_result",
          "data": {
            "text/html": [
              "<div>\n",
              "<style scoped>\n",
              "    .dataframe tbody tr th:only-of-type {\n",
              "        vertical-align: middle;\n",
              "    }\n",
              "\n",
              "    .dataframe tbody tr th {\n",
              "        vertical-align: top;\n",
              "    }\n",
              "\n",
              "    .dataframe thead th {\n",
              "        text-align: right;\n",
              "    }\n",
              "</style>\n",
              "<table border=\"1\" class=\"dataframe\">\n",
              "  <thead>\n",
              "    <tr style=\"text-align: right;\">\n",
              "      <th></th>\n",
              "      <th>Index</th>\n",
              "      <th>message to examine</th>\n",
              "      <th>label (depression result)</th>\n",
              "      <th>tokenized</th>\n",
              "      <th>tokenizedandstemmed</th>\n",
              "      <th>tokenizedwithpunct</th>\n",
              "      <th>Topic</th>\n",
              "      <th>topic_name</th>\n",
              "      <th>polarity</th>\n",
              "    </tr>\n",
              "  </thead>\n",
              "  <tbody>\n",
              "    <tr>\n",
              "      <th>8000</th>\n",
              "      <td>800000</td>\n",
              "      <td>The lack of this understanding is a small but significant part of what causes anxiety &amp; depression to both feel so incredibly lonely. It's soooo easy to compare. It's so easy to invalidate ourselves because of that.</td>\n",
              "      <td>1</td>\n",
              "      <td>The lack of this understanding is a small but significant part of what causes anxiety depression to both feel so incredibly lonely It s soooo easy to compare It s so easy to invalidate ourselves because of that</td>\n",
              "      <td>[the, lack, of, thi, understand, is, a, small, but, signific, part, of, what, caus, anxieti, depress, to, both, feel, so, incred, lone, sooo, easi, to, compar, so, easi, to, invalid, ourselv, becaus, of, that]</td>\n",
              "      <td>The lack of this understanding is a small but significant part of what causes anxiety &amp; depression to both feel so incredibly lonely. It's soooo easy to compare. It's so easy to invalidate ourselves because of that.</td>\n",
              "      <td>4</td>\n",
              "      <td>depression_experience</td>\n",
              "      <td>{'neg': 0.238, 'neu': 0.555, 'pos': 0.207, 'compound': -0.1767}</td>\n",
              "    </tr>\n",
              "    <tr>\n",
              "      <th>8001</th>\n",
              "      <td>800001</td>\n",
              "      <td>i just told my parents about my depression and it's so hard to get gen x people to understand that this is not something that i can control all the time or just cure with a walk or by keeping my mind busy</td>\n",
              "      <td>1</td>\n",
              "      <td>i just told my parents about my depression and it s so hard to get gen x people to understand that this is not something that i can control all the time or just cure with a walk or by keeping my mind busy</td>\n",
              "      <td>[i, just, told, my, parent, about, my, depress, and, so, hard, to, get, gen, x, peopl, to, understand, that, thi, is, not, someth, that, i, can, control, all, the, time, or, just, cure, with, a, walk, or, by, keep, my, mind, busi]</td>\n",
              "      <td>i just told my parents about my depression and it's so hard to get gen x people to understand that this is not something that i can control all the time or just cure with a walk or by keeping my mind busy</td>\n",
              "      <td>4</td>\n",
              "      <td>depression_experience</td>\n",
              "      <td>{'neg': 0.12, 'neu': 0.88, 'pos': 0.0, 'compound': -0.6774}</td>\n",
              "    </tr>\n",
              "    <tr>\n",
              "      <th>8002</th>\n",
              "      <td>800002</td>\n",
              "      <td>depression is something i don't speak about even going through it because it's also such a double edged sword. i love every race. even if white people had done so much i can't hate them all. my grandma is legit white! how tf can i hate, i do dislike people though.</td>\n",
              "      <td>1</td>\n",
              "      <td>depression is something i don t speak about even going through it because it s also such a double edged sword i love every race even if white people had done so much i can t hate them all my grandma is legit white how tf can i hate i do dislike people though</td>\n",
              "      <td>[depress, is, someth, i, speak, about, even, go, through, it, becaus, also, such, a, doubl, edg, sword, i, love, everi, race, even, if, white, peopl, had, done, so, much, i, hate, them, all, my, grandma, is, legit, white, how, tf, can, i, hate, i, do, dislik, peopl, though]</td>\n",
              "      <td>depression is something i don't speak about even going through it because it's also such a double edged sword. i love every race. even if white people had done so much i can't hate them all. my grandma is legit white! how tf can i hate, i do dislike people though.</td>\n",
              "      <td>4</td>\n",
              "      <td>depression_experience</td>\n",
              "      <td>{'neg': 0.162, 'neu': 0.725, 'pos': 0.113, 'compound': -0.4756}</td>\n",
              "    </tr>\n",
              "    <tr>\n",
              "      <th>8003</th>\n",
              "      <td>800003</td>\n",
              "      <td>Made myself a tortilla filled with pb&amp;j. My depression is cured. Olivia:1 depression:0</td>\n",
              "      <td>1</td>\n",
              "      <td>Made myself a tortilla filled with pb j My depression is cured Olivia depression</td>\n",
              "      <td>[made, myself, a, tortilla, fill, with, pb, j, my, depress, is, cure, olivia, depress]</td>\n",
              "      <td>Made myself a tortilla filled with pb&amp;j. My depression is cured. Olivia: depression:</td>\n",
              "      <td>4</td>\n",
              "      <td>depression_experience</td>\n",
              "      <td>{'neg': 0.402, 'neu': 0.598, 'pos': 0.0, 'compound': -0.8126}</td>\n",
              "    </tr>\n",
              "    <tr>\n",
              "      <th>8004</th>\n",
              "      <td>800004</td>\n",
              "      <td>@WorldofOutlaws I am gonna need depression meds soon, these rainouts are spinning my equilibrium out &lt;Emoji: Pouting face&gt; Mother Nature is being a mean B-T-H &lt;Emoji: Face with symbols over mouth&gt;</td>\n",
              "      <td>1</td>\n",
              "      <td>I am gonna need depression meds soon these rainouts are spinning my equilibrium out Emoji Pouting face Mother Nature is being a mean B T H Emoji Face with symbols over mouth</td>\n",
              "      <td>[i, am, gonna, need, depress, med, soon, these, rainout, are, spin, my, equilibrium, out, emoji, pout, face, mother, natur, is, be, a, mean, emoji, face, with, symbol, over, mouth]</td>\n",
              "      <td>I am gonna need depression meds soon, these rainouts are spinning my equilibrium out &lt;Emoji: Pouting face&gt; Mother Nature is being a mean B-T-H &lt;Emoji: Face with symbols over mouth&gt;</td>\n",
              "      <td>2</td>\n",
              "      <td>emoji</td>\n",
              "      <td>{'neg': 0.113, 'neu': 0.887, 'pos': 0.0, 'compound': -0.5719}</td>\n",
              "    </tr>\n",
              "  </tbody>\n",
              "</table>\n",
              "</div>"
            ],
            "text/plain": [
              "       Index  ...                                                         polarity\n",
              "8000  800000  ...  {'neg': 0.238, 'neu': 0.555, 'pos': 0.207, 'compound': -0.1767}\n",
              "8001  800001  ...      {'neg': 0.12, 'neu': 0.88, 'pos': 0.0, 'compound': -0.6774}\n",
              "8002  800002  ...  {'neg': 0.162, 'neu': 0.725, 'pos': 0.113, 'compound': -0.4756}\n",
              "8003  800003  ...    {'neg': 0.402, 'neu': 0.598, 'pos': 0.0, 'compound': -0.8126}\n",
              "8004  800004  ...    {'neg': 0.113, 'neu': 0.887, 'pos': 0.0, 'compound': -0.5719}\n",
              "\n",
              "[5 rows x 9 columns]"
            ]
          },
          "metadata": {
            "tags": []
          },
          "execution_count": 55
        }
      ]
    },
    {
      "cell_type": "code",
      "metadata": {
        "colab": {
          "base_uri": "https://localhost:8080/",
          "height": 323
        },
        "id": "3HgyMqtoLMpy",
        "outputId": "040252ef-3acd-44f4-e8f0-1f924c08c4bc"
      },
      "source": [
        "#create a data frame with the scrambled sentences \n",
        "shuffleddata = pd.DataFrame(data=shuffled, columns=['message to examine'])\n",
        "shuffleddata['label (depression result)'] = 2\n",
        "shuffleddata.head()\n"
      ],
      "execution_count": 56,
      "outputs": [
        {
          "output_type": "execute_result",
          "data": {
            "text/html": [
              "<div>\n",
              "<style scoped>\n",
              "    .dataframe tbody tr th:only-of-type {\n",
              "        vertical-align: middle;\n",
              "    }\n",
              "\n",
              "    .dataframe tbody tr th {\n",
              "        vertical-align: top;\n",
              "    }\n",
              "\n",
              "    .dataframe thead th {\n",
              "        text-align: right;\n",
              "    }\n",
              "</style>\n",
              "<table border=\"1\" class=\"dataframe\">\n",
              "  <thead>\n",
              "    <tr style=\"text-align: right;\">\n",
              "      <th></th>\n",
              "      <th>message to examine</th>\n",
              "      <th>label (depression result)</th>\n",
              "    </tr>\n",
              "  </thead>\n",
              "  <tbody>\n",
              "    <tr>\n",
              "      <th>0</th>\n",
              "      <td>compare. small It's what lonely. &amp; this of but lack The significant to to to causes ourselves It's anxiety easy depression is soooo feel understanding a so easy both so part of of that. because invalidate incredibly</td>\n",
              "      <td>2</td>\n",
              "    </tr>\n",
              "    <tr>\n",
              "      <th>1</th>\n",
              "      <td>or time depression a hard busy something i can or walk the my people by keeping all my about my cure just and told is gen x not i that parents with it's to mind that this control get just so to understand</td>\n",
              "      <td>2</td>\n",
              "    </tr>\n",
              "    <tr>\n",
              "      <th>2</th>\n",
              "      <td>something going can can't every don't is all. though. white! double hate, if had so because sword. white even them even done a do tf i also hate people i how about much speak love legit my is it's depression people i edged through such it i dislike grandma race. i</td>\n",
              "      <td>2</td>\n",
              "    </tr>\n",
              "    <tr>\n",
              "      <th>3</th>\n",
              "      <td>depression tortilla a is Olivia:1 with pb&amp;j. filled My cured. Made depression:0 myself</td>\n",
              "      <td>2</td>\n",
              "    </tr>\n",
              "    <tr>\n",
              "      <th>4</th>\n",
              "      <td>&lt;Emoji: B-T-H being Mother face&gt; Face soon, out am my meds mouth&gt; is spinning I &lt;Emoji: with a need over equilibrium depression are mean these @WorldofOutlaws symbols Nature gonna Pouting rainouts</td>\n",
              "      <td>2</td>\n",
              "    </tr>\n",
              "  </tbody>\n",
              "</table>\n",
              "</div>"
            ],
            "text/plain": [
              "                                                                                                                                                                                                                                                         message to examine  label (depression result)\n",
              "0                                                   compare. small It's what lonely. & this of but lack The significant to to to causes ourselves It's anxiety easy depression is soooo feel understanding a so easy both so part of of that. because invalidate incredibly                          2\n",
              "1                                                              or time depression a hard busy something i can or walk the my people by keeping all my about my cure just and told is gen x not i that parents with it's to mind that this control get just so to understand                          2\n",
              "2  something going can can't every don't is all. though. white! double hate, if had so because sword. white even them even done a do tf i also hate people i how about much speak love legit my is it's depression people i edged through such it i dislike grandma race. i                          2\n",
              "3                                                                                                                                                                                    depression tortilla a is Olivia:1 with pb&j. filled My cured. Made depression:0 myself                          2\n",
              "4                                                                      <Emoji: B-T-H being Mother face> Face soon, out am my meds mouth> is spinning I <Emoji: with a need over equilibrium depression are mean these @WorldofOutlaws symbols Nature gonna Pouting rainouts                          2"
            ]
          },
          "metadata": {
            "tags": []
          },
          "execution_count": 56
        }
      ]
    },
    {
      "cell_type": "code",
      "metadata": {
        "id": "La1cTcY0MSEi"
      },
      "source": [
        "#clean and tokenize the data, and randomly select 1000 tweets to add to the dataset to represent the new category. \n",
        "shuffleddata_tokenized = clean_and_tokenize(shuffleddata, 'message to examine')\n",
        "randomsamplesd = shuffleddata_tokenized.sample(n=1000)\n"
      ],
      "execution_count": 57,
      "outputs": []
    },
    {
      "cell_type": "code",
      "metadata": {
        "colab": {
          "base_uri": "https://localhost:8080/",
          "height": 1000
        },
        "id": "uMmaRsFTNI21",
        "outputId": "51867fb7-9ad7-4b77-c6db-f5120ac321f0"
      },
      "source": [
        "dataframes = [df, randomsamplesd]\n",
        "new_df = pd.concat(dataframes)\n",
        "new_df.tail()"
      ],
      "execution_count": 58,
      "outputs": [
        {
          "output_type": "execute_result",
          "data": {
            "text/html": [
              "<div>\n",
              "<style scoped>\n",
              "    .dataframe tbody tr th:only-of-type {\n",
              "        vertical-align: middle;\n",
              "    }\n",
              "\n",
              "    .dataframe tbody tr th {\n",
              "        vertical-align: top;\n",
              "    }\n",
              "\n",
              "    .dataframe thead th {\n",
              "        text-align: right;\n",
              "    }\n",
              "</style>\n",
              "<table border=\"1\" class=\"dataframe\">\n",
              "  <thead>\n",
              "    <tr style=\"text-align: right;\">\n",
              "      <th></th>\n",
              "      <th>Index</th>\n",
              "      <th>message to examine</th>\n",
              "      <th>label (depression result)</th>\n",
              "      <th>tokenized</th>\n",
              "      <th>tokenizedandstemmed</th>\n",
              "    </tr>\n",
              "  </thead>\n",
              "  <tbody>\n",
              "    <tr>\n",
              "      <th>487</th>\n",
              "      <td>NaN</td>\n",
              "      <td>â¦ Hay fever and https://www.stylist.co.uk/life/hay-fever-risk-allergies-mental-health-anxiety-depression/203144Â depression linked risk, @StylistMagazine @stylistmagazine research via increased anxiety finds to</td>\n",
              "      <td>2</td>\n",
              "      <td>[â, , ¦, hay, fever, and, depression, linked, risk, ,, research, via, increased, anxiety, finds, to]</td>\n",
              "      <td>[â, hay, fever, and, depress, link, risk, research, via, increas, anxieti, find, to]</td>\n",
              "    </tr>\n",
              "    <tr>\n",
              "      <th>1726</th>\n",
              "      <td>NaN</td>\n",
              "      <td>or depression. anxiety me. Japanese good â¦ for helped Reading https://twitter.com/sheepchase/status/988951764106821632Â with struggling this friends Maybe</td>\n",
              "      <td>2</td>\n",
              "      <td>[or, depression, ., anxiety, me, ., japanese, good, â, , ¦, for, helped, reading, with, struggling, this, friends, maybe]</td>\n",
              "      <td>[or, depress, anxieti, me, japanes, good, â, for, help, read, with, struggl, thi, friend, mayb]</td>\n",
              "    </tr>\n",
              "    <tr>\n",
              "      <th>2152</th>\n",
              "      <td>NaN</td>\n",
              "      <td>The https://coub.com/v/vfyxtÂ @coub Last Jedi in Depression</td>\n",
              "      <td>2</td>\n",
              "      <td>[the, last, jedi, in, depression]</td>\n",
              "      <td>[the, last, jedi, in, depress]</td>\n",
              "    </tr>\n",
              "    <tr>\n",
              "      <th>438</th>\n",
              "      <td>NaN</td>\n",
              "      <td>Rocket&gt;Grow - Shows https://commun.it/grow-your-followers/?tc=n&amp;aid=content_15Â Suicide â¦ Nasal Promise Ketamine Depression, https://cmun.it/lu4yifÂ followers &lt;Emoji: #health Spray with Against your</td>\n",
              "      <td>2</td>\n",
              "      <td>[rocket, &gt;, grow, -, shows, suicide, â, , ¦, nasal, promise, ketamine, depression, ,, followers, &lt;, emoji, :, health, spray, with, against, your]</td>\n",
              "      <td>[rocket, grow, show, suicid, â, nasal, promis, ketamin, depress, follow, emoji, health, spray, with, against, your]</td>\n",
              "    </tr>\n",
              "    <tr>\n",
              "      <th>748</th>\n",
              "      <td>NaN</td>\n",
              "      <td>i asian also the leads pressure and succeed immigrants to to depression/anxiety say to which about have a lot</td>\n",
              "      <td>2</td>\n",
              "      <td>[i, asian, also, the, leads, pressure, and, succeed, immigrants, to, to, depression, /, anxiety, say, to, which, about, have, a, lot]</td>\n",
              "      <td>[i, asian, also, the, lead, pressur, and, succeed, immigr, to, to, depress, anxieti, say, to, which, about, have, a, lot]</td>\n",
              "    </tr>\n",
              "  </tbody>\n",
              "</table>\n",
              "</div>"
            ],
            "text/plain": [
              "      Index  ...                                                                                                        tokenizedandstemmed\n",
              "487     NaN  ...                                       [â, hay, fever, and, depress, link, risk, research, via, increas, anxieti, find, to]\n",
              "1726    NaN  ...                            [or, depress, anxieti, me, japanes, good, â, for, help, read, with, struggl, thi, friend, mayb]\n",
              "2152    NaN  ...                                                                                             [the, last, jedi, in, depress]\n",
              "438     NaN  ...        [rocket, grow, show, suicid, â, nasal, promis, ketamin, depress, follow, emoji, health, spray, with, against, your]\n",
              "748     NaN  ...  [i, asian, also, the, lead, pressur, and, succeed, immigr, to, to, depress, anxieti, say, to, which, about, have, a, lot]\n",
              "\n",
              "[5 rows x 5 columns]"
            ]
          },
          "metadata": {
            "tags": []
          },
          "execution_count": 58
        }
      ]
    },
    {
      "cell_type": "markdown",
      "metadata": {
        "id": "rqG2AGeTa7kH"
      },
      "source": [
        "#### Models\n",
        "\n",
        "I create 3 more versions of the model.  I explore early stopping, adding dropout layers, class weights, and changing various paramaters in order to avoid overfitting and better train the model. I decide on Model 3 as the final model due to it's high recall and f1 score for depressed data, even though it does not identify any tweets as \"not enough information\".  I want the model to catch as many depressed cases as possible. Even though this model does not classify any tweets as \"not enough information\", it overfits less than the orginal model does. I then apply this model and another model to the data sourced from twitter.  It performs better than the first model, but does continue to struggle to correctly classify informational, positive, and exagerrated tweets. "
      ]
    },
    {
      "cell_type": "code",
      "metadata": {
        "id": "UUzqpL6nM_Hu"
      },
      "source": [
        "#train test split\n",
        "X = new_df['tokenizedandstemmed']\n",
        "Y = new_df['label (depression result)']\n",
        "\n",
        "X_train, X_test, Y_train, Y_test = train_test_split(X, Y, test_size = 0.20, random_state=42)"
      ],
      "execution_count": 59,
      "outputs": []
    },
    {
      "cell_type": "code",
      "metadata": {
        "id": "4WFma8fiOHrz"
      },
      "source": [
        "##convert words to indices.  I create a set, and add every word in the training data to it. \n",
        "word_set2 = set()\n",
        "for sent in X_train:\n",
        "  word_set2.update(sent)\n",
        "\n",
        "#I create a dictionary mapping each word to a number representing it \n",
        "#enumerate returns 2 variables, the count and the value of the item at that iteration \n",
        "token_map2 = {word: i+1 for i, word in enumerate(word_set2)} #offset by 1 to allow for padding value\n",
        "token_map2['<#PAD>'] = 0\n",
        "\n",
        "#create our sentences\n",
        "X_train_indices = [[token_map2[word] for word in sent] for sent in X_train ]\n",
        "\n",
        "#use the encoding on the test data\n",
        "X_test_indices = [[check_encoding(word, token_map2) for word in sent] for sent in X_test]\n",
        "\n",
        "#dealing with sentences being dfferent lengths\n",
        "X_train_indices = tf.keras.preprocessing.sequence.pad_sequences(X_train_indices, padding='post').tolist()\n",
        "X_test_indices = tf.keras.preprocessing.sequence.pad_sequences(X_test_indices, padding = 'post').tolist()"
      ],
      "execution_count": 60,
      "outputs": []
    },
    {
      "cell_type": "code",
      "metadata": {
        "colab": {
          "base_uri": "https://localhost:8080/"
        },
        "id": "C_jiA1t8Oct4",
        "outputId": "e4289726-6bc1-48c1-b1e8-ca423405f0db"
      },
      "source": [
        "#building a LSTM model. Creating an embeddg layer with indices to vectors\n",
        "\n",
        "dim = 128\n",
        "hid_dim = 8\n",
        "\n",
        "model2 = tf.keras.models.Sequential([\n",
        "                                    tf.keras.layers.Embedding(len(word_set2)+1, dim, embeddings_initializer='orthogonal', mask_zero=True), #+1 because of padding index\n",
        "                                    tf.keras.layers.LSTM(hid_dim, return_sequences=False), \n",
        "                                    tf.keras.layers.Dense(3, activation=tf.nn.leaky_relu),\n",
        "                                    tf.keras.layers.Dense(3, use_bias=False), # is the number of labels you want to pick from\n",
        "                                    tf.keras.layers.Softmax()\n",
        "])\n",
        "model2.summary()"
      ],
      "execution_count": 61,
      "outputs": [
        {
          "output_type": "stream",
          "text": [
            "Model: \"sequential_1\"\n",
            "_________________________________________________________________\n",
            "Layer (type)                 Output Shape              Param #   \n",
            "=================================================================\n",
            "embedding_1 (Embedding)      (None, None, 128)         1316992   \n",
            "_________________________________________________________________\n",
            "lstm_1 (LSTM)                (None, 8)                 4384      \n",
            "_________________________________________________________________\n",
            "dense_2 (Dense)              (None, 3)                 27        \n",
            "_________________________________________________________________\n",
            "dense_3 (Dense)              (None, 3)                 9         \n",
            "_________________________________________________________________\n",
            "softmax (Softmax)            (None, 3)                 0         \n",
            "=================================================================\n",
            "Total params: 1,321,412\n",
            "Trainable params: 1,321,412\n",
            "Non-trainable params: 0\n",
            "_________________________________________________________________\n"
          ],
          "name": "stdout"
        }
      ]
    },
    {
      "cell_type": "code",
      "metadata": {
        "colab": {
          "base_uri": "https://localhost:8080/"
        },
        "id": "YffQP6FQO8zq",
        "outputId": "5e2e538a-8dac-4ade-a5ee-f30004917ae1"
      },
      "source": [
        "#Compile the model \n",
        "model2.compile(optimizer='adam', loss=tf.keras.losses.SparseCategoricalCrossentropy(),\n",
        "              metrics=['accuracy']) \n",
        "callback = tf.keras.callbacks.EarlyStopping(monitor='loss', patience=2)\n",
        "\n",
        "X_train_ind_padded = np.array(X_train_indices)\n",
        "X_test_ind_padded = np.array(X_test_indices)                          \n",
        "\n",
        "history = model2.fit(X_train_ind_padded, Y_train, epochs = 15, batch_size=64, callbacks=[callback], verbose=1)"
      ],
      "execution_count": 62,
      "outputs": [
        {
          "output_type": "stream",
          "text": [
            "Epoch 1/15\n",
            "142/142 [==============================] - 13s 62ms/step - loss: 1.0226 - accuracy: 0.2904\n",
            "Epoch 2/15\n",
            "142/142 [==============================] - 9s 62ms/step - loss: 0.4514 - accuracy: 0.8893\n",
            "Epoch 3/15\n",
            "142/142 [==============================] - 9s 61ms/step - loss: 0.1981 - accuracy: 0.9192\n",
            "Epoch 4/15\n",
            "142/142 [==============================] - 9s 62ms/step - loss: 0.1425 - accuracy: 0.9526\n",
            "Epoch 5/15\n",
            "142/142 [==============================] - 9s 61ms/step - loss: 0.1104 - accuracy: 0.9634\n",
            "Epoch 6/15\n",
            "142/142 [==============================] - 9s 61ms/step - loss: 0.0911 - accuracy: 0.9686\n",
            "Epoch 7/15\n",
            "142/142 [==============================] - 9s 62ms/step - loss: 0.0838 - accuracy: 0.9712\n",
            "Epoch 8/15\n",
            "142/142 [==============================] - 9s 62ms/step - loss: 0.0726 - accuracy: 0.9756\n",
            "Epoch 9/15\n",
            "142/142 [==============================] - 9s 61ms/step - loss: 0.0532 - accuracy: 0.9837\n",
            "Epoch 10/15\n",
            "142/142 [==============================] - 9s 61ms/step - loss: 0.0475 - accuracy: 0.9838\n",
            "Epoch 11/15\n",
            "142/142 [==============================] - 9s 61ms/step - loss: 0.0395 - accuracy: 0.9872\n",
            "Epoch 12/15\n",
            "142/142 [==============================] - 9s 62ms/step - loss: 0.0320 - accuracy: 0.9894\n",
            "Epoch 13/15\n",
            "142/142 [==============================] - 9s 61ms/step - loss: 0.0283 - accuracy: 0.9892\n",
            "Epoch 14/15\n",
            "142/142 [==============================] - 9s 62ms/step - loss: 0.0261 - accuracy: 0.9899\n",
            "Epoch 15/15\n",
            "142/142 [==============================] - 9s 61ms/step - loss: 0.0234 - accuracy: 0.9917\n"
          ],
          "name": "stdout"
        }
      ]
    },
    {
      "cell_type": "code",
      "metadata": {
        "colab": {
          "base_uri": "https://localhost:8080/"
        },
        "id": "nZd5x7mvQfuj",
        "outputId": "116ff9a7-7c70-4678-a0e5-fcf1182d95f8"
      },
      "source": [
        "score = model2.evaluate(X_test_ind_padded, Y_test, verbose = 1)\n",
        "score_train = model2.evaluate(X_train_ind_padded, Y_train, verbose = 1)\n",
        "target_names = ['class 0', 'class 1', 'class 2']\n",
        "\n",
        "#print(model(np.array(df['indices'].to_list())).numpy().tolist())\n",
        "\n",
        "print(\"Evaluate on test data\")\n",
        "print(f'Test loss: {score[0]} / Test accuracy: {score[1]}')\n",
        "\n",
        "print(\"Evaluate on train data\")\n",
        "print(f'Train loss: {score_train[0]} / Train accuracy: {score_train[1]}')\n",
        "\n",
        "from sklearn.metrics import classification_report\n",
        "\n",
        "y_pred1 = model2.predict(X_test_ind_padded)\n",
        "y_pred = np.argmax(y_pred1, axis=1).astype(int)\n",
        "\n",
        "\n",
        "print(classification_report(Y_test, y_pred, target_names=target_names))\n"
      ],
      "execution_count": 63,
      "outputs": [
        {
          "output_type": "stream",
          "text": [
            "71/71 [==============================] - 2s 9ms/step - loss: 0.4557 - accuracy: 0.8838\n",
            "283/283 [==============================] - 4s 10ms/step - loss: 0.0180 - accuracy: 0.9933\n",
            "Evaluate on test data\n",
            "Test loss: 0.4556958079338074 / Test accuracy: 0.8837825655937195\n",
            "Evaluate on train data\n",
            "Train loss: 0.017965072765946388 / Train accuracy: 0.993260383605957\n",
            "              precision    recall  f1-score   support\n",
            "\n",
            "     class 0       0.99      0.99      0.99      1595\n",
            "     class 1       0.73      0.72      0.72       468\n",
            "     class 2       0.41      0.43      0.42       200\n",
            "\n",
            "    accuracy                           0.88      2263\n",
            "   macro avg       0.71      0.71      0.71      2263\n",
            "weighted avg       0.89      0.88      0.89      2263\n",
            "\n"
          ],
          "name": "stdout"
        }
      ]
    },
    {
      "cell_type": "code",
      "metadata": {
        "colab": {
          "base_uri": "https://localhost:8080/"
        },
        "id": "A_RdwAlGjhFM",
        "outputId": "00f48945-a0ec-4d8b-f67d-e8ae03eb80d4"
      },
      "source": [
        "#building a LSTM model. Creating an embeddg layer with indices to vectors\n",
        "\n",
        "dim = 128\n",
        "hid_dim = 8\n",
        "\n",
        "model3 = tf.keras.models.Sequential([\n",
        "                                    tf.keras.layers.Embedding(len(word_set2)+1, dim, embeddings_initializer='orthogonal', mask_zero=True), #+1 because of padding index\n",
        "                                    tf.keras.layers.LSTM(hid_dim, return_sequences=False), \n",
        "                                    tf.keras.layers.Dense(3, activation=tf.nn.leaky_relu),\n",
        "                                    tf.keras.layers.Dropout(0.8), \n",
        "                                    tf.keras.layers.Dense(3, use_bias=False), # is the number of labels you want to pick from\n",
        "                                    #tf.keras.layers.Dropout(0.5),\n",
        "                                    tf.keras.layers.Softmax()\n",
        "])\n",
        "model3.summary()"
      ],
      "execution_count": 84,
      "outputs": [
        {
          "output_type": "stream",
          "text": [
            "Model: \"sequential_7\"\n",
            "_________________________________________________________________\n",
            "Layer (type)                 Output Shape              Param #   \n",
            "=================================================================\n",
            "embedding_7 (Embedding)      (None, None, 128)         1316992   \n",
            "_________________________________________________________________\n",
            "lstm_7 (LSTM)                (None, 8)                 4384      \n",
            "_________________________________________________________________\n",
            "dense_14 (Dense)             (None, 3)                 27        \n",
            "_________________________________________________________________\n",
            "dropout_6 (Dropout)          (None, 3)                 0         \n",
            "_________________________________________________________________\n",
            "dense_15 (Dense)             (None, 3)                 9         \n",
            "_________________________________________________________________\n",
            "softmax_6 (Softmax)          (None, 3)                 0         \n",
            "=================================================================\n",
            "Total params: 1,321,412\n",
            "Trainable params: 1,321,412\n",
            "Non-trainable params: 0\n",
            "_________________________________________________________________\n"
          ],
          "name": "stdout"
        }
      ]
    },
    {
      "cell_type": "code",
      "metadata": {
        "colab": {
          "base_uri": "https://localhost:8080/"
        },
        "id": "sAD-QzxSjjY6",
        "outputId": "a2cbe26c-d4e1-4e0c-fdf0-06a2d8cb9114"
      },
      "source": [
        "#Compile the model \n",
        "model3.compile(optimizer='adam', loss=tf.keras.losses.SparseCategoricalCrossentropy(),\n",
        "              metrics=['accuracy']) \n",
        "callback = tf.keras.callbacks.EarlyStopping(monitor='loss', patience=2)\n",
        "\n",
        "X_train_ind_padded = np.array(X_train_indices)\n",
        "X_test_ind_padded = np.array(X_test_indices)                          \n",
        "\n",
        "history = model3.fit(X_train_ind_padded, Y_train, epochs = 50, batch_size=64, shuffle = True, \n",
        "                     callbacks=[callback],  verbose=1)"
      ],
      "execution_count": 85,
      "outputs": [
        {
          "output_type": "stream",
          "text": [
            "Epoch 1/50\n",
            "142/142 [==============================] - 13s 62ms/step - loss: 1.0144 - accuracy: 0.7097\n",
            "Epoch 2/50\n",
            "142/142 [==============================] - 9s 63ms/step - loss: 0.8165 - accuracy: 0.7537\n",
            "Epoch 3/50\n",
            "142/142 [==============================] - 9s 62ms/step - loss: 0.7097 - accuracy: 0.7701\n",
            "Epoch 4/50\n",
            "142/142 [==============================] - 9s 61ms/step - loss: 0.6991 - accuracy: 0.7820\n",
            "Epoch 5/50\n",
            "142/142 [==============================] - 9s 62ms/step - loss: 0.6891 - accuracy: 0.7820\n",
            "Epoch 6/50\n",
            "142/142 [==============================] - 9s 62ms/step - loss: 0.6902 - accuracy: 0.7983\n",
            "Epoch 7/50\n",
            "142/142 [==============================] - 9s 63ms/step - loss: 0.6700 - accuracy: 0.7882\n",
            "Epoch 8/50\n",
            "142/142 [==============================] - 9s 63ms/step - loss: 0.6505 - accuracy: 0.8035\n",
            "Epoch 9/50\n",
            "142/142 [==============================] - 9s 62ms/step - loss: 0.6412 - accuracy: 0.8144\n",
            "Epoch 10/50\n",
            "142/142 [==============================] - 9s 62ms/step - loss: 0.6575 - accuracy: 0.7981\n",
            "Epoch 11/50\n",
            "142/142 [==============================] - 9s 63ms/step - loss: 0.6375 - accuracy: 0.8075\n",
            "Epoch 12/50\n",
            "142/142 [==============================] - 9s 62ms/step - loss: 0.6550 - accuracy: 0.8029\n",
            "Epoch 13/50\n",
            "142/142 [==============================] - 9s 62ms/step - loss: 0.6558 - accuracy: 0.7959\n"
          ],
          "name": "stdout"
        }
      ]
    },
    {
      "cell_type": "code",
      "metadata": {
        "colab": {
          "base_uri": "https://localhost:8080/"
        },
        "id": "jPxOz8h7bKxo",
        "outputId": "bbb96316-5cb4-4775-eaf4-7b567750cfde"
      },
      "source": [
        "score = model3.evaluate(X_test_ind_padded, Y_test, verbose = 1)\n",
        "score_train = model3.evaluate(X_train_ind_padded, Y_train, verbose = 1)\n",
        "target_names = ['class 0', 'class 1', 'class 2']\n",
        "\n",
        "print(\"Evaluate on test data\")\n",
        "print(f'Test loss: {score[0]} / Test accuracy: {score[1]}')\n",
        "\n",
        "print(\"Evaluate on train data\")\n",
        "print(f'Train loss: {score_train[0]} / Train accuracy: {score_train[1]}')\n",
        "\n",
        "\n",
        "y_pred1 = model3.predict(X_test_ind_padded)\n",
        "y_pred = np.argmax(y_pred1, axis=1).astype(int)\n",
        "\n",
        "\n",
        "print(classification_report(Y_test, y_pred, target_names=target_names))\n"
      ],
      "execution_count": 87,
      "outputs": [
        {
          "output_type": "stream",
          "text": [
            "71/71 [==============================] - 1s 9ms/step - loss: 0.2285 - accuracy: 0.9046\n",
            "283/283 [==============================] - 3s 10ms/step - loss: 0.1792 - accuracy: 0.9109\n",
            "Evaluate on test data\n",
            "Test loss: 0.22852817177772522 / Test accuracy: 0.9045515060424805\n",
            "Evaluate on train data\n",
            "Train loss: 0.17920346558094025 / Train accuracy: 0.9109490513801575\n",
            "              precision    recall  f1-score   support\n",
            "\n",
            "     class 0       0.99      0.99      0.99      1595\n",
            "     class 1       0.69      0.98      0.81       468\n",
            "     class 2       0.00      0.00      0.00       200\n",
            "\n",
            "    accuracy                           0.90      2263\n",
            "   macro avg       0.56      0.66      0.60      2263\n",
            "weighted avg       0.84      0.90      0.87      2263\n",
            "\n"
          ],
          "name": "stdout"
        },
        {
          "output_type": "stream",
          "text": [
            "/usr/local/lib/python3.7/dist-packages/sklearn/metrics/_classification.py:1272: UndefinedMetricWarning: Precision and F-score are ill-defined and being set to 0.0 in labels with no predicted samples. Use `zero_division` parameter to control this behavior.\n",
            "  _warn_prf(average, modifier, msg_start, len(result))\n"
          ],
          "name": "stderr"
        }
      ]
    },
    {
      "cell_type": "code",
      "metadata": {
        "colab": {
          "base_uri": "https://localhost:8080/"
        },
        "id": "xkMKvC5BoK7f",
        "outputId": "5ce0d6b5-c0af-45ed-da46-9814ea5291a6"
      },
      "source": [
        "class_weights = class_weight.compute_class_weight('balanced', np.unique(Y_train), Y_train)\n",
        "class_weights_dict = {0: class_weights[0], 1: class_weights[1], 2: class_weights[2]}\n",
        "class_weights_dict"
      ],
      "execution_count": 67,
      "outputs": [
        {
          "output_type": "execute_result",
          "data": {
            "text/plain": [
              "{0: 0.4710382513661202, 1: 1.6343445287107259, 2: 3.77125}"
            ]
          },
          "metadata": {
            "tags": []
          },
          "execution_count": 67
        }
      ]
    },
    {
      "cell_type": "code",
      "metadata": {
        "colab": {
          "base_uri": "https://localhost:8080/"
        },
        "id": "AtHKu5YxhO48",
        "outputId": "7bfab7a9-f90d-427b-cb3a-2fd089260a5e"
      },
      "source": [
        "\n",
        "\n",
        "\n",
        "dim = 128\n",
        "hid_dim = 8\n",
        "\n",
        "model4 = tf.keras.models.Sequential([\n",
        "                                    tf.keras.layers.Embedding(len(word_set2)+1, dim, embeddings_initializer='orthogonal', mask_zero=True), #+1 because of padding index\n",
        "                                    tf.keras.layers.LSTM(hid_dim, return_sequences=False), \n",
        "                                    tf.keras.layers.Dense(3, activation=tf.nn.leaky_relu),\n",
        "                                    tf.keras.layers.Dropout(0.5), \n",
        "                                    tf.keras.layers.Dense(3, use_bias=False), # is the number of labels you want to pick from\n",
        "                                    tf.keras.layers.Dropout(0.5),\n",
        "                                    tf.keras.layers.Softmax()\n",
        "])\n",
        "model4.summary()"
      ],
      "execution_count": 68,
      "outputs": [
        {
          "output_type": "stream",
          "text": [
            "Model: \"sequential_3\"\n",
            "_________________________________________________________________\n",
            "Layer (type)                 Output Shape              Param #   \n",
            "=================================================================\n",
            "embedding_3 (Embedding)      (None, None, 128)         1316992   \n",
            "_________________________________________________________________\n",
            "lstm_3 (LSTM)                (None, 8)                 4384      \n",
            "_________________________________________________________________\n",
            "dense_6 (Dense)              (None, 3)                 27        \n",
            "_________________________________________________________________\n",
            "dropout_1 (Dropout)          (None, 3)                 0         \n",
            "_________________________________________________________________\n",
            "dense_7 (Dense)              (None, 3)                 9         \n",
            "_________________________________________________________________\n",
            "dropout_2 (Dropout)          (None, 3)                 0         \n",
            "_________________________________________________________________\n",
            "softmax_2 (Softmax)          (None, 3)                 0         \n",
            "=================================================================\n",
            "Total params: 1,321,412\n",
            "Trainable params: 1,321,412\n",
            "Non-trainable params: 0\n",
            "_________________________________________________________________\n"
          ],
          "name": "stdout"
        }
      ]
    },
    {
      "cell_type": "code",
      "metadata": {
        "colab": {
          "base_uri": "https://localhost:8080/"
        },
        "id": "ng0r3Q58haze",
        "outputId": "32f7acf1-cee3-477c-b960-5e551bdad011"
      },
      "source": [
        "#Compile the model \n",
        "model4.compile(optimizer='adam', loss=tf.keras.losses.SparseCategoricalCrossentropy(),\n",
        "              metrics=['accuracy']) \n",
        "callback = tf.keras.callbacks.EarlyStopping(monitor='loss', patience=2)\n",
        "\n",
        "X_train_ind_padded = np.array(X_train_indices)\n",
        "X_test_ind_padded = np.array(X_test_indices)                          \n",
        "\n",
        "history = model4.fit(X_train_ind_padded, Y_train, class_weight=class_weights_dict, epochs = 50, batch_size=64, shuffle = True, \n",
        "                     callbacks=[callback],  verbose=1)"
      ],
      "execution_count": 69,
      "outputs": [
        {
          "output_type": "stream",
          "text": [
            "Epoch 1/50\n",
            "142/142 [==============================] - 13s 63ms/step - loss: 1.0703 - accuracy: 0.5275\n",
            "Epoch 2/50\n",
            "142/142 [==============================] - 9s 62ms/step - loss: 0.9609 - accuracy: 0.7368\n",
            "Epoch 3/50\n",
            "142/142 [==============================] - 9s 62ms/step - loss: 0.8610 - accuracy: 0.7806\n",
            "Epoch 4/50\n",
            "142/142 [==============================] - 9s 62ms/step - loss: 0.8073 - accuracy: 0.8073\n",
            "Epoch 5/50\n",
            "142/142 [==============================] - 9s 62ms/step - loss: 0.8028 - accuracy: 0.8011\n",
            "Epoch 6/50\n",
            "142/142 [==============================] - 9s 62ms/step - loss: 0.7994 - accuracy: 0.8047\n",
            "Epoch 7/50\n",
            "142/142 [==============================] - 9s 62ms/step - loss: 0.7659 - accuracy: 0.8106\n",
            "Epoch 8/50\n",
            "142/142 [==============================] - 9s 63ms/step - loss: 0.7124 - accuracy: 0.8259\n",
            "Epoch 9/50\n",
            "142/142 [==============================] - 9s 62ms/step - loss: 0.7071 - accuracy: 0.8223\n",
            "Epoch 10/50\n",
            "142/142 [==============================] - 9s 62ms/step - loss: 0.7274 - accuracy: 0.8116\n",
            "Epoch 11/50\n",
            "142/142 [==============================] - 9s 62ms/step - loss: 0.7452 - accuracy: 0.7784\n",
            "Epoch 12/50\n",
            "142/142 [==============================] - 9s 62ms/step - loss: 0.7178 - accuracy: 0.7811\n",
            "Epoch 13/50\n",
            "142/142 [==============================] - 9s 63ms/step - loss: 0.7212 - accuracy: 0.7921\n",
            "Epoch 14/50\n",
            "142/142 [==============================] - 9s 63ms/step - loss: 0.7094 - accuracy: 0.7818\n",
            "Epoch 15/50\n",
            "142/142 [==============================] - 9s 62ms/step - loss: 0.6804 - accuracy: 0.7867\n",
            "Epoch 16/50\n",
            "142/142 [==============================] - 9s 63ms/step - loss: 0.6884 - accuracy: 0.7889\n",
            "Epoch 17/50\n",
            "142/142 [==============================] - 9s 62ms/step - loss: 0.6577 - accuracy: 0.7963\n",
            "Epoch 18/50\n",
            "142/142 [==============================] - 9s 62ms/step - loss: 0.6567 - accuracy: 0.7965\n",
            "Epoch 19/50\n",
            "142/142 [==============================] - 9s 62ms/step - loss: 0.6715 - accuracy: 0.7893\n"
          ],
          "name": "stdout"
        }
      ]
    },
    {
      "cell_type": "code",
      "metadata": {
        "colab": {
          "base_uri": "https://localhost:8080/"
        },
        "id": "MK-45y4FhhUq",
        "outputId": "19287423-cc7c-4aad-cf42-09571b5e9fd0"
      },
      "source": [
        "score = model4.evaluate(X_test_ind_padded, Y_test, verbose = 1)\n",
        "score_train = model4.evaluate(X_train_ind_padded, Y_train, verbose = 1)\n",
        "target_names = ['class 0', 'class 1', 'class 2']\n",
        "\n",
        "print(\"Evaluate on test data\")\n",
        "print(f'Test loss: {score[0]} / Test accuracy: {score[1]}')\n",
        "\n",
        "print(\"Evaluate on train data\")\n",
        "print(f'Train loss: {score_train[0]} / Train accuracy: {score_train[1]}')\n",
        "\n",
        "\n",
        "y_pred1 = model4.predict(X_test_ind_padded)\n",
        "y_pred = np.argmax(y_pred1, axis=1).astype(int)\n",
        "\n",
        "print(classification_report(Y_test, y_pred, target_names=target_names))"
      ],
      "execution_count": 70,
      "outputs": [
        {
          "output_type": "stream",
          "text": [
            "71/71 [==============================] - 2s 9ms/step - loss: 0.2668 - accuracy: 0.8856\n",
            "283/283 [==============================] - 4s 10ms/step - loss: 0.1099 - accuracy: 0.9818\n",
            "Evaluate on test data\n",
            "Test loss: 0.26675277948379517 / Test accuracy: 0.8855501413345337\n",
            "Evaluate on train data\n",
            "Train loss: 0.10990222543478012 / Train accuracy: 0.9817699790000916\n",
            "              precision    recall  f1-score   support\n",
            "\n",
            "     class 0       0.99      0.99      0.99      1595\n",
            "     class 1       0.75      0.70      0.72       468\n",
            "     class 2       0.42      0.47      0.44       200\n",
            "\n",
            "    accuracy                           0.89      2263\n",
            "   macro avg       0.72      0.72      0.72      2263\n",
            "weighted avg       0.89      0.89      0.89      2263\n",
            "\n"
          ],
          "name": "stdout"
        }
      ]
    },
    {
      "cell_type": "markdown",
      "metadata": {
        "id": "yDN6u-Oqdgse"
      },
      "source": [
        "### Twitter Data\n",
        "\n",
        "I apply 2 models to the data sourced from twitter.  It performs better than the first model, but does continue to struggle to correctly classify informational, positive, and exagerrated tweets. Model 3 (final model) continues to classify almost all tweets featuring the word 'depression' as depressed. Model 4 overcompensates in the other direction, classifying too many depressed tweets as \"not enough information.\" "
      ]
    },
    {
      "cell_type": "code",
      "metadata": {
        "id": "XPhvXp0H6H_G"
      },
      "source": [
        "newdata_indices = [[check_encoding(word, token_map2) for word in sent] for sent in new_data['tokenizedandstemmed']]\n",
        "newdata_indices = tf.keras.preprocessing.sequence.pad_sequences(newdata_indices, padding = 'post').tolist()\n"
      ],
      "execution_count": 71,
      "outputs": []
    },
    {
      "cell_type": "code",
      "metadata": {
        "colab": {
          "base_uri": "https://localhost:8080/"
        },
        "id": "oHZ_3xDE6OZz",
        "outputId": "671a58ec-9878-400d-da14-76b0131576ee"
      },
      "source": [
        "new = model3.predict_classes(newdata_indices)\n",
        "\n",
        "new_data['prediction'] = new\n",
        "\n",
        "new_data['prediction'].value_counts()\n"
      ],
      "execution_count": 72,
      "outputs": [
        {
          "output_type": "stream",
          "text": [
            "/usr/local/lib/python3.7/dist-packages/tensorflow/python/keras/engine/sequential.py:450: UserWarning: `model.predict_classes()` is deprecated and will be removed after 2021-01-01. Please use instead:* `np.argmax(model.predict(x), axis=-1)`,   if your model does multi-class classification   (e.g. if it uses a `softmax` last-layer activation).* `(model.predict(x) > 0.5).astype(\"int32\")`,   if your model does binary classification   (e.g. if it uses a `sigmoid` last-layer activation).\n",
            "  warnings.warn('`model.predict_classes()` is deprecated and '\n"
          ],
          "name": "stderr"
        },
        {
          "output_type": "execute_result",
          "data": {
            "text/plain": [
              "1    795\n",
              "0    205\n",
              "Name: prediction, dtype: int64"
            ]
          },
          "metadata": {
            "tags": []
          },
          "execution_count": 72
        }
      ]
    },
    {
      "cell_type": "code",
      "metadata": {
        "colab": {
          "base_uri": "https://localhost:8080/"
        },
        "id": "fqvHhHBR8j4X",
        "outputId": "b5f45234-2e99-46fc-f604-9d5bf1aadcf9"
      },
      "source": [
        "new2 = model4.predict_classes(newdata_indices)\n",
        "\n",
        "new_data['prediction2'] = new2\n",
        "\n",
        "new_data['prediction2'].value_counts()\n"
      ],
      "execution_count": 73,
      "outputs": [
        {
          "output_type": "stream",
          "text": [
            "/usr/local/lib/python3.7/dist-packages/tensorflow/python/keras/engine/sequential.py:450: UserWarning: `model.predict_classes()` is deprecated and will be removed after 2021-01-01. Please use instead:* `np.argmax(model.predict(x), axis=-1)`,   if your model does multi-class classification   (e.g. if it uses a `softmax` last-layer activation).* `(model.predict(x) > 0.5).astype(\"int32\")`,   if your model does binary classification   (e.g. if it uses a `sigmoid` last-layer activation).\n",
            "  warnings.warn('`model.predict_classes()` is deprecated and '\n"
          ],
          "name": "stderr"
        },
        {
          "output_type": "execute_result",
          "data": {
            "text/plain": [
              "1    578\n",
              "2    216\n",
              "0    206\n",
              "Name: prediction2, dtype: int64"
            ]
          },
          "metadata": {
            "tags": []
          },
          "execution_count": 73
        }
      ]
    },
    {
      "cell_type": "code",
      "metadata": {
        "colab": {
          "base_uri": "https://localhost:8080/",
          "height": 1000
        },
        "id": "QGG2QfYU8t3C",
        "outputId": "aafce88c-af2f-4d19-8432-c37699393f4f"
      },
      "source": [
        "new_data[new_data['prediction2']==2]"
      ],
      "execution_count": 74,
      "outputs": [
        {
          "output_type": "execute_result",
          "data": {
            "text/html": [
              "<div>\n",
              "<style scoped>\n",
              "    .dataframe tbody tr th:only-of-type {\n",
              "        vertical-align: middle;\n",
              "    }\n",
              "\n",
              "    .dataframe tbody tr th {\n",
              "        vertical-align: top;\n",
              "    }\n",
              "\n",
              "    .dataframe thead th {\n",
              "        text-align: right;\n",
              "    }\n",
              "</style>\n",
              "<table border=\"1\" class=\"dataframe\">\n",
              "  <thead>\n",
              "    <tr style=\"text-align: right;\">\n",
              "      <th></th>\n",
              "      <th>message</th>\n",
              "      <th>tokenized</th>\n",
              "      <th>tokenizedandstemmed</th>\n",
              "      <th>query</th>\n",
              "      <th>prediction</th>\n",
              "      <th>prediction2</th>\n",
              "    </tr>\n",
              "  </thead>\n",
              "  <tbody>\n",
              "    <tr>\n",
              "      <th>0</th>\n",
              "      <td>😞💔 another sad day #sad #brocken #depressed</td>\n",
              "      <td>[😞, 💔, another, sad, day, sad, brocken, depressed]</td>\n",
              "      <td>[anoth, sad, day, sad, brocken, depress]</td>\n",
              "      <td>hashtagdepressed</td>\n",
              "      <td>1</td>\n",
              "      <td>2</td>\n",
              "    </tr>\n",
              "    <tr>\n",
              "      <th>2</th>\n",
              "      <td>@HathwayBrdband I'm #depressed now 13days</td>\n",
              "      <td>[i'm, depressed, now, days]</td>\n",
              "      <td>[depress, now, day]</td>\n",
              "      <td>hashtagdepressed</td>\n",
              "      <td>1</td>\n",
              "      <td>2</td>\n",
              "    </tr>\n",
              "    <tr>\n",
              "      <th>9</th>\n",
              "      <td>I am #depressed could use a friend but feel like I have none.</td>\n",
              "      <td>[i, am, depressed, could, use, a, friend, but, feel, like, i, have, none, .]</td>\n",
              "      <td>[i, am, depress, could, use, a, friend, but, feel, like, i, have, none]</td>\n",
              "      <td>hashtagdepressed</td>\n",
              "      <td>1</td>\n",
              "      <td>2</td>\n",
              "    </tr>\n",
              "    <tr>\n",
              "      <th>11</th>\n",
              "      <td>If you are frustrated? Take control of your business now. We at Start Any Buisness (SAB) will help you without any trouble. \\n\\nContact US\\n☎️Call &amp;amp; WhatsApp 📞+971585791578\\n🌐visit: https://t.co/CjYMpULFNs\\n\\n#startanybusiness #frustrated #frustration  #depressed  #business  #success https://t.co/UYFfqBN6LF</td>\n",
              "      <td>[if, you, are, frustrated, ?, take, control, of, your, business, now, ., we, at, start, any, buisness, (, sab, ), will, help, you, without, any, trouble, ., contact, us, ☎, ️, call, &amp;, whatsapp, 📞, +, 🌐, visit, :, startanybusiness, frustrated, frustration, depressed, business, success]</td>\n",
              "      <td>[if, you, are, frustrat, take, control, of, your, busi, now, we, at, start, ani, buis, sab, will, help, you, without, ani, troubl, contact, us, call, whatsapp, visit, startanybusi, frustrat, frustrat, depress, busi, success]</td>\n",
              "      <td>hashtagdepressed</td>\n",
              "      <td>1</td>\n",
              "      <td>2</td>\n",
              "    </tr>\n",
              "    <tr>\n",
              "      <th>17</th>\n",
              "      <td>Things you should no longer be creating space for 💯 \\n\\n#motivation #Inspiration #meditation #Anxiety #depressed #depression #anxietyrelief https://t.co/GWrZkpXDDw</td>\n",
              "      <td>[things, you, should, no, longer, be, creating, space, for, 💯, motivation, inspiration, meditation, anxiety, depressed, depression, anxietyrelief]</td>\n",
              "      <td>[thing, you, should, no, longer, be, creat, space, for, motiv, inspir, medit, anxieti, depress, depress, anxietyrelief]</td>\n",
              "      <td>hashtagdepressed</td>\n",
              "      <td>1</td>\n",
              "      <td>2</td>\n",
              "    </tr>\n",
              "    <tr>\n",
              "      <th>...</th>\n",
              "      <td>...</td>\n",
              "      <td>...</td>\n",
              "      <td>...</td>\n",
              "      <td>...</td>\n",
              "      <td>...</td>\n",
              "      <td>...</td>\n",
              "    </tr>\n",
              "    <tr>\n",
              "      <th>188</th>\n",
              "      <td>@raabea_malik maturity with depression</td>\n",
              "      <td>[maturity, with, depression]</td>\n",
              "      <td>[matur, with, depress]</td>\n",
              "      <td>depression</td>\n",
              "      <td>1</td>\n",
              "      <td>2</td>\n",
              "    </tr>\n",
              "    <tr>\n",
              "      <th>190</th>\n",
              "      <td>@DamnResha 🗣CAUSE I GOT DEPRESSION!!!!!!🤣🤣🤣</td>\n",
              "      <td>[🗣, cause, i, got, depression, !, !, !, 🤣, 🤣, 🤣]</td>\n",
              "      <td>[caus, i, got, depress]</td>\n",
              "      <td>depression</td>\n",
              "      <td>1</td>\n",
              "      <td>2</td>\n",
              "    </tr>\n",
              "    <tr>\n",
              "      <th>195</th>\n",
              "      <td>Depression gurl https://t.co/fwEhg4KVOc</td>\n",
              "      <td>[depression, gurl]</td>\n",
              "      <td>[depress, gurl]</td>\n",
              "      <td>depression</td>\n",
              "      <td>1</td>\n",
              "      <td>2</td>\n",
              "    </tr>\n",
              "    <tr>\n",
              "      <th>198</th>\n",
              "      <td>Psychology gave me depression, what an oxymoron 😭 https://t.co/nAnBkbhbT0</td>\n",
              "      <td>[psychology, gave, me, depression, ,, what, an, oxymoron, 😭]</td>\n",
              "      <td>[psycholog, gave, me, depress, what, an, oxymoron]</td>\n",
              "      <td>depression</td>\n",
              "      <td>1</td>\n",
              "      <td>2</td>\n",
              "    </tr>\n",
              "    <tr>\n",
              "      <th>199</th>\n",
              "      <td>@mrdiiogo1 Depression 🤸🏻‍♀️</td>\n",
              "      <td>[depression, 🤸, 🏻, ‍, ♀, ️]</td>\n",
              "      <td>[depress]</td>\n",
              "      <td>depression</td>\n",
              "      <td>1</td>\n",
              "      <td>2</td>\n",
              "    </tr>\n",
              "  </tbody>\n",
              "</table>\n",
              "<p>216 rows × 6 columns</p>\n",
              "</div>"
            ],
            "text/plain": [
              "                                                                                                                                                                                                                                                                                                                      message  ... prediction2\n",
              "0                                                                                                                                                                                                                                                                                 😞💔 another sad day #sad #brocken #depressed  ...           2\n",
              "2                                                                                                                                                                                                                                                                                   @HathwayBrdband I'm #depressed now 13days  ...           2\n",
              "9                                                                                                                                                                                                                                                               I am #depressed could use a friend but feel like I have none.  ...           2\n",
              "11   If you are frustrated? Take control of your business now. We at Start Any Buisness (SAB) will help you without any trouble. \\n\\nContact US\\n☎️Call &amp; WhatsApp 📞+971585791578\\n🌐visit: https://t.co/CjYMpULFNs\\n\\n#startanybusiness #frustrated #frustration  #depressed  #business  #success https://t.co/UYFfqBN6LF  ...           2\n",
              "17                                                                                                                                                        Things you should no longer be creating space for 💯 \\n\\n#motivation #Inspiration #meditation #Anxiety #depressed #depression #anxietyrelief https://t.co/GWrZkpXDDw  ...           2\n",
              "..                                                                                                                                                                                                                                                                                                                        ...  ...         ...\n",
              "188                                                                                                                                                                                                                                                                                    @raabea_malik maturity with depression  ...           2\n",
              "190                                                                                                                                                                                                                                                                               @DamnResha 🗣CAUSE I GOT DEPRESSION!!!!!!🤣🤣🤣  ...           2\n",
              "195                                                                                                                                                                                                                                                                                   Depression gurl https://t.co/fwEhg4KVOc  ...           2\n",
              "198                                                                                                                                                                                                                                                 Psychology gave me depression, what an oxymoron 😭 https://t.co/nAnBkbhbT0  ...           2\n",
              "199                                                                                                                                                                                                                                                                                               @mrdiiogo1 Depression 🤸🏻‍♀️  ...           2\n",
              "\n",
              "[216 rows x 6 columns]"
            ]
          },
          "metadata": {
            "tags": []
          },
          "execution_count": 74
        }
      ]
    },
    {
      "cell_type": "code",
      "metadata": {
        "colab": {
          "base_uri": "https://localhost:8080/",
          "height": 1000
        },
        "id": "jouE0xsU6gtG",
        "outputId": "6960abbe-44e0-4ce3-c575-3da2e148cdd3"
      },
      "source": [
        "randomsample = new_data.sample(n=50)\n",
        "randomsample.head(20)"
      ],
      "execution_count": 75,
      "outputs": [
        {
          "output_type": "execute_result",
          "data": {
            "text/html": [
              "<div>\n",
              "<style scoped>\n",
              "    .dataframe tbody tr th:only-of-type {\n",
              "        vertical-align: middle;\n",
              "    }\n",
              "\n",
              "    .dataframe tbody tr th {\n",
              "        vertical-align: top;\n",
              "    }\n",
              "\n",
              "    .dataframe thead th {\n",
              "        text-align: right;\n",
              "    }\n",
              "</style>\n",
              "<table border=\"1\" class=\"dataframe\">\n",
              "  <thead>\n",
              "    <tr style=\"text-align: right;\">\n",
              "      <th></th>\n",
              "      <th>message</th>\n",
              "      <th>tokenized</th>\n",
              "      <th>tokenizedandstemmed</th>\n",
              "      <th>query</th>\n",
              "      <th>prediction</th>\n",
              "      <th>prediction2</th>\n",
              "    </tr>\n",
              "  </thead>\n",
              "  <tbody>\n",
              "    <tr>\n",
              "      <th>10</th>\n",
              "      <td>@Aponi29811720 These other companies like to make a strong case for mind-altering mental health therapies, as the US Food and Drug Administration has declared psilocybin to be a breakthrough therapy for psychiatric depression.</td>\n",
              "      <td>[these, other, companies, like, to, make, a, strong, case, for, mind-altering, mental, health, therapies, ,, as, the, us, food, and, drug, administration, has, declared, psilocybin, to, be, a, breakthrough, therapy, for, psychiatric, depression, .]</td>\n",
              "      <td>[these, other, compani, like, to, make, a, strong, case, for, mental, health, therapi, as, the, us, food, and, drug, administr, ha, declar, psilocybin, to, be, a, breakthrough, therapi, for, psychiatr, depress]</td>\n",
              "      <td>depression</td>\n",
              "      <td>1</td>\n",
              "      <td>2</td>\n",
              "    </tr>\n",
              "    <tr>\n",
              "      <th>150</th>\n",
              "      <td>Women go through #perimenopause and #menopause and think they shouldn't talk about it. Speak up and help stop the mystery! #docwizz #bespokefunctionalmedicine #functionalmedicine #holistic  #hormones #bhrt  #women #antiaging #proactivehealth #depression\\n\\nhttps://t.co/J5RoDUJtZQ</td>\n",
              "      <td>[women, go, through, perimenopause, and, menopause, and, think, they, shouldn't, talk, about, it, ., speak, up, and, help, stop, the, mystery, !, docwizz, bespokefunctionalmedicine, functionalmedicine, holistic, hormones, bhrt, women, antiaging, proactivehealth, depression]</td>\n",
              "      <td>[women, go, through, perimenopaus, and, menopaus, and, think, they, talk, about, it, speak, up, and, help, stop, the, mysteri, docwizz, bespokefunctionalmedicin, functionalmedicin, holist, hormon, bhrt, women, antiag, proactivehealth, depress]</td>\n",
              "      <td>hashtagdepression</td>\n",
              "      <td>1</td>\n",
              "      <td>1</td>\n",
              "    </tr>\n",
              "    <tr>\n",
              "      <th>95</th>\n",
              "      <td>The videos in my head but I’m too #depressed to make</td>\n",
              "      <td>[the, videos, in, my, head, but, i, ’, m, too, depressed, to, make]</td>\n",
              "      <td>[the, video, in, my, head, but, i, m, too, depress, to, make]</td>\n",
              "      <td>hashtagdepressed</td>\n",
              "      <td>1</td>\n",
              "      <td>2</td>\n",
              "    </tr>\n",
              "    <tr>\n",
              "      <th>155</th>\n",
              "      <td>what to do, if you feel locked up in your body and if you've got a strong tendency to punish yourself on top of that!? \\n\\nit worked pretty well during the last decades. now the destruction is too big to ignore it anymore without falling any deeper into the void \\n#depression</td>\n",
              "      <td>[what, to, do, ,, if, you, feel, locked, up, in, your, body, and, if, you've, got, a, strong, tendency, to, punish, yourself, on, top, of, that, !, ?, it, worked, pretty, well, during, the, last, decades, ., now, the, destruction, is, too, big, to, ignore, it, anymore, without, falling, any, deeper, into, the, void, depression]</td>\n",
              "      <td>[what, to, do, if, you, feel, lock, up, in, your, bodi, and, if, got, a, strong, tendenc, to, punish, yourself, on, top, of, that, it, work, pretti, well, dure, the, last, decad, now, the, destruct, is, too, big, to, ignor, it, anymor, without, fall, ani, deeper, into, the, void, depress]</td>\n",
              "      <td>hashtagdepression</td>\n",
              "      <td>1</td>\n",
              "      <td>1</td>\n",
              "    </tr>\n",
              "    <tr>\n",
              "      <th>154</th>\n",
              "      <td>Top 10 books about depression | Alex Riley https://t.co/zWVPYccRTf #depressed #depression #MentalHealthAwarenessWeek #mentalhealth #healthylifestyle #wellness #wellbeing #anxiety https://t.co/CzfOtqAGHu</td>\n",
              "      <td>[top, books, about, depression, |, alex, riley, depressed, depression, mentalhealthawarenessweek, mentalhealth, healthylifestyle, wellness, wellbeing, anxiety]</td>\n",
              "      <td>[top, book, about, depress, alex, riley, depress, depress, mentalhealthawarenessweek, mentalhealth, healthylifestyl, well, wellb, anxieti]</td>\n",
              "      <td>hashtagdepression</td>\n",
              "      <td>1</td>\n",
              "      <td>1</td>\n",
              "    </tr>\n",
              "    <tr>\n",
              "      <th>62</th>\n",
              "      <td>Day 82 of support \\nAnytime, anywhere\\nEvery day is a new day\\nFor the Men &amp;amp; Woman who serve\\nRetired disabled Vet\\nOne is too many \\n#22for22 #PTSD #DEPRESSION\\n#SuicidePrevention \\nHot line 1.800.273.8255 \\nYour never alone\\n Please check on those who matter to you.... Set 1 https://t.co/rdIZrOkkdL</td>\n",
              "      <td>[day, of, support, anytime, ,, anywhere, every, day, is, a, new, day, for, the, men, &amp;, woman, who, serve, retired, disabled, vet, one, is, too, many, for, ptsd, depression, suicideprevention, hot, line, ..., your, never, alone, please, check, on, those, who, matter, to, you, ..., set]</td>\n",
              "      <td>[day, of, support, anytim, anywher, everi, day, is, a, new, day, for, the, men, woman, who, serv, retir, disabl, vet, one, is, too, mani, for, ptsd, depress, suicideprevent, hot, line, your, never, alon, pleas, check, on, those, who, matter, to, you, set]</td>\n",
              "      <td>hashtagdepression</td>\n",
              "      <td>1</td>\n",
              "      <td>1</td>\n",
              "    </tr>\n",
              "    <tr>\n",
              "      <th>145</th>\n",
              "      <td>In this episode of the #christianreevepodcast, author of the 'The Official Depression Relief Playbook' Zack Rudledge joins the show to discuss his book, his battle with depression, tips for overcoming #depression &amp;amp; #anxiety, #mentalhealth discrimination in the workplace, &amp;amp; more!</td>\n",
              "      <td>[in, this, episode, of, the, christianreevepodcast, ,, author, of, the, ', the, official, depression, relief, playbook, ', zack, rudledge, joins, the, show, to, discuss, his, book, ,, his, battle, with, depression, ,, tips, for, overcoming, depression, &amp;, anxiety, ,, mentalhealth, discrimination, in, the, workplace, ,, &amp;, more, !]</td>\n",
              "      <td>[in, thi, episod, of, the, christianreevepodcast, author, of, the, the, offici, depress, relief, playbook, zack, rudledg, join, the, show, to, discuss, hi, book, hi, battl, with, depress, tip, for, overcom, depress, anxieti, mentalhealth, discrimin, in, the, workplac, more]</td>\n",
              "      <td>hashtagdepression</td>\n",
              "      <td>1</td>\n",
              "      <td>1</td>\n",
              "    </tr>\n",
              "    <tr>\n",
              "      <th>75</th>\n",
              "      <td>@inherentvibes people literally don't understand that unmedicated bipolar isnt \"depression but really bad\" it can be \"every once in a while you literally become a bad, mean person who doesn't care about the people you love anymore for multiple months\"</td>\n",
              "      <td>[people, literally, don't, understand, that, unmedicated, bipolar, isnt, \", depression, but, really, bad, \", it, can, be, \", every, once, in, a, while, you, literally, become, a, bad, ,, mean, person, who, doesn't, care, about, the, people, you, love, anymore, for, multiple, months, \"]</td>\n",
              "      <td>[peopl, liter, understand, that, unmed, bipolar, isnt, depress, but, realli, bad, it, can, be, everi, onc, in, a, while, you, liter, becom, a, bad, mean, person, who, care, about, the, peopl, you, love, anymor, for, multipl, month]</td>\n",
              "      <td>depression</td>\n",
              "      <td>1</td>\n",
              "      <td>2</td>\n",
              "    </tr>\n",
              "    <tr>\n",
              "      <th>88</th>\n",
              "      <td>When the nightmares you have the past few nights make u so drained you begin to question things!!! I just feel so drained right now like I'm not wanted!! \\n#MentalHealthAwarenessMonth \\n#depression</td>\n",
              "      <td>[when, the, nightmares, you, have, the, past, few, nights, make, u, so, drained, you, begin, to, question, things, !, !, !, i, just, feel, so, drained, right, now, like, i'm, not, wanted, !, !, mentalhealthawarenessmonth, depression]</td>\n",
              "      <td>[when, the, nightmar, you, have, the, past, few, night, make, u, so, drain, you, begin, to, question, thing, i, just, feel, so, drain, right, now, like, not, want, mentalhealthawarenessmonth, depress]</td>\n",
              "      <td>hashtagdepression</td>\n",
              "      <td>1</td>\n",
              "      <td>1</td>\n",
              "    </tr>\n",
              "    <tr>\n",
              "      <th>72</th>\n",
              "      <td>If you are to describe yourself using a hashtag, what's your hashtag? — #depressed https://t.co/MyaBDUNCD8</td>\n",
              "      <td>[if, you, are, to, describe, yourself, using, a, hashtag, ,, what's, your, hashtag, ?, —, depressed]</td>\n",
              "      <td>[if, you, are, to, describ, yourself, use, a, hashtag, your, hashtag, depress]</td>\n",
              "      <td>hashtagdepressed</td>\n",
              "      <td>1</td>\n",
              "      <td>1</td>\n",
              "    </tr>\n",
              "    <tr>\n",
              "      <th>165</th>\n",
              "      <td>@DoyinAD Like i would F I G H T!</td>\n",
              "      <td>[like, i, would, f, i, g, h, t, !]</td>\n",
              "      <td>[like, i, would, f, i, g, h, t]</td>\n",
              "      <td>random</td>\n",
              "      <td>0</td>\n",
              "      <td>0</td>\n",
              "    </tr>\n",
              "    <tr>\n",
              "      <th>130</th>\n",
              "      <td>@titancrisings It represents Lana's life I think, Blue her younger days filled with sadness and depression, green her comparitively happy and woke era (LFL), grey symbolises her getting old and mature.</td>\n",
              "      <td>[it, represents, lana's, life, i, think, ,, blue, her, younger, days, filled, with, sadness, and, depression, ,, green, her, comparitively, happy, and, woke, era, (, lfl, ), ,, grey, symbolises, her, getting, old, and, mature, .]</td>\n",
              "      <td>[it, repres, life, i, think, blue, her, younger, day, fill, with, sad, and, depress, green, her, comparit, happi, and, woke, era, lfl, grey, symbolis, her, get, old, and, matur]</td>\n",
              "      <td>depression</td>\n",
              "      <td>1</td>\n",
              "      <td>1</td>\n",
              "    </tr>\n",
              "    <tr>\n",
              "      <th>74</th>\n",
              "      <td>If you need someone to talk to, please reach out to someone trustworthy. There are local hotlines you can call anonymously. Remember, you are loved, and people care about you. Don't suffer in silence. 💚\\n\\n#mentalhealth #teen #ruok #depression #depressed #mentalillness #loveit</td>\n",
              "      <td>[if, you, need, someone, to, talk, to, ,, please, reach, out, to, someone, trustworthy, ., there, are, local, hotlines, you, can, call, anonymously, ., remember, ,, you, are, loved, ,, and, people, care, about, you, ., don't, suffer, in, silence, ., 💚, mentalhealth, teen, ruok, depression, depressed, mentalillness, loveit]</td>\n",
              "      <td>[if, you, need, someon, to, talk, to, pleas, reach, out, to, someon, trustworthi, there, are, local, hotlin, you, can, call, anonym, rememb, you, are, love, and, peopl, care, about, you, suffer, in, silenc, mentalhealth, teen, ruok, depress, depress, mentalil, loveit]</td>\n",
              "      <td>hashtagdepressed</td>\n",
              "      <td>1</td>\n",
              "      <td>1</td>\n",
              "    </tr>\n",
              "    <tr>\n",
              "      <th>142</th>\n",
              "      <td>Listen to THE DAD, I WISH by Earnest E. World on #SoundCloud\\nhttps://t.co/73IuTBoh38  #depressed is real and gone hurts. Get help. Information HelpLine is an information and referral service which can be reached by calling 1 (800) 950- NAMI (6264),</td>\n",
              "      <td>[listen, to, the, dad, ,, i, wish, by, earnest, e, ., world, on, soundcloud, depressed, is, real, and, gone, hurts, ., get, help, ., information, helpline, is, an, information, and, referral, service, which, can, be, reached, by, calling, (, ), -, nami, (, ), ,]</td>\n",
              "      <td>[listen, to, the, dad, i, wish, by, earnest, e, world, on, soundcloud, depress, is, real, and, gone, hurt, get, help, inform, helplin, is, an, inform, and, referr, servic, which, can, be, reach, by, call, nami]</td>\n",
              "      <td>hashtagdepressed</td>\n",
              "      <td>1</td>\n",
              "      <td>1</td>\n",
              "    </tr>\n",
              "    <tr>\n",
              "      <th>119</th>\n",
              "      <td>@kjvrm @___virgil___ @nytimes Would be okay if the woman consented to it, but you’re suggesting mandatory.. so no</td>\n",
              "      <td>[would, be, okay, if, the, woman, consented, to, it, ,, but, you, ’, re, suggesting, mandatory, .., so, no]</td>\n",
              "      <td>[would, be, okay, if, the, woman, consent, to, it, but, you, re, suggest, mandatori, so, no]</td>\n",
              "      <td>random</td>\n",
              "      <td>0</td>\n",
              "      <td>0</td>\n",
              "    </tr>\n",
              "    <tr>\n",
              "      <th>36</th>\n",
              "      <td>@GaiaGirl I though I was depressed. But I’m being told by MHP’s that it’s my ADHD- I can’t focus on anything, so I shut down and beat myself up for it. I’m just so tired of being miserable. I’m really sad this med gave me such a reaction.</td>\n",
              "      <td>[i, though, i, was, depressed, ., but, i, ’, m, being, told, by, mhp, ’, s, that, it, ’, s, my, adhd, -, i, can, ’, t, focus, on, anything, ,, so, i, shut, down, and, beat, myself, up, for, it, ., i, ’, m, just, so, tired, of, being, miserable, ., i, ’, m, really, sad, this, med, gave, me, such, a, reaction, .]</td>\n",
              "      <td>[i, though, i, wa, depress, but, i, m, be, told, by, mhp, s, that, it, s, my, adhd, i, can, t, focu, on, anyth, so, i, shut, down, and, beat, myself, up, for, it, i, m, just, so, tire, of, be, miser, i, m, realli, sad, thi, med, gave, me, such, a, reaction]</td>\n",
              "      <td>depressed</td>\n",
              "      <td>1</td>\n",
              "      <td>2</td>\n",
              "    </tr>\n",
              "    <tr>\n",
              "      <th>163</th>\n",
              "      <td>@francoeleras @mazymetric @drunkpepe_afc For the sake of people of Peru, I hope these improvements continue because the US is entering in on an economic depression which is going to make the markets volatile for all the countries it trades with. Its what happened in most of the global south.</td>\n",
              "      <td>[for, the, sake, of, people, of, peru, ,, i, hope, these, improvements, continue, because, the, us, is, entering, in, on, an, economic, depression, which, is, going, to, make, the, markets, volatile, for, all, the, countries, it, trades, with, ., its, what, happened, in, most, of, the, global, south, .]</td>\n",
              "      <td>[for, the, sake, of, peopl, of, peru, i, hope, these, improv, continu, becaus, the, us, is, enter, in, on, an, econom, depress, which, is, go, to, make, the, market, volatil, for, all, the, countri, it, trade, with, it, what, happen, in, most, of, the, global, south]</td>\n",
              "      <td>depression</td>\n",
              "      <td>1</td>\n",
              "      <td>1</td>\n",
              "    </tr>\n",
              "    <tr>\n",
              "      <th>59</th>\n",
              "      <td>I’m finally home from the hospital and didn’t get great news. My MS came back with a vengeance and will probably need this walker for quite some time. I’m just hoping and praying that it isn’t permanent damage. I’m 40 years old and have four kids that need me. #depressed https://t.co/XyDAu6OE9A</td>\n",
              "      <td>[i, ’, m, finally, home, from, the, hospital, and, didn, ’, t, get, great, news, ., my, ms, came, back, with, a, vengeance, and, will, probably, need, this, walker, for, quite, some, time, ., i, ’, m, just, hoping, and, praying, that, it, isn, ’, t, permanent, damage, ., i, ’, m, years, old, and, have, four, kids, that, need, me, ., depressed]</td>\n",
              "      <td>[i, m, final, home, from, the, hospit, and, didn, t, get, great, news, my, ms, came, back, with, a, vengeanc, and, will, probabl, need, thi, walker, for, quit, some, time, i, m, just, hope, and, pray, that, it, isn, t, perman, damag, i, m, year, old, and, have, four, kid, that, need, me, depress]</td>\n",
              "      <td>hashtagdepressed</td>\n",
              "      <td>1</td>\n",
              "      <td>1</td>\n",
              "    </tr>\n",
              "    <tr>\n",
              "      <th>52</th>\n",
              "      <td>@WWE @shirai_io She is good 👍 she risk her life she don't care what kind match she have she have no fair she is tough.</td>\n",
              "      <td>[she, is, good, 👍, she, risk, her, life, she, don't, care, what, kind, match, she, have, she, have, no, fair, she, is, tough, .]</td>\n",
              "      <td>[she, is, good, she, risk, her, life, she, care, what, kind, match, she, have, she, have, no, fair, she, is, tough]</td>\n",
              "      <td>random</td>\n",
              "      <td>0</td>\n",
              "      <td>0</td>\n",
              "    </tr>\n",
              "    <tr>\n",
              "      <th>45</th>\n",
              "      <td>@mitchellskatie Depression</td>\n",
              "      <td>[depression]</td>\n",
              "      <td>[depress]</td>\n",
              "      <td>depression</td>\n",
              "      <td>1</td>\n",
              "      <td>2</td>\n",
              "    </tr>\n",
              "  </tbody>\n",
              "</table>\n",
              "</div>"
            ],
            "text/plain": [
              "                                                                                                                                                                                                                                                                                                               message  ... prediction2\n",
              "10                                                                                  @Aponi29811720 These other companies like to make a strong case for mind-altering mental health therapies, as the US Food and Drug Administration has declared psilocybin to be a breakthrough therapy for psychiatric depression.  ...           2\n",
              "150                           Women go through #perimenopause and #menopause and think they shouldn't talk about it. Speak up and help stop the mystery! #docwizz #bespokefunctionalmedicine #functionalmedicine #holistic  #hormones #bhrt  #women #antiaging #proactivehealth #depression\\n\\nhttps://t.co/J5RoDUJtZQ  ...           1\n",
              "95                                                                                                                                                                                                                                                                The videos in my head but I’m too #depressed to make  ...           2\n",
              "155                               what to do, if you feel locked up in your body and if you've got a strong tendency to punish yourself on top of that!? \\n\\nit worked pretty well during the last decades. now the destruction is too big to ignore it anymore without falling any deeper into the void \\n#depression  ...           1\n",
              "154                                                                                                         Top 10 books about depression | Alex Riley https://t.co/zWVPYccRTf #depressed #depression #MentalHealthAwarenessWeek #mentalhealth #healthylifestyle #wellness #wellbeing #anxiety https://t.co/CzfOtqAGHu  ...           1\n",
              "62   Day 82 of support \\nAnytime, anywhere\\nEvery day is a new day\\nFor the Men &amp; Woman who serve\\nRetired disabled Vet\\nOne is too many \\n#22for22 #PTSD #DEPRESSION\\n#SuicidePrevention \\nHot line 1.800.273.8255 \\nYour never alone\\n Please check on those who matter to you.... Set 1 https://t.co/rdIZrOkkdL  ...           1\n",
              "145                    In this episode of the #christianreevepodcast, author of the 'The Official Depression Relief Playbook' Zack Rudledge joins the show to discuss his book, his battle with depression, tips for overcoming #depression &amp; #anxiety, #mentalhealth discrimination in the workplace, &amp; more!  ...           1\n",
              "75                                                         @inherentvibes people literally don't understand that unmedicated bipolar isnt \"depression but really bad\" it can be \"every once in a while you literally become a bad, mean person who doesn't care about the people you love anymore for multiple months\"  ...           2\n",
              "88                                                                                                               When the nightmares you have the past few nights make u so drained you begin to question things!!! I just feel so drained right now like I'm not wanted!! \\n#MentalHealthAwarenessMonth \\n#depression  ...           1\n",
              "72                                                                                                                                                                                                          If you are to describe yourself using a hashtag, what's your hashtag? — #depressed https://t.co/MyaBDUNCD8  ...           1\n",
              "165                                                                                                                                                                                                                                                                                   @DoyinAD Like i would F I G H T!  ...           0\n",
              "130                                                                                                          @titancrisings It represents Lana's life I think, Blue her younger days filled with sadness and depression, green her comparitively happy and woke era (LFL), grey symbolises her getting old and mature.  ...           1\n",
              "74                               If you need someone to talk to, please reach out to someone trustworthy. There are local hotlines you can call anonymously. Remember, you are loved, and people care about you. Don't suffer in silence. 💚\\n\\n#mentalhealth #teen #ruok #depression #depressed #mentalillness #loveit  ...           1\n",
              "142                                                          Listen to THE DAD, I WISH by Earnest E. World on #SoundCloud\\nhttps://t.co/73IuTBoh38  #depressed is real and gone hurts. Get help. Information HelpLine is an information and referral service which can be reached by calling 1 (800) 950- NAMI (6264),  ...           1\n",
              "119                                                                                                                                                                                                  @kjvrm @___virgil___ @nytimes Would be okay if the woman consented to it, but you’re suggesting mandatory.. so no  ...           0\n",
              "36                                                                      @GaiaGirl I though I was depressed. But I’m being told by MHP’s that it’s my ADHD- I can’t focus on anything, so I shut down and beat myself up for it. I’m just so tired of being miserable. I’m really sad this med gave me such a reaction.  ...           2\n",
              "163               @francoeleras @mazymetric @drunkpepe_afc For the sake of people of Peru, I hope these improvements continue because the US is entering in on an economic depression which is going to make the markets volatile for all the countries it trades with. Its what happened in most of the global south.  ...           1\n",
              "59             I’m finally home from the hospital and didn’t get great news. My MS came back with a vengeance and will probably need this walker for quite some time. I’m just hoping and praying that it isn’t permanent damage. I’m 40 years old and have four kids that need me. #depressed https://t.co/XyDAu6OE9A  ...           1\n",
              "52                                                                                                                                                                                              @WWE @shirai_io She is good 👍 she risk her life she don't care what kind match she have she have no fair she is tough.  ...           0\n",
              "45                                                                                                                                                                                                                                                                                          @mitchellskatie Depression  ...           2\n",
              "\n",
              "[20 rows x 6 columns]"
            ]
          },
          "metadata": {
            "tags": []
          },
          "execution_count": 75
        }
      ]
    },
    {
      "cell_type": "markdown",
      "metadata": {
        "id": "yidAskqT3dyg"
      },
      "source": [
        "# Conclusions\n",
        "\n",
        "Analyzing social media data could help identify individuals who are unable or not willing to talk to professionals about their emotions. Many individuals share their emotions on social media regarding depression.  \n",
        "\n",
        "## Business Recommendations\n",
        "\n",
        "*   Pay attention to tweets that talk about feeling depressed -- People who say they're feeling depressed likely are.  \n",
        "*   Increase social media presence.  Make informational or postive posts about depression.  \n",
        "*   Pay attention to tweets talking about feeling worthless or hurting. \n",
        "*   Pay attention to tweets that have a negative tone or affect. \n",
        "*   Use how individuals talk about their experiences on social media to inform how you talk to people about depression. \n",
        "\n",
        "\n",
        "\n",
        "\n"
      ]
    },
    {
      "cell_type": "markdown",
      "metadata": {
        "id": "4ckNrqho15U4"
      },
      "source": [
        "### Future Work: \n",
        "\n",
        "- Create a model that codes tweets for depression criteria\n",
        "- Create a model that does better at seeing the difference between informational tweets about depression and depressed tweets - perhaps by classifying tweets 3 ways, depressed, not depressed, information about depression. \n",
        "- Possibly creating a bot that could reach out to individuals seen as at-risk of depression \n",
        "- A model that flags suicidal comments or classifies risk "
      ]
    }
  ]
}