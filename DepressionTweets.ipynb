{
  "nbformat": 4,
  "nbformat_minor": 0,
  "metadata": {
    "colab": {
      "name": "DepressionTweets.ipynb",
      "provenance": [],
      "collapsed_sections": [],
      "include_colab_link": true
    },
    "kernelspec": {
      "display_name": "Python 3",
      "language": "python",
      "name": "python3"
    },
    "language_info": {
      "codemirror_mode": {
        "name": "ipython",
        "version": 3
      },
      "file_extension": ".py",
      "mimetype": "text/x-python",
      "name": "python",
      "nbconvert_exporter": "python",
      "pygments_lexer": "ipython3",
      "version": "3.8.5"
    }
  },
  "cells": [
    {
      "cell_type": "markdown",
      "metadata": {
        "id": "view-in-github",
        "colab_type": "text"
      },
      "source": [
        "<a href=\"https://colab.research.google.com/github/kstrickland680/DepressionSentimentalAnalysis/blob/main/DepressionTweets.ipynb\" target=\"_parent\"><img src=\"https://colab.research.google.com/assets/colab-badge.svg\" alt=\"Open In Colab\"/></a>"
      ]
    },
    {
      "cell_type": "markdown",
      "metadata": {
        "id": "vWNl30yR79EU"
      },
      "source": [
        "# Depression Sentiment Analysis\n",
        "\n",
        "## Overview\n",
        "\n",
        "This project analyzes twitter data that has been labeled according to whether it was written by a clinically depressed individual or not.  The project explores frequently used words, conducts a topic analysis, performs sentiment analysis, and creates a model to predict whether an individual is likely to be depressed based on their social media precense on Twitter. "
      ]
    },
    {
      "cell_type": "markdown",
      "metadata": {
        "id": "fy-sRWUq6x9I"
      },
      "source": [
        "## Business Problem  \n",
        "\n",
        "A nonprofit agency focused on mental health and depression wants a way to analyze Twitter data to assess for depression in individuals. Doing so can bolster prevention efforts to help individuals with depression.  \n",
        "\n",
        "According to the Anxiety and Depression Association of America, Major Depressive Disorder (MDD) is the leading cause of disability for adults in the US aged 15-44. Over 16.1 million adults in America are affected by it each year.  Only 61% of adults with MDD receive treatment.  The US Department of Health & Human Services estimates that 60% of individuals who commit suicide had a mood disorder, such as MDD or bipolar.  "
      ]
    },
    {
      "cell_type": "code",
      "metadata": {
        "colab": {
          "base_uri": "https://localhost:8080/"
        },
        "id": "TLm6lPNZFFuC",
        "outputId": "bdf39c84-1425-4368-8f14-ccc8297e27ff"
      },
      "source": [
        "!pip install vaderSentiment"
      ],
      "execution_count": null,
      "outputs": [
        {
          "output_type": "stream",
          "text": [
            "Requirement already satisfied: vaderSentiment in /usr/local/lib/python3.7/dist-packages (3.3.2)\n",
            "Requirement already satisfied: requests in /usr/local/lib/python3.7/dist-packages (from vaderSentiment) (2.23.0)\n",
            "Requirement already satisfied: urllib3!=1.25.0,!=1.25.1,<1.26,>=1.21.1 in /usr/local/lib/python3.7/dist-packages (from requests->vaderSentiment) (1.24.3)\n",
            "Requirement already satisfied: certifi>=2017.4.17 in /usr/local/lib/python3.7/dist-packages (from requests->vaderSentiment) (2020.12.5)\n",
            "Requirement already satisfied: idna<3,>=2.5 in /usr/local/lib/python3.7/dist-packages (from requests->vaderSentiment) (2.10)\n",
            "Requirement already satisfied: chardet<4,>=3.0.2 in /usr/local/lib/python3.7/dist-packages (from requests->vaderSentiment) (3.0.4)\n"
          ],
          "name": "stdout"
        }
      ]
    },
    {
      "cell_type": "code",
      "metadata": {
        "id": "FfMzCJRZctDS",
        "scrolled": true
      },
      "source": [
        "import pandas as pd\n",
        "\n",
        "import numpy as np\n",
        "np.random.seed(0)\n",
        "\n",
        "import matplotlib.pyplot as plt\n",
        "%matplotlib inline\n",
        "\n",
        "import nltk\n",
        "\n",
        "from nltk.tokenize import RegexpTokenizer\n",
        "from nltk.probability import FreqDist\n",
        "\n",
        "import string\n",
        "\n",
        "import re\n",
        "\n",
        "from nltk.stem import WordNetLemmatizer\n",
        "\n",
        "import tensorflow as tf\n",
        "\n",
        "from gensim.models import Word2Vec\n",
        "\n",
        "from nltk.tokenize import TweetTokenizer\n",
        "from nltk.stem import PorterStemmer\n",
        "\n",
        "from wordcloud import WordCloud, STOPWORDS, ImageColorGenerator\n",
        "import matplotlib.pyplot as plt\n",
        "% matplotlib inline\n",
        "from PIL import Image\n",
        "\n",
        "from nltk.corpus import stopwords \n",
        "\n",
        "from sklearn.feature_extraction.text import TfidfVectorizer\n",
        "from sklearn.decomposition import NMF\n",
        "\n",
        "from vaderSentiment.vaderSentiment import SentimentIntensityAnalyzer\n",
        "\n",
        "from sklearn.model_selection import train_test_split\n",
        "\n",
        "from keras.callbacks import ModelCheckpoint, EarlyStopping\n",
        "from sklearn.metrics import f1_score, precision_score, recall_score\n",
        "\n",
        "import requests\n",
        "import bs4\n",
        "from bs4 import BeautifulSoup\n",
        "from requests_oauthlib import OAuth1\n",
        "import tweepy\n",
        "\n",
        "from sklearn.utils import class_weight\n",
        "from random import shuffle\n",
        "\n"
      ],
      "execution_count": null,
      "outputs": []
    },
    {
      "cell_type": "code",
      "metadata": {
        "colab": {
          "base_uri": "https://localhost:8080/"
        },
        "id": "uwJ_-BzGctDa",
        "outputId": "d977e1a5-8294-4e7e-a385-666b10258c7d"
      },
      "source": [
        "nltk.download('stopwords')\n",
        "nltk.download('punkt')\n",
        "nltk.download('wordnet')"
      ],
      "execution_count": null,
      "outputs": [
        {
          "output_type": "stream",
          "text": [
            "[nltk_data] Downloading package stopwords to /root/nltk_data...\n",
            "[nltk_data]   Package stopwords is already up-to-date!\n",
            "[nltk_data] Downloading package punkt to /root/nltk_data...\n",
            "[nltk_data]   Package punkt is already up-to-date!\n",
            "[nltk_data] Downloading package wordnet to /root/nltk_data...\n",
            "[nltk_data]   Package wordnet is already up-to-date!\n"
          ],
          "name": "stdout"
        },
        {
          "output_type": "execute_result",
          "data": {
            "text/plain": [
              "True"
            ]
          },
          "metadata": {
            "tags": []
          },
          "execution_count": 3
        }
      ]
    },
    {
      "cell_type": "code",
      "metadata": {
        "colab": {
          "base_uri": "https://localhost:8080/"
        },
        "id": "5Enutr78NQUz",
        "outputId": "fc0c7336-86ab-4de9-b788-b02f70836888"
      },
      "source": [
        "from google.colab import drive\n",
        "drive.mount('/content/drive')\n",
        "#path = \"drive/My Drive/DepressionTweets\"\n"
      ],
      "execution_count": null,
      "outputs": [
        {
          "output_type": "stream",
          "text": [
            "Drive already mounted at /content/drive; to attempt to forcibly remount, call drive.mount(\"/content/drive\", force_remount=True).\n"
          ],
          "name": "stdout"
        }
      ]
    },
    {
      "cell_type": "markdown",
      "metadata": {
        "id": "5XTiyVPHPcOU"
      },
      "source": [
        "## Data Understanding\n",
        "\n",
        "The dataset consists of an index number, the tweet, and a classification as depressed/not depressed.  22.4% of the dataset is classified as written by a clinically depressed individual. \n"
      ]
    },
    {
      "cell_type": "code",
      "metadata": {
        "id": "FdaNy9KrctDb"
      },
      "source": [
        "df = pd.read_csv('/content/drive/My Drive/DepressionTweets/DepressionSentimentalAnalysis/data/sentiment_tweets3.csv')\n"
      ],
      "execution_count": null,
      "outputs": []
    },
    {
      "cell_type": "code",
      "metadata": {
        "colab": {
          "base_uri": "https://localhost:8080/",
          "height": 662
        },
        "id": "gae4uWxZctDb",
        "outputId": "1761b586-10b9-495f-e8cf-24137621f48f"
      },
      "source": [
        "df.head(20)"
      ],
      "execution_count": null,
      "outputs": [
        {
          "output_type": "execute_result",
          "data": {
            "text/html": [
              "<div>\n",
              "<style scoped>\n",
              "    .dataframe tbody tr th:only-of-type {\n",
              "        vertical-align: middle;\n",
              "    }\n",
              "\n",
              "    .dataframe tbody tr th {\n",
              "        vertical-align: top;\n",
              "    }\n",
              "\n",
              "    .dataframe thead th {\n",
              "        text-align: right;\n",
              "    }\n",
              "</style>\n",
              "<table border=\"1\" class=\"dataframe\">\n",
              "  <thead>\n",
              "    <tr style=\"text-align: right;\">\n",
              "      <th></th>\n",
              "      <th>Index</th>\n",
              "      <th>message to examine</th>\n",
              "      <th>label (depression result)</th>\n",
              "    </tr>\n",
              "  </thead>\n",
              "  <tbody>\n",
              "    <tr>\n",
              "      <th>0</th>\n",
              "      <td>106</td>\n",
              "      <td>just had a real good moment. i missssssssss hi...</td>\n",
              "      <td>0</td>\n",
              "    </tr>\n",
              "    <tr>\n",
              "      <th>1</th>\n",
              "      <td>217</td>\n",
              "      <td>is reading manga  http://plurk.com/p/mzp1e</td>\n",
              "      <td>0</td>\n",
              "    </tr>\n",
              "    <tr>\n",
              "      <th>2</th>\n",
              "      <td>220</td>\n",
              "      <td>@comeagainjen http://twitpic.com/2y2lx - http:...</td>\n",
              "      <td>0</td>\n",
              "    </tr>\n",
              "    <tr>\n",
              "      <th>3</th>\n",
              "      <td>288</td>\n",
              "      <td>@lapcat Need to send 'em to my accountant tomo...</td>\n",
              "      <td>0</td>\n",
              "    </tr>\n",
              "    <tr>\n",
              "      <th>4</th>\n",
              "      <td>540</td>\n",
              "      <td>ADD ME ON MYSPACE!!!  myspace.com/LookThunder</td>\n",
              "      <td>0</td>\n",
              "    </tr>\n",
              "    <tr>\n",
              "      <th>5</th>\n",
              "      <td>624</td>\n",
              "      <td>so sleepy. good times tonight though</td>\n",
              "      <td>0</td>\n",
              "    </tr>\n",
              "    <tr>\n",
              "      <th>6</th>\n",
              "      <td>701</td>\n",
              "      <td>@SilkCharm re: #nbn as someone already said, d...</td>\n",
              "      <td>0</td>\n",
              "    </tr>\n",
              "    <tr>\n",
              "      <th>7</th>\n",
              "      <td>808</td>\n",
              "      <td>23 or 24ï¿½C possible today. Nice</td>\n",
              "      <td>0</td>\n",
              "    </tr>\n",
              "    <tr>\n",
              "      <th>8</th>\n",
              "      <td>1193</td>\n",
              "      <td>nite twitterville  workout in the am  -ciao</td>\n",
              "      <td>0</td>\n",
              "    </tr>\n",
              "    <tr>\n",
              "      <th>9</th>\n",
              "      <td>1324</td>\n",
              "      <td>@daNanner Night, darlin'!  Sweet dreams to you</td>\n",
              "      <td>0</td>\n",
              "    </tr>\n",
              "    <tr>\n",
              "      <th>10</th>\n",
              "      <td>1332</td>\n",
              "      <td>Good morning everybody!</td>\n",
              "      <td>0</td>\n",
              "    </tr>\n",
              "    <tr>\n",
              "      <th>11</th>\n",
              "      <td>1368</td>\n",
              "      <td>Finally! I just created my WordPress Blog. The...</td>\n",
              "      <td>0</td>\n",
              "    </tr>\n",
              "    <tr>\n",
              "      <th>12</th>\n",
              "      <td>1578</td>\n",
              "      <td>kisha they cnt get over u til they get out frm...</td>\n",
              "      <td>0</td>\n",
              "    </tr>\n",
              "    <tr>\n",
              "      <th>13</th>\n",
              "      <td>1595</td>\n",
              "      <td>@nicolerichie Yes i remember that band, It was...</td>\n",
              "      <td>0</td>\n",
              "    </tr>\n",
              "    <tr>\n",
              "      <th>14</th>\n",
              "      <td>1861</td>\n",
              "      <td>I really love reflections and shadows</td>\n",
              "      <td>0</td>\n",
              "    </tr>\n",
              "    <tr>\n",
              "      <th>15</th>\n",
              "      <td>1889</td>\n",
              "      <td>@blueaero ooo it's fantasy?  i like fantasy no...</td>\n",
              "      <td>0</td>\n",
              "    </tr>\n",
              "    <tr>\n",
              "      <th>16</th>\n",
              "      <td>1899</td>\n",
              "      <td>@rokchic28 no probs, I sell nothing other than...</td>\n",
              "      <td>0</td>\n",
              "    </tr>\n",
              "    <tr>\n",
              "      <th>17</th>\n",
              "      <td>1919</td>\n",
              "      <td>@shipovalov &amp;quot;NOKLA connecting people&amp;quot...</td>\n",
              "      <td>0</td>\n",
              "    </tr>\n",
              "    <tr>\n",
              "      <th>18</th>\n",
              "      <td>1992</td>\n",
              "      <td>Once again stayed up to late and have to start...</td>\n",
              "      <td>0</td>\n",
              "    </tr>\n",
              "    <tr>\n",
              "      <th>19</th>\n",
              "      <td>2097</td>\n",
              "      <td>@Kal_Penn I just read about your new job, CONG...</td>\n",
              "      <td>0</td>\n",
              "    </tr>\n",
              "  </tbody>\n",
              "</table>\n",
              "</div>"
            ],
            "text/plain": [
              "    Index  ... label (depression result)\n",
              "0     106  ...                         0\n",
              "1     217  ...                         0\n",
              "2     220  ...                         0\n",
              "3     288  ...                         0\n",
              "4     540  ...                         0\n",
              "5     624  ...                         0\n",
              "6     701  ...                         0\n",
              "7     808  ...                         0\n",
              "8    1193  ...                         0\n",
              "9    1324  ...                         0\n",
              "10   1332  ...                         0\n",
              "11   1368  ...                         0\n",
              "12   1578  ...                         0\n",
              "13   1595  ...                         0\n",
              "14   1861  ...                         0\n",
              "15   1889  ...                         0\n",
              "16   1899  ...                         0\n",
              "17   1919  ...                         0\n",
              "18   1992  ...                         0\n",
              "19   2097  ...                         0\n",
              "\n",
              "[20 rows x 3 columns]"
            ]
          },
          "metadata": {
            "tags": []
          },
          "execution_count": 6
        }
      ]
    },
    {
      "cell_type": "code",
      "metadata": {
        "colab": {
          "base_uri": "https://localhost:8080/"
        },
        "id": "l1_tqCpfctDc",
        "outputId": "c5a2f39b-ae0b-489d-d98b-5a2959366e40"
      },
      "source": [
        "df['label (depression result)'].value_counts(normalize = True)"
      ],
      "execution_count": null,
      "outputs": [
        {
          "output_type": "execute_result",
          "data": {
            "text/plain": [
              "0    0.775645\n",
              "1    0.224355\n",
              "Name: label (depression result), dtype: float64"
            ]
          },
          "metadata": {
            "tags": []
          },
          "execution_count": 7
        }
      ]
    },
    {
      "cell_type": "code",
      "metadata": {
        "colab": {
          "base_uri": "https://localhost:8080/"
        },
        "id": "7aF-TXHxctDc",
        "outputId": "4ff7c57c-38dd-431f-fa1f-df14e8cea209"
      },
      "source": [
        "df.shape"
      ],
      "execution_count": null,
      "outputs": [
        {
          "output_type": "execute_result",
          "data": {
            "text/plain": [
              "(10314, 3)"
            ]
          },
          "metadata": {
            "tags": []
          },
          "execution_count": 8
        }
      ]
    },
    {
      "cell_type": "code",
      "metadata": {
        "colab": {
          "base_uri": "https://localhost:8080/"
        },
        "id": "NZsgI9xDRnDc",
        "outputId": "91deb058-ea82-4ae1-b5ff-c519b2ced3ee"
      },
      "source": [
        "df.drop_duplicates(subset=['message to examine'])\n",
        "df.shape"
      ],
      "execution_count": null,
      "outputs": [
        {
          "output_type": "execute_result",
          "data": {
            "text/plain": [
              "(10314, 3)"
            ]
          },
          "metadata": {
            "tags": []
          },
          "execution_count": 9
        }
      ]
    },
    {
      "cell_type": "code",
      "metadata": {
        "colab": {
          "base_uri": "https://localhost:8080/"
        },
        "id": "gp7KnrDSctDd",
        "outputId": "c48ab261-5eed-4d34-fe3f-9e779717c782"
      },
      "source": [
        "df.isna().any()"
      ],
      "execution_count": null,
      "outputs": [
        {
          "output_type": "execute_result",
          "data": {
            "text/plain": [
              "Index                        False\n",
              "message to examine           False\n",
              "label (depression result)    False\n",
              "dtype: bool"
            ]
          },
          "metadata": {
            "tags": []
          },
          "execution_count": 10
        }
      ]
    },
    {
      "cell_type": "markdown",
      "metadata": {
        "id": "DS4wLoE46HaR"
      },
      "source": [
        "## Data Preparation \n",
        "\n",
        "I create functions to help clean the text, including removing punctuation, URLs, stemming the text, and tokenizing it. "
      ]
    },
    {
      "cell_type": "code",
      "metadata": {
        "id": "3Yx2vVqIctDf"
      },
      "source": [
        "def nopunct(tweet):\n",
        "    \"\"\" Removes punctuation.\"\"\"\n",
        "    \n",
        "    new_words = [word for word in tweet if word.isalnum()]\n",
        "    return new_words"
      ],
      "execution_count": null,
      "outputs": []
    },
    {
      "cell_type": "code",
      "metadata": {
        "id": "tKEVPeUUDEdi"
      },
      "source": [
        "def stemming(tweet):\n",
        "  \"\"\" Returns the tweet with stemmed words using Porter Stemmer. \"\"\"\n",
        "  \n",
        "  ps = PorterStemmer()\n",
        "  stemmed = [ps.stem(word) for word in tweet]\n",
        "  return stemmed\n",
        "\n"
      ],
      "execution_count": null,
      "outputs": []
    },
    {
      "cell_type": "code",
      "metadata": {
        "id": "NefAlsQ29Vt8"
      },
      "source": [
        "def clean_and_tokenize(data, message):\n",
        "  \"\"\" Prepares the data for the tokenizer and tokenizes it.\n",
        "\n",
        "  Removes URLs, numbers, hashtags, and punctuation.  Uses tweet tokenizer and porter stemmer. \n",
        "\n",
        "  Parameters: \n",
        "  dataframe, name of column with strings that need tokenization\n",
        "\n",
        "  Returns: \n",
        "  Dataframe with columns added.  ['tokenized'] contains the the tokenized version. \n",
        "  ['toknizedandstemmed'] contains the version that's tokenized, stemmed, and has no punctuation. \"\"\"\n",
        "\n",
        "\n",
        "  #takes in a data frame and original tweet\n",
        "\n",
        "  #remove URLS:\n",
        "  data['tokenized'] = [' '.join(re.sub(\"http://\\S+\", \" \", tweet).split()) for tweet in data[message]]\n",
        "  data['tokenized'] = [' '.join(re.sub(\"myspace.com\\S+\", \" \", tweet).split()) for tweet in data['tokenized']]\n",
        "  data['tokenized'] = [' '.join(re.sub(\"https://\\S+\", \" \", tweet).split()) for tweet in data['tokenized']]\n",
        "\n",
        "  #remove numbers\n",
        "  data['tokenized'] = [' '.join(re.sub(r'\\d+', '', tweet).split()) for tweet in data['tokenized']]\n",
        "\n",
        "  #remove hashtag\n",
        "  data['tokenized'] = [' '.join(re.sub('#', \"\", tweet).split()) for tweet in data['tokenized']]\n",
        "\n",
        "  #tweet tokenizer (lower clase, get rid of handles, reduce repeated letters)\n",
        "  tweet_tokenizer = TweetTokenizer(preserve_case=False, strip_handles = True, reduce_len=True)\n",
        "  data['tokenized'] = [tweet_tokenizer.tokenize(entry) for entry in data['tokenized']]\n",
        "\n",
        "  #stem the words\n",
        "  data['tokenizedandstemmed'] = [stemming(tweet) for tweet in data['tokenized']]\n",
        "\n",
        "  #remove punctuation\n",
        "  data['tokenizedandstemmed'] = [nopunct(tweet) for tweet in data['tokenizedandstemmed']]\n",
        "\n",
        "  return data\n"
      ],
      "execution_count": null,
      "outputs": []
    },
    {
      "cell_type": "code",
      "metadata": {
        "id": "72HlL87h9Lsm"
      },
      "source": [
        "def sentiment_prep(data, message):\n",
        "  \"\"\" Prepares data for VADER sentiment analysis. \n",
        "\n",
        "  Modifies the dataframe to add a column with no URLs, numbers, hashtags, mentions, punctuation, and special characters. \n",
        "\n",
        "  Inputs:\n",
        "  Dataframe, name of column with tweet to be prepared. \n",
        "\n",
        "  Returns:\n",
        "  Modified dataframe. ['tokenized'] column removes URLs, numbers, hashag, mentions, and special characters. \n",
        "  ['tokenizedwithpunct] column removes URLs, numbers, hashtags, and mentions. \"\"\"\n",
        "\n",
        "\n",
        "  #takes in dataframe and name of column with the tweet\n",
        "  #prepares data for sentiment analysis.  It keeps punctuation, doesn't stem the words, and doesn't tokenize i\n",
        "\n",
        "\n",
        "  #remove URLS:\n",
        "  data['tokenized'] = [' '.join(re.sub(\"http://\\S+\", \" \", tweet).split()) for tweet in data[message]]\n",
        "  data['tokenized'] = [' '.join(re.sub(\"https://\\S+\", \" \", tweet).split()) for tweet in data['tokenized']]\n",
        "  data['tokenized'] = [' '.join(re.sub(\"myspace.com\\S+\", \" \", tweet).split()) for tweet in data['tokenized']]\n",
        "\n",
        "  #remove numbers\n",
        "  data['tokenized'] = [' '.join(re.sub(r'\\d+', '', tweet).split()) for tweet in data['tokenized']]\n",
        "\n",
        "  #remove hashtag\n",
        "  data['tokenized'] = [' '.join(re.sub('#', \"\", tweet).split()) for tweet in data['tokenized']]\n",
        "\n",
        "  #remove mentions: \n",
        "  data['tokenized']=data['tokenized'].apply(lambda x :[t for t in x.split() if not t.startswith('@')]).apply(lambda x: ' '.join(x))\n",
        "\n",
        "  data['tokenizedwithpunct'] = data['tokenized']\n",
        "  #remove special characters and numbers\n",
        "  data['tokenized'] = data['tokenized'].replace(r'[^A-Za-z]+', \" \", regex=True)\n",
        "  return data\n",
        "\n",
        "\n"
      ],
      "execution_count": null,
      "outputs": []
    },
    {
      "cell_type": "markdown",
      "metadata": {
        "id": "gDv5o8eN9Jv1"
      },
      "source": [
        "## Depression Data\n",
        "\n",
        "I create a dataframe of only the tweets from depressed indivduals to explore frequently used words and topics. I create a word cloud, which features words including depression, worthless, anti, anxiety, and functioning. "
      ]
    },
    {
      "cell_type": "code",
      "metadata": {
        "colab": {
          "base_uri": "https://localhost:8080/",
          "height": 323
        },
        "id": "pJj2EhiL7zzz",
        "outputId": "f0f20372-cefc-4fbb-e2e5-033952b44e71"
      },
      "source": [
        "df = clean_and_tokenize(df, 'message to examine')\n",
        "df.head()"
      ],
      "execution_count": null,
      "outputs": [
        {
          "output_type": "execute_result",
          "data": {
            "text/html": [
              "<div>\n",
              "<style scoped>\n",
              "    .dataframe tbody tr th:only-of-type {\n",
              "        vertical-align: middle;\n",
              "    }\n",
              "\n",
              "    .dataframe tbody tr th {\n",
              "        vertical-align: top;\n",
              "    }\n",
              "\n",
              "    .dataframe thead th {\n",
              "        text-align: right;\n",
              "    }\n",
              "</style>\n",
              "<table border=\"1\" class=\"dataframe\">\n",
              "  <thead>\n",
              "    <tr style=\"text-align: right;\">\n",
              "      <th></th>\n",
              "      <th>Index</th>\n",
              "      <th>message to examine</th>\n",
              "      <th>label (depression result)</th>\n",
              "      <th>tokenized</th>\n",
              "      <th>tokenizedandstemmed</th>\n",
              "    </tr>\n",
              "  </thead>\n",
              "  <tbody>\n",
              "    <tr>\n",
              "      <th>0</th>\n",
              "      <td>106</td>\n",
              "      <td>just had a real good moment. i missssssssss hi...</td>\n",
              "      <td>0</td>\n",
              "      <td>[just, had, a, real, good, moment, ., i, misss...</td>\n",
              "      <td>[just, had, a, real, good, moment, i, misss, h...</td>\n",
              "    </tr>\n",
              "    <tr>\n",
              "      <th>1</th>\n",
              "      <td>217</td>\n",
              "      <td>is reading manga  http://plurk.com/p/mzp1e</td>\n",
              "      <td>0</td>\n",
              "      <td>[is, reading, manga]</td>\n",
              "      <td>[is, read, manga]</td>\n",
              "    </tr>\n",
              "    <tr>\n",
              "      <th>2</th>\n",
              "      <td>220</td>\n",
              "      <td>@comeagainjen http://twitpic.com/2y2lx - http:...</td>\n",
              "      <td>0</td>\n",
              "      <td>[-]</td>\n",
              "      <td>[]</td>\n",
              "    </tr>\n",
              "    <tr>\n",
              "      <th>3</th>\n",
              "      <td>288</td>\n",
              "      <td>@lapcat Need to send 'em to my accountant tomo...</td>\n",
              "      <td>0</td>\n",
              "      <td>[need, to, send, ', em, to, my, accountant, to...</td>\n",
              "      <td>[need, to, send, em, to, my, account, tomorrow...</td>\n",
              "    </tr>\n",
              "    <tr>\n",
              "      <th>4</th>\n",
              "      <td>540</td>\n",
              "      <td>ADD ME ON MYSPACE!!!  myspace.com/LookThunder</td>\n",
              "      <td>0</td>\n",
              "      <td>[add, me, on, myspace, !, !, !]</td>\n",
              "      <td>[add, me, on, myspac]</td>\n",
              "    </tr>\n",
              "  </tbody>\n",
              "</table>\n",
              "</div>"
            ],
            "text/plain": [
              "   Index  ...                                tokenizedandstemmed\n",
              "0    106  ...  [just, had, a, real, good, moment, i, misss, h...\n",
              "1    217  ...                                  [is, read, manga]\n",
              "2    220  ...                                                 []\n",
              "3    288  ...  [need, to, send, em, to, my, account, tomorrow...\n",
              "4    540  ...                              [add, me, on, myspac]\n",
              "\n",
              "[5 rows x 5 columns]"
            ]
          },
          "metadata": {
            "tags": []
          },
          "execution_count": 15
        }
      ]
    },
    {
      "cell_type": "code",
      "metadata": {
        "colab": {
          "base_uri": "https://localhost:8080/",
          "height": 383
        },
        "id": "oAEgFskhEnR0",
        "outputId": "924f5a79-330f-40e2-a418-0164a97a0565"
      },
      "source": [
        "\n",
        "stop_words = stopwords.words('english')\n",
        "\n",
        "dep = df[df['label (depression result)'] == 1]\n",
        "dep.head()\n",
        "\n",
        "depressed_corpus = [item for sublist in dep['tokenized'] for item in sublist]\n",
        "filtered_depressed_corpus = [word for word in depressed_corpus if word not in stop_words]\n",
        "unique_depressed_corpus = set(filtered_depressed_corpus)\n",
        "unique_depressed_corpus = ' '.join(unique_depressed_corpus)\n",
        "wordcloud = WordCloud(max_words=80, background_color=\"white\").generate(unique_depressed_corpus)\n",
        "\n",
        "#display the generated image:\n",
        "plt.figure(figsize = (12,8))\n",
        "plt.imshow(wordcloud, interpolation='bilinear')\n",
        "plt.axis(\"off\")\n",
        "plt.show\n",
        "\n",
        "#wordcloud.to_file(\"img/depression.png\")\n"
      ],
      "execution_count": null,
      "outputs": [
        {
          "output_type": "execute_result",
          "data": {
            "text/plain": [
              "<function matplotlib.pyplot.show>"
            ]
          },
          "metadata": {
            "tags": []
          },
          "execution_count": 16
        },
        {
          "output_type": "display_data",
          "data": {
            "image/png": "[encoded data removed]",
            "text/plain": [
              "<Figure size 864x576 with 1 Axes>"
            ]
          },
          "metadata": {
            "tags": []
          }
        }
      ]
    },
    {
      "cell_type": "markdown",
      "metadata": {
        "id": "4VHYLBPT-_EU"
      },
      "source": [
        "### Depression Topic Modeling\n",
        "\n",
        "I prepare the depression data for NMF topic modeling and then apply topic modeling over the tweets. Most tweets relate to the experience of depression (1741). Smaller topics included those with lots of emojis, talk about preventing depression, or things that were related to depression. \n",
        "\n",
        "I remove common words from the dataset, as well as \"twitter\" and \"com\" as not important.  I use Tfidvectorizer to encode the data and have it count unigrams and bigrams.  Trigrams lowered the quality of the topics discovered. I experiment with different numbers of topics, but the model chose topics that made the most sense when choosing 7 topics.  The vast majority of tweets focus on their experience of having depression or daily life with depression.  Other topics include talking about preventing depression and risk factors for depression. "
      ]
    },
    {
      "cell_type": "code",
      "metadata": {
        "colab": {
          "base_uri": "https://localhost:8080/"
        },
        "id": "4CuUxn-4ojC6",
        "outputId": "25de36f8-a408-47cf-ad73-417e3a1d262e"
      },
      "source": [
        "\n",
        "dep = sentiment_prep(dep, 'message to examine')"
      ],
      "execution_count": null,
      "outputs": [
        {
          "output_type": "stream",
          "text": [
            "/usr/local/lib/python3.7/dist-packages/ipykernel_launcher.py:19: SettingWithCopyWarning: \n",
            "A value is trying to be set on a copy of a slice from a DataFrame.\n",
            "Try using .loc[row_indexer,col_indexer] = value instead\n",
            "\n",
            "See the caveats in the documentation: https://pandas.pydata.org/pandas-docs/stable/user_guide/indexing.html#returning-a-view-versus-a-copy\n",
            "/usr/local/lib/python3.7/dist-packages/ipykernel_launcher.py:20: SettingWithCopyWarning: \n",
            "A value is trying to be set on a copy of a slice from a DataFrame.\n",
            "Try using .loc[row_indexer,col_indexer] = value instead\n",
            "\n",
            "See the caveats in the documentation: https://pandas.pydata.org/pandas-docs/stable/user_guide/indexing.html#returning-a-view-versus-a-copy\n",
            "/usr/local/lib/python3.7/dist-packages/ipykernel_launcher.py:21: SettingWithCopyWarning: \n",
            "A value is trying to be set on a copy of a slice from a DataFrame.\n",
            "Try using .loc[row_indexer,col_indexer] = value instead\n",
            "\n",
            "See the caveats in the documentation: https://pandas.pydata.org/pandas-docs/stable/user_guide/indexing.html#returning-a-view-versus-a-copy\n",
            "/usr/local/lib/python3.7/dist-packages/ipykernel_launcher.py:24: SettingWithCopyWarning: \n",
            "A value is trying to be set on a copy of a slice from a DataFrame.\n",
            "Try using .loc[row_indexer,col_indexer] = value instead\n",
            "\n",
            "See the caveats in the documentation: https://pandas.pydata.org/pandas-docs/stable/user_guide/indexing.html#returning-a-view-versus-a-copy\n",
            "/usr/local/lib/python3.7/dist-packages/ipykernel_launcher.py:27: SettingWithCopyWarning: \n",
            "A value is trying to be set on a copy of a slice from a DataFrame.\n",
            "Try using .loc[row_indexer,col_indexer] = value instead\n",
            "\n",
            "See the caveats in the documentation: https://pandas.pydata.org/pandas-docs/stable/user_guide/indexing.html#returning-a-view-versus-a-copy\n",
            "/usr/local/lib/python3.7/dist-packages/ipykernel_launcher.py:30: SettingWithCopyWarning: \n",
            "A value is trying to be set on a copy of a slice from a DataFrame.\n",
            "Try using .loc[row_indexer,col_indexer] = value instead\n",
            "\n",
            "See the caveats in the documentation: https://pandas.pydata.org/pandas-docs/stable/user_guide/indexing.html#returning-a-view-versus-a-copy\n",
            "/usr/local/lib/python3.7/dist-packages/ipykernel_launcher.py:32: SettingWithCopyWarning: \n",
            "A value is trying to be set on a copy of a slice from a DataFrame.\n",
            "Try using .loc[row_indexer,col_indexer] = value instead\n",
            "\n",
            "See the caveats in the documentation: https://pandas.pydata.org/pandas-docs/stable/user_guide/indexing.html#returning-a-view-versus-a-copy\n",
            "/usr/local/lib/python3.7/dist-packages/ipykernel_launcher.py:34: SettingWithCopyWarning: \n",
            "A value is trying to be set on a copy of a slice from a DataFrame.\n",
            "Try using .loc[row_indexer,col_indexer] = value instead\n",
            "\n",
            "See the caveats in the documentation: https://pandas.pydata.org/pandas-docs/stable/user_guide/indexing.html#returning-a-view-versus-a-copy\n"
          ],
          "name": "stderr"
        }
      ]
    },
    {
      "cell_type": "code",
      "metadata": {
        "id": "zS0IG0yedIkC"
      },
      "source": [
        "## creating document term matrix\n",
        "\n",
        "#removing stop words and twitter\n",
        "\n",
        "stop = stopwords.words('english')\n",
        "stop += 'twitter', 'com'\n",
        "\n",
        "tfidf = TfidfVectorizer(max_df=0.95, stop_words=stop, ngram_range=(1,2))\n",
        "dtm = tfidf.fit_transform(dep['tokenized'])\n"
      ],
      "execution_count": null,
      "outputs": []
    },
    {
      "cell_type": "code",
      "metadata": {
        "id": "sY1R5GekcdDw"
      },
      "source": [
        "nmf_model = NMF(n_components=7, random_state=42)\n",
        "topics = nmf_model.fit_transform(dtm)"
      ],
      "execution_count": null,
      "outputs": []
    },
    {
      "cell_type": "code",
      "metadata": {
        "colab": {
          "base_uri": "https://localhost:8080/"
        },
        "id": "o8YAIyBjbI9q",
        "outputId": "247b03df-90a1-443e-8700-3e323280d626"
      },
      "source": [
        "for index, topic in enumerate(nmf_model.components_):\n",
        "  print(f'The top 10 words for topic #{index}')\n",
        "  print([tfidf.get_feature_names()[i] for i in topic.argsort()[-10:]])\n",
        "  print('\\n')"
      ],
      "execution_count": null,
      "outputs": [
        {
          "output_type": "stream",
          "text": [
            "The top 10 words for topic #0\n",
            "['emotional', 'development', 'mom depression', 'tied', 'intellectual', 'kids emotional', 'depression tied', 'tied kids', 'emotional intellectual', 'intellectual development']\n",
            "\n",
            "\n",
            "The top 10 words for topic #1\n",
            "['depression news', 'one us', 'anxiety', 'anxiety depression', 'us', 'children', 'teens', 'teens anxiety', 'children teens', 'us children']\n",
            "\n",
            "\n",
            "The top 10 words for topic #2\n",
            "['depression emoji', 'emoji face', 'face emoji', 'emoji loudly', 'loudly', 'loudly crying', 'crying', 'crying face', 'face', 'emoji']\n",
            "\n",
            "\n",
            "The top 10 words for topic #3\n",
            "['could one', 'cannabis ease', 'one', 'could', 'puff cannabis', 'ease', 'ease depression', 'one puff', 'puff', 'cannabis']\n",
            "\n",
            "\n",
            "The top 10 words for topic #4\n",
            "['feel', 'get', 'anxiety depression', 'mental', 'people', 'pic', 'know', 'like', 'depression anxiety', 'anxiety']\n",
            "\n",
            "\n",
            "The top 10 words for topic #5\n",
            "['study suggests', 'regularly', 'exercising regularly', 'depression study', 'regularly cuts', 'cuts', 'cuts risk', 'exercising', 'risk depression', 'risk']\n",
            "\n",
            "\n",
            "The top 10 words for topic #6\n",
            "['real rn', 'bruh', 'real bruh', 'anxiety real', 'post', 'hours', 'depression hours', 'real depression', 'depression real', 'real']\n",
            "\n",
            "\n"
          ],
          "name": "stdout"
        }
      ]
    },
    {
      "cell_type": "code",
      "metadata": {
        "colab": {
          "base_uri": "https://localhost:8080/"
        },
        "id": "wojBd1YhkgC5",
        "outputId": "f116d856-4e66-4091-fda2-1a4d5fc6f218"
      },
      "source": [
        "dep['Topic'] = topics.argmax(axis=1)\n",
        "naming={0: 'depression_ties', 1: 'news', 2: 'emoji', 3: 'cannabis', 4: 'depression_experience', 5: 'prevent_depression', 6: 'real'}\n",
        "dep['topic_name']  = dep['Topic'].map(naming)"
      ],
      "execution_count": null,
      "outputs": [
        {
          "output_type": "stream",
          "text": [
            "/usr/local/lib/python3.7/dist-packages/ipykernel_launcher.py:1: SettingWithCopyWarning: \n",
            "A value is trying to be set on a copy of a slice from a DataFrame.\n",
            "Try using .loc[row_indexer,col_indexer] = value instead\n",
            "\n",
            "See the caveats in the documentation: https://pandas.pydata.org/pandas-docs/stable/user_guide/indexing.html#returning-a-view-versus-a-copy\n",
            "  \"\"\"Entry point for launching an IPython kernel.\n",
            "/usr/local/lib/python3.7/dist-packages/ipykernel_launcher.py:3: SettingWithCopyWarning: \n",
            "A value is trying to be set on a copy of a slice from a DataFrame.\n",
            "Try using .loc[row_indexer,col_indexer] = value instead\n",
            "\n",
            "See the caveats in the documentation: https://pandas.pydata.org/pandas-docs/stable/user_guide/indexing.html#returning-a-view-versus-a-copy\n",
            "  This is separate from the ipykernel package so we can avoid doing imports until\n"
          ],
          "name": "stderr"
        }
      ]
    },
    {
      "cell_type": "code",
      "metadata": {
        "colab": {
          "base_uri": "https://localhost:8080/",
          "height": 650
        },
        "id": "tLeftr-zlxHG",
        "outputId": "46cbcbc9-fe83-456e-80f0-0ed990e44717"
      },
      "source": [
        "pd.set_option('display.max_colwidth', None)\n",
        "dep[['message to examine', 'topic_name']].head(10)"
      ],
      "execution_count": null,
      "outputs": [
        {
          "output_type": "execute_result",
          "data": {
            "text/html": [
              "<div>\n",
              "<style scoped>\n",
              "    .dataframe tbody tr th:only-of-type {\n",
              "        vertical-align: middle;\n",
              "    }\n",
              "\n",
              "    .dataframe tbody tr th {\n",
              "        vertical-align: top;\n",
              "    }\n",
              "\n",
              "    .dataframe thead th {\n",
              "        text-align: right;\n",
              "    }\n",
              "</style>\n",
              "<table border=\"1\" class=\"dataframe\">\n",
              "  <thead>\n",
              "    <tr style=\"text-align: right;\">\n",
              "      <th></th>\n",
              "      <th>message to examine</th>\n",
              "      <th>topic_name</th>\n",
              "    </tr>\n",
              "  </thead>\n",
              "  <tbody>\n",
              "    <tr>\n",
              "      <th>8000</th>\n",
              "      <td>The lack of this understanding is a small but significant part of what causes anxiety &amp; depression to both feel so incredibly lonely. It's soooo easy to compare. It's so easy to invalidate ourselves because of that.</td>\n",
              "      <td>depression_experience</td>\n",
              "    </tr>\n",
              "    <tr>\n",
              "      <th>8001</th>\n",
              "      <td>i just told my parents about my depression and it's so hard to get gen x people to understand that this is not something that i can control all the time or just cure with a walk or by keeping my mind busy</td>\n",
              "      <td>depression_experience</td>\n",
              "    </tr>\n",
              "    <tr>\n",
              "      <th>8002</th>\n",
              "      <td>depression is something i don't speak about even going through it because it's also such a double edged sword. i love every race. even if white people had done so much i can't hate them all. my grandma is legit white! how tf can i hate, i do dislike people though.</td>\n",
              "      <td>depression_experience</td>\n",
              "    </tr>\n",
              "    <tr>\n",
              "      <th>8003</th>\n",
              "      <td>Made myself a tortilla filled with pb&amp;j. My depression is cured. Olivia:1 depression:0</td>\n",
              "      <td>depression_experience</td>\n",
              "    </tr>\n",
              "    <tr>\n",
              "      <th>8004</th>\n",
              "      <td>@WorldofOutlaws I am gonna need depression meds soon, these rainouts are spinning my equilibrium out &lt;Emoji: Pouting face&gt; Mother Nature is being a mean B-T-H &lt;Emoji: Face with symbols over mouth&gt;</td>\n",
              "      <td>emoji</td>\n",
              "    </tr>\n",
              "    <tr>\n",
              "      <th>8005</th>\n",
              "      <td>my anxiety and my depression fighting over whos day it is  https://twitter.com/crissles/status/988218861697806336Â â¦</td>\n",
              "      <td>depression_experience</td>\n",
              "    </tr>\n",
              "    <tr>\n",
              "      <th>8006</th>\n",
              "      <td>wow she's suddenly cured my depression and gave us world peace  https://twitter.com/bearfaceingtons/status/989289124883566593Â â¦</td>\n",
              "      <td>news</td>\n",
              "    </tr>\n",
              "    <tr>\n",
              "      <th>8007</th>\n",
              "      <td>I am officially done with @kanyewest. him, the neptunes, justin timberlake, timbaland. got me out of depression when I was in younger. a lot of these artist have changed their sounds and I have still supported them, but this is too far</td>\n",
              "      <td>depression_experience</td>\n",
              "    </tr>\n",
              "    <tr>\n",
              "      <th>8008</th>\n",
              "      <td>Me: what's wrong?My girl: *looks up at me with look of depression and stress on her face**Me: same babe same. #examseason</td>\n",
              "      <td>emoji</td>\n",
              "    </tr>\n",
              "    <tr>\n",
              "      <th>8009</th>\n",
              "      <td>@AusBorderForce @PeterDutton_MP @shanebazzi Agreed &lt;Emoji: Clapping hands sign&gt;&lt;Emoji: Clapping hands sign&gt;&lt;Emoji: Clapping hands sign&gt;As someone with long experience of clinical depression I'd like to add this:Of course she fuckingwell yells and hits her head on the wall and says she wants to dieNobody can live forever without hopeShe won't get better while kept indefinitely on Nauru</td>\n",
              "      <td>emoji</td>\n",
              "    </tr>\n",
              "  </tbody>\n",
              "</table>\n",
              "</div>"
            ],
            "text/plain": [
              "                                                                                                                                                                                                                                                                                                                                                                                       message to examine             topic_name\n",
              "8000                                                                                                                                                                              The lack of this understanding is a small but significant part of what causes anxiety & depression to both feel so incredibly lonely. It's soooo easy to compare. It's so easy to invalidate ourselves because of that.  depression_experience\n",
              "8001                                                                                                                                                                                         i just told my parents about my depression and it's so hard to get gen x people to understand that this is not something that i can control all the time or just cure with a walk or by keeping my mind busy  depression_experience\n",
              "8002                                                                                                                             depression is something i don't speak about even going through it because it's also such a double edged sword. i love every race. even if white people had done so much i can't hate them all. my grandma is legit white! how tf can i hate, i do dislike people though.  depression_experience\n",
              "8003                                                                                                                                                                                                                                                                                                               Made myself a tortilla filled with pb&j. My depression is cured. Olivia:1 depression:0  depression_experience\n",
              "8004                                                                                                                                                                                                 @WorldofOutlaws I am gonna need depression meds soon, these rainouts are spinning my equilibrium out <Emoji: Pouting face> Mother Nature is being a mean B-T-H <Emoji: Face with symbols over mouth>                  emoji\n",
              "8005                                                                                                                                                                                                                                                                               my anxiety and my depression fighting over whos day it is  https://twitter.com/crissles/status/988218861697806336Â â¦  depression_experience\n",
              "8006                                                                                                                                                                                                                                                                   wow she's suddenly cured my depression and gave us world peace  https://twitter.com/bearfaceingtons/status/989289124883566593Â â¦                   news\n",
              "8007                                                                                                                                                          I am officially done with @kanyewest. him, the neptunes, justin timberlake, timbaland. got me out of depression when I was in younger. a lot of these artist have changed their sounds and I have still supported them, but this is too far  depression_experience\n",
              "8008                                                                                                                                                                                                                                                                            Me: what's wrong?My girl: *looks up at me with look of depression and stress on her face**Me: same babe same. #examseason                  emoji\n",
              "8009  @AusBorderForce @PeterDutton_MP @shanebazzi Agreed <Emoji: Clapping hands sign><Emoji: Clapping hands sign><Emoji: Clapping hands sign>As someone with long experience of clinical depression I'd like to add this:Of course she fuckingwell yells and hits her head on the wall and says she wants to dieNobody can live forever without hopeShe won't get better while kept indefinitely on Nauru                  emoji"
            ]
          },
          "metadata": {
            "tags": []
          },
          "execution_count": 22
        }
      ]
    },
    {
      "cell_type": "code",
      "metadata": {
        "colab": {
          "base_uri": "https://localhost:8080/"
        },
        "id": "xA2lMulStUO0",
        "outputId": "4cfc8e8b-3b77-4eba-c8d9-78c593e14546"
      },
      "source": [
        "dep['topic_name'].value_counts()"
      ],
      "execution_count": null,
      "outputs": [
        {
          "output_type": "execute_result",
          "data": {
            "text/plain": [
              "depression_experience    1739\n",
              "emoji                     234\n",
              "prevent_depression         97\n",
              "depression_ties            83\n",
              "real                       68\n",
              "cannabis                   57\n",
              "news                       36\n",
              "Name: topic_name, dtype: int64"
            ]
          },
          "metadata": {
            "tags": []
          },
          "execution_count": 23
        }
      ]
    },
    {
      "cell_type": "markdown",
      "metadata": {
        "id": "2ttu1yE7DUfU"
      },
      "source": [
        "### Depression Sentiment Analysis\n",
        "\n",
        "I use VADER sentiment analysis to compare the sentiments of tweets from clinically depressed individuals and non-depressed individuals. VADER is specifically tuned for social media language. I prepare the tweets for analysis but keep punctuation and capitalization as VADER analysis takes that into account. I then add up the polarity scores for positive, neutral, and negative and make them into percentages for easy comparison with the sentiment analysis for tweets from non-depressed individuals. Nearly 30% of depressed tweets were negative, and only approximately 10% are positive.  \n",
        "\n"
      ]
    },
    {
      "cell_type": "code",
      "metadata": {
        "id": "of3uGfg7mROT"
      },
      "source": [
        "def sentimentscores(dataframe):\n",
        "  \"\"\" Calculates polarity scores for dataframe. \n",
        "  \n",
        "  Paramaters:\n",
        "  dataframe - dataframe with tweets to be analyzed\n",
        "  \n",
        "  Output:\n",
        "  dataframe - with polarity scores added as a column\n",
        "  neg_percent - percentage of tweets with negative sentiment\n",
        "  neu_percent - percentage of tweets with neutral sentiment\n",
        "  pos_percent - precenage of tweets with positive sentiment \n",
        "  \"\"\"\n",
        "\n",
        "  analyzer = SentimentIntensityAnalyzer()\n",
        "  scores = []\n",
        "  for index, row in dataframe.iterrows():\n",
        "      s = analyzer.polarity_scores(row['tokenizedwithpunct'])\n",
        "      scores.append(s)\n",
        "\n",
        "  sentscores = pd.Series(scores)\n",
        "  dataframe['polarity'] = sentscores.values\n",
        "\n",
        "\n",
        "  #compute the totals for the negative, neutral, and positive setiment expressed\n",
        "\n",
        "  neg, neu, pos = 0, 0, 0\n",
        "\n",
        "  for s in sentscores:\n",
        "    neg += s['neg']\n",
        "    neu += s['neu']\n",
        "    pos += s['pos']\n",
        "\n",
        "  #turn them into percentages in order to compare with non-depressed data\n",
        "\n",
        "  neg_percent = neg/(neg+neu+pos) * 100\n",
        "  neu_percent = neu/(neg+neu+pos) * 100\n",
        "  pos_percent = pos/(neg+neu+pos) * 100\n",
        "\n",
        "  return dataframe, neg_percent, neu_percent, pos_percent\n"
      ],
      "execution_count": null,
      "outputs": []
    },
    {
      "cell_type": "code",
      "metadata": {
        "colab": {
          "base_uri": "https://localhost:8080/"
        },
        "id": "ELs4uxIhorRN",
        "outputId": "0c948b75-1e14-4b36-9f4b-ea88471e6689"
      },
      "source": [
        "dep, neg_percent, neu_percent, pos_percent = sentimentscores(dep)"
      ],
      "execution_count": null,
      "outputs": [
        {
          "output_type": "stream",
          "text": [
            "/usr/local/lib/python3.7/dist-packages/ipykernel_launcher.py:21: SettingWithCopyWarning: \n",
            "A value is trying to be set on a copy of a slice from a DataFrame.\n",
            "Try using .loc[row_indexer,col_indexer] = value instead\n",
            "\n",
            "See the caveats in the documentation: https://pandas.pydata.org/pandas-docs/stable/user_guide/indexing.html#returning-a-view-versus-a-copy\n"
          ],
          "name": "stderr"
        }
      ]
    },
    {
      "cell_type": "code",
      "metadata": {
        "colab": {
          "base_uri": "https://localhost:8080/",
          "height": 354
        },
        "id": "Adt_6qclOa27",
        "outputId": "0a77d8e0-12d3-4cd7-8ab1-1d282c7e2d9c"
      },
      "source": [
        "labels = ['Negative', 'Neutral', 'Positive']\n",
        "index = np.arange(len(labels))\n",
        "plt.bar(index,[neg_percent,neu_percent,pos_percent],color=['red','black','green'])\n",
        "plt.ylabel('Percentage of Sentiments', fontsize=15)\n",
        "plt.xlabel('Polarity', fontsize=15)\n",
        "plt.xticks(index, labels, fontsize=15, rotation=30)\n",
        "plt.title('Sentiment analysis of depressed tweets')"
      ],
      "execution_count": null,
      "outputs": [
        {
          "output_type": "execute_result",
          "data": {
            "text/plain": [
              "Text(0.5, 1.0, 'Sentiment analysis of depressed tweets')"
            ]
          },
          "metadata": {
            "tags": []
          },
          "execution_count": 26
        },
        {
          "output_type": "display_data",
          "data": {
            "image/png": "[encoded data removed]",
            "text/plain": [
              "<Figure size 432x288 with 1 Axes>"
            ]
          },
          "metadata": {
            "tags": []
          }
        }
      ]
    },
    {
      "cell_type": "markdown",
      "metadata": {
        "id": "a909xpsdFX43"
      },
      "source": [
        "## Sentiment Analysis of Tweets from Non-Depressed Individuals \n",
        "\n",
        "I create a wordcloud from the tweets from non-depressed individuals. Frequently used words include love, lol, thank, and good. I then do VADER sentiment analysis to compare it with the sentiment analysis from tweets from clinically depressed individuals. I prepare the data the same as I did above for depressed individuals. Nondepressed individuals had a very low (less than 5%) amount of negative tweets. \n",
        "\n"
      ]
    },
    {
      "cell_type": "code",
      "metadata": {
        "colab": {
          "base_uri": "https://localhost:8080/",
          "height": 383
        },
        "id": "znRE4sbdK3Dq",
        "outputId": "0796de2c-ac7a-4cda-950b-13af8797fb13"
      },
      "source": [
        "notdepressed = df[df['label (depression result)'] == 0]\n",
        "notdepressed_corpus = [item for sublist in notdepressed['tokenized'] for item in sublist]\n",
        "filtered_notdepressed_corpus = [word for word in notdepressed_corpus if word not in stop_words]\n",
        "filtered_notdepressed_corpus = ' '.join(filtered_notdepressed_corpus)\n",
        "wordcloud = WordCloud(max_words=100, background_color=\"white\").generate(filtered_notdepressed_corpus)\n",
        "\n",
        "#display the generated image:\n",
        "plt.figure(figsize = (12,8))\n",
        "plt.imshow(wordcloud, interpolation='bilinear')\n",
        "plt.axis(\"off\")\n",
        "plt.show\n",
        "\n",
        "#wordcloud.to_file(\"img/notdepressed.png\")"
      ],
      "execution_count": null,
      "outputs": [
        {
          "output_type": "execute_result",
          "data": {
            "text/plain": [
              "<function matplotlib.pyplot.show>"
            ]
          },
          "metadata": {
            "tags": []
          },
          "execution_count": 27
        },
        {
          "output_type": "display_data",
          "data": {
            "image/png": "[encoded data removed]",
            "text/plain": [
              "<Figure size 864x576 with 1 Axes>"
            ]
          },
          "metadata": {
            "tags": []
          }
        }
      ]
    },
    {
      "cell_type": "code",
      "metadata": {
        "colab": {
          "base_uri": "https://localhost:8080/",
          "height": 1000
        },
        "id": "jxZ3BI9xGJdQ",
        "outputId": "872dd073-b6b9-4747-efe1-11d86799c144"
      },
      "source": [
        "#prepare the data for VADER analysis \n",
        "\n",
        "notdepressed = sentiment_prep(notdepressed, 'message to examine')\n",
        "\n",
        "notdepressed.head(10)"
      ],
      "execution_count": null,
      "outputs": [
        {
          "output_type": "stream",
          "text": [
            "/usr/local/lib/python3.7/dist-packages/ipykernel_launcher.py:19: SettingWithCopyWarning: \n",
            "A value is trying to be set on a copy of a slice from a DataFrame.\n",
            "Try using .loc[row_indexer,col_indexer] = value instead\n",
            "\n",
            "See the caveats in the documentation: https://pandas.pydata.org/pandas-docs/stable/user_guide/indexing.html#returning-a-view-versus-a-copy\n",
            "/usr/local/lib/python3.7/dist-packages/ipykernel_launcher.py:20: SettingWithCopyWarning: \n",
            "A value is trying to be set on a copy of a slice from a DataFrame.\n",
            "Try using .loc[row_indexer,col_indexer] = value instead\n",
            "\n",
            "See the caveats in the documentation: https://pandas.pydata.org/pandas-docs/stable/user_guide/indexing.html#returning-a-view-versus-a-copy\n",
            "/usr/local/lib/python3.7/dist-packages/ipykernel_launcher.py:21: SettingWithCopyWarning: \n",
            "A value is trying to be set on a copy of a slice from a DataFrame.\n",
            "Try using .loc[row_indexer,col_indexer] = value instead\n",
            "\n",
            "See the caveats in the documentation: https://pandas.pydata.org/pandas-docs/stable/user_guide/indexing.html#returning-a-view-versus-a-copy\n",
            "/usr/local/lib/python3.7/dist-packages/ipykernel_launcher.py:24: SettingWithCopyWarning: \n",
            "A value is trying to be set on a copy of a slice from a DataFrame.\n",
            "Try using .loc[row_indexer,col_indexer] = value instead\n",
            "\n",
            "See the caveats in the documentation: https://pandas.pydata.org/pandas-docs/stable/user_guide/indexing.html#returning-a-view-versus-a-copy\n",
            "/usr/local/lib/python3.7/dist-packages/ipykernel_launcher.py:27: SettingWithCopyWarning: \n",
            "A value is trying to be set on a copy of a slice from a DataFrame.\n",
            "Try using .loc[row_indexer,col_indexer] = value instead\n",
            "\n",
            "See the caveats in the documentation: https://pandas.pydata.org/pandas-docs/stable/user_guide/indexing.html#returning-a-view-versus-a-copy\n",
            "/usr/local/lib/python3.7/dist-packages/ipykernel_launcher.py:30: SettingWithCopyWarning: \n",
            "A value is trying to be set on a copy of a slice from a DataFrame.\n",
            "Try using .loc[row_indexer,col_indexer] = value instead\n",
            "\n",
            "See the caveats in the documentation: https://pandas.pydata.org/pandas-docs/stable/user_guide/indexing.html#returning-a-view-versus-a-copy\n",
            "/usr/local/lib/python3.7/dist-packages/ipykernel_launcher.py:32: SettingWithCopyWarning: \n",
            "A value is trying to be set on a copy of a slice from a DataFrame.\n",
            "Try using .loc[row_indexer,col_indexer] = value instead\n",
            "\n",
            "See the caveats in the documentation: https://pandas.pydata.org/pandas-docs/stable/user_guide/indexing.html#returning-a-view-versus-a-copy\n",
            "/usr/local/lib/python3.7/dist-packages/ipykernel_launcher.py:34: SettingWithCopyWarning: \n",
            "A value is trying to be set on a copy of a slice from a DataFrame.\n",
            "Try using .loc[row_indexer,col_indexer] = value instead\n",
            "\n",
            "See the caveats in the documentation: https://pandas.pydata.org/pandas-docs/stable/user_guide/indexing.html#returning-a-view-versus-a-copy\n"
          ],
          "name": "stderr"
        },
        {
          "output_type": "execute_result",
          "data": {
            "text/html": [
              "<div>\n",
              "<style scoped>\n",
              "    .dataframe tbody tr th:only-of-type {\n",
              "        vertical-align: middle;\n",
              "    }\n",
              "\n",
              "    .dataframe tbody tr th {\n",
              "        vertical-align: top;\n",
              "    }\n",
              "\n",
              "    .dataframe thead th {\n",
              "        text-align: right;\n",
              "    }\n",
              "</style>\n",
              "<table border=\"1\" class=\"dataframe\">\n",
              "  <thead>\n",
              "    <tr style=\"text-align: right;\">\n",
              "      <th></th>\n",
              "      <th>Index</th>\n",
              "      <th>message to examine</th>\n",
              "      <th>label (depression result)</th>\n",
              "      <th>tokenized</th>\n",
              "      <th>tokenizedandstemmed</th>\n",
              "      <th>tokenizedwithpunct</th>\n",
              "    </tr>\n",
              "  </thead>\n",
              "  <tbody>\n",
              "    <tr>\n",
              "      <th>0</th>\n",
              "      <td>106</td>\n",
              "      <td>just had a real good moment. i missssssssss him so much,</td>\n",
              "      <td>0</td>\n",
              "      <td>just had a real good moment i missssssssss him so much</td>\n",
              "      <td>[just, had, a, real, good, moment, i, misss, him, so, much]</td>\n",
              "      <td>just had a real good moment. i missssssssss him so much,</td>\n",
              "    </tr>\n",
              "    <tr>\n",
              "      <th>1</th>\n",
              "      <td>217</td>\n",
              "      <td>is reading manga  http://plurk.com/p/mzp1e</td>\n",
              "      <td>0</td>\n",
              "      <td>is reading manga</td>\n",
              "      <td>[is, read, manga]</td>\n",
              "      <td>is reading manga</td>\n",
              "    </tr>\n",
              "    <tr>\n",
              "      <th>2</th>\n",
              "      <td>220</td>\n",
              "      <td>@comeagainjen http://twitpic.com/2y2lx - http://www.youtube.com/watch?v=zoGfqvh2ME8</td>\n",
              "      <td>0</td>\n",
              "      <td></td>\n",
              "      <td>[]</td>\n",
              "      <td>-</td>\n",
              "    </tr>\n",
              "    <tr>\n",
              "      <th>3</th>\n",
              "      <td>288</td>\n",
              "      <td>@lapcat Need to send 'em to my accountant tomorrow. Oddly, I wasn't even referring to my taxes. Those are supporting evidence, though.</td>\n",
              "      <td>0</td>\n",
              "      <td>Need to send em to my accountant tomorrow Oddly I wasn t even referring to my taxes Those are supporting evidence though</td>\n",
              "      <td>[need, to, send, em, to, my, account, tomorrow, oddli, i, even, refer, to, my, tax, those, are, support, evid, though]</td>\n",
              "      <td>Need to send 'em to my accountant tomorrow. Oddly, I wasn't even referring to my taxes. Those are supporting evidence, though.</td>\n",
              "    </tr>\n",
              "    <tr>\n",
              "      <th>4</th>\n",
              "      <td>540</td>\n",
              "      <td>ADD ME ON MYSPACE!!!  myspace.com/LookThunder</td>\n",
              "      <td>0</td>\n",
              "      <td>ADD ME ON MYSPACE</td>\n",
              "      <td>[add, me, on, myspac]</td>\n",
              "      <td>ADD ME ON MYSPACE!!!</td>\n",
              "    </tr>\n",
              "    <tr>\n",
              "      <th>5</th>\n",
              "      <td>624</td>\n",
              "      <td>so sleepy. good times tonight though</td>\n",
              "      <td>0</td>\n",
              "      <td>so sleepy good times tonight though</td>\n",
              "      <td>[so, sleepi, good, time, tonight, though]</td>\n",
              "      <td>so sleepy. good times tonight though</td>\n",
              "    </tr>\n",
              "    <tr>\n",
              "      <th>6</th>\n",
              "      <td>701</td>\n",
              "      <td>@SilkCharm re: #nbn as someone already said, does fiber to the home mean we will all at least be regular now</td>\n",
              "      <td>0</td>\n",
              "      <td>re nbn as someone already said does fiber to the home mean we will all at least be regular now</td>\n",
              "      <td>[re, nbn, as, someon, alreadi, said, doe, fiber, to, the, home, mean, we, will, all, at, least, be, regular, now]</td>\n",
              "      <td>re: nbn as someone already said, does fiber to the home mean we will all at least be regular now</td>\n",
              "    </tr>\n",
              "    <tr>\n",
              "      <th>7</th>\n",
              "      <td>808</td>\n",
              "      <td>23 or 24ï¿½C possible today. Nice</td>\n",
              "      <td>0</td>\n",
              "      <td>or C possible today Nice</td>\n",
              "      <td>[or, ï, ½c, possibl, today, nice]</td>\n",
              "      <td>or ï¿½C possible today. Nice</td>\n",
              "    </tr>\n",
              "    <tr>\n",
              "      <th>8</th>\n",
              "      <td>1193</td>\n",
              "      <td>nite twitterville  workout in the am  -ciao</td>\n",
              "      <td>0</td>\n",
              "      <td>nite twitterville workout in the am ciao</td>\n",
              "      <td>[nite, twittervil, workout, in, the, am, ciao]</td>\n",
              "      <td>nite twitterville workout in the am -ciao</td>\n",
              "    </tr>\n",
              "    <tr>\n",
              "      <th>9</th>\n",
              "      <td>1324</td>\n",
              "      <td>@daNanner Night, darlin'!  Sweet dreams to you</td>\n",
              "      <td>0</td>\n",
              "      <td>Night darlin Sweet dreams to you</td>\n",
              "      <td>[night, darlin, sweet, dream, to, you]</td>\n",
              "      <td>Night, darlin'! Sweet dreams to you</td>\n",
              "    </tr>\n",
              "  </tbody>\n",
              "</table>\n",
              "</div>"
            ],
            "text/plain": [
              "   Index  ...                                                                                                              tokenizedwithpunct\n",
              "0    106  ...                                                                        just had a real good moment. i missssssssss him so much,\n",
              "1    217  ...                                                                                                                is reading manga\n",
              "2    220  ...                                                                                                                               -\n",
              "3    288  ...  Need to send 'em to my accountant tomorrow. Oddly, I wasn't even referring to my taxes. Those are supporting evidence, though.\n",
              "4    540  ...                                                                                                            ADD ME ON MYSPACE!!!\n",
              "5    624  ...                                                                                            so sleepy. good times tonight though\n",
              "6    701  ...                                re: nbn as someone already said, does fiber to the home mean we will all at least be regular now\n",
              "7    808  ...                                                                                                    or ï¿½C possible today. Nice\n",
              "8   1193  ...                                                                                       nite twitterville workout in the am -ciao\n",
              "9   1324  ...                                                                                             Night, darlin'! Sweet dreams to you\n",
              "\n",
              "[10 rows x 6 columns]"
            ]
          },
          "metadata": {
            "tags": []
          },
          "execution_count": 28
        }
      ]
    },
    {
      "cell_type": "code",
      "metadata": {
        "colab": {
          "base_uri": "https://localhost:8080/"
        },
        "id": "0O4tXKgmpRjN",
        "outputId": "82eb934e-1078-4660-cd52-e80360cbe7d2"
      },
      "source": [
        "notdepressed, ndneg_percent, ndneu_percent, ndpos_percent = sentimentscores(notdepressed)"
      ],
      "execution_count": null,
      "outputs": [
        {
          "output_type": "stream",
          "text": [
            "/usr/local/lib/python3.7/dist-packages/ipykernel_launcher.py:21: SettingWithCopyWarning: \n",
            "A value is trying to be set on a copy of a slice from a DataFrame.\n",
            "Try using .loc[row_indexer,col_indexer] = value instead\n",
            "\n",
            "See the caveats in the documentation: https://pandas.pydata.org/pandas-docs/stable/user_guide/indexing.html#returning-a-view-versus-a-copy\n"
          ],
          "name": "stderr"
        }
      ]
    },
    {
      "cell_type": "code",
      "metadata": {
        "colab": {
          "base_uri": "https://localhost:8080/",
          "height": 354
        },
        "id": "xDqWVjUJlHf7",
        "outputId": "2a2308d1-2eb2-4883-f2a8-a1ad3043d184"
      },
      "source": [
        "labels = ['Negative', 'Neutral', 'Positive']\n",
        "index = np.arange(len(labels))\n",
        "plt.bar(index,[ndneg_percent,ndneu_percent,ndpos_percent],color=['red','black','green'])\n",
        "plt.ylabel('Percent of Sentiments', fontsize=15)\n",
        "plt.xlabel('Polarity', fontsize=15)\n",
        "plt.xticks(index, labels, fontsize=15, rotation=30)\n",
        "plt.title('Sentiment analysis of not-depressed tweets')\n"
      ],
      "execution_count": null,
      "outputs": [
        {
          "output_type": "execute_result",
          "data": {
            "text/plain": [
              "Text(0.5, 1.0, 'Sentiment analysis of not-depressed tweets')"
            ]
          },
          "metadata": {
            "tags": []
          },
          "execution_count": 30
        },
        {
          "output_type": "display_data",
          "data": {
            "image/png": "[encoded data removed]",
            "text/plain": [
              "<Figure size 432x288 with 1 Axes>"
            ]
          },
          "metadata": {
            "tags": []
          }
        }
      ]
    },
    {
      "cell_type": "markdown",
      "metadata": {
        "id": "yZJzbosAHJiU"
      },
      "source": [
        "## Comparison of Sentiment Analysis\n",
        "\n",
        "Clinically depressed indviduals posted more negative tweets, less positive tweets, and slightly less neutral tweets than non-depressed individuals. This means that more attention needs to be paid to negative tweets when trying to target depressed individuals. "
      ]
    },
    {
      "cell_type": "code",
      "metadata": {
        "colab": {
          "base_uri": "https://localhost:8080/",
          "height": 354
        },
        "id": "mUSgd25v0dhz",
        "outputId": "9d3f7506-0b26-4460-eee6-97119b4558fa"
      },
      "source": [
        "labels = ['Negative', 'Neutral', 'Positive']\n",
        "index = np.arange(len(labels))\n",
        "plt.bar(index,[ndneg_percent,ndneu_percent,ndpos_percent],color='pink')\n",
        "plt.bar(index,[neg_percent,neu_percent,pos_percent],bottom = [ndneg_percent,ndneu_percent,ndpos_percent], \n",
        "        color='black')\n",
        "plt.ylabel('Percent Count of Sentiments', fontsize=15)\n",
        "plt.xlabel('Polarity', fontsize=15)\n",
        "plt.xticks(index, labels, fontsize=15, rotation=30)\n",
        "plt.legend([\"not depressed\", \"depressed\"])\n",
        "plt.title('Sentiment Analysis of  Tweets')"
      ],
      "execution_count": null,
      "outputs": [
        {
          "output_type": "execute_result",
          "data": {
            "text/plain": [
              "Text(0.5, 1.0, 'Sentiment Analysis of  Tweets')"
            ]
          },
          "metadata": {
            "tags": []
          },
          "execution_count": 31
        },
        {
          "output_type": "display_data",
          "data": {
            "image/png": "[encoded data removed]",
            "text/plain": [
              "<Figure size 432x288 with 1 Axes>"
            ]
          },
          "metadata": {
            "tags": []
          }
        }
      ]
    },
    {
      "cell_type": "markdown",
      "metadata": {
        "id": "mhFJlCvFHuh5"
      },
      "source": [
        "## Modeling\n",
        "\n",
        "The data was prepared for modeling by removing punctuation, special characters, URLs, and capitalization.  It was tokenized using the TweetTokenizer and stemmed. I split the data into train and test sets, map each word in the training set to a number, apply that mapping to the data (using 0 if it's an unknown word), and create a LSTM model. I calculate class weights to take into account the difference in amount of values between depressed and nondepressed tweets.  "
      ]
    },
    {
      "cell_type": "code",
      "metadata": {
        "id": "NXyuUEfoqy7d"
      },
      "source": [
        "#train test split\n",
        "X = df['tokenizedandstemmed']\n",
        "Y = df['label (depression result)']\n",
        "\n",
        "X_train, X_test, Y_train, Y_test = train_test_split(X, Y, test_size = 0.20, random_state=42)\n",
        "\n",
        "#train test split, before modeling, afer whatever steps I need to do; make the maps on the traning data\n",
        "#make mapping based on training data; set some encoding to be like if I see a new word, how to handle it \n"
      ],
      "execution_count": null,
      "outputs": []
    },
    {
      "cell_type": "code",
      "metadata": {
        "id": "WumdLEp2vN2Y"
      },
      "source": [
        "def check_encoding(word, token_map):\n",
        "  \"\"\" This function checks if encoding exists for a word. \n",
        "\n",
        "  Parameters:\n",
        "  word (string): word to check\n",
        "  token_map (set): mapping of words to their numerical representation\n",
        "\n",
        "  Returns:\n",
        "  int: encoding if it exists, 0 if it does not \n",
        "\n",
        "  \"\"\"\n",
        "  if word in token_map:\n",
        "    return token_map.get(word)\n",
        "  else: \n",
        "    return 0"
      ],
      "execution_count": null,
      "outputs": []
    },
    {
      "cell_type": "code",
      "metadata": {
        "id": "X-xclXjGFzWT"
      },
      "source": [
        "##convert words to indices.  I create a set, and add every word in the training data to it. \n",
        "word_set = set()\n",
        "for sent in X_train:\n",
        "  word_set.update(sent)\n",
        "\n",
        "#I create a dictionary mapping each word to a number representing it \n",
        "#enumerate returns 2 variables, the count and the value of the item at that iteration \n",
        "token_map = {word: i+1 for i, word in enumerate(word_set)} #offset by 1 to allow for padding value\n",
        "token_map['<#PAD>'] = 0\n",
        "\n",
        "#create our sentences\n",
        "X_train_indices = [[token_map[word] for word in sent] for sent in X_train ]\n",
        "\n",
        "#use the encoding on the test data\n",
        "X_test_indices = [[check_encoding(word, token_map) for word in sent] for sent in X_test]\n",
        "\n",
        "#dealing with sentences being dfferent lengths\n",
        "X_train_indices = tf.keras.preprocessing.sequence.pad_sequences(X_train_indices, padding='post').tolist()\n",
        "X_test_indices = tf.keras.preprocessing.sequence.pad_sequences(X_test_indices, padding = 'post').tolist()"
      ],
      "execution_count": null,
      "outputs": []
    },
    {
      "cell_type": "code",
      "metadata": {
        "colab": {
          "base_uri": "https://localhost:8080/"
        },
        "id": "xTpjxsKiG0ds",
        "outputId": "0e43779e-b623-4209-9195-377c201ace4f"
      },
      "source": [
        "#building a LSTM model. Creating an embeddg layer with indices to vectors\n",
        "\n",
        "dim = 256\n",
        "hid_dim = 64\n",
        "\n",
        "model = tf.keras.models.Sequential([\n",
        "                                    tf.keras.layers.Embedding(len(word_set)+1, dim, embeddings_initializer='orthogonal', mask_zero=True), #+1 because of padding index\n",
        "                                    tf.keras.layers.LSTM(hid_dim, return_sequences=False), \n",
        "                                    tf.keras.layers.Dense(2), # 2 is the number of labels you want to pick from\n",
        "                                    tf.keras.layers.Dense(1, activation='sigmoid')\n",
        "])\n",
        "model.summary()\n",
        "\n"
      ],
      "execution_count": null,
      "outputs": [
        {
          "output_type": "stream",
          "text": [
            "Model: \"sequential\"\n",
            "_________________________________________________________________\n",
            "Layer (type)                 Output Shape              Param #   \n",
            "=================================================================\n",
            "embedding (Embedding)        (None, None, 256)         2608896   \n",
            "_________________________________________________________________\n",
            "lstm (LSTM)                  (None, 64)                82176     \n",
            "_________________________________________________________________\n",
            "dense (Dense)                (None, 2)                 130       \n",
            "_________________________________________________________________\n",
            "dense_1 (Dense)              (None, 1)                 3         \n",
            "=================================================================\n",
            "Total params: 2,691,205\n",
            "Trainable params: 2,691,205\n",
            "Non-trainable params: 0\n",
            "_________________________________________________________________\n"
          ],
          "name": "stdout"
        }
      ]
    },
    {
      "cell_type": "code",
      "metadata": {
        "colab": {
          "base_uri": "https://localhost:8080/"
        },
        "id": "Y5z2I5la9Us0",
        "outputId": "c01da749-930b-48e1-9e73-e45508cf82d4"
      },
      "source": [
        "class_weights = class_weight.compute_class_weight('balanced', np.unique(Y_train), Y_train)\n",
        "class_weights_dict = {0: class_weights[0], 1: class_weights[1]}\n",
        "class_weights_dict"
      ],
      "execution_count": null,
      "outputs": [
        {
          "output_type": "execute_result",
          "data": {
            "text/plain": [
              "{0: 0.646022549326652, 1: 2.2120643431635387}"
            ]
          },
          "metadata": {
            "tags": []
          },
          "execution_count": 36
        }
      ]
    },
    {
      "cell_type": "code",
      "metadata": {
        "colab": {
          "base_uri": "https://localhost:8080/"
        },
        "id": "YvwNg5hkHgSE",
        "outputId": "cae76233-2e60-4deb-d3b7-e0e471313f00"
      },
      "source": [
        "#Compile the model \n",
        "model.compile(optimizer='adam', loss=tf.keras.losses.BinaryCrossentropy(),\n",
        "              metrics=['accuracy']) \n",
        "callback = tf.keras.callbacks.EarlyStopping(monitor='loss', min_delta=0.01)\n",
        "\n",
        "X_train_ind_padded = np.array(X_train_indices)\n",
        "X_test_ind_padded = np.array(X_test_indices)                          \n",
        "\n",
        "history = model.fit(X_train_ind_padded, Y_train, class_weight=class_weights_dict, epochs = 10, batch_size=64, callbacks=[callback], verbose=1)"
      ],
      "execution_count": null,
      "outputs": [
        {
          "output_type": "stream",
          "text": [
            "Epoch 1/10\n",
            "129/129 [==============================] - 24s 155ms/step - loss: 0.4101 - accuracy: 0.8722\n",
            "Epoch 2/10\n",
            "129/129 [==============================] - 20s 153ms/step - loss: 0.0200 - accuracy: 0.9970\n",
            "Epoch 3/10\n",
            "129/129 [==============================] - 20s 152ms/step - loss: 0.0062 - accuracy: 0.9992\n",
            "Epoch 4/10\n",
            "129/129 [==============================] - 20s 155ms/step - loss: 0.0054 - accuracy: 0.9992\n"
          ],
          "name": "stdout"
        }
      ]
    },
    {
      "cell_type": "markdown",
      "metadata": {
        "id": "EMpSN5nPVv14"
      },
      "source": [
        "### Model Analysis \n",
        "\n",
        "The model has high accuracy, precision, recall, and f1 scores for test data.  There is not a large difference beween test and train data for accuracy. Since the model performs well on the given data, I decide to test it on brand nw daa from a different dataset.   "
      ]
    },
    {
      "cell_type": "code",
      "metadata": {
        "colab": {
          "base_uri": "https://localhost:8080/"
        },
        "id": "yHQHGtocICnu",
        "outputId": "409e1c47-7642-419b-8b2f-7ef918f3858c"
      },
      "source": [
        "score = model.evaluate(X_test_ind_padded, Y_test, verbose = 1)\n",
        "score_train = model.evaluate(X_train_ind_padded, Y_train, verbose = 1)\n",
        "\n",
        "print()\n",
        "print(\"Evaluate on test data\")\n",
        "print(f'Test loss: {score[0]} / Test accuracy: {score[1]}')\n",
        "\n",
        "print(\"Evaluate on train data\")\n",
        "print(f'Train loss: {score_train[0]} / Train accuracy: {score_train[1]}')\n",
        "\n",
        "#from sklearn.metrics import f1_score, precision_score, recall_score\n",
        "y_pred1 = model.predict(X_test_ind_padded)\n",
        "#y_pred = np.argmax(y_pred1, axis=1)\n",
        "y_pred = np.round(y_pred1).astype(int)\n",
        "\n",
        "print((y_pred==1).sum())\n",
        "\n",
        "print()\n",
        "print('Precision Score')\n",
        "print(precision_score(Y_test, y_pred, average='macro'))\n",
        "print()\n",
        "print('Recall Score')\n",
        "print(recall_score(Y_test, y_pred, average='macro'))\n",
        "print()\n",
        "print('F1 Score')\n",
        "print(f1_score(Y_test, y_pred, average='macro'))\n"
      ],
      "execution_count": null,
      "outputs": [
        {
          "output_type": "stream",
          "text": [
            "65/65 [==============================] - 2s 16ms/step - loss: 0.0399 - accuracy: 0.9937\n",
            "258/258 [==============================] - 6s 20ms/step - loss: 0.0042 - accuracy: 0.9990\n",
            "\n",
            "Evaluate on test data\n",
            "Test loss: 0.039893988519907 / Test accuracy: 0.9936984777450562\n",
            "Evaluate on train data\n",
            "Train loss: 0.004202287644147873 / Train accuracy: 0.9990304112434387\n",
            "438\n",
            "\n",
            "Precision Score\n",
            "0.9951661397962768\n",
            "\n",
            "Recall Score\n",
            "0.986327181703524\n",
            "\n",
            "F1 Score\n",
            "0.9906651356268533\n"
          ],
          "name": "stdout"
        }
      ]
    },
    {
      "cell_type": "markdown",
      "metadata": {
        "id": "JvYjgdrIYjs8"
      },
      "source": [
        "## New Data\n",
        "\n",
        "I now import data from Twitter to test the model against. I import the most recent 200 tweets each for #depression, #depressed, depression, and depressed. I also import 200 random tweets that do not mention depression. "
      ]
    },
    {
      "cell_type": "code",
      "metadata": {
        "id": "HepsfoxcUov0"
      },
      "source": [
        "import sys\n",
        "sys.path.append('/content/drive/MyDrive/DepressionTweets/DepressionSentimentalAnalysis')\n",
        "import config2\n",
        "\n",
        "#config 2 has my passwords/keys "
      ],
      "execution_count": null,
      "outputs": []
    },
    {
      "cell_type": "code",
      "metadata": {
        "id": "C_y6859SSV6R"
      },
      "source": [
        "#get authorization from Twitter and create my API to gather data\n",
        "\n",
        "auth_params = {\n",
        "    'app_key': config2.api_key,\n",
        "    'app_secret': config2.api_secret,\n",
        "    'bearer_token': config2.bearer_token,\n",
        "    'access_token': config2.access_token,\n",
        "    'access_token_secret': config2.access_token_secret\n",
        "}\n",
        "\n",
        "auth = tweepy.OAuthHandler(auth_params['app_key'], auth_params['app_secret'])\n",
        "auth.set_access_token(auth_params['access_token'], auth_params['access_token_secret'])\n",
        "\n",
        "api = tweepy.API(auth, wait_on_rate_limit=True)\n"
      ],
      "execution_count": null,
      "outputs": []
    },
    {
      "cell_type": "code",
      "metadata": {
        "id": "mS7IX7GEq8ul"
      },
      "source": [
        "#extract tweets \n",
        "hashtag_depressed_tweets = tweepy.Cursor(api.search, q=\"#depressed\" + \" -filter:retweets\", lang='en', tweet_mode='extended').items(200)\n",
        "depressed_tweets = tweepy.Cursor(api.search, q=\"depressed\" + \" -filter:retweets\", lang='en', tweet_mode='extended').items(200)\n",
        "hashtag_depression_tweets = tweepy.Cursor(api.search, q=\"#depression\" + \" -filter:retweets\", lang='en', tweet_mode='extended').items(200)\n",
        "depression_tweets = tweepy.Cursor(api.search, q=\"depression\" + \" -filter:retweets\", lang='en', tweet_mode='extended').items(200)\n",
        "random_tweets = tweepy.Cursor(api.search, q=\"-depressed\" + '-depression' + '-#depressed' + '-#depression' + \" -filter:retweets\", lang='en', tweet_mode='extended').items(200)\n"
      ],
      "execution_count": null,
      "outputs": []
    },
    {
      "cell_type": "code",
      "metadata": {
        "id": "xQsQGCv6a-DK"
      },
      "source": [
        "#each set gets made into it's own dataframe \n",
        "hdepressed = pd.DataFrame(data=[tweet.full_text for tweet in hashtag_depressed_tweets], columns=['message'])"
      ],
      "execution_count": null,
      "outputs": []
    },
    {
      "cell_type": "code",
      "metadata": {
        "id": "meMAUdyaZqPg"
      },
      "source": [
        "depressed = pd.DataFrame(data=[tweet.full_text for tweet in depressed_tweets], columns=['message'])"
      ],
      "execution_count": null,
      "outputs": []
    },
    {
      "cell_type": "code",
      "metadata": {
        "id": "nKf7hzuXZs9O"
      },
      "source": [
        "hdepression = pd.DataFrame(data=[tweet.full_text for tweet in hashtag_depression_tweets], columns=['message'])"
      ],
      "execution_count": null,
      "outputs": []
    },
    {
      "cell_type": "code",
      "metadata": {
        "id": "g_AQRm_GZ86q"
      },
      "source": [
        "depression = pd.DataFrame(data=[tweet.full_text for tweet in depression_tweets], columns=['message'])\n"
      ],
      "execution_count": null,
      "outputs": []
    },
    {
      "cell_type": "code",
      "metadata": {
        "id": "Of8vNWe9aC4-"
      },
      "source": [
        "random = pd.DataFrame(data=[tweet.full_text for tweet in random_tweets], columns=['message'])"
      ],
      "execution_count": null,
      "outputs": []
    },
    {
      "cell_type": "code",
      "metadata": {
        "colab": {
          "base_uri": "https://localhost:8080/",
          "height": 684
        },
        "id": "kn3DsZ8ImVCy",
        "outputId": "43ababa3-8a73-4d96-d8be-6090f417ad36"
      },
      "source": [
        "#clean  the data for the model \n",
        "\n",
        "hdepressed_tokenized = clean_and_tokenize(hdepressed, 'message')\n",
        "depressed_tokenized = clean_and_tokenize(depressed, 'message')\n",
        "hdepression_tokenized = clean_and_tokenize(hdepression, 'message')\n",
        "depression_tokenized = clean_and_tokenize(depression, 'message')\n",
        "random_tokenized = clean_and_tokenize(random, 'message')\n",
        "\n",
        "#add a column with the query term, and then combine the dataframes into 1\n",
        "\n",
        "hdepressed_tokenized['query'] = 'hashtagdepressed'\n",
        "depressed_tokenized['query'] = 'depressed'\n",
        "hdepression_tokenized['query'] = 'hashtagdepression'\n",
        "depression_tokenized['query'] = 'depression'\n",
        "random_tokenized['query'] = 'random'\n",
        "\n",
        "\n",
        "dataframes = [hdepressed_tokenized, depressed_tokenized, hdepression_tokenized,\n",
        "              depression_tokenized, random_tokenized]\n",
        "new_data = pd.concat(dataframes)\n",
        "\n",
        "new_data.tail(10)"
      ],
      "execution_count": null,
      "outputs": [
        {
          "output_type": "execute_result",
          "data": {
            "text/html": [
              "<div>\n",
              "<style scoped>\n",
              "    .dataframe tbody tr th:only-of-type {\n",
              "        vertical-align: middle;\n",
              "    }\n",
              "\n",
              "    .dataframe tbody tr th {\n",
              "        vertical-align: top;\n",
              "    }\n",
              "\n",
              "    .dataframe thead th {\n",
              "        text-align: right;\n",
              "    }\n",
              "</style>\n",
              "<table border=\"1\" class=\"dataframe\">\n",
              "  <thead>\n",
              "    <tr style=\"text-align: right;\">\n",
              "      <th></th>\n",
              "      <th>message</th>\n",
              "      <th>tokenized</th>\n",
              "      <th>tokenizedandstemmed</th>\n",
              "      <th>query</th>\n",
              "    </tr>\n",
              "  </thead>\n",
              "  <tbody>\n",
              "    <tr>\n",
              "      <th>190</th>\n",
              "      <td>@badmusib @olori_blessing Na only you understand o</td>\n",
              "      <td>[na, only, you, understand, o]</td>\n",
              "      <td>[na, onli, you, understand, o]</td>\n",
              "      <td>random</td>\n",
              "    </tr>\n",
              "    <tr>\n",
              "      <th>191</th>\n",
              "      <td>LMAOOOOOOOOOOO WTF IS THIS https://t.co/I4eg5ouSuk</td>\n",
              "      <td>[lmaooo, wtf, is, this]</td>\n",
              "      <td>[lmaooo, wtf, is, thi]</td>\n",
              "      <td>random</td>\n",
              "    </tr>\n",
              "    <tr>\n",
              "      <th>192</th>\n",
              "      <td>@longIivenini Oh nooo. I've had dreams like that too. Its the worst!</td>\n",
              "      <td>[oh, nooo, ., i've, had, dreams, like, that, too, ., its, the, worst, !]</td>\n",
              "      <td>[oh, nooo, had, dream, like, that, too, it, the, worst]</td>\n",
              "      <td>random</td>\n",
              "    </tr>\n",
              "    <tr>\n",
              "      <th>193</th>\n",
              "      <td>Nu op KINK DNA: Bob Dylan - Subterranean Homesick Blues https://t.co/jUjb7XtMYQ</td>\n",
              "      <td>[nu, op, kink, dna, :, bob, dylan, -, subterranean, homesick, blues]</td>\n",
              "      <td>[nu, op, kink, dna, bob, dylan, subterranean, homesick, blue]</td>\n",
              "      <td>random</td>\n",
              "    </tr>\n",
              "    <tr>\n",
              "      <th>194</th>\n",
              "      <td>So it's the same old shit</td>\n",
              "      <td>[so, it's, the, same, old, shit]</td>\n",
              "      <td>[so, the, same, old, shit]</td>\n",
              "      <td>random</td>\n",
              "    </tr>\n",
              "    <tr>\n",
              "      <th>195</th>\n",
              "      <td>@PIB_Patna What do you have to say to this? Stop misleading people with your fake numbers and results. Have some shame. It's people and their lives we are talking about. Stop boot-licking. Stop it now. https://t.co/erVzN0yaC7</td>\n",
              "      <td>[what, do, you, have, to, say, to, this, ?, stop, misleading, people, with, your, fake, numbers, and, results, ., have, some, shame, ., it's, people, and, their, lives, we, are, talking, about, ., stop, boot-licking, ., stop, it, now, .]</td>\n",
              "      <td>[what, do, you, have, to, say, to, thi, stop, mislead, peopl, with, your, fake, number, and, result, have, some, shame, peopl, and, their, live, we, are, talk, about, stop, stop, it, now]</td>\n",
              "      <td>random</td>\n",
              "    </tr>\n",
              "    <tr>\n",
              "      <th>196</th>\n",
              "      <td>@DincArman_ @eyatkafasi @imanastasios @sKOatXRPAyhq1kS @xruiztru @DrHerculePoirot I'm not Greek. But Constantinople was for christians something like Mekka for muslims. The fall of Constantinople was the end of the Middle Ages. But only for europeans. You are mentally in it to this day.</td>\n",
              "      <td>[i'm, not, greek, ., but, constantinople, was, for, christians, something, like, mekka, for, muslims, ., the, fall, of, constantinople, was, the, end, of, the, middle, ages, ., but, only, for, europeans, ., you, are, mentally, in, it, to, this, day, .]</td>\n",
              "      <td>[not, greek, but, constantinopl, wa, for, christian, someth, like, mekka, for, muslim, the, fall, of, constantinopl, wa, the, end, of, the, middl, age, but, onli, for, european, you, are, mental, in, it, to, thi, day]</td>\n",
              "      <td>random</td>\n",
              "    </tr>\n",
              "    <tr>\n",
              "      <th>197</th>\n",
              "      <td>THIS IS SICKK https://t.co/SFsStU7Lvw</td>\n",
              "      <td>[this, is, sickk]</td>\n",
              "      <td>[thi, is, sickk]</td>\n",
              "      <td>random</td>\n",
              "    </tr>\n",
              "    <tr>\n",
              "      <th>198</th>\n",
              "      <td>@thishalfworld st vincent v the other drug-addled dyke she tells you not to worry about</td>\n",
              "      <td>[st, vincent, v, the, other, drug-addled, dyke, she, tells, you, not, to, worry, about]</td>\n",
              "      <td>[st, vincent, v, the, other, dyke, she, tell, you, not, to, worri, about]</td>\n",
              "      <td>random</td>\n",
              "    </tr>\n",
              "    <tr>\n",
              "      <th>199</th>\n",
              "      <td>@onlythighs_ SO PRETTY AWOOGAA</td>\n",
              "      <td>[so, pretty, awoogaa]</td>\n",
              "      <td>[so, pretti, awoogaa]</td>\n",
              "      <td>random</td>\n",
              "    </tr>\n",
              "  </tbody>\n",
              "</table>\n",
              "</div>"
            ],
            "text/plain": [
              "                                                                                                                                                                                                                                                                                             message  ...   query\n",
              "190                                                                                                                                                                                                                                               @badmusib @olori_blessing Na only you understand o  ...  random\n",
              "191                                                                                                                                                                                                                                               LMAOOOOOOOOOOO WTF IS THIS https://t.co/I4eg5ouSuk  ...  random\n",
              "192                                                                                                                                                                                                                             @longIivenini Oh nooo. I've had dreams like that too. Its the worst!  ...  random\n",
              "193                                                                                                                                                                                                                  Nu op KINK DNA: Bob Dylan - Subterranean Homesick Blues https://t.co/jUjb7XtMYQ  ...  random\n",
              "194                                                                                                                                                                                                                                                                        So it's the same old shit  ...  random\n",
              "195                                                                @PIB_Patna What do you have to say to this? Stop misleading people with your fake numbers and results. Have some shame. It's people and their lives we are talking about. Stop boot-licking. Stop it now. https://t.co/erVzN0yaC7  ...  random\n",
              "196  @DincArman_ @eyatkafasi @imanastasios @sKOatXRPAyhq1kS @xruiztru @DrHerculePoirot I'm not Greek. But Constantinople was for christians something like Mekka for muslims. The fall of Constantinople was the end of the Middle Ages. But only for europeans. You are mentally in it to this day.  ...  random\n",
              "197                                                                                                                                                                                                                                                            THIS IS SICKK https://t.co/SFsStU7Lvw  ...  random\n",
              "198                                                                                                                                                                                                          @thishalfworld st vincent v the other drug-addled dyke she tells you not to worry about  ...  random\n",
              "199                                                                                                                                                                                                                                                                   @onlythighs_ SO PRETTY AWOOGAA  ...  random\n",
              "\n",
              "[10 rows x 4 columns]"
            ]
          },
          "metadata": {
            "tags": []
          },
          "execution_count": 47
        }
      ]
    },
    {
      "cell_type": "code",
      "metadata": {
        "id": "ccXjuJyY08nz"
      },
      "source": [
        "newdata_indices = [[check_encoding(word, token_map) for word in sent] for sent in new_data['tokenizedandstemmed']]\n",
        "newdata_indices = tf.keras.preprocessing.sequence.pad_sequences(newdata_indices, padding = 'post').tolist()\n",
        "\n"
      ],
      "execution_count": null,
      "outputs": []
    },
    {
      "cell_type": "code",
      "metadata": {
        "colab": {
          "base_uri": "https://localhost:8080/"
        },
        "id": "23MRB7TDwfBP",
        "outputId": "5fcf67d8-6d42-4e72-bdba-6e98055b09ff"
      },
      "source": [
        "new = model.predict_classes(newdata_indices)\n",
        "new_data.shape"
      ],
      "execution_count": null,
      "outputs": [
        {
          "output_type": "stream",
          "text": [
            "/usr/local/lib/python3.7/dist-packages/tensorflow/python/keras/engine/sequential.py:450: UserWarning: `model.predict_classes()` is deprecated and will be removed after 2021-01-01. Please use instead:* `np.argmax(model.predict(x), axis=-1)`,   if your model does multi-class classification   (e.g. if it uses a `softmax` last-layer activation).* `(model.predict(x) > 0.5).astype(\"int32\")`,   if your model does binary classification   (e.g. if it uses a `sigmoid` last-layer activation).\n",
            "  warnings.warn('`model.predict_classes()` is deprecated and '\n"
          ],
          "name": "stderr"
        },
        {
          "output_type": "execute_result",
          "data": {
            "text/plain": [
              "(1000, 4)"
            ]
          },
          "metadata": {
            "tags": []
          },
          "execution_count": 49
        }
      ]
    },
    {
      "cell_type": "code",
      "metadata": {
        "id": "iJDQ9AHdAoPr"
      },
      "source": [
        "#check prediction against actual tweet for randomized set \n",
        "new_data['prediction'] = new"
      ],
      "execution_count": null,
      "outputs": []
    },
    {
      "cell_type": "code",
      "metadata": {
        "colab": {
          "base_uri": "https://localhost:8080/"
        },
        "id": "fyTXFXdAC2MY",
        "outputId": "ce7a7352-03c9-4cf6-937b-b63161c5457f"
      },
      "source": [
        "new_data['prediction'].value_counts()"
      ],
      "execution_count": null,
      "outputs": [
        {
          "output_type": "execute_result",
          "data": {
            "text/plain": [
              "1    798\n",
              "0    202\n",
              "Name: prediction, dtype: int64"
            ]
          },
          "metadata": {
            "tags": []
          },
          "execution_count": 51
        }
      ]
    },
    {
      "cell_type": "code",
      "metadata": {
        "colab": {
          "base_uri": "https://localhost:8080/",
          "height": 1000
        },
        "id": "IWMc5LzJEjNr",
        "outputId": "be073bbf-f54d-400b-85da-6bd9f0281c50"
      },
      "source": [
        "randomsample = new_data.sample(n=50)\n",
        "randomsample.head(20)"
      ],
      "execution_count": null,
      "outputs": [
        {
          "output_type": "execute_result",
          "data": {
            "text/html": [
              "<div>\n",
              "<style scoped>\n",
              "    .dataframe tbody tr th:only-of-type {\n",
              "        vertical-align: middle;\n",
              "    }\n",
              "\n",
              "    .dataframe tbody tr th {\n",
              "        vertical-align: top;\n",
              "    }\n",
              "\n",
              "    .dataframe thead th {\n",
              "        text-align: right;\n",
              "    }\n",
              "</style>\n",
              "<table border=\"1\" class=\"dataframe\">\n",
              "  <thead>\n",
              "    <tr style=\"text-align: right;\">\n",
              "      <th></th>\n",
              "      <th>message</th>\n",
              "      <th>tokenized</th>\n",
              "      <th>tokenizedandstemmed</th>\n",
              "      <th>query</th>\n",
              "      <th>prediction</th>\n",
              "    </tr>\n",
              "  </thead>\n",
              "  <tbody>\n",
              "    <tr>\n",
              "      <th>193</th>\n",
              "      <td>Nu op KINK DNA: Bob Dylan - Subterranean Homesick Blues https://t.co/jUjb7XtMYQ</td>\n",
              "      <td>[nu, op, kink, dna, :, bob, dylan, -, subterranean, homesick, blues]</td>\n",
              "      <td>[nu, op, kink, dna, bob, dylan, subterranean, homesick, blue]</td>\n",
              "      <td>random</td>\n",
              "      <td>0</td>\n",
              "    </tr>\n",
              "    <tr>\n",
              "      <th>59</th>\n",
              "      <td>@hayden_schill shows visual hindsight bias for mammogram abnormalities in expert radiologists: they see abnormalities under noise that they couldn’t otherwise see, but only if they’ve been previously exposed to the image (several images previously) https://t.co/2315Ywf2nL https://t.co/bZUm3kgnlQ</td>\n",
              "      <td>[shows, visual, hindsight, bias, for, mammogram, abnormalities, in, expert, radiologists, :, they, see, abnormalities, under, noise, that, they, couldn, ’, t, otherwise, see, ,, but, only, if, they, ’, ve, been, previously, exposed, to, the, image, (, several, images, previously, )]</td>\n",
              "      <td>[show, visual, hindsight, bia, for, mammogram, abnorm, in, expert, radiologist, they, see, abnorm, under, nois, that, they, couldn, t, otherwis, see, but, onli, if, they, ve, been, previous, expos, to, the, imag, sever, imag, previous]</td>\n",
              "      <td>random</td>\n",
              "      <td>0</td>\n",
              "    </tr>\n",
              "    <tr>\n",
              "      <th>98</th>\n",
              "      <td>@davido @blackgoldtwitt please my rent is due I’m in huge debt, I’m just a student please tell @racksterli to refund me my 112k everyday new problems keep adding up, please I’m really depressed at the moment</td>\n",
              "      <td>[please, my, rent, is, due, i, ’, m, in, huge, debt, ,, i, ’, m, just, a, student, please, tell, to, refund, me, my, k, everyday, new, problems, keep, adding, up, ,, please, i, ’, m, really, depressed, at, the, moment]</td>\n",
              "      <td>[pleas, my, rent, is, due, i, m, in, huge, debt, i, m, just, a, student, pleas, tell, to, refund, me, my, k, everyday, new, problem, keep, ad, up, pleas, i, m, realli, depress, at, the, moment]</td>\n",
              "      <td>depressed</td>\n",
              "      <td>1</td>\n",
              "    </tr>\n",
              "    <tr>\n",
              "      <th>153</th>\n",
              "      <td>@x1_kayleigh_1x @RaelleLogan1 Check it out \\nMay is #MentalHealthAwarenessMonth . Check out my book \"The Many Personalities of Me\" which is detailing my life living with mental health issues.\\nhttps://t.co/XyqcJhcDWZ\\n  #mentalhealth #MentalHealthAwarenessMonth #depression</td>\n",
              "      <td>[check, it, out, may, is, mentalhealthawarenessmonth, ., check, out, my, book, \", the, many, personalities, of, me, \", which, is, detailing, my, life, living, with, mental, health, issues, ., mentalhealth, mentalhealthawarenessmonth, depression]</td>\n",
              "      <td>[check, it, out, may, is, mentalhealthawarenessmonth, check, out, my, book, the, mani, person, of, me, which, is, detail, my, life, live, with, mental, health, issu, mentalhealth, mentalhealthawarenessmonth, depress]</td>\n",
              "      <td>hashtagdepression</td>\n",
              "      <td>1</td>\n",
              "    </tr>\n",
              "    <tr>\n",
              "      <th>72</th>\n",
              "      <td>also like, i genuinely struggle with getting out of bed in the mornings bc of my depression, morning shifts are so fucking difficult for me to be on time to. i’m trying my best here????</td>\n",
              "      <td>[also, like, ,, i, genuinely, struggle, with, getting, out, of, bed, in, the, mornings, bc, of, my, depression, ,, morning, shifts, are, so, fucking, difficult, for, me, to, be, on, time, to, ., i, ’, m, trying, my, best, here, ?, ?, ?]</td>\n",
              "      <td>[also, like, i, genuin, struggl, with, get, out, of, bed, in, the, morn, bc, of, my, depress, morn, shift, are, so, fuck, difficult, for, me, to, be, on, time, to, i, m, tri, my, best, here]</td>\n",
              "      <td>depression</td>\n",
              "      <td>1</td>\n",
              "    </tr>\n",
              "    <tr>\n",
              "      <th>171</th>\n",
              "      <td>this is crazyyyy</td>\n",
              "      <td>[this, is, crazyyy]</td>\n",
              "      <td>[thi, is, crazyyi]</td>\n",
              "      <td>random</td>\n",
              "      <td>0</td>\n",
              "    </tr>\n",
              "    <tr>\n",
              "      <th>27</th>\n",
              "      <td>Things you should no longer be creating space for 💯 \\n\\n#motivation #Inspiration #meditation #Anxiety #depressed #depression #anxietyrelief https://t.co/GWrZkpXDDw</td>\n",
              "      <td>[things, you, should, no, longer, be, creating, space, for, 💯, motivation, inspiration, meditation, anxiety, depressed, depression, anxietyrelief]</td>\n",
              "      <td>[thing, you, should, no, longer, be, creat, space, for, motiv, inspir, medit, anxieti, depress, depress, anxietyrelief]</td>\n",
              "      <td>hashtagdepressed</td>\n",
              "      <td>1</td>\n",
              "    </tr>\n",
              "    <tr>\n",
              "      <th>31</th>\n",
              "      <td>@GMB @richardgaisford And as far as “tell somebody “ if you’re depressed then be very careful who you tell. I also told family and they count handle it and blocked me! Sometimes family is too “close” and exactly how Harry said he was ashamed of how he handled it- family can panic and shut down :-(</td>\n",
              "      <td>[and, as, far, as, “, tell, somebody, “, if, you, ’, re, depressed, then, be, very, careful, who, you, tell, ., i, also, told, family, and, they, count, handle, it, and, blocked, me, !, sometimes, family, is, too, “, close, ”, and, exactly, how, harry, said, he, was, ashamed, of, how, he, handled, it, -, family, can, panic, and, shut, down, :-(]</td>\n",
              "      <td>[and, as, far, as, tell, somebodi, if, you, re, depress, then, be, veri, care, who, you, tell, i, also, told, famili, and, they, count, handl, it, and, block, me, sometim, famili, is, too, close, and, exactli, how, harri, said, he, wa, asham, of, how, he, handl, it, famili, can, panic, and, shut, down]</td>\n",
              "      <td>depressed</td>\n",
              "      <td>1</td>\n",
              "    </tr>\n",
              "    <tr>\n",
              "      <th>106</th>\n",
              "      <td>Yeah, I’m never alone but always depressed.</td>\n",
              "      <td>[yeah, ,, i, ’, m, never, alone, but, always, depressed, .]</td>\n",
              "      <td>[yeah, i, m, never, alon, but, alway, depress]</td>\n",
              "      <td>depressed</td>\n",
              "      <td>1</td>\n",
              "    </tr>\n",
              "    <tr>\n",
              "      <th>106</th>\n",
              "      <td>basically I made my anti depression playlist into a butter one and this is what happened</td>\n",
              "      <td>[basically, i, made, my, anti, depression, playlist, into, a, butter, one, and, this, is, what, happened]</td>\n",
              "      <td>[basic, i, made, my, anti, depress, playlist, into, a, butter, one, and, thi, is, what, happen]</td>\n",
              "      <td>depression</td>\n",
              "      <td>1</td>\n",
              "    </tr>\n",
              "    <tr>\n",
              "      <th>96</th>\n",
              "      <td>#inflammation and hippocampal #neurogenesis, relevance for #depression @j_giacobbe #PNIRS2021 https://t.co/4dJu3736vz</td>\n",
              "      <td>[inflammation, and, hippocampal, neurogenesis, ,, relevance, for, depression, pnirs]</td>\n",
              "      <td>[inflamm, and, hippocamp, neurogenesi, relev, for, depress, pnir]</td>\n",
              "      <td>hashtagdepression</td>\n",
              "      <td>1</td>\n",
              "    </tr>\n",
              "    <tr>\n",
              "      <th>158</th>\n",
              "      <td>Experiencing #depression but keeping it hidden? If you or someone you know is in need of #support, read our guide for #advice - https://t.co/xT3p6upGMS\\n\\n@MHFAEngland @mhmatters #MentalhealthAwareness https://t.co/NN15beAjhu</td>\n",
              "      <td>[experiencing, depression, but, keeping, it, hidden, ?, if, you, or, someone, you, know, is, in, need, of, support, ,, read, our, guide, for, advice, -, mentalhealthawareness]</td>\n",
              "      <td>[experienc, depress, but, keep, it, hidden, if, you, or, someon, you, know, is, in, need, of, support, read, our, guid, for, advic, mentalhealthawar]</td>\n",
              "      <td>hashtagdepression</td>\n",
              "      <td>1</td>\n",
              "    </tr>\n",
              "    <tr>\n",
              "      <th>184</th>\n",
              "      <td>Daydreams are better than real life,\\nI'd do anything just to feel nice,\\nBut nothing can cure my mind,\\nAnd nothing seems worth my time,\\n\\nIt seems like my depression,\\nHas become my minds obsession,\\nWanting the pain to lessen,\\nBut I haven't learned my lesson,</td>\n",
              "      <td>[daydreams, are, better, than, real, life, ,, i'd, do, anything, just, to, feel, nice, ,, but, nothing, can, cure, my, mind, ,, and, nothing, seems, worth, my, time, ,, it, seems, like, my, depression, ,, has, become, my, minds, obsession, ,, wanting, the, pain, to, lessen, ,, but, i, haven't, learned, my, lesson, ,]</td>\n",
              "      <td>[daydream, are, better, than, real, life, do, anyth, just, to, feel, nice, but, noth, can, cure, my, mind, and, noth, seem, worth, my, time, it, seem, like, my, depress, ha, becom, my, mind, obsess, want, the, pain, to, lessen, but, i, learn, my, lesson]</td>\n",
              "      <td>depression</td>\n",
              "      <td>1</td>\n",
              "    </tr>\n",
              "    <tr>\n",
              "      <th>39</th>\n",
              "      <td>🤣🤣my mom calls me like “are you ok daughter ... are u depressed?? “ once i don’t call her or nobody they kno im really goin thru it 💔😩</td>\n",
              "      <td>[🤣, 🤣, my, mom, calls, me, like, “, are, you, ok, daughter, ..., are, u, depressed, ?, ?, “, once, i, don, ’, t, call, her, or, nobody, they, kno, im, really, goin, thru, it, 💔, 😩]</td>\n",
              "      <td>[my, mom, call, me, like, are, you, ok, daughter, are, u, depress, onc, i, don, t, call, her, or, nobodi, they, kno, im, realli, goin, thru, it]</td>\n",
              "      <td>depressed</td>\n",
              "      <td>1</td>\n",
              "    </tr>\n",
              "    <tr>\n",
              "      <th>178</th>\n",
              "      <td>Thank you so much for helping us to extend our idea of well-being to more people. \\n@mediaindiagroup \\n#MentalHealthMonth #MentalHealthMatters #depression #Anxiety #Covid_19 #therapy #TwitterForGood #CovidCrisis https://t.co/fKgdZ0rYYq</td>\n",
              "      <td>[thank, you, so, much, for, helping, us, to, extend, our, idea, of, well-being, to, more, people, ., mentalhealthmonth, mentalhealthmatters, depression, anxiety, covid, _, therapy, twitterforgood, covidcrisis]</td>\n",
              "      <td>[thank, you, so, much, for, help, us, to, extend, our, idea, of, to, more, peopl, mentalhealthmonth, mentalhealthmatt, depress, anxieti, covid, therapi, twitterforgood, covidcrisi]</td>\n",
              "      <td>hashtagdepression</td>\n",
              "      <td>1</td>\n",
              "    </tr>\n",
              "    <tr>\n",
              "      <th>55</th>\n",
              "      <td>My friend forgot about me #sad #broken #depressed #helpme #lonley #fake #emo #alone #verysad #sadhours 😖😖😖🔫</td>\n",
              "      <td>[my, friend, forgot, about, me, sad, broken, depressed, helpme, lonley, fake, emo, alone, verysad, sadhours, 😖, 😖, 😖, 🔫]</td>\n",
              "      <td>[my, friend, forgot, about, me, sad, broken, depress, helpm, lonley, fake, emo, alon, verysad, sadhour]</td>\n",
              "      <td>hashtagdepressed</td>\n",
              "      <td>1</td>\n",
              "    </tr>\n",
              "    <tr>\n",
              "      <th>106</th>\n",
              "      <td>@GOP @GOPChairwoman FAILURES???? He’s setting the stage for a major comeback after a failed Trump term</td>\n",
              "      <td>[failures, ?, ?, ?, he, ’, s, setting, the, stage, for, a, major, comeback, after, a, failed, trump, term]</td>\n",
              "      <td>[failur, he, s, set, the, stage, for, a, major, comeback, after, a, fail, trump, term]</td>\n",
              "      <td>random</td>\n",
              "      <td>0</td>\n",
              "    </tr>\n",
              "    <tr>\n",
              "      <th>175</th>\n",
              "      <td>Govt only just announced tighter measures, and suddenly everyone became \\n#Asshole \\n#Bankrupt \\n#Cowardy \\n#Depressed \\n#Excuses much\\n💩 \\n#YouAreTheRealCB\\n#gohideunderyourbedandFYourself ☝🏼 \\nBored #timewasters this is not #schhols https://t.co/uu6klKZvIj</td>\n",
              "      <td>[govt, only, just, announced, tighter, measures, ,, and, suddenly, everyone, became, asshole, bankrupt, cowardy, depressed, excuses, much, 💩, youaretherealcb, gohideunderyourbedandfyourself, ☝, 🏼, bored, timewasters, this, is, not, schhols]</td>\n",
              "      <td>[govt, onli, just, announc, tighter, measur, and, suddenli, everyon, becam, asshol, bankrupt, cowardi, depress, excus, much, youaretherealcb, gohideunderyourbedandfyourself, bore, timewast, thi, is, not, schhol]</td>\n",
              "      <td>hashtagdepressed</td>\n",
              "      <td>1</td>\n",
              "    </tr>\n",
              "    <tr>\n",
              "      <th>14</th>\n",
              "      <td>Top 10 books about depression | Alex Riley https://t.co/zWVPYccRTf #depressed #depression #MentalHealthAwarenessWeek #mentalhealth #healthylifestyle #wellness #wellbeing #anxiety https://t.co/CzfOtqAGHu</td>\n",
              "      <td>[top, books, about, depression, |, alex, riley, depressed, depression, mentalhealthawarenessweek, mentalhealth, healthylifestyle, wellness, wellbeing, anxiety]</td>\n",
              "      <td>[top, book, about, depress, alex, riley, depress, depress, mentalhealthawarenessweek, mentalhealth, healthylifestyl, well, wellb, anxieti]</td>\n",
              "      <td>hashtagdepressed</td>\n",
              "      <td>1</td>\n",
              "    </tr>\n",
              "    <tr>\n",
              "      <th>77</th>\n",
              "      <td>\"by now I have a whole arsenal of things I do…&amp;amp; really, admittedly, the underlying reason I do all of these things is to try to, basically…NOT BE #DEPRESSED! In fact, I don’t know if I’ve ever worked so hard to NOT be something before!\" https://t.co/BlbuFRL7OU #WhatIKnowIsReal</td>\n",
              "      <td>[\", by, now, i, have, a, whole, arsenal, of, things, i, do, …, &amp;, really, ,, admittedly, ,, the, underlying, reason, i, do, all, of, these, things, is, to, try, to, ,, basically, …, not, be, depressed, !, in, fact, ,, i, don, ’, t, know, if, i, ’, ve, ever, worked, so, hard, to, not, be, something, before, !, \", whatiknowisreal]</td>\n",
              "      <td>[by, now, i, have, a, whole, arsen, of, thing, i, do, realli, admittedli, the, underli, reason, i, do, all, of, these, thing, is, to, tri, to, basic, not, be, depress, in, fact, i, don, t, know, if, i, ve, ever, work, so, hard, to, not, be, someth, befor, whatiknowisr]</td>\n",
              "      <td>hashtagdepressed</td>\n",
              "      <td>1</td>\n",
              "    </tr>\n",
              "  </tbody>\n",
              "</table>\n",
              "</div>"
            ],
            "text/plain": [
              "                                                                                                                                                                                                                                                                                                        message  ... prediction\n",
              "193                                                                                                                                                                                                                             Nu op KINK DNA: Bob Dylan - Subterranean Homesick Blues https://t.co/jUjb7XtMYQ  ...          0\n",
              "59     @hayden_schill shows visual hindsight bias for mammogram abnormalities in expert radiologists: they see abnormalities under noise that they couldn’t otherwise see, but only if they’ve been previously exposed to the image (several images previously) https://t.co/2315Ywf2nL https://t.co/bZUm3kgnlQ  ...          0\n",
              "98                                                                                              @davido @blackgoldtwitt please my rent is due I’m in huge debt, I’m just a student please tell @racksterli to refund me my 112k everyday new problems keep adding up, please I’m really depressed at the moment  ...          1\n",
              "153                           @x1_kayleigh_1x @RaelleLogan1 Check it out \\nMay is #MentalHealthAwarenessMonth . Check out my book \"The Many Personalities of Me\" which is detailing my life living with mental health issues.\\nhttps://t.co/XyqcJhcDWZ\\n  #mentalhealth #MentalHealthAwarenessMonth #depression  ...          1\n",
              "72                                                                                                                    also like, i genuinely struggle with getting out of bed in the mornings bc of my depression, morning shifts are so fucking difficult for me to be on time to. i’m trying my best here????  ...          1\n",
              "171                                                                                                                                                                                                                                                                                            this is crazyyyy  ...          0\n",
              "27                                                                                                                                          Things you should no longer be creating space for 💯 \\n\\n#motivation #Inspiration #meditation #Anxiety #depressed #depression #anxietyrelief https://t.co/GWrZkpXDDw  ...          1\n",
              "31   @GMB @richardgaisford And as far as “tell somebody “ if you’re depressed then be very careful who you tell. I also told family and they count handle it and blocked me! Sometimes family is too “close” and exactly how Harry said he was ashamed of how he handled it- family can panic and shut down :-(  ...          1\n",
              "106                                                                                                                                                                                                                                                                 Yeah, I’m never alone but always depressed.  ...          1\n",
              "106                                                                                                                                                                                                                    basically I made my anti depression playlist into a butter one and this is what happened  ...          1\n",
              "96                                                                                                                                                                                        #inflammation and hippocampal #neurogenesis, relevance for #depression @j_giacobbe #PNIRS2021 https://t.co/4dJu3736vz  ...          1\n",
              "158                                                                           Experiencing #depression but keeping it hidden? If you or someone you know is in need of #support, read our guide for #advice - https://t.co/xT3p6upGMS\\n\\n@MHFAEngland @mhmatters #MentalhealthAwareness https://t.co/NN15beAjhu  ...          1\n",
              "184                                    Daydreams are better than real life,\\nI'd do anything just to feel nice,\\nBut nothing can cure my mind,\\nAnd nothing seems worth my time,\\n\\nIt seems like my depression,\\nHas become my minds obsession,\\nWanting the pain to lessen,\\nBut I haven't learned my lesson,  ...          1\n",
              "39                                                                                                                                                                       🤣🤣my mom calls me like “are you ok daughter ... are u depressed?? “ once i don’t call her or nobody they kno im really goin thru it 💔😩  ...          1\n",
              "178                                                                 Thank you so much for helping us to extend our idea of well-being to more people. \\n@mediaindiagroup \\n#MentalHealthMonth #MentalHealthMatters #depression #Anxiety #Covid_19 #therapy #TwitterForGood #CovidCrisis https://t.co/fKgdZ0rYYq  ...          1\n",
              "55                                                                                                                                                                                                  My friend forgot about me #sad #broken #depressed #helpme #lonley #fake #emo #alone #verysad #sadhours 😖😖😖🔫  ...          1\n",
              "106                                                                                                                                                                                                      @GOP @GOPChairwoman FAILURES???? He’s setting the stage for a major comeback after a failed Trump term  ...          0\n",
              "175                                          Govt only just announced tighter measures, and suddenly everyone became \\n#Asshole \\n#Bankrupt \\n#Cowardy \\n#Depressed \\n#Excuses much\\n💩 \\n#YouAreTheRealCB\\n#gohideunderyourbedandFYourself ☝🏼 \\nBored #timewasters this is not #schhols https://t.co/uu6klKZvIj  ...          1\n",
              "14                                                                                                   Top 10 books about depression | Alex Riley https://t.co/zWVPYccRTf #depressed #depression #MentalHealthAwarenessWeek #mentalhealth #healthylifestyle #wellness #wellbeing #anxiety https://t.co/CzfOtqAGHu  ...          1\n",
              "77                    \"by now I have a whole arsenal of things I do…&amp; really, admittedly, the underlying reason I do all of these things is to try to, basically…NOT BE #DEPRESSED! In fact, I don’t know if I’ve ever worked so hard to NOT be something before!\" https://t.co/BlbuFRL7OU #WhatIKnowIsReal  ...          1\n",
              "\n",
              "[20 rows x 5 columns]"
            ]
          },
          "metadata": {
            "tags": []
          },
          "execution_count": 52
        }
      ]
    },
    {
      "cell_type": "markdown",
      "metadata": {
        "id": "HD7d59gYROSW"
      },
      "source": [
        "### New Data Analysis \n",
        "\n",
        "I combine all the tweets into a new dataframe, prepare the data the same way I did the original data, and run the model on it for more testing. I do this in order to test the model more extensively, as the metric scores were very good on the given dataset.\n",
        "\n",
        "I select a random amount of the new tweets to look more closely at, and look at the overall totals for those classified as depressed or not depressed.  The model classified the vast majority of data with the word 'depressed' or 'depression' in it as from a clinically depressed individual. It struggles to recognize informational or positive posts as well as exaggeration or informal use of the word depression."
      ]
    },
    {
      "cell_type": "markdown",
      "metadata": {
        "id": "YJTDLBWkVATS"
      },
      "source": [
        "## Model Refinement\n",
        "\n",
        "Given that the model did not perform as well as I'd like on newly sourced data, I refine the model again. I create a new class that stands for \"not enough information\".  I do this by scrambling the order of words in the depressed tweets, to teach the model that the word 'depression' alone is not enough for a tweet to be classified as depressed. "
      ]
    },
    {
      "cell_type": "code",
      "metadata": {
        "id": "SRZvfkp8V-RK"
      },
      "source": [
        "def scramble(sentence):\n",
        "  \"\"\" Rearranges the words in a string \"\"\"\n",
        "  split = sentence.split() #splits the string into a list of words\n",
        "  shuffle(split)\n",
        "  return ' '.join(split)"
      ],
      "execution_count": null,
      "outputs": []
    },
    {
      "cell_type": "code",
      "metadata": {
        "id": "5wQXmaJ4ZYBT"
      },
      "source": [
        "#creates a list of a scrambled version of the depressed tweets. \n",
        "\n",
        "shuffled = []\n",
        "for index, row in dep.iterrows():\n",
        " sentence = scramble(row['message to examine'])\n",
        " shuffled.append(sentence)\n"
      ],
      "execution_count": null,
      "outputs": []
    },
    {
      "cell_type": "code",
      "metadata": {
        "colab": {
          "base_uri": "https://localhost:8080/",
          "height": 1000
        },
        "id": "NQ2Eoj6W0xAo",
        "outputId": "147b911c-0249-4dd0-c2bf-46307e7e1a6b"
      },
      "source": [
        "dep.head()"
      ],
      "execution_count": null,
      "outputs": [
        {
          "output_type": "execute_result",
          "data": {
            "text/html": [
              "<div>\n",
              "<style scoped>\n",
              "    .dataframe tbody tr th:only-of-type {\n",
              "        vertical-align: middle;\n",
              "    }\n",
              "\n",
              "    .dataframe tbody tr th {\n",
              "        vertical-align: top;\n",
              "    }\n",
              "\n",
              "    .dataframe thead th {\n",
              "        text-align: right;\n",
              "    }\n",
              "</style>\n",
              "<table border=\"1\" class=\"dataframe\">\n",
              "  <thead>\n",
              "    <tr style=\"text-align: right;\">\n",
              "      <th></th>\n",
              "      <th>Index</th>\n",
              "      <th>message to examine</th>\n",
              "      <th>label (depression result)</th>\n",
              "      <th>tokenized</th>\n",
              "      <th>tokenizedandstemmed</th>\n",
              "      <th>tokenizedwithpunct</th>\n",
              "      <th>Topic</th>\n",
              "      <th>topic_name</th>\n",
              "      <th>polarity</th>\n",
              "    </tr>\n",
              "  </thead>\n",
              "  <tbody>\n",
              "    <tr>\n",
              "      <th>8000</th>\n",
              "      <td>800000</td>\n",
              "      <td>The lack of this understanding is a small but significant part of what causes anxiety &amp; depression to both feel so incredibly lonely. It's soooo easy to compare. It's so easy to invalidate ourselves because of that.</td>\n",
              "      <td>1</td>\n",
              "      <td>The lack of this understanding is a small but significant part of what causes anxiety depression to both feel so incredibly lonely It s soooo easy to compare It s so easy to invalidate ourselves because of that</td>\n",
              "      <td>[the, lack, of, thi, understand, is, a, small, but, signific, part, of, what, caus, anxieti, depress, to, both, feel, so, incred, lone, sooo, easi, to, compar, so, easi, to, invalid, ourselv, becaus, of, that]</td>\n",
              "      <td>The lack of this understanding is a small but significant part of what causes anxiety &amp; depression to both feel so incredibly lonely. It's soooo easy to compare. It's so easy to invalidate ourselves because of that.</td>\n",
              "      <td>4</td>\n",
              "      <td>depression_experience</td>\n",
              "      <td>{'neg': 0.238, 'neu': 0.555, 'pos': 0.207, 'compound': -0.1767}</td>\n",
              "    </tr>\n",
              "    <tr>\n",
              "      <th>8001</th>\n",
              "      <td>800001</td>\n",
              "      <td>i just told my parents about my depression and it's so hard to get gen x people to understand that this is not something that i can control all the time or just cure with a walk or by keeping my mind busy</td>\n",
              "      <td>1</td>\n",
              "      <td>i just told my parents about my depression and it s so hard to get gen x people to understand that this is not something that i can control all the time or just cure with a walk or by keeping my mind busy</td>\n",
              "      <td>[i, just, told, my, parent, about, my, depress, and, so, hard, to, get, gen, x, peopl, to, understand, that, thi, is, not, someth, that, i, can, control, all, the, time, or, just, cure, with, a, walk, or, by, keep, my, mind, busi]</td>\n",
              "      <td>i just told my parents about my depression and it's so hard to get gen x people to understand that this is not something that i can control all the time or just cure with a walk or by keeping my mind busy</td>\n",
              "      <td>4</td>\n",
              "      <td>depression_experience</td>\n",
              "      <td>{'neg': 0.12, 'neu': 0.88, 'pos': 0.0, 'compound': -0.6774}</td>\n",
              "    </tr>\n",
              "    <tr>\n",
              "      <th>8002</th>\n",
              "      <td>800002</td>\n",
              "      <td>depression is something i don't speak about even going through it because it's also such a double edged sword. i love every race. even if white people had done so much i can't hate them all. my grandma is legit white! how tf can i hate, i do dislike people though.</td>\n",
              "      <td>1</td>\n",
              "      <td>depression is something i don t speak about even going through it because it s also such a double edged sword i love every race even if white people had done so much i can t hate them all my grandma is legit white how tf can i hate i do dislike people though</td>\n",
              "      <td>[depress, is, someth, i, speak, about, even, go, through, it, becaus, also, such, a, doubl, edg, sword, i, love, everi, race, even, if, white, peopl, had, done, so, much, i, hate, them, all, my, grandma, is, legit, white, how, tf, can, i, hate, i, do, dislik, peopl, though]</td>\n",
              "      <td>depression is something i don't speak about even going through it because it's also such a double edged sword. i love every race. even if white people had done so much i can't hate them all. my grandma is legit white! how tf can i hate, i do dislike people though.</td>\n",
              "      <td>4</td>\n",
              "      <td>depression_experience</td>\n",
              "      <td>{'neg': 0.162, 'neu': 0.725, 'pos': 0.113, 'compound': -0.4756}</td>\n",
              "    </tr>\n",
              "    <tr>\n",
              "      <th>8003</th>\n",
              "      <td>800003</td>\n",
              "      <td>Made myself a tortilla filled with pb&amp;j. My depression is cured. Olivia:1 depression:0</td>\n",
              "      <td>1</td>\n",
              "      <td>Made myself a tortilla filled with pb j My depression is cured Olivia depression</td>\n",
              "      <td>[made, myself, a, tortilla, fill, with, pb, j, my, depress, is, cure, olivia, depress]</td>\n",
              "      <td>Made myself a tortilla filled with pb&amp;j. My depression is cured. Olivia: depression:</td>\n",
              "      <td>4</td>\n",
              "      <td>depression_experience</td>\n",
              "      <td>{'neg': 0.402, 'neu': 0.598, 'pos': 0.0, 'compound': -0.8126}</td>\n",
              "    </tr>\n",
              "    <tr>\n",
              "      <th>8004</th>\n",
              "      <td>800004</td>\n",
              "      <td>@WorldofOutlaws I am gonna need depression meds soon, these rainouts are spinning my equilibrium out &lt;Emoji: Pouting face&gt; Mother Nature is being a mean B-T-H &lt;Emoji: Face with symbols over mouth&gt;</td>\n",
              "      <td>1</td>\n",
              "      <td>I am gonna need depression meds soon these rainouts are spinning my equilibrium out Emoji Pouting face Mother Nature is being a mean B T H Emoji Face with symbols over mouth</td>\n",
              "      <td>[i, am, gonna, need, depress, med, soon, these, rainout, are, spin, my, equilibrium, out, emoji, pout, face, mother, natur, is, be, a, mean, emoji, face, with, symbol, over, mouth]</td>\n",
              "      <td>I am gonna need depression meds soon, these rainouts are spinning my equilibrium out &lt;Emoji: Pouting face&gt; Mother Nature is being a mean B-T-H &lt;Emoji: Face with symbols over mouth&gt;</td>\n",
              "      <td>2</td>\n",
              "      <td>emoji</td>\n",
              "      <td>{'neg': 0.113, 'neu': 0.887, 'pos': 0.0, 'compound': -0.5719}</td>\n",
              "    </tr>\n",
              "  </tbody>\n",
              "</table>\n",
              "</div>"
            ],
            "text/plain": [
              "       Index  ...                                                         polarity\n",
              "8000  800000  ...  {'neg': 0.238, 'neu': 0.555, 'pos': 0.207, 'compound': -0.1767}\n",
              "8001  800001  ...      {'neg': 0.12, 'neu': 0.88, 'pos': 0.0, 'compound': -0.6774}\n",
              "8002  800002  ...  {'neg': 0.162, 'neu': 0.725, 'pos': 0.113, 'compound': -0.4756}\n",
              "8003  800003  ...    {'neg': 0.402, 'neu': 0.598, 'pos': 0.0, 'compound': -0.8126}\n",
              "8004  800004  ...    {'neg': 0.113, 'neu': 0.887, 'pos': 0.0, 'compound': -0.5719}\n",
              "\n",
              "[5 rows x 9 columns]"
            ]
          },
          "metadata": {
            "tags": []
          },
          "execution_count": 55
        }
      ]
    },
    {
      "cell_type": "code",
      "metadata": {
        "colab": {
          "base_uri": "https://localhost:8080/",
          "height": 323
        },
        "id": "3HgyMqtoLMpy",
        "outputId": "f86045b4-c8f8-46ca-d527-05e1b1d6330d"
      },
      "source": [
        "#create a data frame with the scrambled sentences \n",
        "shuffleddata = pd.DataFrame(data=shuffled, columns=['message to examine'])\n",
        "shuffleddata['label (depression result)'] = 2\n",
        "shuffleddata.head()\n"
      ],
      "execution_count": null,
      "outputs": [
        {
          "output_type": "execute_result",
          "data": {
            "text/html": [
              "<div>\n",
              "<style scoped>\n",
              "    .dataframe tbody tr th:only-of-type {\n",
              "        vertical-align: middle;\n",
              "    }\n",
              "\n",
              "    .dataframe tbody tr th {\n",
              "        vertical-align: top;\n",
              "    }\n",
              "\n",
              "    .dataframe thead th {\n",
              "        text-align: right;\n",
              "    }\n",
              "</style>\n",
              "<table border=\"1\" class=\"dataframe\">\n",
              "  <thead>\n",
              "    <tr style=\"text-align: right;\">\n",
              "      <th></th>\n",
              "      <th>message to examine</th>\n",
              "      <th>label (depression result)</th>\n",
              "    </tr>\n",
              "  </thead>\n",
              "  <tbody>\n",
              "    <tr>\n",
              "      <th>0</th>\n",
              "      <td>to lonely. anxiety what part depression The &amp; easy It's both compare. ourselves to causes easy of of incredibly of but that. feel significant this so because It's lack to understanding so small invalidate soooo a is</td>\n",
              "      <td>2</td>\n",
              "    </tr>\n",
              "    <tr>\n",
              "      <th>1</th>\n",
              "      <td>is hard i so mind just told with all by my to this it's that about walk parents cure time just i busy x or people gen or get control can and not depression that to the a my understand my something keeping</td>\n",
              "      <td>2</td>\n",
              "    </tr>\n",
              "    <tr>\n",
              "      <th>2</th>\n",
              "      <td>white hate tf race. also even sword. even i dislike so people is every it through grandma it's i speak can't do about edged i though. double because much can a if depression legit such them hate, is how love all. going had i done don't my i people white! something</td>\n",
              "      <td>2</td>\n",
              "    </tr>\n",
              "    <tr>\n",
              "      <th>3</th>\n",
              "      <td>myself filled Olivia:1 depression:0 pb&amp;j. a is depression Made with tortilla My cured.</td>\n",
              "      <td>2</td>\n",
              "    </tr>\n",
              "    <tr>\n",
              "      <th>4</th>\n",
              "      <td>my is Mother I out rainouts &lt;Emoji: being soon, over a mean spinning symbols with am face&gt; B-T-H Nature equilibrium mouth&gt; these Face @WorldofOutlaws depression gonna are Pouting &lt;Emoji: need meds</td>\n",
              "      <td>2</td>\n",
              "    </tr>\n",
              "  </tbody>\n",
              "</table>\n",
              "</div>"
            ],
            "text/plain": [
              "                                                                                                                                                                                                                                                         message to examine  label (depression result)\n",
              "0                                                   to lonely. anxiety what part depression The & easy It's both compare. ourselves to causes easy of of incredibly of but that. feel significant this so because It's lack to understanding so small invalidate soooo a is                          2\n",
              "1                                                              is hard i so mind just told with all by my to this it's that about walk parents cure time just i busy x or people gen or get control can and not depression that to the a my understand my something keeping                          2\n",
              "2  white hate tf race. also even sword. even i dislike so people is every it through grandma it's i speak can't do about edged i though. double because much can a if depression legit such them hate, is how love all. going had i done don't my i people white! something                          2\n",
              "3                                                                                                                                                                                    myself filled Olivia:1 depression:0 pb&j. a is depression Made with tortilla My cured.                          2\n",
              "4                                                                      my is Mother I out rainouts <Emoji: being soon, over a mean spinning symbols with am face> B-T-H Nature equilibrium mouth> these Face @WorldofOutlaws depression gonna are Pouting <Emoji: need meds                          2"
            ]
          },
          "metadata": {
            "tags": []
          },
          "execution_count": 56
        }
      ]
    },
    {
      "cell_type": "code",
      "metadata": {
        "id": "La1cTcY0MSEi"
      },
      "source": [
        "#clean and tokenize the data, and randomly select 1000 tweets to add to the dataset to represent the new category. \n",
        "shuffleddata_tokenized = clean_and_tokenize(shuffleddata, 'message to examine')\n",
        "randomsamplesd = shuffleddata_tokenized.sample(n=1000)\n"
      ],
      "execution_count": null,
      "outputs": []
    },
    {
      "cell_type": "code",
      "metadata": {
        "colab": {
          "base_uri": "https://localhost:8080/",
          "height": 1000
        },
        "id": "uMmaRsFTNI21",
        "outputId": "d328924d-f9f6-4b3f-ad44-715293692d0a"
      },
      "source": [
        "dataframes = [df, randomsamplesd]\n",
        "new_df = pd.concat(dataframes)\n",
        "new_df.tail()"
      ],
      "execution_count": null,
      "outputs": [
        {
          "output_type": "execute_result",
          "data": {
            "text/html": [
              "<div>\n",
              "<style scoped>\n",
              "    .dataframe tbody tr th:only-of-type {\n",
              "        vertical-align: middle;\n",
              "    }\n",
              "\n",
              "    .dataframe tbody tr th {\n",
              "        vertical-align: top;\n",
              "    }\n",
              "\n",
              "    .dataframe thead th {\n",
              "        text-align: right;\n",
              "    }\n",
              "</style>\n",
              "<table border=\"1\" class=\"dataframe\">\n",
              "  <thead>\n",
              "    <tr style=\"text-align: right;\">\n",
              "      <th></th>\n",
              "      <th>Index</th>\n",
              "      <th>message to examine</th>\n",
              "      <th>label (depression result)</th>\n",
              "      <th>tokenized</th>\n",
              "      <th>tokenizedandstemmed</th>\n",
              "    </tr>\n",
              "  </thead>\n",
              "  <tbody>\n",
              "    <tr>\n",
              "      <th>487</th>\n",
              "      <td>NaN</td>\n",
              "      <td>research Hay linked depression @stylistmagazine â¦ @StylistMagazine anxiety increased finds risk, via fever to and https://www.stylist.co.uk/life/hay-fever-risk-allergies-mental-health-anxiety-depression/203144Â</td>\n",
              "      <td>2</td>\n",
              "      <td>[research, hay, linked, depression, â, , ¦, anxiety, increased, finds, risk, ,, via, fever, to, and]</td>\n",
              "      <td>[research, hay, link, depress, â, anxieti, increas, find, risk, via, fever, to, and]</td>\n",
              "    </tr>\n",
              "    <tr>\n",
              "      <th>1726</th>\n",
              "      <td>NaN</td>\n",
              "      <td>this Reading struggling good depression. with anxiety me. Japanese Maybe â¦ or for helped friends https://twitter.com/sheepchase/status/988951764106821632Â</td>\n",
              "      <td>2</td>\n",
              "      <td>[this, reading, struggling, good, depression, ., with, anxiety, me, ., japanese, maybe, â, , ¦, or, for, helped, friends]</td>\n",
              "      <td>[thi, read, struggl, good, depress, with, anxieti, me, japanes, mayb, â, or, for, help, friend]</td>\n",
              "    </tr>\n",
              "    <tr>\n",
              "      <th>2152</th>\n",
              "      <td>NaN</td>\n",
              "      <td>Depression in Jedi https://coub.com/v/vfyxtÂ Last @coub The</td>\n",
              "      <td>2</td>\n",
              "      <td>[depression, in, jedi, last, the]</td>\n",
              "      <td>[depress, in, jedi, last, the]</td>\n",
              "    </tr>\n",
              "    <tr>\n",
              "      <th>438</th>\n",
              "      <td>NaN</td>\n",
              "      <td>https://cmun.it/lu4yifÂ https://commun.it/grow-your-followers/?tc=n&amp;aid=content_15Â #health Suicide Spray Shows Rocket&gt;Grow with &lt;Emoji: Nasal followers Promise Against Ketamine - â¦ Depression, your</td>\n",
              "      <td>2</td>\n",
              "      <td>[health, suicide, spray, shows, rocket, &gt;, grow, with, &lt;, emoji, :, nasal, followers, promise, against, ketamine, -, â, , ¦, depression, ,, your]</td>\n",
              "      <td>[health, suicid, spray, show, rocket, grow, with, emoji, nasal, follow, promis, against, ketamin, â, depress, your]</td>\n",
              "    </tr>\n",
              "    <tr>\n",
              "      <th>748</th>\n",
              "      <td>NaN</td>\n",
              "      <td>leads which the i to asian have and also a say about lot to to depression/anxiety immigrants pressure succeed</td>\n",
              "      <td>2</td>\n",
              "      <td>[leads, which, the, i, to, asian, have, and, also, a, say, about, lot, to, to, depression, /, anxiety, immigrants, pressure, succeed]</td>\n",
              "      <td>[lead, which, the, i, to, asian, have, and, also, a, say, about, lot, to, to, depress, anxieti, immigr, pressur, succeed]</td>\n",
              "    </tr>\n",
              "  </tbody>\n",
              "</table>\n",
              "</div>"
            ],
            "text/plain": [
              "      Index  ...                                                                                                        tokenizedandstemmed\n",
              "487     NaN  ...                                       [research, hay, link, depress, â, anxieti, increas, find, risk, via, fever, to, and]\n",
              "1726    NaN  ...                            [thi, read, struggl, good, depress, with, anxieti, me, japanes, mayb, â, or, for, help, friend]\n",
              "2152    NaN  ...                                                                                             [depress, in, jedi, last, the]\n",
              "438     NaN  ...        [health, suicid, spray, show, rocket, grow, with, emoji, nasal, follow, promis, against, ketamin, â, depress, your]\n",
              "748     NaN  ...  [lead, which, the, i, to, asian, have, and, also, a, say, about, lot, to, to, depress, anxieti, immigr, pressur, succeed]\n",
              "\n",
              "[5 rows x 5 columns]"
            ]
          },
          "metadata": {
            "tags": []
          },
          "execution_count": 58
        }
      ]
    },
    {
      "cell_type": "markdown",
      "metadata": {
        "id": "rqG2AGeTa7kH"
      },
      "source": [
        "#### Models\n",
        "\n",
        "I create 3 more versions of the model.  I explore early stopping, adding dropout layers, class weights, and changing various paramaters in order to avoid overfitting and better train the model. I decide on Model 3 as the final model due to it's high recall and f1 score for depressed data, even though it does not identify any tweets as \"not enough information\".  I want the model to catch as many depressed cases as possible. Even though this model does not classify any tweets as \"not enough information\", it overfits less than the orginal model does. I then apply this model and another model to the data sourced from twitter.  It performs better than the first model, but does continue to struggle to correctly classify informational, positive, and exagerrated tweets. "
      ]
    },
    {
      "cell_type": "code",
      "metadata": {
        "id": "UUzqpL6nM_Hu"
      },
      "source": [
        "#train test split\n",
        "X = new_df['tokenizedandstemmed']\n",
        "Y = new_df['label (depression result)']\n",
        "\n",
        "X_train, X_test, Y_train, Y_test = train_test_split(X, Y, test_size = 0.20, random_state=42)"
      ],
      "execution_count": null,
      "outputs": []
    },
    {
      "cell_type": "code",
      "metadata": {
        "id": "4WFma8fiOHrz"
      },
      "source": [
        "##convert words to indices.  I create a set, and add every word in the training data to it. \n",
        "word_set2 = set()\n",
        "for sent in X_train:\n",
        "  word_set2.update(sent)\n",
        "\n",
        "#I create a dictionary mapping each word to a number representing it \n",
        "#enumerate returns 2 variables, the count and the value of the item at that iteration \n",
        "token_map2 = {word: i+1 for i, word in enumerate(word_set2)} #offset by 1 to allow for padding value\n",
        "token_map2['<#PAD>'] = 0\n",
        "\n",
        "#create our sentences\n",
        "X_train_indices = [[token_map2[word] for word in sent] for sent in X_train ]\n",
        "\n",
        "#use the encoding on the test data\n",
        "X_test_indices = [[check_encoding(word, token_map2) for word in sent] for sent in X_test]\n",
        "\n",
        "#dealing with sentences being dfferent lengths\n",
        "X_train_indices = tf.keras.preprocessing.sequence.pad_sequences(X_train_indices, padding='post').tolist()\n",
        "X_test_indices = tf.keras.preprocessing.sequence.pad_sequences(X_test_indices, padding = 'post').tolist()"
      ],
      "execution_count": null,
      "outputs": []
    },
    {
      "cell_type": "code",
      "metadata": {
        "colab": {
          "base_uri": "https://localhost:8080/"
        },
        "id": "C_jiA1t8Oct4",
        "outputId": "09ee4731-f961-4a1c-87f0-bf47df9e1c1a"
      },
      "source": [
        "#building a LSTM model. Creating an embeddg layer with indices to vectors\n",
        "\n",
        "dim = 128\n",
        "hid_dim = 8\n",
        "\n",
        "model2 = tf.keras.models.Sequential([\n",
        "                                    tf.keras.layers.Embedding(len(word_set2)+1, dim, embeddings_initializer='orthogonal', mask_zero=True), #+1 because of padding index\n",
        "                                    tf.keras.layers.LSTM(hid_dim, return_sequences=False), \n",
        "                                    tf.keras.layers.Dense(3, activation=tf.nn.leaky_relu),\n",
        "                                    tf.keras.layers.Dense(3, use_bias=False), # is the number of labels you want to pick from\n",
        "                                    tf.keras.layers.Softmax()\n",
        "])\n",
        "model2.summary()"
      ],
      "execution_count": null,
      "outputs": [
        {
          "output_type": "stream",
          "text": [
            "Model: \"sequential_1\"\n",
            "_________________________________________________________________\n",
            "Layer (type)                 Output Shape              Param #   \n",
            "=================================================================\n",
            "embedding_1 (Embedding)      (None, None, 128)         1316992   \n",
            "_________________________________________________________________\n",
            "lstm_1 (LSTM)                (None, 8)                 4384      \n",
            "_________________________________________________________________\n",
            "dense_2 (Dense)              (None, 3)                 27        \n",
            "_________________________________________________________________\n",
            "dense_3 (Dense)              (None, 3)                 9         \n",
            "_________________________________________________________________\n",
            "softmax (Softmax)            (None, 3)                 0         \n",
            "=================================================================\n",
            "Total params: 1,321,412\n",
            "Trainable params: 1,321,412\n",
            "Non-trainable params: 0\n",
            "_________________________________________________________________\n"
          ],
          "name": "stdout"
        }
      ]
    },
    {
      "cell_type": "code",
      "metadata": {
        "colab": {
          "base_uri": "https://localhost:8080/"
        },
        "id": "YffQP6FQO8zq",
        "outputId": "8e7fb6fe-91af-48ab-a22c-9a684d87cbc9"
      },
      "source": [
        "#Compile the model \n",
        "model2.compile(optimizer='adam', loss=tf.keras.losses.SparseCategoricalCrossentropy(),\n",
        "              metrics=['accuracy']) \n",
        "callback = tf.keras.callbacks.EarlyStopping(monitor='loss', patience=2)\n",
        "\n",
        "X_train_ind_padded = np.array(X_train_indices)\n",
        "X_test_ind_padded = np.array(X_test_indices)                          \n",
        "\n",
        "history = model2.fit(X_train_ind_padded, Y_train, epochs = 15, batch_size=64, callbacks=[callback], verbose=1)"
      ],
      "execution_count": null,
      "outputs": [
        {
          "output_type": "stream",
          "text": [
            "Epoch 1/15\n",
            "142/142 [==============================] - 13s 62ms/step - loss: 0.9439 - accuracy: 0.7279\n",
            "Epoch 2/15\n",
            "142/142 [==============================] - 9s 61ms/step - loss: 0.3939 - accuracy: 0.8676\n",
            "Epoch 3/15\n",
            "142/142 [==============================] - 9s 61ms/step - loss: 0.2057 - accuracy: 0.9008\n",
            "Epoch 4/15\n",
            "142/142 [==============================] - 9s 61ms/step - loss: 0.1701 - accuracy: 0.9109\n",
            "Epoch 5/15\n",
            "142/142 [==============================] - 9s 62ms/step - loss: 0.1387 - accuracy: 0.9412\n",
            "Epoch 6/15\n",
            "142/142 [==============================] - 9s 62ms/step - loss: 0.1134 - accuracy: 0.9619\n",
            "Epoch 7/15\n",
            "142/142 [==============================] - 9s 61ms/step - loss: 0.0928 - accuracy: 0.9688\n",
            "Epoch 8/15\n",
            "142/142 [==============================] - 9s 61ms/step - loss: 0.0714 - accuracy: 0.9778\n",
            "Epoch 9/15\n",
            "142/142 [==============================] - 9s 61ms/step - loss: 0.0592 - accuracy: 0.9809\n",
            "Epoch 10/15\n",
            "142/142 [==============================] - 9s 62ms/step - loss: 0.0508 - accuracy: 0.9849\n",
            "Epoch 11/15\n",
            "142/142 [==============================] - 9s 62ms/step - loss: 0.0405 - accuracy: 0.9878\n",
            "Epoch 12/15\n",
            "142/142 [==============================] - 9s 62ms/step - loss: 0.0299 - accuracy: 0.9927\n",
            "Epoch 13/15\n",
            "142/142 [==============================] - 9s 62ms/step - loss: 0.0339 - accuracy: 0.9903\n",
            "Epoch 14/15\n",
            "142/142 [==============================] - 9s 62ms/step - loss: 0.0274 - accuracy: 0.9924\n",
            "Epoch 15/15\n",
            "142/142 [==============================] - 9s 62ms/step - loss: 0.0254 - accuracy: 0.9929\n"
          ],
          "name": "stdout"
        }
      ]
    },
    {
      "cell_type": "code",
      "metadata": {
        "colab": {
          "base_uri": "https://localhost:8080/"
        },
        "id": "nZd5x7mvQfuj",
        "outputId": "e6f53b90-f5f6-4239-b6ba-e212d93ff6dd"
      },
      "source": [
        "score = model2.evaluate(X_test_ind_padded, Y_test, verbose = 1)\n",
        "score_train = model2.evaluate(X_train_ind_padded, Y_train, verbose = 1)\n",
        "target_names = ['class 0', 'class 1', 'class 2']\n",
        "\n",
        "#print(model(np.array(df['indices'].to_list())).numpy().tolist())\n",
        "\n",
        "print(\"Evaluate on test data\")\n",
        "print(f'Test loss: {score[0]} / Test accuracy: {score[1]}')\n",
        "\n",
        "print(\"Evaluate on train data\")\n",
        "print(f'Train loss: {score_train[0]} / Train accuracy: {score_train[1]}')\n",
        "\n",
        "from sklearn.metrics import classification_report\n",
        "\n",
        "y_pred1 = model2.predict(X_test_ind_padded)\n",
        "y_pred = np.argmax(y_pred1, axis=1).astype(int)\n",
        "\n",
        "\n",
        "print(classification_report(Y_test, y_pred, target_names=target_names))\n"
      ],
      "execution_count": null,
      "outputs": [
        {
          "output_type": "stream",
          "text": [
            "71/71 [==============================] - 2s 9ms/step - loss: 0.5486 - accuracy: 0.8696\n",
            "283/283 [==============================] - 4s 10ms/step - loss: 0.0206 - accuracy: 0.9944\n",
            "Evaluate on test data\n",
            "Test loss: 0.5486075282096863 / Test accuracy: 0.8696420788764954\n",
            "Evaluate on train data\n",
            "Train loss: 0.020631149411201477 / Train accuracy: 0.9943652749061584\n",
            "              precision    recall  f1-score   support\n",
            "\n",
            "     class 0       0.99      0.99      0.99      1595\n",
            "     class 1       0.68      0.71      0.70       468\n",
            "     class 2       0.29      0.26      0.27       200\n",
            "\n",
            "    accuracy                           0.87      2263\n",
            "   macro avg       0.66      0.66      0.65      2263\n",
            "weighted avg       0.87      0.87      0.87      2263\n",
            "\n"
          ],
          "name": "stdout"
        }
      ]
    },
    {
      "cell_type": "code",
      "metadata": {
        "colab": {
          "base_uri": "https://localhost:8080/"
        },
        "id": "A_RdwAlGjhFM",
        "outputId": "6b705870-c4fe-4990-8906-09eb0bc1ac4c"
      },
      "source": [
        "#building a LSTM model. Creating an embeddg layer with indices to vectors\n",
        "\n",
        "dim = 128\n",
        "hid_dim = 8\n",
        "\n",
        "model3 = tf.keras.models.Sequential([\n",
        "                                    tf.keras.layers.Embedding(len(word_set2)+1, dim, embeddings_initializer='orthogonal', mask_zero=True), #+1 because of padding index\n",
        "                                    tf.keras.layers.LSTM(hid_dim, return_sequences=False), \n",
        "                                    tf.keras.layers.Dense(3, activation=tf.nn.leaky_relu),\n",
        "                                    tf.keras.layers.Dropout(0.8), \n",
        "                                    tf.keras.layers.Dense(3, use_bias=False), # is the number of labels you want to pick from\n",
        "                                    #tf.keras.layers.Dropout(0.5),\n",
        "                                    tf.keras.layers.Softmax()\n",
        "])\n",
        "model3.summary()"
      ],
      "execution_count": null,
      "outputs": [
        {
          "output_type": "stream",
          "text": [
            "Model: \"sequential_2\"\n",
            "_________________________________________________________________\n",
            "Layer (type)                 Output Shape              Param #   \n",
            "=================================================================\n",
            "embedding_2 (Embedding)      (None, None, 128)         1316992   \n",
            "_________________________________________________________________\n",
            "lstm_2 (LSTM)                (None, 8)                 4384      \n",
            "_________________________________________________________________\n",
            "dense_4 (Dense)              (None, 3)                 27        \n",
            "_________________________________________________________________\n",
            "dropout (Dropout)            (None, 3)                 0         \n",
            "_________________________________________________________________\n",
            "dense_5 (Dense)              (None, 3)                 9         \n",
            "_________________________________________________________________\n",
            "softmax_1 (Softmax)          (None, 3)                 0         \n",
            "=================================================================\n",
            "Total params: 1,321,412\n",
            "Trainable params: 1,321,412\n",
            "Non-trainable params: 0\n",
            "_________________________________________________________________\n"
          ],
          "name": "stdout"
        }
      ]
    },
    {
      "cell_type": "code",
      "metadata": {
        "colab": {
          "base_uri": "https://localhost:8080/"
        },
        "id": "sAD-QzxSjjY6",
        "outputId": "9fa915e5-71d1-4a58-a3e5-ba17306da28a"
      },
      "source": [
        "#Compile the model \n",
        "model3.compile(optimizer='adam', loss=tf.keras.losses.SparseCategoricalCrossentropy(),\n",
        "              metrics=['accuracy']) \n",
        "callback = tf.keras.callbacks.EarlyStopping(monitor='loss', patience=2)\n",
        "\n",
        "X_train_ind_padded = np.array(X_train_indices)\n",
        "X_test_ind_padded = np.array(X_test_indices)                          \n",
        "\n",
        "history = model3.fit(X_train_ind_padded, Y_train, epochs = 50, batch_size=64, shuffle = True, \n",
        "                     callbacks=[callback],  verbose=1)"
      ],
      "execution_count": null,
      "outputs": [
        {
          "output_type": "stream",
          "text": [
            "Epoch 1/50\n",
            "142/142 [==============================] - 13s 61ms/step - loss: 1.0410 - accuracy: 0.6423\n",
            "Epoch 2/50\n",
            "142/142 [==============================] - 9s 63ms/step - loss: 0.8398 - accuracy: 0.6939\n",
            "Epoch 3/50\n",
            "142/142 [==============================] - 9s 61ms/step - loss: 0.7992 - accuracy: 0.7027\n",
            "Epoch 4/50\n",
            "142/142 [==============================] - 9s 62ms/step - loss: 0.7682 - accuracy: 0.7073\n",
            "Epoch 5/50\n",
            "142/142 [==============================] - 9s 62ms/step - loss: 0.7084 - accuracy: 0.7735\n",
            "Epoch 6/50\n",
            "142/142 [==============================] - 9s 61ms/step - loss: 0.6891 - accuracy: 0.7912\n",
            "Epoch 7/50\n",
            "142/142 [==============================] - 9s 62ms/step - loss: 0.6827 - accuracy: 0.7840\n",
            "Epoch 8/50\n",
            "142/142 [==============================] - 9s 62ms/step - loss: 0.6631 - accuracy: 0.7914\n",
            "Epoch 9/50\n",
            "142/142 [==============================] - 9s 63ms/step - loss: 0.6546 - accuracy: 0.7981\n",
            "Epoch 10/50\n",
            "142/142 [==============================] - 9s 61ms/step - loss: 0.6508 - accuracy: 0.7926\n",
            "Epoch 11/50\n",
            "142/142 [==============================] - 9s 62ms/step - loss: 0.6572 - accuracy: 0.7947\n",
            "Epoch 12/50\n",
            "142/142 [==============================] - 9s 62ms/step - loss: 0.6491 - accuracy: 0.7967\n",
            "Epoch 13/50\n",
            "142/142 [==============================] - 9s 63ms/step - loss: 0.6520 - accuracy: 0.7934\n",
            "Epoch 14/50\n",
            "142/142 [==============================] - 9s 62ms/step - loss: 0.6518 - accuracy: 0.7934\n"
          ],
          "name": "stdout"
        }
      ]
    },
    {
      "cell_type": "code",
      "metadata": {
        "colab": {
          "base_uri": "https://localhost:8080/"
        },
        "id": "jPxOz8h7bKxo",
        "outputId": "4e535bc6-2d7c-43ed-eb89-b6e7412f393b"
      },
      "source": [
        "score = model3.evaluate(X_test_ind_padded, Y_test, verbose = 1)\n",
        "score_train = model3.evaluate(X_train_ind_padded, Y_train, verbose = 1)\n",
        "target_names = ['class 0', 'class 1', 'class 2']\n",
        "\n",
        "print(\"Evaluate on test data\")\n",
        "print(f'Test loss: {score[0]} / Test accuracy: {score[1]}')\n",
        "\n",
        "print(\"Evaluate on train data\")\n",
        "print(f'Train loss: {score_train[0]} / Train accuracy: {score_train[1]}')\n",
        "\n",
        "\n",
        "y_pred1 = model3.predict(X_test_ind_padded)\n",
        "y_pred = np.argmax(y_pred1, axis=1).astype(int)\n",
        "\n",
        "\n",
        "print(classification_report(Y_test, y_pred, target_names=target_names))\n"
      ],
      "execution_count": null,
      "outputs": [
        {
          "output_type": "stream",
          "text": [
            "71/71 [==============================] - 2s 9ms/step - loss: 0.2320 - accuracy: 0.8913\n",
            "166/283 [================>.............] - ETA: 1s - loss: 0.1657 - accuracy: 0.9701"
          ],
          "name": "stdout"
        }
      ]
    },
    {
      "cell_type": "code",
      "metadata": {
        "id": "xkMKvC5BoK7f"
      },
      "source": [
        "class_weights = class_weight.compute_class_weight('balanced', np.unique(Y_train), Y_train)\n",
        "class_weights_dict = {0: class_weights[0], 1: class_weights[1], 2: class_weights[2]}\n",
        "class_weights_dict"
      ],
      "execution_count": null,
      "outputs": []
    },
    {
      "cell_type": "code",
      "metadata": {
        "id": "AtHKu5YxhO48"
      },
      "source": [
        "\n",
        "\n",
        "\n",
        "dim = 128\n",
        "hid_dim = 8\n",
        "\n",
        "model4 = tf.keras.models.Sequential([\n",
        "                                    tf.keras.layers.Embedding(len(word_set2)+1, dim, embeddings_initializer='orthogonal', mask_zero=True), #+1 because of padding index\n",
        "                                    tf.keras.layers.LSTM(hid_dim, return_sequences=False), \n",
        "                                    tf.keras.layers.Dense(3, activation=tf.nn.leaky_relu),\n",
        "                                    tf.keras.layers.Dropout(0.5), \n",
        "                                    tf.keras.layers.Dense(3, use_bias=False), # is the number of labels you want to pick from\n",
        "                                    tf.keras.layers.Dropout(0.5),\n",
        "                                    tf.keras.layers.Softmax()\n",
        "])\n",
        "model4.summary()"
      ],
      "execution_count": null,
      "outputs": []
    },
    {
      "cell_type": "code",
      "metadata": {
        "colab": {
          "background_save": true
        },
        "id": "ng0r3Q58haze",
        "outputId": "c5a24beb-3827-45dc-acc4-03b5d5a7efb3"
      },
      "source": [
        "#Compile the model \n",
        "model4.compile(optimizer='adam', loss=tf.keras.losses.SparseCategoricalCrossentropy(),\n",
        "              metrics=['accuracy']) \n",
        "callback = tf.keras.callbacks.EarlyStopping(monitor='loss', patience=2)\n",
        "\n",
        "X_train_ind_padded = np.array(X_train_indices)\n",
        "X_test_ind_padded = np.array(X_test_indices)                          \n",
        "\n",
        "history = model4.fit(X_train_ind_padded, Y_train, class_weight=class_weights_dict, epochs = 50, batch_size=64, shuffle = True, \n",
        "                     callbacks=[callback],  verbose=1)"
      ],
      "execution_count": null,
      "outputs": [
        {
          "output_type": "stream",
          "text": [
            "Epoch 1/50\n",
            "142/142 [==============================] - 13s 62ms/step - loss: 1.0861 - accuracy: 0.5204\n",
            "Epoch 2/50\n",
            "142/142 [==============================] - 8s 59ms/step - loss: 1.0475 - accuracy: 0.5976\n",
            "Epoch 3/50\n",
            "142/142 [==============================] - 8s 60ms/step - loss: 0.9595 - accuracy: 0.6469\n",
            "Epoch 4/50\n",
            "142/142 [==============================] - 8s 60ms/step - loss: 0.8943 - accuracy: 0.7303\n",
            "Epoch 5/50\n",
            "142/142 [==============================] - 8s 59ms/step - loss: 0.8226 - accuracy: 0.7545\n",
            "Epoch 6/50\n",
            "142/142 [==============================] - 8s 59ms/step - loss: 0.7792 - accuracy: 0.7733\n",
            "Epoch 7/50\n",
            "142/142 [==============================] - 8s 59ms/step - loss: 0.7589 - accuracy: 0.7670\n",
            "Epoch 8/50\n",
            "142/142 [==============================] - 8s 59ms/step - loss: 0.7227 - accuracy: 0.7710\n",
            "Epoch 9/50\n",
            "142/142 [==============================] - 8s 59ms/step - loss: 0.7107 - accuracy: 0.7754\n",
            "Epoch 10/50\n",
            "142/142 [==============================] - 9s 60ms/step - loss: 0.7253 - accuracy: 0.7727\n",
            "Epoch 11/50\n",
            "142/142 [==============================] - 8s 60ms/step - loss: 0.6927 - accuracy: 0.7803\n",
            "Epoch 12/50\n",
            "142/142 [==============================] - 8s 59ms/step - loss: 0.6837 - accuracy: 0.7803\n",
            "Epoch 13/50\n",
            "142/142 [==============================] - 8s 58ms/step - loss: 0.6610 - accuracy: 0.7570\n",
            "Epoch 14/50\n",
            "142/142 [==============================] - 8s 58ms/step - loss: 0.6755 - accuracy: 0.7559\n",
            "Epoch 15/50\n",
            "142/142 [==============================] - 8s 59ms/step - loss: 0.6608 - accuracy: 0.7620\n",
            "Epoch 16/50\n",
            "142/142 [==============================] - 8s 58ms/step - loss: 0.6577 - accuracy: 0.7456\n",
            "Epoch 17/50\n",
            "142/142 [==============================] - 8s 59ms/step - loss: 0.6614 - accuracy: 0.7544\n",
            "Epoch 18/50\n",
            "142/142 [==============================] - 8s 58ms/step - loss: 0.6809 - accuracy: 0.7514\n",
            "Epoch 19/50\n",
            "142/142 [==============================] - 8s 58ms/step - loss: 0.6229 - accuracy: 0.7629\n",
            "Epoch 20/50\n",
            "142/142 [==============================] - 8s 58ms/step - loss: 0.6280 - accuracy: 0.7560\n",
            "Epoch 21/50\n",
            "142/142 [==============================] - 8s 59ms/step - loss: 0.6567 - accuracy: 0.7579\n"
          ],
          "name": "stdout"
        }
      ]
    },
    {
      "cell_type": "code",
      "metadata": {
        "colab": {
          "background_save": true
        },
        "id": "MK-45y4FhhUq",
        "outputId": "a43ffe33-4fb3-4046-c22f-4e4e75e4584c"
      },
      "source": [
        "score = model4.evaluate(X_test_ind_padded, Y_test, verbose = 1)\n",
        "score_train = model4.evaluate(X_train_ind_padded, Y_train, verbose = 1)\n",
        "target_names = ['class 0', 'class 1', 'class 2']\n",
        "\n",
        "print(\"Evaluate on test data\")\n",
        "print(f'Test loss: {score[0]} / Test accuracy: {score[1]}')\n",
        "\n",
        "print(\"Evaluate on train data\")\n",
        "print(f'Train loss: {score_train[0]} / Train accuracy: {score_train[1]}')\n",
        "\n",
        "\n",
        "y_pred1 = model4.predict(X_test_ind_padded)\n",
        "y_pred = np.argmax(y_pred1, axis=1).astype(int)\n",
        "\n",
        "print(classification_report(Y_test, y_pred, target_names=target_names))"
      ],
      "execution_count": null,
      "outputs": [
        {
          "output_type": "stream",
          "text": [
            "71/71 [==============================] - 2s 8ms/step - loss: 0.3583 - accuracy: 0.8714\n",
            "283/283 [==============================] - 4s 9ms/step - loss: 0.1006 - accuracy: 0.9912\n",
            "Evaluate on test data\n",
            "Test loss: 0.35827624797821045 / Test accuracy: 0.8714096546173096\n",
            "Evaluate on train data\n",
            "Train loss: 0.1006399393081665 / Train accuracy: 0.9911612272262573\n",
            "              precision    recall  f1-score   support\n",
            "\n",
            "     class 0       0.99      0.99      0.99      1595\n",
            "     class 1       0.71      0.66      0.69       468\n",
            "     class 2       0.36      0.43      0.40       200\n",
            "\n",
            "    accuracy                           0.87      2263\n",
            "   macro avg       0.69      0.69      0.69      2263\n",
            "weighted avg       0.88      0.87      0.87      2263\n",
            "\n"
          ],
          "name": "stdout"
        }
      ]
    },
    {
      "cell_type": "markdown",
      "metadata": {
        "id": "yDN6u-Oqdgse"
      },
      "source": [
        "### Twitter Data\n",
        "\n",
        "I apply 2 models to the data sourced from twitter.  It performs better than the first model, but does continue to struggle to correctly classify informational, positive, and exagerrated tweets. Model 3 (final model) continues to classify almost all tweets featuring the word 'depression' as depressed. Model 4 overcompensates in the other direction, classifying too many depressed tweets as \"not enough information.\" "
      ]
    },
    {
      "cell_type": "code",
      "metadata": {
        "colab": {
          "background_save": true
        },
        "id": "XPhvXp0H6H_G"
      },
      "source": [
        "newdata_indices = [[check_encoding(word, token_map2) for word in sent] for sent in new_data['tokenizedandstemmed']]\n",
        "newdata_indices = tf.keras.preprocessing.sequence.pad_sequences(newdata_indices, padding = 'post').tolist()\n"
      ],
      "execution_count": null,
      "outputs": []
    },
    {
      "cell_type": "code",
      "metadata": {
        "colab": {
          "background_save": true
        },
        "id": "oHZ_3xDE6OZz",
        "outputId": "7610bf70-b66e-4e48-ef46-fbad0964ea41"
      },
      "source": [
        "new = model3.predict_classes(newdata_indices)\n",
        "\n",
        "new_data['prediction'] = new\n",
        "\n",
        "new_data['prediction'].value_counts()\n"
      ],
      "execution_count": null,
      "outputs": [
        {
          "output_type": "stream",
          "text": [
            "/usr/local/lib/python3.7/dist-packages/tensorflow/python/keras/engine/sequential.py:450: UserWarning: `model.predict_classes()` is deprecated and will be removed after 2021-01-01. Please use instead:* `np.argmax(model.predict(x), axis=-1)`,   if your model does multi-class classification   (e.g. if it uses a `softmax` last-layer activation).* `(model.predict(x) > 0.5).astype(\"int32\")`,   if your model does binary classification   (e.g. if it uses a `sigmoid` last-layer activation).\n",
            "  warnings.warn('`model.predict_classes()` is deprecated and '\n"
          ],
          "name": "stderr"
        },
        {
          "output_type": "execute_result",
          "data": {
            "text/plain": [
              "1    695\n",
              "0    199\n",
              "2    106\n",
              "Name: prediction, dtype: int64"
            ]
          },
          "metadata": {
            "tags": []
          },
          "execution_count": 0
        }
      ]
    },
    {
      "cell_type": "code",
      "metadata": {
        "colab": {
          "background_save": true
        },
        "id": "fqvHhHBR8j4X",
        "outputId": "bb006604-70f4-4c1e-8f38-e34829322643"
      },
      "source": [
        "new2 = model4.predict_classes(newdata_indices)\n",
        "\n",
        "new_data['prediction2'] = new2\n",
        "\n",
        "new_data['prediction2'].value_counts()\n"
      ],
      "execution_count": null,
      "outputs": [
        {
          "output_type": "stream",
          "text": [
            "/usr/local/lib/python3.7/dist-packages/tensorflow/python/keras/engine/sequential.py:450: UserWarning: `model.predict_classes()` is deprecated and will be removed after 2021-01-01. Please use instead:* `np.argmax(model.predict(x), axis=-1)`,   if your model does multi-class classification   (e.g. if it uses a `softmax` last-layer activation).* `(model.predict(x) > 0.5).astype(\"int32\")`,   if your model does binary classification   (e.g. if it uses a `sigmoid` last-layer activation).\n",
            "  warnings.warn('`model.predict_classes()` is deprecated and '\n"
          ],
          "name": "stderr"
        },
        {
          "output_type": "execute_result",
          "data": {
            "text/plain": [
              "1    579\n",
              "2    219\n",
              "0    202\n",
              "Name: prediction2, dtype: int64"
            ]
          },
          "metadata": {
            "tags": []
          },
          "execution_count": 0
        }
      ]
    },
    {
      "cell_type": "code",
      "metadata": {
        "colab": {
          "background_save": true
        },
        "id": "QGG2QfYU8t3C",
        "outputId": "1e733693-2c6c-4a30-bbcf-46b4b6906c42"
      },
      "source": [
        "new_data[new_data['prediction2']==2]"
      ],
      "execution_count": null,
      "outputs": [
        {
          "output_type": "execute_result",
          "data": {
            "text/html": [
              "<div>\n",
              "<style scoped>\n",
              "    .dataframe tbody tr th:only-of-type {\n",
              "        vertical-align: middle;\n",
              "    }\n",
              "\n",
              "    .dataframe tbody tr th {\n",
              "        vertical-align: top;\n",
              "    }\n",
              "\n",
              "    .dataframe thead th {\n",
              "        text-align: right;\n",
              "    }\n",
              "</style>\n",
              "<table border=\"1\" class=\"dataframe\">\n",
              "  <thead>\n",
              "    <tr style=\"text-align: right;\">\n",
              "      <th></th>\n",
              "      <th>message</th>\n",
              "      <th>tokenized</th>\n",
              "      <th>tokenizedandstemmed</th>\n",
              "      <th>query</th>\n",
              "      <th>prediction</th>\n",
              "      <th>prediction2</th>\n",
              "    </tr>\n",
              "  </thead>\n",
              "  <tbody>\n",
              "    <tr>\n",
              "      <th>1</th>\n",
              "      <td>@PebblesResists Its Natural when something so traumatic happens to us to feel #Anxious &amp;amp; #Depressed; People disappoint us, &amp;amp; they're not there for us like we'd like them to be. But..  #KeepGoing #YouAreAmazing &amp;amp; #YouWillDoAmazingThings ~ #IPromiseYou https://t.co/edYFpJwiWO</td>\n",
              "      <td>[its, natural, when, something, so, traumatic, happens, to, us, to, feel, anxious, &amp;, depressed, ;, people, disappoint, us, ,, &amp;, they're, not, there, for, us, like, we'd, like, them, to, be, ., but, .., keepgoing, youareamazing, &amp;, youwilldoamazingthings, ~, ipromiseyou]</td>\n",
              "      <td>[it, natur, when, someth, so, traumat, happen, to, us, to, feel, anxiou, depress, peopl, disappoint, us, not, there, for, us, like, like, them, to, be, but, keepgo, youareamaz, youwilldoamazingth, ipromisey]</td>\n",
              "      <td>hashtagdepressed</td>\n",
              "      <td>2</td>\n",
              "      <td>2</td>\n",
              "    </tr>\n",
              "    <tr>\n",
              "      <th>4</th>\n",
              "      <td>Maybe your the perfect date cause you know how to set the mood\\n.\\n.\\n.\\nPoem: Hey Depression 3\\n.\\n.\\n.\\n#poet #poetry #poem #poetrylove #poetryisart #wordsoftheday #writer #poetryisnotdead #writing #kexum  #depressed #heydepression #piecesofkblog\\n\\nhttps://t.co/A1HBZQ7I6I</td>\n",
              "      <td>[maybe, your, the, perfect, date, cause, you, know, how, to, set, the, mood, . . ., poem, :, hey, depression, . . ., poet, poetry, poem, poetrylove, poetryisart, wordsoftheday, writer, poetryisnotdead, writing, kexum, depressed, heydepression, piecesofkblog]</td>\n",
              "      <td>[mayb, your, the, perfect, date, caus, you, know, how, to, set, the, mood, poem, hey, depress, poet, poetri, poem, poetrylov, poetryisart, wordsoftheday, writer, poetryisnotdead, write, kexum, depress, heydepress, piecesofkblog]</td>\n",
              "      <td>hashtagdepressed</td>\n",
              "      <td>1</td>\n",
              "      <td>2</td>\n",
              "    </tr>\n",
              "    <tr>\n",
              "      <th>5</th>\n",
              "      <td>In 2016, broke and in debt due to a failed business, I tried to commit #suicide \\n\\nWhy? I was clinically #depressed with serious #anxiety due to the shame of failure. https://t.co/NpsYMrjCXo</td>\n",
              "      <td>[in, ,, broke, and, in, debt, due, to, a, failed, business, ,, i, tried, to, commit, suicide, why, ?, i, was, clinically, depressed, with, serious, anxiety, due, to, the, shame, of, failure, .]</td>\n",
              "      <td>[in, broke, and, in, debt, due, to, a, fail, busi, i, tri, to, commit, suicid, whi, i, wa, clinic, depress, with, seriou, anxieti, due, to, the, shame, of, failur]</td>\n",
              "      <td>hashtagdepressed</td>\n",
              "      <td>2</td>\n",
              "      <td>2</td>\n",
              "    </tr>\n",
              "    <tr>\n",
              "      <th>16</th>\n",
              "      <td>FREE Taster Experience...\\nhttps://t.co/33hTTqH9uI\\nMid-Morn Weight-Loss Top-Tip:\\nBeing Active Burns MORE Calories - Than Dieting. \\n#obese #overweight #fat #depressed #unhealthy #confused #eat #control #discipline #shape #figure #slim #toned #obesity #weightloss #burnfat #lean https://t.co/j1lJYBxFXH</td>\n",
              "      <td>[free, taster, experience, ..., mid-morn, weight-loss, top-tip, :, being, active, burns, more, calories, -, than, dieting, ., obese, overweight, fat, depressed, unhealthy, confused, eat, control, discipline, shape, figure, slim, toned, obesity, weightloss, burnfat, lean]</td>\n",
              "      <td>[free, taster, experi, be, activ, burn, more, calori, than, diet, obes, overweight, fat, depress, unhealthi, confus, eat, control, disciplin, shape, figur, slim, tone, obes, weightloss, burnfat, lean]</td>\n",
              "      <td>hashtagdepressed</td>\n",
              "      <td>1</td>\n",
              "      <td>2</td>\n",
              "    </tr>\n",
              "    <tr>\n",
              "      <th>19</th>\n",
              "      <td>I am #depressed could use a friend but feel like I have none.</td>\n",
              "      <td>[i, am, depressed, could, use, a, friend, but, feel, like, i, have, none, .]</td>\n",
              "      <td>[i, am, depress, could, use, a, friend, but, feel, like, i, have, none]</td>\n",
              "      <td>hashtagdepressed</td>\n",
              "      <td>1</td>\n",
              "      <td>2</td>\n",
              "    </tr>\n",
              "    <tr>\n",
              "      <th>...</th>\n",
              "      <td>...</td>\n",
              "      <td>...</td>\n",
              "      <td>...</td>\n",
              "      <td>...</td>\n",
              "      <td>...</td>\n",
              "      <td>...</td>\n",
              "    </tr>\n",
              "    <tr>\n",
              "      <th>198</th>\n",
              "      <td>if you do not suffer from anxiety or depression, i would never expect you to understand where i come from.</td>\n",
              "      <td>[if, you, do, not, suffer, from, anxiety, or, depression, ,, i, would, never, expect, you, to, understand, where, i, come, from, .]</td>\n",
              "      <td>[if, you, do, not, suffer, from, anxieti, or, depress, i, would, never, expect, you, to, understand, where, i, come, from]</td>\n",
              "      <td>depression</td>\n",
              "      <td>2</td>\n",
              "      <td>2</td>\n",
              "    </tr>\n",
              "    <tr>\n",
              "      <th>199</th>\n",
              "      <td>Never be afraid to seek help!\\n#STOPBULLYING #pilottv #raynaraytv #stopbullying #antibullying #bullyingawareness #love #suicideprevention #cyberbullying #nobullying #mentalhealth #bullyingprevention #stopbullyingnow #endbullying #bekind #bully #depression #bullyinghurts #teens https://t.co/X81OZ3rDgl</td>\n",
              "      <td>[never, be, afraid, to, seek, help, !, stopbullying, pilottv, raynaraytv, stopbullying, antibullying, bullyingawareness, love, suicideprevention, cyberbullying, nobullying, mentalhealth, bullyingprevention, stopbullyingnow, endbullying, bekind, bully, depression, bullyinghurts, teens]</td>\n",
              "      <td>[never, be, afraid, to, seek, help, stopbulli, pilottv, raynaraytv, stopbulli, antibulli, bullyingawar, love, suicideprevent, cyberbulli, nobulli, mentalhealth, bullyingprevent, stopbullyingnow, endbulli, bekind, bulli, depress, bullyinghurt, teen]</td>\n",
              "      <td>depression</td>\n",
              "      <td>1</td>\n",
              "      <td>2</td>\n",
              "    </tr>\n",
              "    <tr>\n",
              "      <th>75</th>\n",
              "      <td>@tpwkmarianaaa Hi? for quality essays, research papers, assignments, homework, exams, quizzes and discussion posts/replies, Simply DM @top grade I guarantee non plagiarized work and excellent results.</td>\n",
              "      <td>[hi, ?, for, quality, essays, ,, research, papers, ,, assignments, ,, homework, ,, exams, ,, quizzes, and, discussion, posts, /, replies, ,, simply, dm, grade, i, guarantee, non, plagiarized, work, and, excellent, results, .]</td>\n",
              "      <td>[hi, for, qualiti, essay, research, paper, assign, homework, exam, quizz, and, discuss, post, repli, simpli, dm, grade, i, guarante, non, plagiar, work, and, excel, result]</td>\n",
              "      <td>random</td>\n",
              "      <td>0</td>\n",
              "      <td>2</td>\n",
              "    </tr>\n",
              "    <tr>\n",
              "      <th>93</th>\n",
              "      <td>ICYMI: Draft deep dive: How well does Pressley Harvin III kick situationally? https://t.co/PRt16eSrUz</td>\n",
              "      <td>[icymi, :, draft, deep, dive, :, how, well, does, pressley, harvin, iii, kick, situationally, ?]</td>\n",
              "      <td>[icymi, draft, deep, dive, how, well, doe, pressley, harvin, iii, kick, situat]</td>\n",
              "      <td>random</td>\n",
              "      <td>0</td>\n",
              "      <td>2</td>\n",
              "    </tr>\n",
              "    <tr>\n",
              "      <th>155</th>\n",
              "      <td>@ZulkoBTW @Burstidk block</td>\n",
              "      <td>[block]</td>\n",
              "      <td>[block]</td>\n",
              "      <td>random</td>\n",
              "      <td>0</td>\n",
              "      <td>2</td>\n",
              "    </tr>\n",
              "  </tbody>\n",
              "</table>\n",
              "<p>219 rows × 6 columns</p>\n",
              "</div>"
            ],
            "text/plain": [
              "                                                                                                                                                                                                                                                                                                             message  ... prediction2\n",
              "1                     @PebblesResists Its Natural when something so traumatic happens to us to feel #Anxious &amp; #Depressed; People disappoint us, &amp; they're not there for us like we'd like them to be. But..  #KeepGoing #YouAreAmazing &amp; #YouWillDoAmazingThings ~ #IPromiseYou https://t.co/edYFpJwiWO  ...           2\n",
              "4                                Maybe your the perfect date cause you know how to set the mood\\n.\\n.\\n.\\nPoem: Hey Depression 3\\n.\\n.\\n.\\n#poet #poetry #poem #poetrylove #poetryisart #wordsoftheday #writer #poetryisnotdead #writing #kexum  #depressed #heydepression #piecesofkblog\\n\\nhttps://t.co/A1HBZQ7I6I  ...           2\n",
              "5                                                                                                                    In 2016, broke and in debt due to a failed business, I tried to commit #suicide \\n\\nWhy? I was clinically #depressed with serious #anxiety due to the shame of failure. https://t.co/NpsYMrjCXo  ...           2\n",
              "16   FREE Taster Experience...\\nhttps://t.co/33hTTqH9uI\\nMid-Morn Weight-Loss Top-Tip:\\nBeing Active Burns MORE Calories - Than Dieting. \\n#obese #overweight #fat #depressed #unhealthy #confused #eat #control #discipline #shape #figure #slim #toned #obesity #weightloss #burnfat #lean https://t.co/j1lJYBxFXH  ...           2\n",
              "19                                                                                                                                                                                                                                                     I am #depressed could use a friend but feel like I have none.  ...           2\n",
              "..                                                                                                                                                                                                                                                                                                               ...  ...         ...\n",
              "198                                                                                                                                                                                                       if you do not suffer from anxiety or depression, i would never expect you to understand where i come from.  ...           2\n",
              "199    Never be afraid to seek help!\\n#STOPBULLYING #pilottv #raynaraytv #stopbullying #antibullying #bullyingawareness #love #suicideprevention #cyberbullying #nobullying #mentalhealth #bullyingprevention #stopbullyingnow #endbullying #bekind #bully #depression #bullyinghurts #teens https://t.co/X81OZ3rDgl  ...           2\n",
              "75                                                                                                          @tpwkmarianaaa Hi? for quality essays, research papers, assignments, homework, exams, quizzes and discussion posts/replies, Simply DM @top grade I guarantee non plagiarized work and excellent results.  ...           2\n",
              "93                                                                                                                                                                                                             ICYMI: Draft deep dive: How well does Pressley Harvin III kick situationally? https://t.co/PRt16eSrUz  ...           2\n",
              "155                                                                                                                                                                                                                                                                                        @ZulkoBTW @Burstidk block  ...           2\n",
              "\n",
              "[219 rows x 6 columns]"
            ]
          },
          "metadata": {
            "tags": []
          },
          "execution_count": 0
        }
      ]
    },
    {
      "cell_type": "code",
      "metadata": {
        "colab": {
          "background_save": true
        },
        "id": "jouE0xsU6gtG",
        "outputId": "07e88085-0fdc-4a75-9097-406ee757269e"
      },
      "source": [
        "randomsample = new_data.sample(n=50)\n",
        "randomsample.head(20)"
      ],
      "execution_count": null,
      "outputs": [
        {
          "output_type": "execute_result",
          "data": {
            "text/html": [
              "<div>\n",
              "<style scoped>\n",
              "    .dataframe tbody tr th:only-of-type {\n",
              "        vertical-align: middle;\n",
              "    }\n",
              "\n",
              "    .dataframe tbody tr th {\n",
              "        vertical-align: top;\n",
              "    }\n",
              "\n",
              "    .dataframe thead th {\n",
              "        text-align: right;\n",
              "    }\n",
              "</style>\n",
              "<table border=\"1\" class=\"dataframe\">\n",
              "  <thead>\n",
              "    <tr style=\"text-align: right;\">\n",
              "      <th></th>\n",
              "      <th>message</th>\n",
              "      <th>tokenized</th>\n",
              "      <th>tokenizedandstemmed</th>\n",
              "      <th>query</th>\n",
              "      <th>prediction</th>\n",
              "      <th>prediction2</th>\n",
              "    </tr>\n",
              "  </thead>\n",
              "  <tbody>\n",
              "    <tr>\n",
              "      <th>10</th>\n",
              "      <td>depression cause you need your roots done is a real thing</td>\n",
              "      <td>[depression, cause, you, need, your, roots, done, is, a, real, thing]</td>\n",
              "      <td>[depress, caus, you, need, your, root, done, is, a, real, thing]</td>\n",
              "      <td>depression</td>\n",
              "      <td>2</td>\n",
              "      <td>2</td>\n",
              "    </tr>\n",
              "    <tr>\n",
              "      <th>150</th>\n",
              "      <td>New research commissioned for #MentalHealthAwarenessWeek (10-16 May) has found that almost three in five (58%) of #tradespeople have experienced some form of #mentalhealthproblems such as #stress, #anxiety or #depression. https://t.co/89vjgC95dS @UKConstructionm https://t.co/MkS3WJ4lK2</td>\n",
              "      <td>[new, research, commissioned, for, mentalhealthawarenessweek, (, -, may, ), has, found, that, almost, three, in, five, (, %, ), of, tradespeople, have, experienced, some, form, of, mentalhealthproblems, such, as, stress, ,, anxiety, or, depression, .]</td>\n",
              "      <td>[new, research, commiss, for, mentalhealthawarenessweek, may, ha, found, that, almost, three, in, five, of, tradespeopl, have, experienc, some, form, of, mentalhealthproblem, such, as, stress, anxieti, or, depress]</td>\n",
              "      <td>hashtagdepression</td>\n",
              "      <td>1</td>\n",
              "      <td>1</td>\n",
              "    </tr>\n",
              "    <tr>\n",
              "      <th>95</th>\n",
              "      <td>@rishibagree How many people got real help from Rajdeep or is he even help his colleagues, neighbours. \\nDid he even give any #hopes to people who infected or #depressed because of #illness, #mentalTrauma, #FinancialLosses</td>\n",
              "      <td>[how, many, people, got, real, help, from, rajdeep, or, is, he, even, help, his, colleagues, ,, neighbours, ., did, he, even, give, any, hopes, to, people, who, infected, or, depressed, because, of, illness, ,, mentaltrauma, ,, financiallosses]</td>\n",
              "      <td>[how, mani, peopl, got, real, help, from, rajdeep, or, is, he, even, help, hi, colleagu, neighbour, did, he, even, give, ani, hope, to, peopl, who, infect, or, depress, becaus, of, ill, mentaltrauma, financialloss]</td>\n",
              "      <td>hashtagdepressed</td>\n",
              "      <td>1</td>\n",
              "      <td>1</td>\n",
              "    </tr>\n",
              "    <tr>\n",
              "      <th>155</th>\n",
              "      <td>This is absolutely amazing and welcome for those of us who have mental health issues. #Anxiety #Depression #PTSD @PHLAirport https://t.co/xYelhFBxbD</td>\n",
              "      <td>[this, is, absolutely, amazing, and, welcome, for, those, of, us, who, have, mental, health, issues, ., anxiety, depression, ptsd]</td>\n",
              "      <td>[thi, is, absolut, amaz, and, welcom, for, those, of, us, who, have, mental, health, issu, anxieti, depress, ptsd]</td>\n",
              "      <td>hashtagdepression</td>\n",
              "      <td>1</td>\n",
              "      <td>1</td>\n",
              "    </tr>\n",
              "    <tr>\n",
              "      <th>154</th>\n",
              "      <td>@RyJumbalot @RaelleLogan1 Check it out \\nMay is #MentalHealthAwarenessMonth . Check out my book \"The Many Personalities of Me\" which is detailing my life living with mental health issues.\\nhttps://t.co/XyqcJhcDWZ\\n  #mentalhealth #MentalHealthAwarenessMonth #depression</td>\n",
              "      <td>[check, it, out, may, is, mentalhealthawarenessmonth, ., check, out, my, book, \", the, many, personalities, of, me, \", which, is, detailing, my, life, living, with, mental, health, issues, ., mentalhealth, mentalhealthawarenessmonth, depression]</td>\n",
              "      <td>[check, it, out, may, is, mentalhealthawarenessmonth, check, out, my, book, the, mani, person, of, me, which, is, detail, my, life, live, with, mental, health, issu, mentalhealth, mentalhealthawarenessmonth, depress]</td>\n",
              "      <td>hashtagdepression</td>\n",
              "      <td>1</td>\n",
              "      <td>1</td>\n",
              "    </tr>\n",
              "    <tr>\n",
              "      <th>62</th>\n",
              "      <td>Let me start off with one of my favorites!!!! \\n\\n#poet #poem #depression #poetry #WritingCommunity #Writer https://t.co/d8U85djkAd</td>\n",
              "      <td>[let, me, start, off, with, one, of, my, favorites, !, !, !, poet, poem, depression, poetry, writingcommunity, writer]</td>\n",
              "      <td>[let, me, start, off, with, one, of, my, favorit, poet, poem, depress, poetri, writingcommun, writer]</td>\n",
              "      <td>hashtagdepression</td>\n",
              "      <td>1</td>\n",
              "      <td>1</td>\n",
              "    </tr>\n",
              "    <tr>\n",
              "      <th>145</th>\n",
              "      <td>Exactly that! It's okay to take care of yourself &amp;amp; take some time out for yourself.\\n\\nHave a great weekend everyone.😀\\n\\n#psychotherapy #wellbeing #health #therapy #experienced #mindfulness #anxiety #depression #yournotalone #Happiness #wellness #mentalhealthmatters #FridayFeeling https://t.co/s5tJTVIci4</td>\n",
              "      <td>[exactly, that, !, it's, okay, to, take, care, of, yourself, &amp;, take, some, time, out, for, yourself, ., have, a, great, weekend, everyone, ., 😀, psychotherapy, wellbeing, health, therapy, experienced, mindfulness, anxiety, depression, yournotalone, happiness, wellness, mentalhealthmatters, fridayfeeling]</td>\n",
              "      <td>[exactli, that, okay, to, take, care, of, yourself, take, some, time, out, for, yourself, have, a, great, weekend, everyon, psychotherapi, wellb, health, therapi, experienc, mind, anxieti, depress, yournotalon, happi, well, mentalhealthmatt, fridayfeel]</td>\n",
              "      <td>hashtagdepression</td>\n",
              "      <td>2</td>\n",
              "      <td>2</td>\n",
              "    </tr>\n",
              "    <tr>\n",
              "      <th>75</th>\n",
              "      <td>@ClydeHusky Please don’t ever stop posting videos of Clyde. I suffer from clinical depression and every day Clyde reminds me that there is joy in life. No matter what the day, Clyde always brings a smile. Thank you</td>\n",
              "      <td>[please, don, ’, t, ever, stop, posting, videos, of, clyde, ., i, suffer, from, clinical, depression, and, every, day, clyde, reminds, me, that, there, is, joy, in, life, ., no, matter, what, the, day, ,, clyde, always, brings, a, smile, ., thank, you]</td>\n",
              "      <td>[pleas, don, t, ever, stop, post, video, of, clyde, i, suffer, from, clinic, depress, and, everi, day, clyde, remind, me, that, there, is, joy, in, life, no, matter, what, the, day, clyde, alway, bring, a, smile, thank, you]</td>\n",
              "      <td>depression</td>\n",
              "      <td>1</td>\n",
              "      <td>2</td>\n",
              "    </tr>\n",
              "    <tr>\n",
              "      <th>88</th>\n",
              "      <td>New Episode up now on Mental Health Naps YouTube:\\n\\n42. POISON - How Helping Others Can Hurt You Before You Are Ready \\n\\nSometimes, there is not enough antidote to extract the poison.\\n\\n#mentalhealth #depression #friendships\\n\\nhttps://t.co/QO3K38ApWs</td>\n",
              "      <td>[new, episode, up, now, on, mental, health, naps, youtube, :, ., poison, -, how, helping, others, can, hurt, you, before, you, are, ready, sometimes, ,, there, is, not, enough, antidote, to, extract, the, poison, ., mentalhealth, depression, friendships]</td>\n",
              "      <td>[new, episod, up, now, on, mental, health, nap, youtub, poison, how, help, other, can, hurt, you, befor, you, are, readi, sometim, there, is, not, enough, antidot, to, extract, the, poison, mentalhealth, depress, friendship]</td>\n",
              "      <td>hashtagdepression</td>\n",
              "      <td>2</td>\n",
              "      <td>2</td>\n",
              "    </tr>\n",
              "    <tr>\n",
              "      <th>72</th>\n",
              "      <td>Does the world seem to you to be #FallingApart and #humanity's future #bleak? Do not #despair or get #depressed. Instead, focus on #HelpingSomeone near you, however small. Go #BeyondMereKindness, actually #care about them! Doing this avoids #pessimism.</td>\n",
              "      <td>[does, the, world, seem, to, you, to, be, fallingapart, and, humanity's, future, bleak, ?, do, not, despair, or, get, depressed, ., instead, ,, focus, on, helpingsomeone, near, you, ,, however, small, ., go, beyondmerekindness, ,, actually, care, about, them, !, doing, this, avoids, pessimism, .]</td>\n",
              "      <td>[doe, the, world, seem, to, you, to, be, fallingapart, and, futur, bleak, do, not, despair, or, get, depress, instead, focu, on, helpingsomeon, near, you, howev, small, go, beyondmerekind, actual, care, about, them, do, thi, avoid, pessim]</td>\n",
              "      <td>hashtagdepressed</td>\n",
              "      <td>2</td>\n",
              "      <td>2</td>\n",
              "    </tr>\n",
              "    <tr>\n",
              "      <th>165</th>\n",
              "      <td>Shameless person. https://t.co/6A511svUQn</td>\n",
              "      <td>[shameless, person, .]</td>\n",
              "      <td>[shameless, person]</td>\n",
              "      <td>random</td>\n",
              "      <td>0</td>\n",
              "      <td>0</td>\n",
              "    </tr>\n",
              "    <tr>\n",
              "      <th>130</th>\n",
              "      <td>@mandi1630 Yes, this is every day of my life lol. But I also have depression and ADHD so there’s that</td>\n",
              "      <td>[yes, ,, this, is, every, day, of, my, life, lol, ., but, i, also, have, depression, and, adhd, so, there, ’, s, that]</td>\n",
              "      <td>[ye, thi, is, everi, day, of, my, life, lol, but, i, also, have, depress, and, adhd, so, there, s, that]</td>\n",
              "      <td>depression</td>\n",
              "      <td>1</td>\n",
              "      <td>1</td>\n",
              "    </tr>\n",
              "    <tr>\n",
              "      <th>74</th>\n",
              "      <td>What happens to our #brain when we get #depressed? #MentalHealth https://t.co/ahRtlfP78L</td>\n",
              "      <td>[what, happens, to, our, brain, when, we, get, depressed, ?, mentalhealth]</td>\n",
              "      <td>[what, happen, to, our, brain, when, we, get, depress, mentalhealth]</td>\n",
              "      <td>hashtagdepressed</td>\n",
              "      <td>1</td>\n",
              "      <td>1</td>\n",
              "    </tr>\n",
              "    <tr>\n",
              "      <th>142</th>\n",
              "      <td>Pregnant teenagers are twice as likely to experience #depression compared to pregnant adults. Also, teenage mothers with #depression are more likely to get pregnant again within one to two years than those teens who are not #depressed. #MentalHealthMatters \\n@UnitedGMH \\n@Cemhri</td>\n",
              "      <td>[pregnant, teenagers, are, twice, as, likely, to, experience, depression, compared, to, pregnant, adults, ., also, ,, teenage, mothers, with, depression, are, more, likely, to, get, pregnant, again, within, one, to, two, years, than, those, teens, who, are, not, depressed, ., mentalhealthmatters]</td>\n",
              "      <td>[pregnant, teenag, are, twice, as, like, to, experi, depress, compar, to, pregnant, adult, also, teenag, mother, with, depress, are, more, like, to, get, pregnant, again, within, one, to, two, year, than, those, teen, who, are, not, depress, mentalhealthmatt]</td>\n",
              "      <td>hashtagdepressed</td>\n",
              "      <td>2</td>\n",
              "      <td>2</td>\n",
              "    </tr>\n",
              "    <tr>\n",
              "      <th>119</th>\n",
              "      <td>idk why I randomly became a art account lol</td>\n",
              "      <td>[idk, why, i, randomly, became, a, art, account, lol]</td>\n",
              "      <td>[idk, whi, i, randomli, becam, a, art, account, lol]</td>\n",
              "      <td>random</td>\n",
              "      <td>0</td>\n",
              "      <td>0</td>\n",
              "    </tr>\n",
              "    <tr>\n",
              "      <th>36</th>\n",
              "      <td>Sure bestie, and I’m not depressed. https://t.co/WMqyRd91xj</td>\n",
              "      <td>[sure, bestie, ,, and, i, ’, m, not, depressed, .]</td>\n",
              "      <td>[sure, besti, and, i, m, not, depress]</td>\n",
              "      <td>depressed</td>\n",
              "      <td>1</td>\n",
              "      <td>1</td>\n",
              "    </tr>\n",
              "    <tr>\n",
              "      <th>163</th>\n",
              "      <td>GOD been so good to me. Especially in the last 3 months. I climbed out that depression shit and I feel so much better. 🙏🏾\\n#DamnThatJob</td>\n",
              "      <td>[god, been, so, good, to, me, ., especially, in, the, last, months, ., i, climbed, out, that, depression, shit, and, i, feel, so, much, better, ., 🙏, 🏾, damnthatjob]</td>\n",
              "      <td>[god, been, so, good, to, me, especi, in, the, last, month, i, climb, out, that, depress, shit, and, i, feel, so, much, better, damnthatjob]</td>\n",
              "      <td>depression</td>\n",
              "      <td>1</td>\n",
              "      <td>1</td>\n",
              "    </tr>\n",
              "    <tr>\n",
              "      <th>59</th>\n",
              "      <td>A love that’s lost... shitty music by me #depressed #guitarplayer #music https://t.co/WQZogGOq13</td>\n",
              "      <td>[a, love, that, ’, s, lost, ..., shitty, music, by, me, depressed, guitarplayer, music]</td>\n",
              "      <td>[a, love, that, s, lost, shitti, music, by, me, depress, guitarplay, music]</td>\n",
              "      <td>hashtagdepressed</td>\n",
              "      <td>1</td>\n",
              "      <td>1</td>\n",
              "    </tr>\n",
              "    <tr>\n",
              "      <th>52</th>\n",
              "      <td>@heluvsmiaa ILYM!</td>\n",
              "      <td>[ilym, !]</td>\n",
              "      <td>[ilym]</td>\n",
              "      <td>random</td>\n",
              "      <td>0</td>\n",
              "      <td>0</td>\n",
              "    </tr>\n",
              "    <tr>\n",
              "      <th>45</th>\n",
              "      <td>Its a depression night folks ⭐️</td>\n",
              "      <td>[its, a, depression, night, folks, ⭐, ️]</td>\n",
              "      <td>[it, a, depress, night, folk]</td>\n",
              "      <td>depression</td>\n",
              "      <td>1</td>\n",
              "      <td>1</td>\n",
              "    </tr>\n",
              "  </tbody>\n",
              "</table>\n",
              "</div>"
            ],
            "text/plain": [
              "                                                                                                                                                                                                                                                                                                                    message  ... prediction2\n",
              "10                                                                                                                                                                                                                                                                depression cause you need your roots done is a real thing  ...           2\n",
              "150                          New research commissioned for #MentalHealthAwarenessWeek (10-16 May) has found that almost three in five (58%) of #tradespeople have experienced some form of #mentalhealthproblems such as #stress, #anxiety or #depression. https://t.co/89vjgC95dS @UKConstructionm https://t.co/MkS3WJ4lK2  ...           1\n",
              "95                                                                                           @rishibagree How many people got real help from Rajdeep or is he even help his colleagues, neighbours. \\nDid he even give any #hopes to people who infected or #depressed because of #illness, #mentalTrauma, #FinancialLosses  ...           1\n",
              "155                                                                                                                                                                    This is absolutely amazing and welcome for those of us who have mental health issues. #Anxiety #Depression #PTSD @PHLAirport https://t.co/xYelhFBxbD  ...           1\n",
              "154                                           @RyJumbalot @RaelleLogan1 Check it out \\nMay is #MentalHealthAwarenessMonth . Check out my book \"The Many Personalities of Me\" which is detailing my life living with mental health issues.\\nhttps://t.co/XyqcJhcDWZ\\n  #mentalhealth #MentalHealthAwarenessMonth #depression  ...           1\n",
              "62                                                                                                                                                                                      Let me start off with one of my favorites!!!! \\n\\n#poet #poem #depression #poetry #WritingCommunity #Writer https://t.co/d8U85djkAd  ...           1\n",
              "145  Exactly that! It's okay to take care of yourself &amp; take some time out for yourself.\\n\\nHave a great weekend everyone.😀\\n\\n#psychotherapy #wellbeing #health #therapy #experienced #mindfulness #anxiety #depression #yournotalone #Happiness #wellness #mentalhealthmatters #FridayFeeling https://t.co/s5tJTVIci4  ...           2\n",
              "75                                                                                                   @ClydeHusky Please don’t ever stop posting videos of Clyde. I suffer from clinical depression and every day Clyde reminds me that there is joy in life. No matter what the day, Clyde always brings a smile. Thank you  ...           2\n",
              "88                                                           New Episode up now on Mental Health Naps YouTube:\\n\\n42. POISON - How Helping Others Can Hurt You Before You Are Ready \\n\\nSometimes, there is not enough antidote to extract the poison.\\n\\n#mentalhealth #depression #friendships\\n\\nhttps://t.co/QO3K38ApWs  ...           2\n",
              "72                                                             Does the world seem to you to be #FallingApart and #humanity's future #bleak? Do not #despair or get #depressed. Instead, focus on #HelpingSomeone near you, however small. Go #BeyondMereKindness, actually #care about them! Doing this avoids #pessimism.  ...           2\n",
              "165                                                                                                                                                                                                                                                                               Shameless person. https://t.co/6A511svUQn  ...           0\n",
              "130                                                                                                                                                                                                                   @mandi1630 Yes, this is every day of my life lol. But I also have depression and ADHD so there’s that  ...           1\n",
              "74                                                                                                                                                                                                                                 What happens to our #brain when we get #depressed? #MentalHealth https://t.co/ahRtlfP78L  ...           1\n",
              "142                                 Pregnant teenagers are twice as likely to experience #depression compared to pregnant adults. Also, teenage mothers with #depression are more likely to get pregnant again within one to two years than those teens who are not #depressed. #MentalHealthMatters \\n@UnitedGMH \\n@Cemhri  ...           2\n",
              "119                                                                                                                                                                                                                                                                             idk why I randomly became a art account lol  ...           0\n",
              "36                                                                                                                                                                                                                                                              Sure bestie, and I’m not depressed. https://t.co/WMqyRd91xj  ...           1\n",
              "163                                                                                                                                                                                 GOD been so good to me. Especially in the last 3 months. I climbed out that depression shit and I feel so much better. 🙏🏾\\n#DamnThatJob  ...           1\n",
              "59                                                                                                                                                                                                                         A love that’s lost... shitty music by me #depressed #guitarplayer #music https://t.co/WQZogGOq13  ...           1\n",
              "52                                                                                                                                                                                                                                                                                                        @heluvsmiaa ILYM!  ...           0\n",
              "45                                                                                                                                                                                                                                                                                          Its a depression night folks ⭐️  ...           1\n",
              "\n",
              "[20 rows x 6 columns]"
            ]
          },
          "metadata": {
            "tags": []
          },
          "execution_count": 0
        }
      ]
    },
    {
      "cell_type": "markdown",
      "metadata": {
        "id": "yidAskqT3dyg"
      },
      "source": [
        "# Conclusions\n",
        "\n",
        "Analyzing social media data could help identify individuals who are unable or not willing to talk to professionals about their emotions. Many individuals share their emotions on social media regarding depression.  \n",
        "\n",
        "## Business Recommendations\n",
        "\n",
        "*   Respond to users who say they're feeling depressed, worthless, or hurting with empathetic responses, informative posts, and advertisements about the benefits of counseling or this agency. \n",
        "*   Increase social media presence.  Make informational or positive posts about depression and counseling.  \n",
        "*   Use how individuals talk about their depression experiences on social media to inform how you talk to people about depression. \n",
        "\n",
        "\n",
        "\n",
        "\n"
      ]
    },
    {
      "cell_type": "markdown",
      "metadata": {
        "id": "4ckNrqho15U4"
      },
      "source": [
        "### Future Work: \n",
        "\n",
        "- Create a model that codes tweets for depression criteria\n",
        "- Create a model that does better at seeing the difference between informational tweets about depression and depressed tweets - perhaps by classifying tweets 3 ways, depressed, not depressed, information about depression. \n",
        "- Possibly creating a bot that could reach out to individuals seen as at-risk of depression \n",
        "- A model that flags suicidal comments or classifies risk "
      ]
    }
  ]
}